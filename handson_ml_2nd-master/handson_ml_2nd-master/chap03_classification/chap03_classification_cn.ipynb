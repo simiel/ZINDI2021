{
 "cells": [
  {
   "cell_type": "markdown",
   "metadata": {
    "toc": true
   },
   "source": [
    "<h1>Table of Contents<span class=\"tocSkip\"></span></h1>\n",
    "<div class=\"toc\"><ul class=\"toc-item\"><li><span><a href=\"#1.-MNIST\" data-toc-modified-id=\"1.-MNIST-1\">1. MNIST</a></span></li><li><span><a href=\"#2.-训练一个二分类器（binary-classifier）\" data-toc-modified-id=\"2.-训练一个二分类器（binary-classifier）-2\">2. 训练一个二分类器（binary classifier）</a></span></li><li><span><a href=\"#3.-性能度量（Performance-measures）\" data-toc-modified-id=\"3.-性能度量（Performance-measures）-3\">3. 性能度量（Performance measures）</a></span><ul class=\"toc-item\"><li><span><a href=\"#3.1-使用交叉验证测量准确率（accuracy）\" data-toc-modified-id=\"3.1-使用交叉验证测量准确率（accuracy）-3.1\">3.1 使用交叉验证测量准确率（accuracy）</a></span></li><li><span><a href=\"#3.2-混淆矩阵（Confusion-Matrix）\" data-toc-modified-id=\"3.2-混淆矩阵（Confusion-Matrix）-3.2\">3.2 混淆矩阵（Confusion Matrix）</a></span></li><li><span><a href=\"#3.3-精度（Precision），召回率（Recall）\" data-toc-modified-id=\"3.3-精度（Precision），召回率（Recall）-3.3\">3.3 精度（Precision），召回率（Recall）</a></span></li><li><span><a href=\"#3.4-Precision/recall-trade-off\" data-toc-modified-id=\"3.4-Precision/recall-trade-off-3.4\">3.4 Precision/recall trade-off</a></span></li><li><span><a href=\"#3.5-ROC-曲线（只二分类）\" data-toc-modified-id=\"3.5-ROC-曲线（只二分类）-3.5\">3.5 ROC 曲线（只二分类）</a></span></li></ul></li><li><span><a href=\"#4.-多类分类（Multiclass-Classification）\" data-toc-modified-id=\"4.-多类分类（Multiclass-Classification）-4\">4. 多类分类（Multiclass Classification）</a></span></li><li><span><a href=\"#5.-误差分析（Error-Analysis）\" data-toc-modified-id=\"5.-误差分析（Error-Analysis）-5\">5. 误差分析（Error Analysis）</a></span></li><li><span><a href=\"#6.-多标签分类（Multilabel-Classification）\" data-toc-modified-id=\"6.-多标签分类（Multilabel-Classification）-6\">6. 多标签分类（Multilabel Classification）</a></span></li><li><span><a href=\"#7.-多输出分类（Multioutput-Classification）\" data-toc-modified-id=\"7.-多输出分类（Multioutput-Classification）-7\">7. 多输出分类（Multioutput Classification）</a></span></li></ul></div>"
   ]
  },
  {
   "cell_type": "code",
   "execution_count": 1,
   "metadata": {
    "ExecuteTime": {
     "end_time": "2020-12-20T14:25:01.894543Z",
     "start_time": "2020-12-20T14:25:01.028984Z"
    }
   },
   "outputs": [
    {
     "name": "stdout",
     "output_type": "stream",
     "text": [
      "python version: 3.6.10 |Anaconda, Inc.| (default, May  8 2020, 02:54:21) \n",
      "[GCC 7.3.0]\n",
      "pandas version: 1.1.4\n",
      "scikit-learn version: 0.23.1\n"
     ]
    }
   ],
   "source": [
    "# Common imports\n",
    "import os\n",
    "import sys\n",
    "import warnings\n",
    "\n",
    "# import matplotlib as mpl\n",
    "import matplotlib.pyplot as plt\n",
    "import numpy as np\n",
    "import pandas as pd\n",
    "import sklearn\n",
    "\n",
    "%matplotlib inline\n",
    "plt.rcParams['axes.labelsize'] = 14\n",
    "plt.rcParams['xtick.labelsize'] = 14\n",
    "plt.rcParams['ytick.labelsize'] = 14\n",
    "# mpl.rc('axes', labelsize=14)\n",
    "# mpl.rc('xtick', labelsize=12)\n",
    "# mpl.rc('ytick', labelsize=12)\n",
    "\n",
    "np.random.seed(42)\n",
    "# warnings.filterwarnings(action='ignore', message=\"^internal gelsd\")\n",
    "\n",
    "print('python version:', sys.version)\n",
    "print('pandas version:', pd.__version__)\n",
    "print('scikit-learn version:', sklearn.__version__)"
   ]
  },
  {
   "cell_type": "markdown",
   "metadata": {},
   "source": [
    "# 1. MNIST"
   ]
  },
  {
   "cell_type": "markdown",
   "metadata": {},
   "source": [
    "这里使用 MNIST 数据集，包含 7000 张手写数字小图片，每张图片都表示一个数字。\n",
    "\n",
    "MNIST 是 ML 中的 “hello world”。每当提出（come up with）一个新的分类算法，就会看看在 MNIST 数据集上的性能。\n",
    "\n",
    "Scikit-Learn 提供了许多 helper functions 用于下载流行数据，MNIST 是其一。"
   ]
  },
  {
   "cell_type": "code",
   "execution_count": 2,
   "metadata": {
    "ExecuteTime": {
     "end_time": "2020-12-20T14:25:21.238288Z",
     "start_time": "2020-12-20T14:25:01.896454Z"
    }
   },
   "outputs": [],
   "source": [
    "from sklearn.datasets import fetch_openml\n",
    "\n",
    "\n",
    "mnist = fetch_openml(\n",
    "    # 整数ID（data_id）或 name+version 作为数据集的唯一标识\n",
    "    # 要么 name(+version) 要么 data_id，只能指定一个\n",
    "    name='mnist_784',\n",
    "    version=1,\n",
    "    data_id=None\n",
    ")"
   ]
  },
  {
   "cell_type": "code",
   "execution_count": 3,
   "metadata": {
    "ExecuteTime": {
     "end_time": "2020-12-20T14:25:21.265049Z",
     "start_time": "2020-12-20T14:25:21.257657Z"
    }
   },
   "outputs": [
    {
     "data": {
      "text/plain": [
       "dict_keys(['data', 'target', 'frame', 'categories', 'feature_names', 'target_names', 'DESCR', 'details', 'url'])"
      ]
     },
     "execution_count": 3,
     "metadata": {},
     "output_type": "execute_result"
    }
   ],
   "source": [
    "mnist.keys()"
   ]
  },
  {
   "cell_type": "markdown",
   "metadata": {},
   "source": [
    "输出是一个 **`sklearn.utils.Bunch`** 对象（与 dict 类似），包含以下内容\n",
    "\n",
    "- `data` 包含一个 shape 为 `n_samples` x `n_features` 的数组\n",
    "\n",
    "\n",
    "- `target` 是标签组成的数组（长度为 `n_samples`）\n",
    "\n",
    "> 以上 2 项是必含的\n",
    "\n",
    "- `DESCR` 描述数据集\n",
    "\n",
    "\n",
    "- `feature_name`\n",
    "\n",
    "\n",
    "- `target_name`"
   ]
  },
  {
   "cell_type": "code",
   "execution_count": 4,
   "metadata": {
    "ExecuteTime": {
     "end_time": "2020-12-20T14:25:21.277420Z",
     "start_time": "2020-12-20T14:25:21.269262Z"
    }
   },
   "outputs": [
    {
     "data": {
      "text/plain": [
       "((70000, 784), (70000,))"
      ]
     },
     "execution_count": 4,
     "metadata": {},
     "output_type": "execute_result"
    }
   ],
   "source": [
    "x, y = mnist['data'], mnist['target']\n",
    "x.shape, y.shape"
   ]
  },
  {
   "cell_type": "code",
   "execution_count": 5,
   "metadata": {
    "ExecuteTime": {
     "end_time": "2020-12-20T14:25:21.286772Z",
     "start_time": "2020-12-20T14:25:21.280648Z"
    }
   },
   "outputs": [
    {
     "data": {
      "text/plain": [
       "array(['5', '0', '4', ..., '4', '5', '6'], dtype=object)"
      ]
     },
     "execution_count": 5,
     "metadata": {},
     "output_type": "execute_result"
    }
   ],
   "source": [
    "y"
   ]
  },
  {
   "cell_type": "markdown",
   "metadata": {},
   "source": [
    "数据集包含 70000 个样本，784 个特征，这是因为每张图片是 28x28 像素，每个特征表示一个像素的 intensity，从 0（白）到 255（黑）。"
   ]
  },
  {
   "cell_type": "code",
   "execution_count": 6,
   "metadata": {
    "ExecuteTime": {
     "end_time": "2020-12-20T14:25:21.381843Z",
     "start_time": "2020-12-20T14:25:21.289434Z"
    }
   },
   "outputs": [
    {
     "data": {
      "image/png": "[encoded data removed]",
      "text/plain": [
       "<Figure size 432x288 with 1 Axes>"
      ]
     },
     "metadata": {
      "needs_background": "light"
     },
     "output_type": "display_data"
    }
   ],
   "source": [
    "some_digit = x[0]\n",
    "some_digit_image = some_digit.reshape((28, 28))\n",
    "plt.imshow(some_digit_image, cmap=plt.cm.binary)\n",
    "plt.axis('off')\n",
    "plt.show()"
   ]
  },
  {
   "cell_type": "code",
   "execution_count": 7,
   "metadata": {
    "ExecuteTime": {
     "end_time": "2020-12-20T14:25:21.388490Z",
     "start_time": "2020-12-20T14:25:21.383550Z"
    }
   },
   "outputs": [
    {
     "data": {
      "text/plain": [
       "'5'"
      ]
     },
     "execution_count": 7,
     "metadata": {},
     "output_type": "execute_result"
    }
   ],
   "source": [
    "# 上图对应的标签\n",
    "y[0]"
   ]
  },
  {
   "cell_type": "code",
   "execution_count": 8,
   "metadata": {
    "ExecuteTime": {
     "end_time": "2020-12-20T14:25:21.404029Z",
     "start_time": "2020-12-20T14:25:21.392560Z"
    }
   },
   "outputs": [
    {
     "data": {
      "text/plain": [
       "array([5, 0, 4, ..., 4, 5, 6], dtype=uint8)"
      ]
     },
     "execution_count": 8,
     "metadata": {},
     "output_type": "execute_result"
    }
   ],
   "source": [
    "# 大部分 ML 算法希望标签是数字\n",
    "y = y.astype(np.uint8)\n",
    "y"
   ]
  },
  {
   "cell_type": "markdown",
   "metadata": {},
   "source": [
    "在深入研究（inspect the data closely）数据集之前，应该留出测试集。\n",
    "\n",
    "MNIST 已经将数据集切分好了——前 60000 个是训练集，剩余的 10000 个是测试集。"
   ]
  },
  {
   "cell_type": "code",
   "execution_count": 9,
   "metadata": {
    "ExecuteTime": {
     "end_time": "2020-12-20T14:25:21.408954Z",
     "start_time": "2020-12-20T14:25:21.405784Z"
    }
   },
   "outputs": [],
   "source": [
    "# 开始时就要留出测试集\n",
    "x_train, x_test, y_train, y_test = x[:60000], x[60000:], y[:60000], y[60000:]"
   ]
  },
  {
   "cell_type": "code",
   "execution_count": 10,
   "metadata": {
    "ExecuteTime": {
     "end_time": "2020-12-20T14:25:21.418510Z",
     "start_time": "2020-12-20T14:25:21.412248Z"
    }
   },
   "outputs": [
    {
     "data": {
      "text/plain": [
       "array([5, 0, 4, ..., 5, 6, 8], dtype=uint8)"
      ]
     },
     "execution_count": 10,
     "metadata": {},
     "output_type": "execute_result"
    }
   ],
   "source": [
    "y_train"
   ]
  },
  {
   "cell_type": "markdown",
   "metadata": {},
   "source": [
    "**<font color='crimson'>打乱训练集样本顺序的好处：</font>**\n",
    "\n",
    "- 数据集应该打乱（shuffle），这样交叉验证时每个 fold 中的数据都类似（不会某个 fold 没有某个类型的数据）。\n",
    "\n",
    "\n",
    "- 有些 ML 算法对训练样本的顺序较敏感，如果连续（in a row）输入许多相似的样本，模型效果不佳。\n",
    "\n",
    "**但是，如果数据集不是独立同分布（independently and identically distributed, iid）的话，情况可能会相反。**"
   ]
  },
  {
   "cell_type": "markdown",
   "metadata": {},
   "source": [
    "# 2. 训练一个二分类器（binary classifier）"
   ]
  },
  {
   "cell_type": "markdown",
   "metadata": {},
   "source": [
    "先从二分类器开始吧，如预测对应的数字是不是 5 —— “5”和“非5”。"
   ]
  },
  {
   "cell_type": "code",
   "execution_count": 11,
   "metadata": {
    "ExecuteTime": {
     "end_time": "2020-12-20T14:25:21.427897Z",
     "start_time": "2020-12-20T14:25:21.421872Z"
    }
   },
   "outputs": [
    {
     "data": {
      "text/plain": [
       "array([ True, False, False, ...,  True, False, False])"
      ]
     },
     "execution_count": 11,
     "metadata": {},
     "output_type": "execute_result"
    }
   ],
   "source": [
    "y_train_5 = (y_train == 5)\n",
    "y_test_5 = (y_test == 5)\n",
    "\n",
    "# True 对应 5\n",
    "y_train_5"
   ]
  },
  {
   "cell_type": "markdown",
   "metadata": {},
   "source": [
    "选择一个分类器并训练。一个好的初始选择是**<font color='blue' size=2>随机梯度下降（Stochastic Gradient Descent, SGD）</font>** ，使用 Scikit-Learn 的 **`SGDClassifier`**。**<font color='crimson'>`SGDClassifier` 在处理大型数据集时非常高效，部分原因是 SGD 独立地处理训练样本，一次一个（使得适合在线学习）。</font>**"
   ]
  },
  {
   "cell_type": "code",
   "execution_count": 12,
   "metadata": {
    "ExecuteTime": {
     "end_time": "2020-12-20T14:25:37.068481Z",
     "start_time": "2020-12-20T14:25:21.429381Z"
    }
   },
   "outputs": [
    {
     "data": {
      "text/plain": [
       "SGDClassifier(random_state=42)"
      ]
     },
     "execution_count": 12,
     "metadata": {},
     "output_type": "execute_result"
    }
   ],
   "source": [
    "from sklearn.linear_model import SGDClassifier\n",
    "\n",
    "\n",
    "sgd_clf = SGDClassifier(random_state=42)\n",
    "sgd_clf.fit(x_train, y_train_5)"
   ]
  },
  {
   "cell_type": "markdown",
   "metadata": {},
   "source": [
    "**设置 `random_state` 可以得到可复现的（reproducible）结果。**"
   ]
  },
  {
   "cell_type": "code",
   "execution_count": 13,
   "metadata": {
    "ExecuteTime": {
     "end_time": "2020-12-20T14:25:37.081837Z",
     "start_time": "2020-12-20T14:25:37.072548Z"
    }
   },
   "outputs": [
    {
     "data": {
      "text/plain": [
       "array([ True])"
      ]
     },
     "execution_count": 13,
     "metadata": {},
     "output_type": "execute_result"
    }
   ],
   "source": [
    "sgd_clf.predict([some_digit])"
   ]
  },
  {
   "cell_type": "markdown",
   "metadata": {},
   "source": [
    "# 3. 性能度量（Performance measures）"
   ]
  },
  {
   "cell_type": "markdown",
   "metadata": {},
   "source": [
    "分类的性能评估比回归要难得多（significantly trickier）。"
   ]
  },
  {
   "cell_type": "markdown",
   "metadata": {},
   "source": [
    "## 3.1 使用交叉验证测量准确率（accuracy）"
   ]
  },
  {
   "cell_type": "markdown",
   "metadata": {},
   "source": [
    "交叉验证（cross validation）是评估模型的一个好方法。"
   ]
  },
  {
   "cell_type": "code",
   "execution_count": 14,
   "metadata": {
    "ExecuteTime": {
     "end_time": "2020-12-20T14:25:57.931514Z",
     "start_time": "2020-12-20T14:25:37.084183Z"
    }
   },
   "outputs": [
    {
     "data": {
      "text/plain": [
       "array([0.95035, 0.96035, 0.9604 ])"
      ]
     },
     "execution_count": 14,
     "metadata": {},
     "output_type": "execute_result"
    }
   ],
   "source": [
    "from sklearn.model_selection import cross_val_score\n",
    "\n",
    "\n",
    "cross_val_score(sgd_clf, x_train, y_train_5, cv=3, scoring='accuracy')"
   ]
  },
  {
   "cell_type": "markdown",
   "metadata": {},
   "source": [
    "准确率 95%+。看起来很棒。"
   ]
  },
  {
   "cell_type": "code",
   "execution_count": 15,
   "metadata": {
    "ExecuteTime": {
     "end_time": "2020-12-20T14:25:57.963902Z",
     "start_time": "2020-12-20T14:25:57.940294Z"
    }
   },
   "outputs": [],
   "source": [
    "from sklearn.base import BaseEstimator\n",
    "\n",
    "\n",
    "class Never5Classifier(BaseEstimator):\n",
    "    \"\"\"A very dump classifier.\"\"\"\n",
    "    def fit(self, X, y=None):\n",
    "        return self\n",
    "\n",
    "    def predict(self, X):\n",
    "        # False 组成的数组\n",
    "        return np.zeros((len(X), 1), dtype=bool)"
   ]
  },
  {
   "cell_type": "code",
   "execution_count": 16,
   "metadata": {
    "ExecuteTime": {
     "end_time": "2020-12-20T14:25:59.015000Z",
     "start_time": "2020-12-20T14:25:57.974279Z"
    }
   },
   "outputs": [
    {
     "data": {
      "text/plain": [
       "array([0.91125, 0.90855, 0.90915])"
      ]
     },
     "execution_count": 16,
     "metadata": {},
     "output_type": "execute_result"
    }
   ],
   "source": [
    "# 不管怎样输出都是 “非5” 的分类器\n",
    "never_5_clf = Never5Classifier()\n",
    "cross_val_score(never_5_clf, x_train, y_train_5, cv=3, scoring='accuracy')"
   ]
  },
  {
   "cell_type": "markdown",
   "metadata": {},
   "source": [
    "准确率 90%+。这是因为数据集中大约只有 10% 的图片是 5，所以预测一张图片不是 5，有 90% 的概率都是对的。"
   ]
  },
  {
   "cell_type": "code",
   "execution_count": 17,
   "metadata": {
    "ExecuteTime": {
     "end_time": "2020-12-20T14:25:59.020187Z",
     "start_time": "2020-12-20T14:25:59.016583Z"
    }
   },
   "outputs": [
    {
     "name": "stdout",
     "output_type": "stream",
     "text": [
      "图片 5 的比例：9.035%\n"
     ]
    }
   ],
   "source": [
    "print(\"图片 5 的比例：{}%\".format(y_train_5.sum() / len(y_train_5) * 100))"
   ]
  },
  {
   "cell_type": "markdown",
   "metadata": {},
   "source": [
    "<div class=\"alert alert-block alert-info\">\n",
    "    <b>准确率（accuracy）不能作为分类器的首选性能指标，尤其是类别不均衡数据集（skewed dataset）。</b>\n",
    "</div>"
   ]
  },
  {
   "cell_type": "markdown",
   "metadata": {},
   "source": [
    "**可以自行实现交叉验证，可以获得更多的控制（相较于 `cross_val_score`）。**"
   ]
  },
  {
   "cell_type": "code",
   "execution_count": 18,
   "metadata": {
    "ExecuteTime": {
     "end_time": "2020-12-20T14:26:24.933418Z",
     "start_time": "2020-12-20T14:25:59.021654Z"
    }
   },
   "outputs": [
    {
     "name": "stdout",
     "output_type": "stream",
     "text": [
      "Acc: 0.9669\n",
      "Acc: 0.91625\n",
      "Acc: 0.96785\n"
     ]
    }
   ],
   "source": [
    "from sklearn.base import clone\n",
    "from sklearn.model_selection import StratifiedKFold\n",
    "\n",
    "\n",
    "# 每个 fold 都是分层抽样产生的，各个类别的比例和总体相似\n",
    "skfolds = StratifiedKFold(n_splits=3, shuffle=True, random_state=42)\n",
    "for train_idx, test_idx in skfolds.split(x_train, y_train_5):\n",
    "    x_train_folds = x_train[train_idx]\n",
    "    y_train_folds = y_train_5[train_idx]\n",
    "    x_test_fold = x_train[test_idx]\n",
    "    y_test_fold = y_train_5[test_idx]\n",
    "\n",
    "    # 每个迭代在分类器副本上训练\n",
    "    clone_clf = clone(sgd_clf)\n",
    "    clone_clf.fit(x_train_folds, y_train_folds)\n",
    "    y_preds = clone_clf.predict(x_test_fold)\n",
    "    n_correct = sum(y_preds == y_test_fold)\n",
    "    print(\"Acc:\", n_correct / len(y_preds))"
   ]
  },
  {
   "cell_type": "markdown",
   "metadata": {},
   "source": [
    "## 3.2 混淆矩阵（Confusion Matrix）"
   ]
  },
  {
   "cell_type": "markdown",
   "metadata": {},
   "source": [
    "**评估分类器的更好方法是查看 confusion matrix**，基本思想是统计类别 A 被分成类别 B 的次数。\n",
    "\n",
    "要计算混淆矩阵，需要有能与真实 target 比较的预测值，目前还不应该用测试集。"
   ]
  },
  {
   "cell_type": "code",
   "execution_count": 19,
   "metadata": {
    "ExecuteTime": {
     "end_time": "2020-12-20T14:26:45.767812Z",
     "start_time": "2020-12-20T14:26:24.935202Z"
    }
   },
   "outputs": [],
   "source": [
    "from sklearn.model_selection import cross_val_predict\n",
    "\n",
    "\n",
    "y_train_preds = cross_val_predict(sgd_clf, x_train, y_train_5, cv=3)"
   ]
  },
  {
   "cell_type": "markdown",
   "metadata": {},
   "source": [
    "**`cross_val_score()`** 和 **`cross_val_predict()`** 一样执行 k-fold 交叉验证，但输出不是评估分数（evaluation scores），而是每个 fold 的预测值。这意味着，对于训练集中的每个样本都可以得到一个 “clean” 预测（“clean” 是指模型预测时使用的数据在训练期间并未见过）。"
   ]
  },
  {
   "cell_type": "code",
   "execution_count": 20,
   "metadata": {
    "ExecuteTime": {
     "end_time": "2020-12-20T14:26:45.869947Z",
     "start_time": "2020-12-20T14:26:45.783281Z"
    }
   },
   "outputs": [
    {
     "data": {
      "text/plain": [
       "array([[53892,   687],\n",
       "       [ 1891,  3530]])"
      ]
     },
     "execution_count": 20,
     "metadata": {},
     "output_type": "execute_result"
    }
   ],
   "source": [
    "# 计算混淆矩阵\n",
    "from sklearn.metrics import confusion_matrix\n",
    "\n",
    "\n",
    "confusion_matrix(y_train_5, y_train_preds,\n",
    "                 # y_ture 和 y_pred 中至少出现一次的值，按顺序作为 matrix 的标签\n",
    "                 labels=None)"
   ]
  },
  {
   "cell_type": "markdown",
   "metadata": {},
   "source": [
    "**<font color='crimson'>混淆矩阵的行是真实类别，列是预测类别。</font>** \n",
    "\n",
    "这里，第一行表示所有“非-5”（负类）图片中：53892 张被正确分为“非-5”（**<font color='blue' size=2>true negatives</font>** ），687 张被错误分成“5”（**<font color='blue' size=2>false positives</font>** ）。；第二行表示所有”5“（正类）图片中：1891 张被分为“非-5”（**<font color='blue' size=2>false negatives</font>** ），3530 张被分为“5”（**<font color='blue' size=2>true positives</font>** ）。\n",
    "\n",
    "**<font color='crimson'>一个完美的分类器，只有 true negatives 和 true positives，所以混淆矩阵的主对角线（左上到右下）上有值。</font>** \n",
    "\n",
    "![混淆矩阵](chap03_figs/confusion_matrix.png)"
   ]
  },
  {
   "cell_type": "code",
   "execution_count": 21,
   "metadata": {
    "ExecuteTime": {
     "end_time": "2020-12-20T14:26:45.913836Z",
     "start_time": "2020-12-20T14:26:45.871928Z"
    }
   },
   "outputs": [
    {
     "data": {
      "text/plain": [
       "array([[54579,     0],\n",
       "       [    0,  5421]])"
      ]
     },
     "execution_count": 21,
     "metadata": {},
     "output_type": "execute_result"
    }
   ],
   "source": [
    "# 理想的混淆矩阵\n",
    "y_train_prefect_preds = y_train_5\n",
    "confusion_matrix(y_train_5, y_train_prefect_preds)"
   ]
  },
  {
   "cell_type": "markdown",
   "metadata": {},
   "source": [
    "## 3.3 精度（Precision），召回率（Recall）"
   ]
  },
  {
   "cell_type": "markdown",
   "metadata": {},
   "source": [
    "混淆矩阵提供了大量的信息。\n",
    "\n",
    "**<font color='blue' size=2>精度（Precision）</font>**：正类的预测准确度率。\n",
    "\n",
    "$$Precision=\\frac{TP}{TP+FP}$$\n",
    "\n",
    "精度可能不是很有用，因为它只关注正类样本。所以，精度通常与召回率一起使用。\n",
    "\n",
    "**<font color='blue' size=2>召回率（Recall, or sensitivity, or the true positive rate, TPR）</font>**：预测结果为正类中，有多少样本的真实类别也是正类。\n",
    "\n",
    "$$Recall(Sensitivity, TPR)=\\frac{TP}{TP+FN}$$"
   ]
  },
  {
   "cell_type": "code",
   "execution_count": 22,
   "metadata": {
    "ExecuteTime": {
     "end_time": "2020-12-20T14:26:45.939298Z",
     "start_time": "2020-12-20T14:26:45.915747Z"
    }
   },
   "outputs": [
    {
     "data": {
      "text/plain": [
       "0.8370879772350012"
      ]
     },
     "execution_count": 22,
     "metadata": {},
     "output_type": "execute_result"
    }
   ],
   "source": [
    "from sklearn.metrics import precision_score\n",
    "\n",
    "\n",
    "# 精度\n",
    "precision_score(y_train_5, y_train_preds)"
   ]
  },
  {
   "cell_type": "code",
   "execution_count": 23,
   "metadata": {
    "ExecuteTime": {
     "end_time": "2020-12-20T14:26:45.967216Z",
     "start_time": "2020-12-20T14:26:45.945112Z"
    }
   },
   "outputs": [
    {
     "data": {
      "text/plain": [
       "0.6511713705958311"
      ]
     },
     "execution_count": 23,
     "metadata": {},
     "output_type": "execute_result"
    }
   ],
   "source": [
    "from sklearn.metrics import recall_score\n",
    "\n",
    "\n",
    "# 召回率\n",
    "recall_score(y_train_5, y_train_preds)"
   ]
  },
  {
   "cell_type": "markdown",
   "metadata": {},
   "source": [
    "**当说一张图片是 “5”（正类）时，只有 83.71% 的概率是正确的，并且也只有 65.12% 的 “5” 被检测出来了。**\n",
    "\n",
    "因此，可以很容易地将精度和召回率组合成一个指标——**<font color='blue' size=2>F1 score</font>**，尤其是在需要快速比较 2 个分类器的时候。 <font color='crimson'>F1 是 precision 和 recall 的 harmonic mean</font>（正常的平均值平等地对待所有值，而 harmonic 平均值会给予较小的值更高的权重高）。因此，<font color='crimson'>precision 和 recall 都很高时，F1 才会高</font>。\n",
    "\n",
    "$$F_1 = \\frac{2}{\\frac{1}{precision}+\\frac{1}{recall}}=2\\times \\frac{precision \\times recall}{precision+recall}=\\frac{TP}{TP+\\frac{FN+TP}{2}}$$"
   ]
  },
  {
   "cell_type": "code",
   "execution_count": 24,
   "metadata": {
    "ExecuteTime": {
     "end_time": "2020-12-20T14:26:45.993750Z",
     "start_time": "2020-12-20T14:26:45.970920Z"
    }
   },
   "outputs": [
    {
     "data": {
      "text/plain": [
       "0.7325171197343846"
      ]
     },
     "execution_count": 24,
     "metadata": {},
     "output_type": "execute_result"
    }
   ],
   "source": [
    "from sklearn.metrics import f1_score\n",
    "\n",
    "\n",
    "f1_score(y_train_5, y_train_preds)"
   ]
  },
  {
   "cell_type": "markdown",
   "metadata": {},
   "source": [
    "**<font color='crimson'>F1 对那些 precision 和 recall 差不多大小的分类器有利。</font>** 但是，这不一定就是实际需要的：有时更关心的是 precision，而有时更关心 recall。比如，儿童的视频过滤，需要保留下来的视频都是安全的（高 precision），即使过滤掉了很多正常视频（低 recall）。比如，通过监控图像来识别小偷（shoplifter），可以接收 precision 只有 30%，但 recall 有 99%，这样虽然会误报警，但是几乎能抓到所有的小偷。\n",
    "\n",
    "**<font color='crimson'>增加 precision 会减少 recall，反之亦然（vice versa）。</font>** 这就是 **<font color='blue' size=2>precision/recall trade-off</font>** 。"
   ]
  },
  {
   "cell_type": "markdown",
   "metadata": {},
   "source": [
    "## 3.4 Precision/recall trade-off"
   ]
  },
  {
   "cell_type": "markdown",
   "metadata": {},
   "source": [
    "可以通过 `SGDClassifier` 这个分类器来理解。\n",
    "\n",
    "**<font color='crimson'>对于每个样本（sample/instance），分类器会基于决策函数（decision function）给出一个 score，如果这个 score 大于阈值，那么这个样本就是正类（positive class），否则这个样本就会被分成负类（negative class）。</font>**\n",
    "\n",
    "<br>\n",
    "\n",
    "![precision/recall trade-off](chap03_figs/precision_recall_tradeoff.png)\n",
    "\n",
    "<br>\n",
    "\n",
    "如上图，\n",
    "\n",
    "- 假设决策阈值（decision threshold）设在中间（中间箭头，2 个 5 之间），在阈值右侧有 4 个 true positive（5）一个 false positive（6），此时，precision 为 80%(4/5)，recall 为 67%(4/6)。\n",
    "\n",
    "- 提高阈值（最右侧箭头），precision 为 100%(3/3)，recall 为 50%(3/6)。"
   ]
  },
  {
   "cell_type": "markdown",
   "metadata": {},
   "source": [
    "**<font color='crimson'>Scikit-Learn 不能直接设置阈值，但是可以得到用于预测的决策分数（decision scores）。</font>** 不是 `predict()`，而是调用 **`decision_function()`**，为每个样本返回一个 score，然后基于 score，可以使用任意阈值来进行预测。"
   ]
  },
  {
   "cell_type": "code",
   "execution_count": 25,
   "metadata": {
    "ExecuteTime": {
     "end_time": "2020-12-20T14:26:46.001092Z",
     "start_time": "2020-12-20T14:26:45.995765Z"
    }
   },
   "outputs": [
    {
     "data": {
      "text/plain": [
       "array([2164.22030239])"
      ]
     },
     "execution_count": 25,
     "metadata": {},
     "output_type": "execute_result"
    }
   ],
   "source": [
    "y_scores = sgd_clf.decision_function([some_digit])\n",
    "y_scores"
   ]
  },
  {
   "cell_type": "code",
   "execution_count": 26,
   "metadata": {
    "ExecuteTime": {
     "end_time": "2020-12-20T14:26:46.011650Z",
     "start_time": "2020-12-20T14:26:46.003576Z"
    }
   },
   "outputs": [
    {
     "data": {
      "text/plain": [
       "array([ True])"
      ]
     },
     "execution_count": 26,
     "metadata": {},
     "output_type": "execute_result"
    }
   ],
   "source": [
    "# 默认阈值\n",
    "threshold = 0\n",
    "y_scores > threshold"
   ]
  },
  {
   "cell_type": "code",
   "execution_count": 27,
   "metadata": {
    "ExecuteTime": {
     "end_time": "2020-12-20T14:26:46.021497Z",
     "start_time": "2020-12-20T14:26:46.015159Z"
    }
   },
   "outputs": [
    {
     "data": {
      "text/plain": [
       "array([False])"
      ]
     },
     "execution_count": 27,
     "metadata": {},
     "output_type": "execute_result"
    }
   ],
   "source": [
    "threshold = 8000\n",
    "y_scores > threshold"
   ]
  },
  {
   "cell_type": "markdown",
   "metadata": {},
   "source": [
    "这证明了，**recall 会随着阈值增加而降低。** 图片的真实标签是 5，阈值为 0 的时候，预测正确，而阈值为 8000 的时候，预测错误。"
   ]
  },
  {
   "cell_type": "markdown",
   "metadata": {},
   "source": [
    "**<font color='crimson' size=3>如何选择 decision scores 的阈值呢？</font>**\n",
    "\n",
    "**<font color='crimson' size=2>方法 1:</font>**"
   ]
  },
  {
   "cell_type": "code",
   "execution_count": 28,
   "metadata": {
    "ExecuteTime": {
     "end_time": "2020-12-20T14:27:07.147406Z",
     "start_time": "2020-12-20T14:26:46.022962Z"
    }
   },
   "outputs": [
    {
     "data": {
      "text/plain": [
       "array([  1200.93051237, -26883.79202424, -33072.03475406, ...,\n",
       "        13272.12718981,  -7258.47203373, -16877.50840447])"
      ]
     },
     "execution_count": 28,
     "metadata": {},
     "output_type": "execute_result"
    }
   ],
   "source": [
    "# 首先，使用 `cross_val_predict()` 计算所有样本的 decision scores\n",
    "y_scores = cross_val_predict(sgd_clf, x_train, y_train_5, cv=3,\n",
    "                             # default='predict'\n",
    "                             method='decision_function')\n",
    "y_scores"
   ]
  },
  {
   "cell_type": "code",
   "execution_count": 29,
   "metadata": {
    "ExecuteTime": {
     "end_time": "2020-12-20T14:27:07.158924Z",
     "start_time": "2020-12-20T14:27:07.150896Z"
    }
   },
   "outputs": [
    {
     "data": {
      "text/plain": [
       "True"
      ]
     },
     "execution_count": 29,
     "metadata": {},
     "output_type": "execute_result"
    }
   ],
   "source": [
    "# 默认阈值为 0\n",
    "(y_train_preds == (y_scores > 0)).all()"
   ]
  },
  {
   "cell_type": "code",
   "execution_count": 30,
   "metadata": {
    "ExecuteTime": {
     "end_time": "2020-12-20T14:27:07.182468Z",
     "start_time": "2020-12-20T14:27:07.162123Z"
    }
   },
   "outputs": [],
   "source": [
    "# 然后，使用 `precision_recall_curve()` 来计算所有可能阈值对应的 precision 和 recall\n",
    "from sklearn.metrics import precision_recall_curve\n",
    "# Compute precision-recall pairs for different probability thresholds\n",
    "# 只能用于二分类\n",
    "\n",
    "\n",
    "precisions, recalls, thresholds = precision_recall_curve(y_train_5, y_scores)"
   ]
  },
  {
   "cell_type": "code",
   "execution_count": 31,
   "metadata": {
    "ExecuteTime": {
     "end_time": "2020-12-20T14:27:07.187939Z",
     "start_time": "2020-12-20T14:27:07.183843Z"
    }
   },
   "outputs": [
    {
     "data": {
      "text/plain": [
       "(59967, 59967, 59966)"
      ]
     },
     "execution_count": 31,
     "metadata": {},
     "output_type": "execute_result"
    }
   ],
   "source": [
    "len(precisions), len(recalls), len(thresholds)"
   ]
  },
  {
   "cell_type": "code",
   "execution_count": 32,
   "metadata": {
    "ExecuteTime": {
     "end_time": "2020-12-20T14:27:07.196274Z",
     "start_time": "2020-12-20T14:27:07.189322Z"
    }
   },
   "outputs": [
    {
     "data": {
      "text/plain": [
       "(1.0, 0.0)"
      ]
     },
     "execution_count": 32,
     "metadata": {},
     "output_type": "execute_result"
    }
   ],
   "source": [
    "precisions[-1], recalls[-1]"
   ]
  },
  {
   "cell_type": "markdown",
   "metadata": {},
   "source": [
    "**`precisions` 和 `recalls` 中的最后一个值分别是 1 和 0，没有对应的阈值。这用于保证 graph 从 y 轴开始。**"
   ]
  },
  {
   "cell_type": "code",
   "execution_count": 33,
   "metadata": {
    "ExecuteTime": {
     "end_time": "2020-12-20T14:27:07.202793Z",
     "start_time": "2020-12-20T14:27:07.197780Z"
    }
   },
   "outputs": [],
   "source": [
    "# 最后，随阈值变化，recall 和 precision 的变化曲线\n",
    "def plot_precision_recall_vs_threshold(precisions, recalls, thresholds):\n",
    "    plt.figure(figsize=(8, 4.8))\n",
    "    plt.plot(thresholds, precisions[:-1], 'b--', label='Precision', lw=2)\n",
    "    plt.plot(thresholds, recalls[:-1], 'g-', label='Recall', lw=2)\n",
    "    plt.legend(shadow=True, fontsize=16)\n",
    "    plt.xlabel('Threshold', fontsize=16)\n",
    "    plt.grid(True, alpha=0.4, ls='--')\n",
    "    plt.axis([thresholds.min(), thresholds.max(), -0.01, 1.01])"
   ]
  },
  {
   "cell_type": "code",
   "execution_count": 34,
   "metadata": {
    "ExecuteTime": {
     "end_time": "2020-12-20T14:27:07.476432Z",
     "start_time": "2020-12-20T14:27:07.204209Z"
    }
   },
   "outputs": [
    {
     "data": {
      "image/png": "[encoded data removed]",
      "text/plain": [
       "<Figure size 576x345.6 with 1 Axes>"
      ]
     },
     "metadata": {
      "needs_background": "light"
     },
     "output_type": "display_data"
    }
   ],
   "source": [
    "plot_precision_recall_vs_threshold(precisions, recalls, thresholds)\n",
    "plt.show()"
   ]
  },
  {
   "cell_type": "markdown",
   "metadata": {},
   "source": [
    "<div class=\"alert alert-block alert-info\">\n",
    "    <b>因为随着阈值增加，precision 有时会减少（虽然通常都会上升），所以 precision 的曲线有波动。</b>如上上图，如果将中间的箭头向右移动一个数字，precision 从 80% (4/5) 降为 75% (3/4)。<br><br>\n",
    "    <b>而 recall 随着阈值增加只会降低。</b>\n",
    "</div>"
   ]
  },
  {
   "cell_type": "markdown",
   "metadata": {},
   "source": [
    "**<font color='crimson' size=2>方法 2: 画出 PR 曲线</font>**"
   ]
  },
  {
   "cell_type": "code",
   "execution_count": 35,
   "metadata": {
    "ExecuteTime": {
     "end_time": "2020-12-20T14:27:07.489329Z",
     "start_time": "2020-12-20T14:27:07.479409Z"
    }
   },
   "outputs": [],
   "source": [
    "def plot_precision_vs_recall(precisions, recalls):\n",
    "    plt.plot(recalls, precisions, 'b-', lw=2)\n",
    "    plt.xlabel('Recall', fontsize=16)\n",
    "    plt.ylabel('Precision', fontsize=16)\n",
    "    plt.axis([0, 1, 0, 1])\n",
    "    plt.grid(True, alpha=0.4, ls='--')"
   ]
  },
  {
   "cell_type": "code",
   "execution_count": 36,
   "metadata": {
    "ExecuteTime": {
     "end_time": "2020-12-20T14:27:07.773728Z",
     "start_time": "2020-12-20T14:27:07.491544Z"
    }
   },
   "outputs": [
    {
     "data": {
      "image/png": "[encoded data removed]",
      "text/plain": [
       "<Figure size 432x288 with 1 Axes>"
      ]
     },
     "metadata": {
      "needs_background": "light"
     },
     "output_type": "display_data"
    }
   ],
   "source": [
    "plot_precision_vs_recall(precisions, recalls)\n",
    "plt.show()"
   ]
  },
  {
   "cell_type": "markdown",
   "metadata": {},
   "source": [
    "可以看出，recall 大约在 0.8 处急剧下降（fall sharply），可能想在下降前作出选择，如，recall 在 0.6 的时候。但，**这取决于项目**。"
   ]
  },
  {
   "cell_type": "code",
   "execution_count": 37,
   "metadata": {
    "ExecuteTime": {
     "end_time": "2020-12-20T14:27:07.819161Z",
     "start_time": "2020-12-20T14:27:07.775285Z"
    }
   },
   "outputs": [
    {
     "name": "stdout",
     "output_type": "stream",
     "text": [
      "阈值： 3370.0194991439557\n",
      "Precision: 0.9000345901072293\n",
      "Recall: 0.4799852425751706\n"
     ]
    }
   ],
   "source": [
    "# 假设，想要 90% 的 precision\n",
    "threshold_90_precision = thresholds[np.argmax(precisions >= 0.9)]\n",
    "\n",
    "y_train_preds_90 = (y_scores >= threshold_90_precision)\n",
    "\n",
    "print(\"阈值：\", threshold_90_precision)\n",
    "print(\"Precision:\", precision_score(y_train_5, y_train_preds_90))\n",
    "print(\"Recall:\", recall_score(y_train_5, y_train_preds_90))"
   ]
  },
  {
   "cell_type": "markdown",
   "metadata": {},
   "source": [
    "**<font color='crimson'>通过调整阈值，可以获取任何 precision 的分类器。</font>**\n",
    "\n",
    "但是，precision 很高，但 recall 很低，这也是不行的。\n",
    "\n",
    "**如果有人告诉你，分类器 precision 为 99% 的时候，要问问 TA recall 是多少。**"
   ]
  },
  {
   "cell_type": "markdown",
   "metadata": {},
   "source": [
    "## 3.5 ROC 曲线（只二分类）"
   ]
  },
  {
   "cell_type": "markdown",
   "metadata": {},
   "source": [
    "二分类另一种常用的工具是 **<font color='blue' size=2>ROC 曲线</font>**（Receiver operating characteristic）。\n",
    "\n",
    "ROC 曲线绘制的是 TPR (recall) 和 FPR(=1-TNR)（负样本被误分为正样本的比例）。TNR 又称为 specificity，因此，ROC 曲线绘制的是 sensitivity 和 1-specificity 的关系。\n",
    "\n",
    "$$TPR(Recall)=\\frac{TP}{TP+FN}$$\n",
    "\n",
    "$$FPR=\\frac{FP}{FP+TN}$$"
   ]
  },
  {
   "cell_type": "code",
   "execution_count": 38,
   "metadata": {
    "ExecuteTime": {
     "end_time": "2020-12-20T14:27:07.848706Z",
     "start_time": "2020-12-20T14:27:07.821546Z"
    }
   },
   "outputs": [],
   "source": [
    "# 要绘制 ROC 曲线，先要各阈值下的计算 TPR 和 FPR\n",
    "from sklearn.metrics import roc_curve\n",
    "# 只适用于二分类\n",
    "\n",
    "fpr, tpr, thresholds = roc_curve(y_train_5, y_scores)"
   ]
  },
  {
   "cell_type": "code",
   "execution_count": 39,
   "metadata": {
    "ExecuteTime": {
     "end_time": "2020-12-20T14:27:07.855780Z",
     "start_time": "2020-12-20T14:27:07.850770Z"
    }
   },
   "outputs": [
    {
     "data": {
      "text/plain": [
       "(3908, 3908, 3908)"
      ]
     },
     "execution_count": 39,
     "metadata": {},
     "output_type": "execute_result"
    }
   ],
   "source": [
    "len(fpr), len(tpr), len(thresholds)"
   ]
  },
  {
   "cell_type": "code",
   "execution_count": 40,
   "metadata": {
    "ExecuteTime": {
     "end_time": "2020-12-20T14:27:07.865862Z",
     "start_time": "2020-12-20T14:27:07.857983Z"
    }
   },
   "outputs": [],
   "source": [
    "def plot_roc_curve(fpr, tpr, label=None):\n",
    "    plt.plot(fpr, tpr, label=label)\n",
    "    plt.plot([0, 1], [0, 1], 'k--')\n",
    "    plt.axis([0, 1, 0, 1])\n",
    "    plt.xlabel('False Positive Rate (Fall-Out)', fontsize=16)\n",
    "    plt.ylabel('True Positive Rate (Recall)', fontsize=16)\n",
    "    plt.grid(True, alpha=0.4, ls='--')"
   ]
  },
  {
   "cell_type": "code",
   "execution_count": 41,
   "metadata": {
    "ExecuteTime": {
     "end_time": "2020-12-20T14:27:08.113115Z",
     "start_time": "2020-12-20T14:27:07.869010Z"
    }
   },
   "outputs": [
    {
     "data": {
      "image/png": "[encoded data removed]",
      "text/plain": [
       "<Figure size 432x288 with 1 Axes>"
      ]
     },
     "metadata": {
      "needs_background": "light"
     },
     "output_type": "display_data"
    }
   ],
   "source": [
    "plot_roc_curve(fpr, tpr)\n",
    "plt.show()"
   ]
  },
  {
   "cell_type": "markdown",
   "metadata": {},
   "source": [
    "一种用于比较分类器的方法是计算 **<font color='blue' size=2>AUC 值（Area under the curve）</font>**。 完美分类器的 ROC AUC 值是 1，随机分类器的 ROC AUC 值是 0.5。"
   ]
  },
  {
   "cell_type": "code",
   "execution_count": 42,
   "metadata": {
    "ExecuteTime": {
     "end_time": "2020-12-20T14:27:08.136715Z",
     "start_time": "2020-12-20T14:27:08.114998Z"
    }
   },
   "outputs": [
    {
     "data": {
      "text/plain": [
       "0.9604938554008616"
      ]
     },
     "execution_count": 42,
     "metadata": {},
     "output_type": "execute_result"
    }
   ],
   "source": [
    "# 计算 AUC 值\n",
    "from sklearn.metrics import roc_auc_score\n",
    "\n",
    "\n",
    "roc_auc_score(y_train_5, y_scores)"
   ]
  },
  {
   "cell_type": "markdown",
   "metadata": {},
   "source": [
    "<div class=\"alert alert-block alert-info\">\n",
    "    <center><b>PR 曲线还是 ROC 曲线？</b></center><br>\n",
    "    <b>经验法则是，当正类比较少（rare），或者更关注 FP 而不是 FN 时，选择 PR 曲线，否则选择 ROC 曲线。</b> 如，看这里 ROC 曲线和 AUC 值（0.96），可能会认为这个分类器非常不错。但是，这里的正类（数字5）非常少，从 PR 曲线可以看出，分类器有待改善。\n",
    "</div>"
   ]
  },
  {
   "cell_type": "code",
   "execution_count": 43,
   "metadata": {
    "ExecuteTime": {
     "end_time": "2020-12-20T14:28:22.304824Z",
     "start_time": "2020-12-20T14:27:08.138173Z"
    }
   },
   "outputs": [
    {
     "data": {
      "text/plain": [
       "array([[0.11, 0.89],\n",
       "       [0.99, 0.01],\n",
       "       [0.96, 0.04],\n",
       "       ...,\n",
       "       [0.02, 0.98],\n",
       "       [0.92, 0.08],\n",
       "       [0.94, 0.06]])"
      ]
     },
     "execution_count": 43,
     "metadata": {},
     "output_type": "execute_result"
    }
   ],
   "source": [
    "# 看看 RF 的结果\n",
    "from sklearn.ensemble import RandomForestClassifier\n",
    "\n",
    "\n",
    "rf_clf = RandomForestClassifier(n_estimators=100, random_state=42)\n",
    "y_probas_rf = cross_val_predict(rf_clf, x_train, y_train_5, cv=3,\n",
    "                                method='predict_proba')\n",
    "y_probas_rf"
   ]
  },
  {
   "cell_type": "markdown",
   "metadata": {},
   "source": [
    "**`RandomForestClassifier` 没有 `decision_function()` 方法，但有 `predict_proba()` 方法。 Scikit-Learn 的分类器通常含有其一，或者都有。**\n",
    "\n",
    "**`predict_proba()`** 返回一个数组，每行表示一个样本，每列表示一个类别，表示该样本属于这些类别的概率。"
   ]
  },
  {
   "cell_type": "markdown",
   "metadata": {},
   "source": [
    "**`roc_curve()` 需要 labels 和 scores，但这里没有 scores，可以直接使用正类的概率作为 scores。**"
   ]
  },
  {
   "cell_type": "code",
   "execution_count": 44,
   "metadata": {
    "ExecuteTime": {
     "end_time": "2020-12-20T14:28:22.618744Z",
     "start_time": "2020-12-20T14:28:22.306944Z"
    }
   },
   "outputs": [
    {
     "data": {
      "image/png": "[encoded data removed]",
      "text/plain": [
       "<Figure size 432x288 with 1 Axes>"
      ]
     },
     "metadata": {
      "needs_background": "light"
     },
     "output_type": "display_data"
    }
   ],
   "source": [
    "# 正类的概率作为 scores\n",
    "y_scores_rf = y_probas_rf[:, 1]\n",
    "fpr_rf, tpr_rf, thresholds_rf = roc_curve(y_train_5, y_scores_rf)\n",
    "\n",
    "plot_roc_curve(fpr, tpr, label='SGD')\n",
    "plot_roc_curve(fpr_rf, tpr_rf, label='Random Forest')\n",
    "plt.legend(shadow=True, fontsize=16)\n",
    "plt.show()"
   ]
  },
  {
   "cell_type": "markdown",
   "metadata": {},
   "source": [
    "RF 的 ROC 曲线看起来比 SGD 的好：更接近左上角。"
   ]
  },
  {
   "cell_type": "code",
   "execution_count": 45,
   "metadata": {
    "ExecuteTime": {
     "end_time": "2020-12-20T14:28:22.652954Z",
     "start_time": "2020-12-20T14:28:22.621512Z"
    }
   },
   "outputs": [
    {
     "data": {
      "text/plain": [
       "0.9983436731328145"
      ]
     },
     "execution_count": 45,
     "metadata": {},
     "output_type": "execute_result"
    }
   ],
   "source": [
    "roc_auc_score(y_train_5, y_scores_rf)"
   ]
  },
  {
   "cell_type": "code",
   "execution_count": 46,
   "metadata": {
    "ExecuteTime": {
     "end_time": "2020-12-20T14:29:37.278159Z",
     "start_time": "2020-12-20T14:28:22.655275Z"
    }
   },
   "outputs": [
    {
     "name": "stdout",
     "output_type": "stream",
     "text": [
      "RF precison: 0.9905083315756169\n",
      "RF recall: 0.8662608374838591\n",
      "RF F1: 0.9242275142688446\n"
     ]
    }
   ],
   "source": [
    "y_train_preds_rf = cross_val_predict(rf_clf, x_train, y_train_5, cv=3)\n",
    "\n",
    "print(\"RF precison:\", precision_score(y_train_5, y_train_preds_rf))\n",
    "print(\"RF recall:\", recall_score(y_train_5, y_train_preds_rf))\n",
    "print(\"RF F1:\", f1_score(y_train_5, y_train_preds_rf))"
   ]
  },
  {
   "cell_type": "markdown",
   "metadata": {},
   "source": [
    "# 4. 多类分类（Multiclass Classification）"
   ]
  },
  {
   "cell_type": "markdown",
   "metadata": {},
   "source": [
    "multiclass classfiers（又称为 multinomial classfiers）可以区分 2 以上的类别。\n",
    "\n",
    "- 一些分类算法（如，LR、RF、朴素贝叶斯）可以直接处理多个类别\n",
    "\n",
    "\n",
    "- 一些分类算法（如，SGD、SVM）是严格的二分类器，只能处理 2 个类别。"
   ]
  },
  {
   "cell_type": "markdown",
   "metadata": {},
   "source": [
    "**对于 N 个类别的分类器，方法有：**\n",
    "\n",
    "- **训练 N 个二分类器，每个类别建立一个（是/否）。** 在预测的时候，获取每个分类器的分数，哪个类别的分数高，就是哪个类别。这种称为 **<font color='blue' size=2>OvR (one-versus-the-rest, OvR)</font>**，或者 **<font color='blue' size=2>one-versus-all</font>**。\n",
    "\n",
    "\n",
    "- **为每一对类别训练一个二分类器**（这里，一个用于区分 0 和 1，一个用于区分 0 和 2...一个用于区分 0 和 9...一个用于区分 1 和 2...），这称为 **<font color='blue' size=2>one-versus-one (OvO)</font>**。 **如果有 N 个类别，则需要训练 Nx(N-1)/2 个二分类器。** 预测时，看哪个类别获胜最多。 <font color='crimson'>OvO 的主要优点在于，每个二分类器只要对应的部分训练集就可以训练了。</font>"
   ]
  },
  {
   "cell_type": "markdown",
   "metadata": {},
   "source": [
    "<font color='crimson'>一些算法（如 SVM）scale poorly with the size of 训练集。对于这些算法，OvO 是优先选择的（preferred），因为在小训练集上训练多个分类器比在大训练集上训练少数要更快。但对大多数二分类算法来说，OvR 是更好的选择（preferred）。</font>"
   ]
  },
  {
   "cell_type": "markdown",
   "metadata": {},
   "source": [
    "**在使用二分类算法来进行多类分类（multiclass classification）时，Scikit-Learn 是能检测到的，这时，Scikit-Learn 会根据情况自动运行 OvR 或 OvO。**"
   ]
  },
  {
   "cell_type": "code",
   "execution_count": 47,
   "metadata": {
    "ExecuteTime": {
     "end_time": "2020-12-20T14:29:39.034308Z",
     "start_time": "2020-12-20T14:29:37.282006Z"
    }
   },
   "outputs": [
    {
     "data": {
      "text/plain": [
       "SVC(gamma='auto', random_state=42)"
      ]
     },
     "execution_count": 47,
     "metadata": {},
     "output_type": "execute_result"
    }
   ],
   "source": [
    "# SVM 进行多类分类\n",
    "# 使用的是 OvO 策略——训练了 45 个二分类器\n",
    "from sklearn.svm import SVC\n",
    "\n",
    "\n",
    "svc = SVC(gamma='auto', random_state=42)\n",
    "svc.fit(x_train[:1000], y_train[:1000])  # 不然太慢了"
   ]
  },
  {
   "cell_type": "markdown",
   "metadata": {},
   "source": [
    "如果调用 `decision_function()` 方法，对于每个样本会输出 10 个 score（而不是 1 个）——每个类别 1 个 score（it’s the number of won duels plus or minus a small tweak to break ties, based on the binary classifier scores）。"
   ]
  },
  {
   "cell_type": "code",
   "execution_count": 48,
   "metadata": {
    "ExecuteTime": {
     "end_time": "2020-12-20T14:29:39.046992Z",
     "start_time": "2020-12-20T14:29:39.036736Z"
    }
   },
   "outputs": [
    {
     "data": {
      "text/plain": [
       "array([[ 2.81585438,  7.09167958,  3.82972099,  0.79365551,  5.8885703 ,\n",
       "         9.29718395,  1.79862509,  8.10392157, -0.228207  ,  4.83753243]])"
      ]
     },
     "execution_count": 48,
     "metadata": {},
     "output_type": "execute_result"
    }
   ],
   "source": [
    "some_digit_scores = svc.decision_function([some_digit])\n",
    "some_digit_scores"
   ]
  },
  {
   "cell_type": "code",
   "execution_count": 49,
   "metadata": {
    "ExecuteTime": {
     "end_time": "2020-12-20T14:29:39.055329Z",
     "start_time": "2020-12-20T14:29:39.050695Z"
    }
   },
   "outputs": [
    {
     "data": {
      "text/plain": [
       "5"
      ]
     },
     "execution_count": 49,
     "metadata": {},
     "output_type": "execute_result"
    }
   ],
   "source": [
    "# 最高分（索引 5）确实对应类别 5\n",
    "np.argmax(some_digit_scores)"
   ]
  },
  {
   "cell_type": "code",
   "execution_count": 50,
   "metadata": {
    "ExecuteTime": {
     "end_time": "2020-12-20T14:29:39.064219Z",
     "start_time": "2020-12-20T14:29:39.057863Z"
    }
   },
   "outputs": [
    {
     "data": {
      "text/plain": [
       "array([0, 1, 2, 3, 4, 5, 6, 7, 8, 9], dtype=uint8)"
      ]
     },
     "execution_count": 50,
     "metadata": {},
     "output_type": "execute_result"
    }
   ],
   "source": [
    "# The classes labels\n",
    "svc.classes_"
   ]
  },
  {
   "cell_type": "markdown",
   "metadata": {},
   "source": [
    "<div class=\"alert alert-block alert-info\">\n",
    "    <b>分类器训练好了，目标列（target class）的列表存在 <code>classes_</code> 属性（attribute）中，按值的大小排序。</b> 这里，<code>classes_</code> 中每个类别的 index 恰好是类别值，这么巧的事情很少发生。\n",
    "</div>"
   ]
  },
  {
   "cell_type": "markdown",
   "metadata": {},
   "source": [
    "可以使用 **`OneVsOneClassifier`** 或者 **`OneVsRestClassifier`** 来强制 Scikit-Learn 使用 OvO 或者 OvR。"
   ]
  },
  {
   "cell_type": "code",
   "execution_count": 51,
   "metadata": {
    "ExecuteTime": {
     "end_time": "2020-12-20T14:29:46.614676Z",
     "start_time": "2020-12-20T14:29:39.066967Z"
    }
   },
   "outputs": [
    {
     "data": {
      "text/plain": [
       "array([5], dtype=uint8)"
      ]
     },
     "execution_count": 51,
     "metadata": {},
     "output_type": "execute_result"
    }
   ],
   "source": [
    "# 强制使用 OvR 策略\n",
    "from sklearn.multiclass import OneVsRestClassifier\n",
    "\n",
    "svc_ovr = OneVsRestClassifier(SVC(gamma='auto', random_state=42))\n",
    "svc_ovr.fit(x_train[:1000], y_train[:1000])\n",
    "svc_ovr.predict([some_digit])"
   ]
  },
  {
   "cell_type": "code",
   "execution_count": 52,
   "metadata": {
    "ExecuteTime": {
     "end_time": "2020-12-20T14:29:46.624689Z",
     "start_time": "2020-12-20T14:29:46.617196Z"
    }
   },
   "outputs": [
    {
     "data": {
      "text/plain": [
       "10"
      ]
     },
     "execution_count": 52,
     "metadata": {},
     "output_type": "execute_result"
    }
   ],
   "source": [
    "len(svc_ovr.estimators_)"
   ]
  },
  {
   "cell_type": "code",
   "execution_count": 53,
   "metadata": {
    "ExecuteTime": {
     "end_time": "2020-12-20T14:31:51.662971Z",
     "start_time": "2020-12-20T14:29:46.628876Z"
    }
   },
   "outputs": [
    {
     "data": {
      "text/plain": [
       "array([3], dtype=uint8)"
      ]
     },
     "execution_count": 53,
     "metadata": {},
     "output_type": "execute_result"
    }
   ],
   "source": [
    "# 使用 SGD 分类器\n",
    "sgd_clf = SGDClassifier(random_state=42)\n",
    "sgd_clf.fit(x_train, y_train)\n",
    "sgd_clf.predict([some_digit])"
   ]
  },
  {
   "cell_type": "markdown",
   "metadata": {},
   "source": [
    "这一次，Scikit-Learn 在内部使用 OvR 策略——因为这里有 10 个类别，所以训练 10 个二分类器。 在样本上调用 `decision_function()` 时为每个类别输出一个值。"
   ]
  },
  {
   "cell_type": "code",
   "execution_count": 54,
   "metadata": {
    "ExecuteTime": {
     "end_time": "2020-12-20T14:31:51.670293Z",
     "start_time": "2020-12-20T14:31:51.664937Z"
    }
   },
   "outputs": [
    {
     "data": {
      "text/plain": [
       "array([[-31893.03095419, -34419.69069632,  -9530.63950739,\n",
       "          1823.73154031, -22320.14822878,  -1385.80478895,\n",
       "        -26188.91070951, -16147.51323997,  -4604.35491274,\n",
       "        -12050.767298  ]])"
      ]
     },
     "execution_count": 54,
     "metadata": {},
     "output_type": "execute_result"
    }
   ],
   "source": [
    "# 每个类别的 score\n",
    "sgd_clf.decision_function([some_digit])"
   ]
  },
  {
   "cell_type": "markdown",
   "metadata": {},
   "source": [
    "分类器对这次的预测结果非常有信心——除了类别 3 的 score 为正数，其余的 score 都是负数。但是翻车了，预测错误。\n",
    "\n",
    "使用交叉验证来评估分类器："
   ]
  },
  {
   "cell_type": "code",
   "execution_count": 55,
   "metadata": {
    "ExecuteTime": {
     "end_time": "2020-12-20T14:35:11.023215Z",
     "start_time": "2020-12-20T14:31:51.671820Z"
    }
   },
   "outputs": [
    {
     "data": {
      "text/plain": [
       "array([0.87365, 0.85835, 0.8689 ])"
      ]
     },
     "execution_count": 55,
     "metadata": {},
     "output_type": "execute_result"
    }
   ],
   "source": [
    "cross_val_score(sgd_clf, x_train, y_train, cv=3, scoring='accuracy')"
   ]
  },
  {
   "cell_type": "markdown",
   "metadata": {},
   "source": [
    "如果是一个随机分类器（random classifier）的话，准确率大概是 10%。所以，这个结果还行，但还有提升的空间： scale 特征。"
   ]
  },
  {
   "cell_type": "code",
   "execution_count": 56,
   "metadata": {
    "ExecuteTime": {
     "end_time": "2020-12-20T14:43:59.889734Z",
     "start_time": "2020-12-20T14:35:11.028233Z"
    }
   },
   "outputs": [
    {
     "data": {
      "text/plain": [
       "array([0.8983, 0.891 , 0.9018])"
      ]
     },
     "execution_count": 56,
     "metadata": {},
     "output_type": "execute_result"
    }
   ],
   "source": [
    "from sklearn.preprocessing import StandardScaler\n",
    "\n",
    "\n",
    "scaler = StandardScaler()\n",
    "x_train_scaled = scaler.fit_transform(x_train.astype(np.float64))\n",
    "cross_val_score(sgd_clf, x_train_scaled, y_train, cv=3, scoring='accuracy')"
   ]
  },
  {
   "cell_type": "markdown",
   "metadata": {},
   "source": [
    "# 5. 误差分析（Error Analysis）"
   ]
  },
  {
   "cell_type": "markdown",
   "metadata": {
    "ExecuteTime": {
     "end_time": "2020-12-18T14:36:04.439754Z",
     "start_time": "2020-12-18T14:36:04.434265Z"
    }
   },
   "source": [
    "<font color='crimson'>可以分析模型犯的错误类型（the types of errors）来提升模型性能。</font>"
   ]
  },
  {
   "cell_type": "code",
   "execution_count": 57,
   "metadata": {
    "ExecuteTime": {
     "end_time": "2020-12-20T14:53:00.040383Z",
     "start_time": "2020-12-20T14:43:59.892509Z"
    }
   },
   "outputs": [
    {
     "data": {
      "text/plain": [
       "array([[5577,    0,   22,    5,    8,   43,   36,    6,  225,    1],\n",
       "       [   0, 6400,   37,   24,    4,   44,    4,    7,  212,   10],\n",
       "       [  27,   27, 5220,   92,   73,   27,   67,   36,  378,   11],\n",
       "       [  22,   17,  117, 5227,    2,  203,   27,   40,  403,   73],\n",
       "       [  12,   14,   41,    9, 5182,   12,   34,   27,  347,  164],\n",
       "       [  27,   15,   30,  168,   53, 4444,   75,   14,  535,   60],\n",
       "       [  30,   15,   42,    3,   44,   97, 5552,    3,  131,    1],\n",
       "       [  21,   10,   51,   30,   49,   12,    3, 5684,  195,  210],\n",
       "       [  17,   63,   48,   86,    3,  126,   25,   10, 5429,   44],\n",
       "       [  25,   18,   30,   64,  118,   36,    1,  179,  371, 5107]])"
      ]
     },
     "execution_count": 57,
     "metadata": {},
     "output_type": "execute_result"
    }
   ],
   "source": [
    "# 查看混淆矩阵\n",
    "y_train_preds = cross_val_predict(sgd_clf, x_train_scaled, y_train, cv=3)\n",
    "conf_mx = confusion_matrix(y_train, y_train_preds)\n",
    "conf_mx"
   ]
  },
  {
   "cell_type": "code",
   "execution_count": 58,
   "metadata": {
    "ExecuteTime": {
     "end_time": "2020-12-20T14:53:00.234667Z",
     "start_time": "2020-12-20T14:53:00.042439Z"
    }
   },
   "outputs": [
    {
     "data": {
      "image/png": "[encoded data removed]",
      "text/plain": [
       "<Figure size 288x288 with 1 Axes>"
      ]
     },
     "metadata": {
      "needs_background": "light"
     },
     "output_type": "display_data"
    }
   ],
   "source": [
    "# 数字太多了，用图片表示（image representation）\n",
    "plt.matshow(conf_mx, cmap=plt.cm.gray)\n",
    "plt.xticks(range(10))\n",
    "plt.xlabel(\"Predictions\", fontsize=16)\n",
    "plt.yticks(range(10))\n",
    "plt.ylabel(\"Actuals\", fontsize=16)\n",
    "plt.show()"
   ]
  },
  {
   "cell_type": "markdown",
   "metadata": {},
   "source": [
    "> 可以使用 **`sklearn.metrics.plot_confusion_matrix`**。"
   ]
  },
  {
   "cell_type": "markdown",
   "metadata": {},
   "source": [
    "看起来不错，大多数都在主对角线上，说明分类正确。\n",
    "\n",
    "类别 5 看起来有点暗，这可能意味着数据集中类别 5 图片比较少或者分类器在类别 5 图片上的效果较差（事实这 2 种情况都存在）。\n",
    "\n",
    "**关注错误。应该看比例，而不是看数量（对样本较多的类别不公平）。**"
   ]
  },
  {
   "cell_type": "code",
   "execution_count": 59,
   "metadata": {
    "ExecuteTime": {
     "end_time": "2020-12-20T14:53:00.250455Z",
     "start_time": "2020-12-20T14:53:00.236537Z"
    }
   },
   "outputs": [
    {
     "data": {
      "text/plain": [
       "array([[9.41583657e-01, 0.00000000e+00, 3.71433395e-03, 8.44166807e-04,\n",
       "        1.35066689e-03, 7.25983454e-03, 6.07800101e-03, 1.01300017e-03,\n",
       "        3.79875063e-02, 1.68833361e-04],\n",
       "       [0.00000000e+00, 9.49273213e-01, 5.48798576e-03, 3.55977455e-03,\n",
       "        5.93295758e-04, 6.52625334e-03, 5.93295758e-04, 1.03826758e-03,\n",
       "        3.14446752e-02, 1.48323939e-03],\n",
       "       [4.53172205e-03, 4.53172205e-03, 8.76132931e-01, 1.54414233e-02,\n",
       "        1.22524337e-02, 4.53172205e-03, 1.12453844e-02, 6.04229607e-03,\n",
       "        6.34441088e-02, 1.84625713e-03],\n",
       "       [3.58832164e-03, 2.77279400e-03, 1.90833469e-02, 8.52552602e-01,\n",
       "        3.26211059e-04, 3.31104224e-02, 4.40384929e-03, 6.52422117e-03,\n",
       "        6.57315283e-02, 1.19067036e-02],\n",
       "       [2.05409106e-03, 2.39643958e-03, 7.01814447e-03, 1.54056830e-03,\n",
       "        8.87024991e-01, 2.05409106e-03, 5.81992468e-03, 4.62170490e-03,\n",
       "        5.93974666e-02, 2.80725779e-02],\n",
       "       [4.98063088e-03, 2.76701716e-03, 5.53403431e-03, 3.09905921e-02,\n",
       "        9.77679395e-03, 8.19774949e-01, 1.38350858e-02, 2.58254935e-03,\n",
       "        9.86902785e-02, 1.10680686e-02],\n",
       "       [5.06928016e-03, 2.53464008e-03, 7.09699223e-03, 5.06928016e-04,\n",
       "        7.43494424e-03, 1.63906725e-02, 9.38154782e-01, 5.06928016e-04,\n",
       "        2.21358567e-02, 1.68976005e-04],\n",
       "       [3.35195531e-03, 1.59616919e-03, 8.14046289e-03, 4.78850758e-03,\n",
       "        7.82122905e-03, 1.91540303e-03, 4.78850758e-04, 9.07262570e-01,\n",
       "        3.11252993e-02, 3.35195531e-02],\n",
       "       [2.90548624e-03, 1.07673902e-02, 8.20372586e-03, 1.46983422e-02,\n",
       "        5.12732866e-04, 2.15347804e-02, 4.27277388e-03, 1.70910955e-03,\n",
       "        9.27875577e-01, 7.52008204e-03],\n",
       "       [4.20238696e-03, 3.02571861e-03, 5.04286435e-03, 1.07581106e-02,\n",
       "        1.98352664e-02, 6.05143722e-03, 1.68095478e-04, 3.00890906e-02,\n",
       "        6.23634224e-02, 8.58463607e-01]])"
      ]
     },
     "execution_count": 59,
     "metadata": {},
     "output_type": "execute_result"
    }
   ],
   "source": [
    "# 关注错误\n",
    "row_sums = conf_mx.sum(axis=1, keepdims=True)  # shape: (10, 1)\n",
    "norm_conf_mx = conf_mx / row_sums\n",
    "norm_conf_mx"
   ]
  },
  {
   "cell_type": "code",
   "execution_count": 60,
   "metadata": {
    "ExecuteTime": {
     "end_time": "2020-12-20T14:53:00.498702Z",
     "start_time": "2020-12-20T14:53:00.255167Z"
    }
   },
   "outputs": [
    {
     "data": {
      "image/png": "[encoded data removed]",
      "text/plain": [
       "<Figure size 288x288 with 1 Axes>"
      ]
     },
     "metadata": {
      "needs_background": "light"
     },
     "output_type": "display_data"
    }
   ],
   "source": [
    "# 用 0 填充对角线\n",
    "np.fill_diagonal(norm_conf_mx, 0)\n",
    "plt.matshow(norm_conf_mx, cmap=plt.cm.gray)\n",
    "plt.xticks(range(10))\n",
    "plt.xlabel(\"Predictions\", fontsize=16)\n",
    "plt.yticks(range(10))\n",
    "plt.ylabel(\"Actuals\", fontsize=16)\n",
    "plt.show()"
   ]
  },
  {
   "cell_type": "markdown",
   "metadata": {},
   "source": [
    "现在可以看到分类器犯的错误类型了。第 8 列看起来比较亮，这说明很多图片被误分为类别 8 了。然后，第 8 行看起来并不差，这说明类别 8 的图片基本分类正确。\n",
    "\n",
    "混淆矩阵并不是完成对称的（necessarily symmetrical）。类别 3 和类别 5 经常弄混。\n",
    "\n",
    "**分析混淆矩阵通常可以帮助理解如何提升分类器的性能。** 在这里，需要将精力放在误分为类别 8 的错误上。如\n",
    "\n",
    "- 收集更多看起来像 8 的图片，有助于分类器将其与真实的 8 区分开。\n",
    "\n",
    "\n",
    "- 或者，开发新的特征（engineer new features）用于训练分类器，如，计算闭环（closed loops）的算法（8 有 2 个圈圈，5 只有 1 个圈圈）。\n",
    "\n",
    "\n",
    "- 或者，使用 Scikit-Image、Pillow、OpenCV 预处理图片，让某些模式（如圈圈之类的）更加突出。"
   ]
  },
  {
   "cell_type": "markdown",
   "metadata": {},
   "source": [
    "分析单个的错误也可以获取 insights———分类器在做什么、分类器为什么失败，但这样比较费时（time-consuming）。"
   ]
  },
  {
   "cell_type": "code",
   "execution_count": 61,
   "metadata": {
    "ExecuteTime": {
     "end_time": "2020-12-20T14:53:00.508097Z",
     "start_time": "2020-12-20T14:53:00.500475Z"
    }
   },
   "outputs": [],
   "source": [
    "def plot_digits(instances, images_per_row=10, **options):\n",
    "    size = 28\n",
    "    images_per_row = min(len(instances), images_per_row)\n",
    "    images = [instance.reshape(size,size) for instance in instances]\n",
    "    n_rows = (len(instances) - 1) // images_per_row + 1\n",
    "    row_images = []\n",
    "    n_empty = n_rows * images_per_row - len(instances)\n",
    "    images.append(np.zeros((size, size * n_empty)))\n",
    "    for row in range(n_rows):\n",
    "        rimages = images[row * images_per_row : (row + 1) * images_per_row]\n",
    "        row_images.append(np.concatenate(rimages, axis=1))\n",
    "    image = np.concatenate(row_images, axis=0)\n",
    "    plt.imshow(image, cmap = plt.cm.binary, **options)\n",
    "    plt.axis('off')"
   ]
  },
  {
   "cell_type": "code",
   "execution_count": 62,
   "metadata": {
    "ExecuteTime": {
     "end_time": "2020-12-20T14:53:01.204112Z",
     "start_time": "2020-12-20T14:53:00.513200Z"
    }
   },
   "outputs": [
    {
     "data": {
      "image/png": "[encoded data removed]",
      "text/plain": [
       "<Figure size 576x576 with 4 Axes>"
      ]
     },
     "metadata": {
      "needs_background": "light"
     },
     "output_type": "display_data"
    }
   ],
   "source": [
    "# 比较 3 和 5\n",
    "cl_a, cl_b = 3, 5\n",
    "x_aa = x_train[(y_train == cl_a) & (y_train_preds == cl_a)]\n",
    "x_ab = x_train[(y_train == cl_a) & (y_train_preds == cl_b)]\n",
    "x_ba = x_train[(y_train == cl_b) & (y_train_preds == cl_a)]\n",
    "x_bb = x_train[(y_train == cl_b) & (y_train_preds == cl_b)]\n",
    "\n",
    "plt.figure(figsize=(8,8))\n",
    "plt.subplot(221).set_title(\"3s classfied as 3s\", fontsize=16)\n",
    "plot_digits(x_aa[:25], images_per_row=5)\n",
    "\n",
    "plt.subplot(222).set_title(\"3s classfied as 5s\", fontsize=16)\n",
    "plot_digits(x_ab[:25], images_per_row=5)\n",
    "\n",
    "plt.subplot(223).set_title(\"5s classfied as 3s\", fontsize=16)\n",
    "plot_digits(x_ba[:25], images_per_row=5)\n",
    "\n",
    "plt.subplot(224).set_title(\"5s classfied as 5s\", fontsize=16)\n",
    "plot_digits(x_bb[:25], images_per_row=5)\n",
    "plt.show()"
   ]
  },
  {
   "cell_type": "markdown",
   "metadata": {},
   "source": [
    "确实有很多奇怪的图片难以区分，即使人也不分出来。但是大部多数错误还是很明显的。这是因为，使用的简单 `SGDClassifier` 是一个线性模型——为每个像素（pixel）分配一个权重，每个像素的加权和作为类别的 score。而数字 3 和数字 5 非常相似，仅是部分不同。要想减少 3 和 5 的错误，其中一个方法是进行预处理。"
   ]
  },
  {
   "cell_type": "markdown",
   "metadata": {},
   "source": [
    "# 6. 多标签分类（Multilabel Classification）"
   ]
  },
  {
   "cell_type": "markdown",
   "metadata": {},
   "source": [
    "有些情况下，需要分类器为每个样本输出多个类别。\n",
    "\n",
    "如人脸识别分类器（face-recognition）：为图片中每个人脸添加一个标签。假如训练后，可以识别出 3 张脸——张三、李四、王二麻。然后，预测一张仅有张三和王二麻的图片时，输出 `[1, 0, 1]`。这种，**<font color='blue' size=2>输出多个二元标签（multilabel binary tags）的分类器称为多标签（multilabel）分类器</font>**。"
   ]
  },
  {
   "cell_type": "code",
   "execution_count": 63,
   "metadata": {
    "ExecuteTime": {
     "end_time": "2020-12-20T14:53:01.217627Z",
     "start_time": "2020-12-20T14:53:01.206893Z"
    }
   },
   "outputs": [
    {
     "data": {
      "text/plain": [
       "array([[False,  True],\n",
       "       [False, False],\n",
       "       [False, False],\n",
       "       ...,\n",
       "       [False,  True],\n",
       "       [False, False],\n",
       "       [ True, False]])"
      ]
     },
     "execution_count": 63,
     "metadata": {},
     "output_type": "execute_result"
    }
   ],
   "source": [
    "# 构建多标签 y\n",
    "y_train_large = (y_train >= 7)  # 是否大于 5\n",
    "y_train_odd = (y_train % 2 == 1)  # 是否为奇数\n",
    "y_multilabel = np.c_[y_train_large, y_train_odd]\n",
    "\n",
    "y_multilabel"
   ]
  },
  {
   "cell_type": "code",
   "execution_count": 64,
   "metadata": {
    "ExecuteTime": {
     "end_time": "2020-12-20T14:53:33.106594Z",
     "start_time": "2020-12-20T14:53:01.220004Z"
    }
   },
   "outputs": [
    {
     "data": {
      "text/plain": [
       "KNeighborsClassifier()"
      ]
     },
     "execution_count": 64,
     "metadata": {},
     "output_type": "execute_result"
    }
   ],
   "source": [
    "from sklearn.neighbors import KNeighborsClassifier\n",
    "\n",
    "knn_clf = KNeighborsClassifier()\n",
    "knn_clf.fit(x_train, y_multilabel)"
   ]
  },
  {
   "cell_type": "code",
   "execution_count": 65,
   "metadata": {
    "ExecuteTime": {
     "end_time": "2020-12-20T14:53:33.250610Z",
     "start_time": "2020-12-20T14:53:33.109064Z"
    }
   },
   "outputs": [
    {
     "data": {
      "text/plain": [
       "array([[False,  True]])"
      ]
     },
     "execution_count": 65,
     "metadata": {},
     "output_type": "execute_result"
    }
   ],
   "source": [
    "knn_clf.predict([some_digit])"
   ]
  },
  {
   "cell_type": "markdown",
   "metadata": {},
   "source": [
    "**评价 multilabel classifier 的方法有很多，选择哪一个取决于项目。**\n",
    "\n",
    "其中一个方法是计算每个标签的 F1 分数（或者之前二元分类器中的度量方法），然后简单地计算平均值。"
   ]
  },
  {
   "cell_type": "code",
   "execution_count": 66,
   "metadata": {
    "ExecuteTime": {
     "end_time": "2020-12-20T14:53:34.603942Z",
     "start_time": "2020-12-20T14:53:33.252698Z"
    }
   },
   "outputs": [
    {
     "data": {
      "text/plain": [
       "1.0"
      ]
     },
     "execution_count": 66,
     "metadata": {},
     "output_type": "execute_result"
    }
   ],
   "source": [
    "# Just for illustation\n",
    "y_train_knn_preds = knn_clf.predict(x_train[:10])\n",
    "\n",
    "f1_score(y_multilabel[:10], y_train_knn_preds[:10], average='macro')"
   ]
  },
  {
   "cell_type": "markdown",
   "metadata": {},
   "source": [
    "这里是假设所有标签同等重要，但实际可能不是这样的。尤其是图片中王二麻比张三李四多得多的时候，可以想给王二麻更高的权重。简单的方法是为每个标签设置一个等于其自身样本数量的权重，`average='weight'` 即可。"
   ]
  },
  {
   "cell_type": "markdown",
   "metadata": {},
   "source": [
    "# 7. 多输出分类（Multioutput Classification）"
   ]
  },
  {
   "cell_type": "markdown",
   "metadata": {},
   "source": [
    "全称为 **<font color='blue' size=2>multioutput-multiclass classification</font>**，简称为 **<font color='blue' size=2>multioutput classification</font>**。输出多个标签（label），每个标签有多个类别（class）。\n",
    "\n",
    "如，给图片去噪。接收一张有噪声的图片，输出一个干净的图片——以像素强度（pixel intensities）作为呈现方式。这里，分类器的输出是多个标签（一个像素一个标签），每个标签可能有多个值（像素强度从 0 到 255）。"
   ]
  },
  {
   "cell_type": "code",
   "execution_count": 75,
   "metadata": {
    "ExecuteTime": {
     "end_time": "2020-12-20T14:56:46.170212Z",
     "start_time": "2020-12-20T14:56:44.788150Z"
    }
   },
   "outputs": [],
   "source": [
    "# 构建数据集\n",
    "noise = np.random.randint(0, 100, (len(x_train), 784))\n",
    "x_train_mod = x_train + noise\n",
    "noise = np.random.randint(0, 100, (len(x_test), 784))\n",
    "x_test_mod = x_test + noise\n",
    "y_train_mod = x_train\n",
    "y_test_mod = x_test"
   ]
  },
  {
   "cell_type": "code",
   "execution_count": 92,
   "metadata": {
    "ExecuteTime": {
     "end_time": "2020-12-20T14:59:21.586361Z",
     "start_time": "2020-12-20T14:59:21.472846Z"
    }
   },
   "outputs": [
    {
     "data": {
      "image/png": "[encoded data removed]",
      "text/plain": [
       "<Figure size 432x288 with 2 Axes>"
      ]
     },
     "metadata": {
      "needs_background": "light"
     },
     "output_type": "display_data"
    }
   ],
   "source": [
    "some_index = 0\n",
    "plt.subplot(121).set_title(\"Noisy image\", fontsize=16)\n",
    "plot_digits(x_test_mod[[some_index]])\n",
    "plt.subplot(122).set_title(\"Clean image\", fontsize=16)\n",
    "plot_digits(y_test_mod[[some_index]])\n",
    "plt.show()"
   ]
  },
  {
   "cell_type": "code",
   "execution_count": 96,
   "metadata": {
    "ExecuteTime": {
     "end_time": "2020-12-20T15:06:09.543613Z",
     "start_time": "2020-12-20T15:05:53.216378Z"
    }
   },
   "outputs": [
    {
     "data": {
      "image/png": "[encoded data removed]",
      "text/plain": [
       "<Figure size 432x288 with 1 Axes>"
      ]
     },
     "metadata": {
      "needs_background": "light"
     },
     "output_type": "display_data"
    }
   ],
   "source": [
    "knn_clf.fit(x_train_mod, y_train_mod)\n",
    "\n",
    "# Predict\n",
    "clean_digit = knn_clf.predict([x_test_mod[some_index]])\n",
    "plot_digits(clean_digit)"
   ]
  }
 ],
 "metadata": {
  "kernelspec": {
   "display_name": "Python 3",
   "language": "python",
   "name": "python3"
  },
  "language_info": {
   "codemirror_mode": {
    "name": "ipython",
    "version": 3
   },
   "file_extension": ".py",
   "mimetype": "text/x-python",
   "name": "python",
   "nbconvert_exporter": "python",
   "pygments_lexer": "ipython3",
   "version": "3.6.10"
  },
  "toc": {
   "base_numbering": 1,
   "nav_menu": {},
   "number_sections": false,
   "sideBar": true,
   "skip_h1_title": false,
   "title_cell": "Table of Contents",
   "title_sidebar": "Contents",
   "toc_cell": true,
   "toc_position": {},
   "toc_section_display": true,
   "toc_window_display": true
  },
  "varInspector": {
   "cols": {
    "lenName": 16,
    "lenType": 16,
    "lenVar": 40
   },
   "kernels_config": {
    "python": {
     "delete_cmd_postfix": "",
     "delete_cmd_prefix": "del ",
     "library": "var_list.py",
     "varRefreshCmd": "print(var_dic_list())"
    },
    "r": {
     "delete_cmd_postfix": ") ",
     "delete_cmd_prefix": "rm(",
     "library": "var_list.r",
     "varRefreshCmd": "cat(var_dic_list()) "
    }
   },
   "types_to_exclude": [
    "module",
    "function",
    "builtin_function_or_method",
    "instance",
    "_Feature"
   ],
   "window_display": false
  }
 },
 "nbformat": 4,
 "nbformat_minor": 4
}
