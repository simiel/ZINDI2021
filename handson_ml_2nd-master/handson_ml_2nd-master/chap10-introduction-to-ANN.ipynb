{
 "cells": [
  {
   "cell_type": "markdown",
   "metadata": {},
   "source": [
    "# Chapter 10 - Introduction to Artificial Neural Networks with Keras"
   ]
  },
  {
   "cell_type": "code",
   "execution_count": 1,
   "metadata": {
    "ExecuteTime": {
     "end_time": "2020-01-03T11:05:04.389615Z",
     "start_time": "2020-01-03T11:05:02.020111Z"
    }
   },
   "outputs": [],
   "source": [
    "import os\n",
    "import sys\n",
    "\n",
    "import matplotlib as mpl\n",
    "import matplotlib.pyplot as plt\n",
    "import numpy as np\n",
    "import pandas as pd\n",
    "import sklearn\n",
    "import tensorflow as tf\n",
    "from tensorflow import keras\n",
    "\n",
    "np.random.seed(42)\n",
    "tf.random.set_seed(42)\n",
    "%matplotlib inline\n",
    "mpl.rc('axes', labelsize=14)\n",
    "mpl.rc('xtick', labelsize=12)\n",
    "mpl.rc('ytick', labelsize=12)"
   ]
  },
  {
   "cell_type": "code",
   "execution_count": 2,
   "metadata": {
    "ExecuteTime": {
     "end_time": "2020-01-03T11:05:04.407854Z",
     "start_time": "2020-01-03T11:05:04.391500Z"
    }
   },
   "outputs": [
    {
     "name": "stdout",
     "output_type": "stream",
     "text": [
      "Python version:     sys.version_info(major=3, minor=6, micro=9, releaselevel='final', serial=0)\n",
      "TensorFlow version: 2.0.0\n",
      "Keras version:      2.2.4-tf\n"
     ]
    }
   ],
   "source": [
    "print('Python version:    ', sys.version_info)\n",
    "print('TensorFlow version:', tf.__version__)\n",
    "print('Keras version:     ', keras.__version__)"
   ]
  },
  {
   "cell_type": "markdown",
   "metadata": {},
   "source": [
    "**<font color='red'>Main content:</font>**\n",
    "1. introduce ANNs, starting with a quick tour of the very first ANN architectures, leading up to MLPs (Multi-Layer Perceptrons).\n",
    "\n",
    "2. implement NNs using the popular Keras API."
   ]
  },
  {
   "cell_type": "markdown",
   "metadata": {},
   "source": [
    "ANNs are at the very core of Deep Learning. They are versatile, powerful, and scalable, making them ideal to tackle large and highly complex Machine Learning tasks."
   ]
  },
  {
   "cell_type": "markdown",
   "metadata": {},
   "source": [
    "## 1 Artificial Neurons"
   ]
  },
  {
   "cell_type": "markdown",
   "metadata": {},
   "source": [
    "We should drop the biological analogy (类比) altogether (e.g., saying **units** rather than neurons), lest (以免) we strict our creativity to biologically plausible (看似可信的) systems.\n",
    "\n",
    "We are now witnessing yet another wave of interest in ANNs. A few good reasons to believe that this time is different:\n",
    "\n",
    "+ **A huge quantity of data available** to train NNs, and ANNs often **outperform other ML techs** on very large and complex problems.\n",
    "\n",
    "\n",
    "+ The **tremendous increase in computing power**, due to Moore's law (the number of components in integrated has doubled about every 2 years over the last 50 years), but also thanks to **gaming industry**, which has stimulated the production of powerful **GPU** cards by the millions. Moreover, **cloud platforms** have made this power accessible to everyone.\n",
    "\n",
    "\n",
    "+ The training algorithms have been improved. \n",
    "\n",
    "\n",
    "+ Some theoretical limitations of ANNs have turned out to be benign in practice.\n",
    "\n",
    "\n",
    "+ ANNs seem to have entered a virtuous circle (良性循环) of funding and process.\n",
    "\n",
    "### 1.1 The Perceptron (感知机）"
   ]
  },
  {
   "cell_type": "markdown",
   "metadata": {},
   "source": [
    "The **<font color='red'>perceptron</font>** is one of the simplest ANN architectures, based on a slightly different artificial neuron called a **<font color='red'>threshold logic unit (TLU)</font>** or sometimes a **<font color='red'>linear threshold unit (LTU)</font>**.\n",
    "\n",
    "![threshold linear unit](./figs/chap10-figs/threshold-linear-unit.png)\n",
    "\n",
    "\n",
    "The inputs and output are numbers (instead of binary on/off values), and each input connection is associated with a weight. The **TLU** computes a weighted sum of its inputs ($z = w_1x_1 + w_2x_2 + ⋯ + w_nx_n = x^Tw$), then applies a step function to that sum and outputs the result: $h_w(x) = step(z)$, where $z = x^Tw$.\n",
    "\n",
    "The **most common step function used in Perceptrons** is the **<font color='red'>Heaviside step function</font>**. Sometimes the **<font color='red'>sign function</font>** is used instead.\n",
    "\n",
    "$$ heaviside(z)= \\begin{cases}\n",
    "0, & \\text {if z < 0} \\\\ \n",
    "1, & \\text{if z $\\geq$ 0} \\end{cases}\n",
    "$$\n",
    "\n",
    "<br>\n",
    "\n",
    "$$ sgn(z)= \\begin{cases}\n",
    "-1, & \\text {if z < 0} \\\\ \n",
    "0, & \\text {if z = 0} \\\\\n",
    "1, & \\text{if z $\\gt$ 0} \\end{cases}\n",
    "$$\n",
    "\n",
    "<br>\n",
    "\n",
    "**A single TLU can be used for simple linear binary classification.**\n",
    "\n",
    "\n",
    "A Perceptron is simply composed of a single layer of TLUs, with each TLU connected to all the inputs. When all the neurons in a layer are connected to every neuron in the previous layer (i.e., its input neurons), the layer is called a **<font color='red'>fully connected layer</font>**, or a **<font color='red'>dense layer</font>**. \n",
    "\n",
    "Computing the outputs of a fully connected layer:\n",
    "$$h_{w,b}(X) = \\phi(XW+b)$$\n",
    "\n",
    "> $\\phi$ is called the **activation function**: when the artificial units are TLUs, it's a step function.\n",
    "\n",
    "<br>\n",
    "\n",
    "**<font color='blue'>How is a Perceptron trained?</font>**\n",
    "\n",
    "**Hebb's rule or Hebb's learning** -- “Cells that fire together, wire together”; that is, the connection weight between two neurons tends to increase when they fire simultaneously. Perceptrons are trained using a variant of this rule that takes into account the error made by the NN when it makes a prediction. **The Perceptron learning rule reinforces加强 connections that help reduce the error**. More specifically, the Perceptron is fed one training instance at a time, and for each instance it makes its predictions. For every output neuron that **produced a wrong prediction**, it **reinforces the connection weights from the inputs** that would have contributed to the correct prediction.\n",
    "\n",
    "**Perceptron learning rule (weight update):**\n",
    "\n",
    "$$w_{i, j}^{(next  step)}=w_{i, j} + \\eta(y_j - \\hat {y_{j}})x_i$$\n",
    "\n",
    "+ $w_{i, j}$ is the connection weight between the $i^{th}$ input neuron and the $j^{th}$ output neuron.\n",
    "\n",
    "+ $x_i$ is the $i^{th}$ input value of the current training instance.\n",
    "\n",
    "+ $\\hat {y_{j}}$ is the output of the $j^{th}$ output neuron for the current training instance.\n",
    "\n",
    "+ $y_j$ is the target output of the $j^{th}$ output neuron for the current training instance.\n",
    "\n",
    "+ $\\eta$ is the learning rate.\n",
    "\n",
    "<br>\n",
    "\n",
    "**The decision boundary of each output neuron is linear, so Perceptrons are incapable of learning complex patterns (just like Logistic Regression classifiers)**. However, if the training instances are linearly separable, this algorithm would converge to a solution. This is called the **<font color='red'>Perceptron convergence theorem</font>**."
   ]
  },
  {
   "cell_type": "code",
   "execution_count": 3,
   "metadata": {
    "ExecuteTime": {
     "end_time": "2020-01-03T11:05:04.636874Z",
     "start_time": "2020-01-03T11:05:04.410107Z"
    }
   },
   "outputs": [
    {
     "data": {
      "text/plain": [
       "array([1])"
      ]
     },
     "execution_count": 3,
     "metadata": {},
     "output_type": "execute_result"
    }
   ],
   "source": [
    "# A `Perceptron` class with a single-TLU network in Sklearn\n",
    "from sklearn.datasets import load_iris\n",
    "from sklearn.linear_model import Perceptron\n",
    "\n",
    "iris = load_iris()\n",
    "x = iris.data[:, (2, 3)]  # only two features\n",
    "y = (iris.target == 0).astype(np.int)\n",
    "\n",
    "perceptron_clf = Perceptron(max_iter=1000, tol=1e-3, random_state=42)\n",
    "perceptron_clf.fit(x, y)\n",
    "\n",
    "perceptron_clf.predict([[2, 0.5]])"
   ]
  },
  {
   "cell_type": "markdown",
   "metadata": {},
   "source": [
    "**<font color='blue'>The Perceptron learning algorithm strongly resembles Stochastic Gradient Descent</font>**. In fact, Scikit-Learn’s `Perceptron` class is equivalent to using an `SGDClassifier` with the following hyperparameters: `loss=\"perceptron\"`, `learning_rate=\"constant\"`, `eta0=1` (the learning rate), and `penalty=None` (no regularization).\n",
    "\n",
    "Note that contrary to Logistic Regression classifiers, **Perceptrons do not output a class probability**; rather, they **make predictions based on a hard threshold**. **<font color='blue'>This is one reason to prefer Logistic Regression over Perceptrons.</font>**\n",
    "\n",
    "\n",
    "**<font color='blue'>A serious weakness of Perceptrons</font>:** they are incapable of solving some trivial problems (e.g., the Exclusive OR (XOR)) classification problem. This is true of any other linear clf model (such as LR clf).\n",
    "\n",
    "It turns out that some of the limitations of Perceptrons can be eliminated (消除) by stacking multiple Perceptrons. The resulting ANN is called a **<font color='red'>Multilayer Perceptron (MLP)</font>**. **An MLP can solve the XOR problem.**\n",
    "\n",
    "> **XOR**: with inputs (0, 0) or (1, 1), the network outputs 0, and with inputs (0, 1) or (1, 0) it outputs 1.\n",
    "\n",
    "![XOR](./figs/chap10-figs/XOR-classification-problem-and-an-MLP-that-solves-it.png)\n",
    "\n",
    "> All connections have a weight equal to 1, except the four connections where the weight is shown."
   ]
  },
  {
   "cell_type": "markdown",
   "metadata": {},
   "source": [
    "### 1.2 The Multiplayer Perceptron and Backpropagation"
   ]
  },
  {
   "cell_type": "markdown",
   "metadata": {},
   "source": [
    "An **<font color='red'>MLP</font>** is composed of one input layer, one or more layers of TLUs, called **<font color='red'>hidden layers</font>**, and one final layer of TLUs called the **<font color='red'>output layer</font>**. The layers close to the input layer are usually called the **<font color='red'>lower layers</font>**, and the ones close to the outputs are usually called the **<font color='red'>upper layers</font>**. Every layer except the output layer includes a bias neuron and is fully connected to the next layer.\n",
    "\n",
    "![MLP](./figs/chap10-figs/mlp.png)\n",
    "\n",
    "The signal flows only in one direction (from the inputs to the outputs), so this architecture is an example of a **<font color='red'>feedforward neural network (FNN)</font>**.\n",
    "\n",
    "\n",
    "When an ANN contains a deep stack of hidden layers, it is called a **<font color='red'>deep neural network (DNN)</font>**. The field of Deep Learning studies DNNs, and more generally models containing deep stacks of computations. Even so, many people talk about Deep Learning whenever neural networks are involved (even shallow ones).\n",
    "\n",
    "<br>\n",
    "\n",
    "**<font color='red'>Train MLPs?</font>**\n",
    "\n",
    "Use **<font color='red'>backpropagation training algorithm</font>**. In short, it is Gradient Descent using an efficient technique for computing the gradients automatically: in just two **passes through the network (one forward, one backward)**, the backpropagation algorithm is able to **compute the gradient of the network’s error with regard to every single model parameter**. In other words, it can **find out how each connection weight and each bias term should be tweaked in order to reduce the error**. Once it has these gradients, it just performs a regular Gradient Descent step, and the whole process is repeated until the network converges to the solution.\n",
    "\n",
    "<div class=\"alert alert-block alert-info\">\n",
    "    <center><b>Autodiff</b></center><br> Automatically computing gradients is called <b>automatic differentiation</b>, or <b>autodiff</b>. There are various autodiff techniques, with different pros and cons(有不同的利弊). The one used by backpropagation is called <b>reverse-mode autodiff</b>. It is fast and precise, and is well suited when the function to differentiate has many variables (e.g., connection weights) and few outputs (e.g., one loss). If you want to learn more about autodiff, check out Appendix D.\n",
    "</div>\n",
    "\n",
    "<br>\n",
    "\n",
    "**<font color='red'>Backpropagation training algorithm:</font>**\n",
    "+ It handles one mini-batch at a time (for example, containing 32 instances each), and it goes through the full training set multiple times. Each pass is called an **<font color='red'>epoch</font>**.\n",
    "\n",
    "\n",
    "+ Each mini-batch is passed to the network’s input layer, which sends it to the first hidden layer. The algorithm then computes the output of all the neurons in this layer (for every instance in the mini-batch). The result is passed on to the next layer, its output is computed and passed to the next layer, and so on until we get the output of the last layer, the output layer. This is the **<font color='blue'>forward pass</font>**: it is exactly like making predictions, except all intermediate results are preserved since they are needed for the backward pass.\n",
    "\n",
    "\n",
    "+ Next, the algorithm **measures the network’s output error** (i.e., it **uses a loss function** that compares the desired output and the actual output of the network, and returns some measure of the error).\n",
    "\n",
    "\n",
    "+ Then it **computes how much each output connection contributed to the error**. This is done analytically by applying the **chain rule** (perhaps the most fundamental rule in calculus), which makes this step fast and precise.\n",
    "\n",
    "\n",
    "+ The algorithm then **measures how much of these error contributions came from each connection in the layer below**, again using the chain rule, working backward until the algorithm reaches the input layer. As explained earlier, this reverse pass efficiently measures the error gradient across all the connection weights in the network by propagating the error gradient backward through the network (**hence the name of the algorithm**).\n",
    "\n",
    "\n",
    "+ Finally, the algorithm **performs a Gradient Descent step to tweak all the connection weights in the network**, using the error gradients it just computed.\n",
    "\n",
    "<br>\n",
    "\n",
    "**<font color='red'>BP summary:</font>** for each training instance, the backpropagation algorithm first makes a prediction (forward pass) and measures the error, then goes through each layer in reverse to measure the error contribution from each connection (reverse pass), and finally tweaks the connection weights to reduce the error (Gradient Descent step).\n",
    "\n",
    "<br>\n",
    "\n",
    "<div class=\"alert alert-block alert-warning\">\n",
    "    <center><b>随机初始化权重的重要性</b></center><br> <b>It is important to initialize all the hidden layers’ connection weights randomly, or else training will fail.</b> For example, if you <b>initialize all weights and biases to zero</b>, then all neurons in a given layer will be perfectly identical, and thus backpropagation will affect them in exactly the same way, so they will remain identical. In other words, despite having hundreds of neurons per layer, your model will act as if it had only one neuron per layer: it won’t be too smart. If instead you randomly initialize the weights, you break the symmetry and allow backpropagation to train a diverse team of neurons.\n",
    "</div>\n",
    "\n",
    "<br>\n",
    "\n",
    "In order for this BP algorithm to work properly, its author made a key change: they **<font color='blue'>replaced the step function with the logistic (sigmoid) function</font>** (不止logistic 函数，其他激活函数也行). This was essential because the **step function contains only flat segments, so there is no gradient to work with** (Gradient Descent cannot move on a flat surface), while the logistic function has a well-defined nonzero derivative everywhere, allowing Gradient Descent to make some progress at every step.\n",
    "\n",
    "+ **<font color='red'>logistic (sigmoid) function</font>**\n",
    "\n",
    "$$\\sigma(z) = \\frac{1}{1+e^{-z}}$$\n",
    "\n",
    "\n",
    "+ **<font color='red'>the hyperbolic tangent function</font>**\n",
    "\n",
    "$$tanh(z) = 2\\sigma(2z) - 1$$\n",
    "\n",
    "S-shaped, continuous, and differentiable, but its **output value ranges from -1 to 1** (instead fo 0 to 1 in the case of the logistic/sigmoid function). This range **tends to make each layer's output more or less centered around 0 at the beginning of training, which often helps speed up convergence.**\n",
    "\n",
    "\n",
    "+ **<font color='red'>the rectified linear unit function</font>**\n",
    "\n",
    "$$ReLU(z) = max(0, z)$$\n",
    "\n",
    "The ReLU function is continuous but unfortunately **not differentiable at z = 0 (the slope changes abruptly, which can make Gradient Descent bounce around)**, and its derivative is 0 for z < 0. In practice, however, it **works very well and has the advantage of being fast to compute, so it has become the default**. Most importantly, the fact that it **does not have a maximum output value** helps reduce some issues during Gradient Descent.\n",
    "\n",
    "**<font color='red'>Why need nonlinear activation function?</font>**\n",
    "\n",
    "If you chain several linear transformations, all you get is a linear transformation. So, if you don’t have some nonlinearity between layers, then even a deep stack of layers is equivalent to a single layer, and you can’t solve very complex problems with that. Conversely, a large enough DNN with nonlinear activations can theoretically approximate any continuous function."
   ]
  },
  {
   "cell_type": "code",
   "execution_count": 4,
   "metadata": {
    "ExecuteTime": {
     "end_time": "2020-01-03T11:05:04.642961Z",
     "start_time": "2020-01-03T11:05:04.639209Z"
    },
    "code_folding": [
     0,
     4,
     9
    ]
   },
   "outputs": [],
   "source": [
    "def sigmoid(z):\n",
    "    return 1 / (1 + np.exp(-z))\n",
    "\n",
    "\n",
    "def relu(z):\n",
    "    return np.maximum(0, z)\n",
    "\n",
    "\n",
    "# scipy.misc.derivative\n",
    "def derivative(f, z, eps=1e-6):\n",
    "    return (f(z+eps) - f(z-eps)) / (2*eps)"
   ]
  },
  {
   "cell_type": "code",
   "execution_count": 5,
   "metadata": {
    "ExecuteTime": {
     "end_time": "2020-01-03T11:05:05.051144Z",
     "start_time": "2020-01-03T11:05:04.644659Z"
    },
    "code_folding": [
     0
    ]
   },
   "outputs": [
    {
     "data": {
      "image/png": "[encoded data removed]",
      "text/plain": [
       "<Figure size 1080x432 with 2 Axes>"
      ]
     },
     "metadata": {
      "needs_background": "light"
     },
     "output_type": "display_data"
    }
   ],
   "source": [
    "# activation function and its derivate\n",
    "z = np.linspace(-5, 5, 200)\n",
    "\n",
    "plt.figure(figsize=(15, 6))\n",
    "\n",
    "plt.subplot(121)\n",
    "plt.plot(z, np.sign(z), \"r-\", linewidth=1, label=\"Step\")\n",
    "plt.plot(z, sigmoid(z), \"g--\", linewidth=2, label=\"Sigmoid\")\n",
    "plt.plot(z, np.tanh(z), \"b-\", linewidth=2, label=\"Tanh\")\n",
    "plt.plot(z, relu(z), \"m-.\", linewidth=2, label=\"ReLU\")\n",
    "plt.grid(True)\n",
    "plt.legend(loc=\"center right\", fontsize=14)\n",
    "plt.title(\"Activation functions\", fontsize=14)\n",
    "plt.axis([-5, 5, -1.2, 1.2])\n",
    "\n",
    "plt.subplot(122)\n",
    "plt.plot(z, derivative(np.sign, z), \"r-\", linewidth=1, label=\"Step\")\n",
    "plt.plot(0, 0, \"ro\", markersize=5)\n",
    "plt.plot(0, 0, \"rx\", markersize=10)\n",
    "plt.plot(z, derivative(sigmoid, z), \"g--\", linewidth=2, label=\"Sigmoid\")\n",
    "plt.plot(z, derivative(np.tanh, z), \"b-\", linewidth=2, label=\"Tanh\")\n",
    "plt.plot(z, derivative(relu, z), \"m-.\", linewidth=2, label=\"ReLU\")\n",
    "plt.grid(True)\n",
    "#plt.legend(loc=\"center right\", fontsize=14)\n",
    "plt.title(\"Derivatives\", fontsize=14)\n",
    "plt.axis([-5, 5, -0.2, 1.2])\n",
    "\n",
    "plt.show()"
   ]
  },
  {
   "cell_type": "markdown",
   "metadata": {},
   "source": [
    "### 1.3 Regression MLPs"
   ]
  },
  {
   "cell_type": "markdown",
   "metadata": {},
   "source": [
    "**<font color='red'>Typical regression MLP architecture:</font>**\n",
    "\n",
    "| **Hyperparameter** | **Typical value** |\n",
    "| :--- | :--- |\n",
    "|**input units**| one per input feature|\n",
    "|**hidden layers**| depends on the problem, but typically 1 to 5|\n",
    "|**units per hidden layer**| depends on the problem, but typically 10 to 100|\n",
    "|**output units**| 1 per prediction dimension|\n",
    "|**hidden activation**| ReLU (or SELU)|\n",
    "|**ouput activation**|None, or ReLU/softplus (if positive outputs) or logistic/tanh (if bounded outputs)|\n",
    "|**loss function**|MSE or MAE/Huber (if outliers)|"
   ]
  },
  {
   "cell_type": "markdown",
   "metadata": {},
   "source": [
    "**<font color='blue'>How many outputs?</font>**\n",
    "+ **predict a single value**, just need a single output unit: its output is the predicted value.\n",
    "\n",
    "\n",
    "+ **predict multiple values at once (multivariate regression)**, need one unit per output dimension\n",
    "\n",
    "<br>\n",
    "\n",
    "**<font color='blue'>Which activation function should be used in regression mlps?</font>**\n",
    "\n",
    "+ don't use any activation function for the output units, the outputs are free to **output any range of values**\n",
    "\n",
    "\n",
    "+ use the ReLU or softplus activation function in the output layer to guarantee that the **outputs will be always be positive**\n",
    "\n",
    "\n",
    "$$softplus(z) = log(1+e^z)$$\n",
    "\n",
    "\n",
    "+ use the logistic function or the hyperbolic tangent, and then scale the labels to the appropriate range to guarantee that the **predictions will fall within a given range of values**\n",
    "\n",
    "<br>\n",
    "\n",
    "**<font color='blue'>Loss function used in regression mlps</font>**\n",
    "\n",
    "typically **the mean squared error (MSE)**, but if you have a lot of outliers in the training set, you may prefer to use **the mean absolute error (MAE)** instead. Alternatively, you can use the **Huber loss**, which is a combination of both.\n",
    "\n",
    "\n",
    "$$ huber(y, \\hat y)= \\begin{cases}\n",
    "\\frac{1}{2}(y-\\hat y)^2, & \\text {if $|y-\\hat y| < \\delta$, typically 1} \\\\ \n",
    "\\delta |y-\\hat y| - \\frac{1}{2}\\delta^2, & \\text{otherwise} \\end{cases}\n",
    "$$\n",
    "\n",
    "> **<font color='red'>Huber loss的优点: </font>** The linear part makes it less sensitive to outliers than the mean squared error, and the quadratic part allows it to converge faster and be more precise than the mean absolute error."
   ]
  },
  {
   "cell_type": "markdown",
   "metadata": {},
   "source": [
    "### 1.4 Classification MLPs"
   ]
  },
  {
   "cell_type": "markdown",
   "metadata": {},
   "source": [
    "**<font color='red'>Typical classification MLP architecture:</font>**\n",
    "\n",
    "| **Hyperparameter** | **Binary classification** | **Multilabel binary classfication** | **Multiclass classification**|\n",
    "| :-- | : -- | :-- | : -- |\n",
    "|**input units**| one per input feature | one per input feature | one per input feature |\n",
    "|**hidden layers**| depends on the problem (typically 1 to 5)| depends on the problem (typically 1 to 5| depends on the problem (typically 1 to 5|\n",
    "|**units per hidden layer**| depends on the problem (typically 10 to 100)| depends on the problem (typically 10 to 100)| depends on the problem (typically 10 to 100)|\n",
    "|**output units**|1|1 per label| 1 per class|\n",
    "|**output layer activation**|sigmoid|sigmoid| softmax|\n",
    "|**loss function**|cross entropy| cross entropy| cross entropy|"
   ]
  },
  {
   "cell_type": "markdown",
   "metadata": {},
   "source": [
    "+ **binary classification**, just **need a single output neuron using the logistic (sigmoid) activation function**: the output will be a number between 0 and 1, which you can interpret as **the estimated probability of the positive class**. The estimated probability of the negative class is equal to one minus that number.\n",
    "\n",
    "\n",
    "+ **multilabel binary classification tasks**, need multiple output units, both using the sigmoid activation function. Note that the output probabilities do not necessarily add up to 1, which lets the model output any combination of labels.\n",
    "\n",
    "\n",
    "+ **multiclass classification**, need to have one output neuron per class, and you should use the softmax activation function for the whole output layer. The softmax function will ensure that all the estimated probabilities are between 0 and 1 and that they add up to 1 (which is required if the classes are exclusive). \n",
    "\n",
    "<br>\n",
    "\n",
    "Regarding the **loss function**, since we are predicting probability distributions, the **cross-entropy loss** (also called the **log loss**, see Chapter 4) is generally a good choice."
   ]
  },
  {
   "cell_type": "markdown",
   "metadata": {},
   "source": [
    "## 2 Implement MLPs with keras"
   ]
  },
  {
   "cell_type": "markdown",
   "metadata": {},
   "source": [
    "TensorFlow itself now comes bundled with its own Keras implementation, `tf.keras`. It only supports TensorFlow as the backend, but it has the advantage of offering some very useful extra features.\n",
    "\n",
    "<br>\n",
    "\n",
    "![Keras vs tf.keras](./figs/chap10-figs/keras-vs-tf.keras.png)\n",
    "\n",
    "<center>Two implementations of the Keras API: multibackend Keras (left) and tf.keras (right)</center>"
   ]
  },
  {
   "cell_type": "markdown",
   "metadata": {},
   "source": [
    "> Both [Keras](https://keras.io/) and [Pytorch](https://pytorch.org/) APIs are inspired by [Scikit-Learn](https://pytorch.org/) and [Chainer](https://chainer.org/). Once you know Keras, it is not difficult to switch to PyTorch, if you ever want to."
   ]
  },
  {
   "cell_type": "markdown",
   "metadata": {},
   "source": [
    "### 2.1 Classifier using the sequential API"
   ]
  },
  {
   "cell_type": "markdown",
   "metadata": {},
   "source": [
    "**dataset:** Fashion MNIST\n",
    "\n",
    "> a drop-in replacement of MNIST; has the exact same format as MNIST; more diverse, and the problem turns out to be significantly more challenging than MNIST"
   ]
  },
  {
   "cell_type": "code",
   "execution_count": 6,
   "metadata": {
    "ExecuteTime": {
     "end_time": "2020-01-03T11:05:05.408129Z",
     "start_time": "2020-01-03T11:05:05.052563Z"
    }
   },
   "outputs": [],
   "source": [
    "# Load the dataset\n",
    "fashion_mnist = keras.datasets.fashion_mnist\n",
    "(x_train, y_train), (x_test, y_test) = fashion_mnist.load_data()"
   ]
  },
  {
   "cell_type": "markdown",
   "metadata": {},
   "source": [
    "**<font color='red'>Keras vs Scikit-Learn when loading MNIST or Fashion MNIST:</font>**\n",
    "+ every image is represented as a 28 × 28 array rather than a 1D array of size 784;\n",
    "\n",
    "\n",
    "+ the pixel intensities are represented as integers (from 0 to 255) rather than floats (from 0.0 to 255.0)."
   ]
  },
  {
   "cell_type": "code",
   "execution_count": 7,
   "metadata": {
    "ExecuteTime": {
     "end_time": "2020-01-03T11:05:05.413376Z",
     "start_time": "2020-01-03T11:05:05.409818Z"
    }
   },
   "outputs": [
    {
     "data": {
      "text/plain": [
       "array([[  0,   0,   0,   0,   0,   0,   0,   0,   0,   0,   0,   0,   0,\n",
       "        193, 228, 218, 213, 198, 180, 212, 210, 211, 213, 223, 220, 243,\n",
       "        202,   0],\n",
       "       [  0,   0,   0,   0,   0,   0,   0,   0,   0,   1,   3,   0,  12,\n",
       "        219, 220, 212, 218, 192, 169, 227, 208, 218, 224, 212, 226, 197,\n",
       "        209,  52],\n",
       "       [  0,   0,   0,   0,   0,   0,   0,   0,   0,   0,   6,   0,  99,\n",
       "        244, 222, 220, 218, 203, 198, 221, 215, 213, 222, 220, 245, 119,\n",
       "        167,  56],\n",
       "       [  0,   0,   0,   0,   0,   0,   0,   0,   0,   4,   0,   0,  55,\n",
       "        236, 228, 230, 228, 240, 232, 213, 218, 223, 234, 217, 217, 209,\n",
       "         92,   0],\n",
       "       [  0,   0,   1,   4,   6,   7,   2,   0,   0,   0,   0,   0, 237,\n",
       "        226, 217, 223, 222, 219, 222, 221, 216, 223, 229, 215, 218, 255,\n",
       "         77,   0]], dtype=uint8)"
      ]
     },
     "execution_count": 7,
     "metadata": {},
     "output_type": "execute_result"
    }
   ],
   "source": [
    "x_train[0][10:15]"
   ]
  },
  {
   "cell_type": "markdown",
   "metadata": {},
   "source": [
    "> Fashion MNIST 是彩色图像。"
   ]
  },
  {
   "cell_type": "code",
   "execution_count": 8,
   "metadata": {
    "ExecuteTime": {
     "end_time": "2020-01-03T11:05:05.420688Z",
     "start_time": "2020-01-03T11:05:05.417140Z"
    }
   },
   "outputs": [
    {
     "data": {
      "text/plain": [
       "((60000, 28, 28), (10000, 28, 28))"
      ]
     },
     "execution_count": 8,
     "metadata": {},
     "output_type": "execute_result"
    }
   ],
   "source": [
    "x_train.shape, x_test.shape"
   ]
  },
  {
   "cell_type": "code",
   "execution_count": 9,
   "metadata": {
    "ExecuteTime": {
     "end_time": "2020-01-03T11:05:05.426779Z",
     "start_time": "2020-01-03T11:05:05.423384Z"
    }
   },
   "outputs": [
    {
     "data": {
      "text/plain": [
       "dtype('uint8')"
      ]
     },
     "execution_count": 9,
     "metadata": {},
     "output_type": "execute_result"
    }
   ],
   "source": [
    "x_train.dtype"
   ]
  },
  {
   "cell_type": "code",
   "execution_count": 10,
   "metadata": {
    "ExecuteTime": {
     "end_time": "2020-01-03T11:05:05.431902Z",
     "start_time": "2020-01-03T11:05:05.428514Z"
    }
   },
   "outputs": [
    {
     "data": {
      "text/plain": [
       "array([9, 0, 0, ..., 3, 0, 5], dtype=uint8)"
      ]
     },
     "execution_count": 10,
     "metadata": {},
     "output_type": "execute_result"
    }
   ],
   "source": [
    "y_train"
   ]
  },
  {
   "cell_type": "code",
   "execution_count": 11,
   "metadata": {
    "ExecuteTime": {
     "end_time": "2020-01-03T11:05:05.685901Z",
     "start_time": "2020-01-03T11:05:05.433821Z"
    }
   },
   "outputs": [],
   "source": [
    "# train the NN using Gradient Descent, so we must scale the input features\n",
    "x_train = x_train / 255.0  # for simplicity\n",
    "x_val, x_train = x_train[:5000], x_train[5000:]\n",
    "y_val, y_train = y_train[:5000], y_train[5000:]\n",
    "\n",
    "x_test = x_test / 255.0"
   ]
  },
  {
   "cell_type": "code",
   "execution_count": 12,
   "metadata": {
    "ExecuteTime": {
     "end_time": "2020-01-03T11:05:05.689836Z",
     "start_time": "2020-01-03T11:05:05.687444Z"
    }
   },
   "outputs": [],
   "source": [
    "# class names\n",
    "class_names = [\n",
    "    \"T-shirt/top\", \"Trouser\", \"Pullover\", \"Dress\", \"Coat\", \"Sandal\", \"Shirt\",\n",
    "    \"Sneaker\", \"Bag\", \"Ankle boot\"\n",
    "]"
   ]
  },
  {
   "cell_type": "code",
   "execution_count": 13,
   "metadata": {
    "ExecuteTime": {
     "end_time": "2020-01-03T11:05:05.694671Z",
     "start_time": "2020-01-03T11:05:05.691412Z"
    }
   },
   "outputs": [
    {
     "data": {
      "text/plain": [
       "'Coat'"
      ]
     },
     "execution_count": 13,
     "metadata": {},
     "output_type": "execute_result"
    }
   ],
   "source": [
    "class_names[y_train[0]]"
   ]
  },
  {
   "cell_type": "code",
   "execution_count": 14,
   "metadata": {
    "ExecuteTime": {
     "end_time": "2020-01-03T11:05:05.765070Z",
     "start_time": "2020-01-03T11:05:05.696442Z"
    }
   },
   "outputs": [
    {
     "data": {
      "image/png": "[encoded data removed]",
      "text/plain": [
       "<Figure size 432x288 with 1 Axes>"
      ]
     },
     "metadata": {
      "needs_background": "light"
     },
     "output_type": "display_data"
    }
   ],
   "source": [
    "# plot an image\n",
    "plt.imshow(x_train[0], cmap='binary')\n",
    "plt.axis('off')\n",
    "plt.show()"
   ]
  },
  {
   "cell_type": "code",
   "execution_count": 15,
   "metadata": {
    "ExecuteTime": {
     "end_time": "2020-01-03T11:05:06.780769Z",
     "start_time": "2020-01-03T11:05:05.767002Z"
    }
   },
   "outputs": [
    {
     "data": {
      "image/png": "[encoded data removed]",
      "text/plain": [
       "<Figure size 864x345.6 with 40 Axes>"
      ]
     },
     "metadata": {
      "needs_background": "light"
     },
     "output_type": "display_data"
    }
   ],
   "source": [
    "n_rows = 4\n",
    "n_cols = 10\n",
    "plt.figure(figsize=(n_cols * 1.2, n_rows * 1.2))\n",
    "for row in range(n_rows):\n",
    "    for col in range(n_cols):\n",
    "        index = n_cols * row + col\n",
    "        plt.subplot(n_rows, n_cols, index + 1)\n",
    "        plt.imshow(x_train[index], cmap=\"binary\", interpolation=\"nearest\")\n",
    "        plt.axis('off')\n",
    "        plt.title(class_names[y_train[index]], fontsize=12)\n",
    "plt.subplots_adjust(wspace=0.2, hspace=0.5)\n",
    "plt.show()"
   ]
  },
  {
   "cell_type": "code",
   "execution_count": 16,
   "metadata": {
    "ExecuteTime": {
     "end_time": "2020-01-03T11:05:06.842734Z",
     "start_time": "2020-01-03T11:05:06.782269Z"
    }
   },
   "outputs": [],
   "source": [
    "# build the model using the sequential API\n",
    "np.random.seed(42)\n",
    "tf.random.set_seed(42)\n",
    "tf.keras.backend.clear_session()\n",
    "\n",
    "model = keras.models.Sequential()\n",
    "model.add(keras.layers.Flatten(input_shape=(28, 28)))\n",
    "model.add(keras.layers.Dense(300, activation='relu'))\n",
    "model.add(keras.layers.Dense(100, activation='relu'))\n",
    "model.add(keras.layers.Dense(10, activation='softmax'))"
   ]
  },
  {
   "cell_type": "markdown",
   "metadata": {},
   "source": [
    "+ **<font color='red'>Flatten layer</font>** converts each input image into a 1D array: if it receives input data `X`, it computes `X.reshape(-1, 1)`. This layer does not have any parameters; it is just there to do some simple preprocessing.\n",
    "\n",
    "\n",
    "+ You should specify the **`input_shape`** in thee first layer in the model, which doesn’t include the batch size, only the shape of the instances. You could add a **`tf.keras.layers.InputLayer`** as the first layer, setting `input_shape=(28,28)`.\n",
    "\n",
    "\n",
    "+ `activation='relu'` is same as `tf.activation=keras.activations.relu`."
   ]
  },
  {
   "cell_type": "code",
   "execution_count": 17,
   "metadata": {
    "ExecuteTime": {
     "end_time": "2020-01-03T11:05:06.881771Z",
     "start_time": "2020-01-03T11:05:06.844373Z"
    }
   },
   "outputs": [],
   "source": [
    "# Instead of adding the layers one by one above, \n",
    "# you can pass a list of layers when creating the Sequential model\n",
    "np.random.seed(42)\n",
    "tf.random.set_seed(42)\n",
    "tf.keras.backend.clear_session()\n",
    "\n",
    "model = keras.models.Sequential([\n",
    "    keras.layers.InputLayer(input_shape=(28, 28)),\n",
    "    keras.layers.Flatten(),\n",
    "    keras.layers.Dense(300, activation='relu'),\n",
    "    keras.layers.Dense(100, activation='relu'),\n",
    "    keras.layers.Dense(10, activation='softmax'),\n",
    "])"
   ]
  },
  {
   "cell_type": "code",
   "execution_count": 18,
   "metadata": {
    "ExecuteTime": {
     "end_time": "2020-01-03T11:05:06.889037Z",
     "start_time": "2020-01-03T11:05:06.884395Z"
    },
    "scrolled": true
   },
   "outputs": [
    {
     "name": "stdout",
     "output_type": "stream",
     "text": [
      "Model: \"sequential\"\n",
      "_________________________________________________________________\n",
      "Layer (type)                 Output Shape              Param #   \n",
      "=================================================================\n",
      "flatten (Flatten)            (None, 784)               0         \n",
      "_________________________________________________________________\n",
      "dense (Dense)                (None, 300)               235500    \n",
      "_________________________________________________________________\n",
      "dense_1 (Dense)              (None, 100)               30100     \n",
      "_________________________________________________________________\n",
      "dense_2 (Dense)              (None, 10)                1010      \n",
      "=================================================================\n",
      "Total params: 266,610\n",
      "Trainable params: 266,610\n",
      "Non-trainable params: 0\n",
      "_________________________________________________________________\n"
     ]
    }
   ],
   "source": [
    "model.summary()"
   ]
  },
  {
   "cell_type": "markdown",
   "metadata": {},
   "source": [
    "The **model’s `summary()`** method **displays all the model’s layers, including each layer’s name** (which is automatically generated unless you set it when creating the layer), its **output shape** (`None` means the batch size can be anything), and **its number of parameters**. The summary ends with the total number of parameters, including trainable and non-trainable parameters. Here we only have trainable parameters."
   ]
  },
  {
   "cell_type": "markdown",
   "metadata": {},
   "source": [
    "**`Dense` layers often have a lot of parameters**. The first hidden layer has 784 x 300 connection weights, plus 300 bias terms, which adds up to 235,500 parameters. This gives the model quite a lot of flexibility to fit the training data, but it also means that the model runs the risk of overfitting, especially when you do not have a lot of training data."
   ]
  },
  {
   "cell_type": "code",
   "execution_count": 19,
   "metadata": {
    "ExecuteTime": {
     "end_time": "2020-01-03T11:05:06.895070Z",
     "start_time": "2020-01-03T11:05:06.891186Z"
    }
   },
   "outputs": [
    {
     "data": {
      "text/plain": [
       "[<tensorflow.python.keras.layers.core.Flatten at 0x15215d400>,\n",
       " <tensorflow.python.keras.layers.core.Dense at 0x15215d9e8>,\n",
       " <tensorflow.python.keras.layers.core.Dense at 0x15215dda0>,\n",
       " <tensorflow.python.keras.layers.core.Dense at 0x1521740f0>]"
      ]
     },
     "execution_count": 19,
     "metadata": {},
     "output_type": "execute_result"
    }
   ],
   "source": [
    "model.layers"
   ]
  },
  {
   "cell_type": "code",
   "execution_count": 20,
   "metadata": {
    "ExecuteTime": {
     "end_time": "2020-01-03T11:05:06.901285Z",
     "start_time": "2020-01-03T11:05:06.896999Z"
    }
   },
   "outputs": [
    {
     "data": {
      "text/plain": [
       "<tensorflow.python.keras.layers.core.Dense at 0x15215d9e8>"
      ]
     },
     "execution_count": 20,
     "metadata": {},
     "output_type": "execute_result"
    }
   ],
   "source": [
    "# fetch a layer by its index, or you can fetch it by name\n",
    "hidden1 = model.layers[1]\n",
    "hidden1"
   ]
  },
  {
   "cell_type": "code",
   "execution_count": 21,
   "metadata": {
    "ExecuteTime": {
     "end_time": "2020-01-03T11:05:06.907979Z",
     "start_time": "2020-01-03T11:05:06.903675Z"
    }
   },
   "outputs": [
    {
     "data": {
      "text/plain": [
       "'dense'"
      ]
     },
     "execution_count": 21,
     "metadata": {},
     "output_type": "execute_result"
    }
   ],
   "source": [
    "hidden1.name"
   ]
  },
  {
   "cell_type": "code",
   "execution_count": 22,
   "metadata": {
    "ExecuteTime": {
     "end_time": "2020-01-03T11:05:06.915446Z",
     "start_time": "2020-01-03T11:05:06.910645Z"
    }
   },
   "outputs": [
    {
     "data": {
      "text/plain": [
       "[]"
      ]
     },
     "execution_count": 22,
     "metadata": {},
     "output_type": "execute_result"
    }
   ],
   "source": [
    "hidden1.non_trainable_variables"
   ]
  },
  {
   "cell_type": "code",
   "execution_count": 23,
   "metadata": {
    "ExecuteTime": {
     "end_time": "2020-01-03T11:05:06.928361Z",
     "start_time": "2020-01-03T11:05:06.924511Z"
    }
   },
   "outputs": [
    {
     "data": {
      "text/plain": [
       "[]"
      ]
     },
     "execution_count": 23,
     "metadata": {},
     "output_type": "execute_result"
    }
   ],
   "source": [
    "hidden1.non_trainable_weights"
   ]
  },
  {
   "cell_type": "code",
   "execution_count": 24,
   "metadata": {
    "ExecuteTime": {
     "end_time": "2020-01-03T11:05:06.936598Z",
     "start_time": "2020-01-03T11:05:06.932857Z"
    }
   },
   "outputs": [
    {
     "data": {
      "text/plain": [
       "True"
      ]
     },
     "execution_count": 24,
     "metadata": {},
     "output_type": "execute_result"
    }
   ],
   "source": [
    "hidden1.trainable"
   ]
  },
  {
   "cell_type": "code",
   "execution_count": 25,
   "metadata": {
    "ExecuteTime": {
     "end_time": "2020-01-03T11:05:06.946376Z",
     "start_time": "2020-01-03T11:05:06.938801Z"
    }
   },
   "outputs": [
    {
     "data": {
      "text/plain": [
       "[<tf.Variable 'dense/kernel:0' shape=(784, 300) dtype=float32, numpy=\n",
       " array([[ 0.02448617, -0.00877795, -0.02189048, ..., -0.02766046,\n",
       "          0.03859074, -0.06889391],\n",
       "        [ 0.00476504, -0.03105379, -0.0586676 , ...,  0.00602964,\n",
       "         -0.02763776, -0.04165364],\n",
       "        [-0.06189284, -0.06901957,  0.07102345, ..., -0.04238207,\n",
       "          0.07121518, -0.07331658],\n",
       "        ...,\n",
       "        [-0.03048757,  0.02155137, -0.05400612, ..., -0.00113463,\n",
       "          0.00228987,  0.05581069],\n",
       "        [ 0.07061854, -0.06960931,  0.07038955, ..., -0.00384101,\n",
       "          0.00034875,  0.02878492],\n",
       "        [-0.06022581,  0.01577859, -0.02585464, ..., -0.00527829,\n",
       "          0.00272203, -0.06793761]], dtype=float32)>,\n",
       " <tf.Variable 'dense/bias:0' shape=(300,) dtype=float32, numpy=\n",
       " array([0., 0., 0., 0., 0., 0., 0., 0., 0., 0., 0., 0., 0., 0., 0., 0., 0.,\n",
       "        0., 0., 0., 0., 0., 0., 0., 0., 0., 0., 0., 0., 0., 0., 0., 0., 0.,\n",
       "        0., 0., 0., 0., 0., 0., 0., 0., 0., 0., 0., 0., 0., 0., 0., 0., 0.,\n",
       "        0., 0., 0., 0., 0., 0., 0., 0., 0., 0., 0., 0., 0., 0., 0., 0., 0.,\n",
       "        0., 0., 0., 0., 0., 0., 0., 0., 0., 0., 0., 0., 0., 0., 0., 0., 0.,\n",
       "        0., 0., 0., 0., 0., 0., 0., 0., 0., 0., 0., 0., 0., 0., 0., 0., 0.,\n",
       "        0., 0., 0., 0., 0., 0., 0., 0., 0., 0., 0., 0., 0., 0., 0., 0., 0.,\n",
       "        0., 0., 0., 0., 0., 0., 0., 0., 0., 0., 0., 0., 0., 0., 0., 0., 0.,\n",
       "        0., 0., 0., 0., 0., 0., 0., 0., 0., 0., 0., 0., 0., 0., 0., 0., 0.,\n",
       "        0., 0., 0., 0., 0., 0., 0., 0., 0., 0., 0., 0., 0., 0., 0., 0., 0.,\n",
       "        0., 0., 0., 0., 0., 0., 0., 0., 0., 0., 0., 0., 0., 0., 0., 0., 0.,\n",
       "        0., 0., 0., 0., 0., 0., 0., 0., 0., 0., 0., 0., 0., 0., 0., 0., 0.,\n",
       "        0., 0., 0., 0., 0., 0., 0., 0., 0., 0., 0., 0., 0., 0., 0., 0., 0.,\n",
       "        0., 0., 0., 0., 0., 0., 0., 0., 0., 0., 0., 0., 0., 0., 0., 0., 0.,\n",
       "        0., 0., 0., 0., 0., 0., 0., 0., 0., 0., 0., 0., 0., 0., 0., 0., 0.,\n",
       "        0., 0., 0., 0., 0., 0., 0., 0., 0., 0., 0., 0., 0., 0., 0., 0., 0.,\n",
       "        0., 0., 0., 0., 0., 0., 0., 0., 0., 0., 0., 0., 0., 0., 0., 0., 0.,\n",
       "        0., 0., 0., 0., 0., 0., 0., 0., 0., 0., 0.], dtype=float32)>]"
      ]
     },
     "execution_count": 25,
     "metadata": {},
     "output_type": "execute_result"
    }
   ],
   "source": [
    "hidden1.trainable_variables"
   ]
  },
  {
   "cell_type": "code",
   "execution_count": 26,
   "metadata": {
    "ExecuteTime": {
     "end_time": "2020-01-03T11:05:06.960979Z",
     "start_time": "2020-01-03T11:05:06.948521Z"
    }
   },
   "outputs": [
    {
     "data": {
      "text/plain": [
       "[<tf.Variable 'dense/kernel:0' shape=(784, 300) dtype=float32, numpy=\n",
       " array([[ 0.02448617, -0.00877795, -0.02189048, ..., -0.02766046,\n",
       "          0.03859074, -0.06889391],\n",
       "        [ 0.00476504, -0.03105379, -0.0586676 , ...,  0.00602964,\n",
       "         -0.02763776, -0.04165364],\n",
       "        [-0.06189284, -0.06901957,  0.07102345, ..., -0.04238207,\n",
       "          0.07121518, -0.07331658],\n",
       "        ...,\n",
       "        [-0.03048757,  0.02155137, -0.05400612, ..., -0.00113463,\n",
       "          0.00228987,  0.05581069],\n",
       "        [ 0.07061854, -0.06960931,  0.07038955, ..., -0.00384101,\n",
       "          0.00034875,  0.02878492],\n",
       "        [-0.06022581,  0.01577859, -0.02585464, ..., -0.00527829,\n",
       "          0.00272203, -0.06793761]], dtype=float32)>,\n",
       " <tf.Variable 'dense/bias:0' shape=(300,) dtype=float32, numpy=\n",
       " array([0., 0., 0., 0., 0., 0., 0., 0., 0., 0., 0., 0., 0., 0., 0., 0., 0.,\n",
       "        0., 0., 0., 0., 0., 0., 0., 0., 0., 0., 0., 0., 0., 0., 0., 0., 0.,\n",
       "        0., 0., 0., 0., 0., 0., 0., 0., 0., 0., 0., 0., 0., 0., 0., 0., 0.,\n",
       "        0., 0., 0., 0., 0., 0., 0., 0., 0., 0., 0., 0., 0., 0., 0., 0., 0.,\n",
       "        0., 0., 0., 0., 0., 0., 0., 0., 0., 0., 0., 0., 0., 0., 0., 0., 0.,\n",
       "        0., 0., 0., 0., 0., 0., 0., 0., 0., 0., 0., 0., 0., 0., 0., 0., 0.,\n",
       "        0., 0., 0., 0., 0., 0., 0., 0., 0., 0., 0., 0., 0., 0., 0., 0., 0.,\n",
       "        0., 0., 0., 0., 0., 0., 0., 0., 0., 0., 0., 0., 0., 0., 0., 0., 0.,\n",
       "        0., 0., 0., 0., 0., 0., 0., 0., 0., 0., 0., 0., 0., 0., 0., 0., 0.,\n",
       "        0., 0., 0., 0., 0., 0., 0., 0., 0., 0., 0., 0., 0., 0., 0., 0., 0.,\n",
       "        0., 0., 0., 0., 0., 0., 0., 0., 0., 0., 0., 0., 0., 0., 0., 0., 0.,\n",
       "        0., 0., 0., 0., 0., 0., 0., 0., 0., 0., 0., 0., 0., 0., 0., 0., 0.,\n",
       "        0., 0., 0., 0., 0., 0., 0., 0., 0., 0., 0., 0., 0., 0., 0., 0., 0.,\n",
       "        0., 0., 0., 0., 0., 0., 0., 0., 0., 0., 0., 0., 0., 0., 0., 0., 0.,\n",
       "        0., 0., 0., 0., 0., 0., 0., 0., 0., 0., 0., 0., 0., 0., 0., 0., 0.,\n",
       "        0., 0., 0., 0., 0., 0., 0., 0., 0., 0., 0., 0., 0., 0., 0., 0., 0.,\n",
       "        0., 0., 0., 0., 0., 0., 0., 0., 0., 0., 0., 0., 0., 0., 0., 0., 0.,\n",
       "        0., 0., 0., 0., 0., 0., 0., 0., 0., 0., 0.], dtype=float32)>]"
      ]
     },
     "execution_count": 26,
     "metadata": {},
     "output_type": "execute_result"
    }
   ],
   "source": [
    "hidden1.trainable_weights"
   ]
  },
  {
   "cell_type": "code",
   "execution_count": 27,
   "metadata": {
    "ExecuteTime": {
     "end_time": "2020-01-03T11:05:06.967629Z",
     "start_time": "2020-01-03T11:05:06.963045Z"
    }
   },
   "outputs": [
    {
     "data": {
      "text/plain": [
       "True"
      ]
     },
     "execution_count": 27,
     "metadata": {},
     "output_type": "execute_result"
    }
   ],
   "source": [
    "model.get_layer('dense') is hidden1"
   ]
  },
  {
   "cell_type": "code",
   "execution_count": 28,
   "metadata": {
    "ExecuteTime": {
     "end_time": "2020-01-03T11:05:06.974112Z",
     "start_time": "2020-01-03T11:05:06.970280Z"
    }
   },
   "outputs": [],
   "source": [
    "# use `get_weights()` and `set_weights()` to access all the parameters of a layer\n",
    "weights, biases = hidden1.get_weights()"
   ]
  },
  {
   "cell_type": "code",
   "execution_count": 29,
   "metadata": {
    "ExecuteTime": {
     "end_time": "2020-01-03T11:05:06.981142Z",
     "start_time": "2020-01-03T11:05:06.976648Z"
    }
   },
   "outputs": [
    {
     "data": {
      "text/plain": [
       "array([[ 0.02448617, -0.00877795, -0.02189048, ..., -0.02766046,\n",
       "         0.03859074, -0.06889391],\n",
       "       [ 0.00476504, -0.03105379, -0.0586676 , ...,  0.00602964,\n",
       "        -0.02763776, -0.04165364],\n",
       "       [-0.06189284, -0.06901957,  0.07102345, ..., -0.04238207,\n",
       "         0.07121518, -0.07331658],\n",
       "       ...,\n",
       "       [-0.03048757,  0.02155137, -0.05400612, ..., -0.00113463,\n",
       "         0.00228987,  0.05581069],\n",
       "       [ 0.07061854, -0.06960931,  0.07038955, ..., -0.00384101,\n",
       "         0.00034875,  0.02878492],\n",
       "       [-0.06022581,  0.01577859, -0.02585464, ..., -0.00527829,\n",
       "         0.00272203, -0.06793761]], dtype=float32)"
      ]
     },
     "execution_count": 29,
     "metadata": {},
     "output_type": "execute_result"
    }
   ],
   "source": [
    "weights  # shape: (784, 300)"
   ]
  },
  {
   "cell_type": "code",
   "execution_count": 30,
   "metadata": {
    "ExecuteTime": {
     "end_time": "2020-01-03T11:05:06.990093Z",
     "start_time": "2020-01-03T11:05:06.983064Z"
    }
   },
   "outputs": [
    {
     "data": {
      "text/plain": [
       "array([0., 0., 0., 0., 0., 0., 0., 0., 0., 0., 0., 0., 0., 0., 0., 0., 0.,\n",
       "       0., 0., 0., 0., 0., 0., 0., 0., 0., 0., 0., 0., 0., 0., 0., 0., 0.,\n",
       "       0., 0., 0., 0., 0., 0., 0., 0., 0., 0., 0., 0., 0., 0., 0., 0., 0.,\n",
       "       0., 0., 0., 0., 0., 0., 0., 0., 0., 0., 0., 0., 0., 0., 0., 0., 0.,\n",
       "       0., 0., 0., 0., 0., 0., 0., 0., 0., 0., 0., 0., 0., 0., 0., 0., 0.,\n",
       "       0., 0., 0., 0., 0., 0., 0., 0., 0., 0., 0., 0., 0., 0., 0., 0., 0.,\n",
       "       0., 0., 0., 0., 0., 0., 0., 0., 0., 0., 0., 0., 0., 0., 0., 0., 0.,\n",
       "       0., 0., 0., 0., 0., 0., 0., 0., 0., 0., 0., 0., 0., 0., 0., 0., 0.,\n",
       "       0., 0., 0., 0., 0., 0., 0., 0., 0., 0., 0., 0., 0., 0., 0., 0., 0.,\n",
       "       0., 0., 0., 0., 0., 0., 0., 0., 0., 0., 0., 0., 0., 0., 0., 0., 0.,\n",
       "       0., 0., 0., 0., 0., 0., 0., 0., 0., 0., 0., 0., 0., 0., 0., 0., 0.,\n",
       "       0., 0., 0., 0., 0., 0., 0., 0., 0., 0., 0., 0., 0., 0., 0., 0., 0.,\n",
       "       0., 0., 0., 0., 0., 0., 0., 0., 0., 0., 0., 0., 0., 0., 0., 0., 0.,\n",
       "       0., 0., 0., 0., 0., 0., 0., 0., 0., 0., 0., 0., 0., 0., 0., 0., 0.,\n",
       "       0., 0., 0., 0., 0., 0., 0., 0., 0., 0., 0., 0., 0., 0., 0., 0., 0.,\n",
       "       0., 0., 0., 0., 0., 0., 0., 0., 0., 0., 0., 0., 0., 0., 0., 0., 0.,\n",
       "       0., 0., 0., 0., 0., 0., 0., 0., 0., 0., 0., 0., 0., 0., 0., 0., 0.,\n",
       "       0., 0., 0., 0., 0., 0., 0., 0., 0., 0., 0.], dtype=float32)"
      ]
     },
     "execution_count": 30,
     "metadata": {},
     "output_type": "execute_result"
    }
   ],
   "source": [
    "biases  # shape: (300,)"
   ]
  },
  {
   "cell_type": "markdown",
   "metadata": {},
   "source": [
    "The `Dense` layer's weights (<font color='blue'>kernel is another name for the matrix of connection weights</font>) were initialized randomly (to break symmetry), and the biases were initialized to zeros."
   ]
  },
  {
   "cell_type": "markdown",
   "metadata": {},
   "source": [
    "**<font color='red' size=4>Note:</font>**\n",
    "\n",
    "The shape of the weight matrix depends on the number of inputs. This is why it is recommended to specify the `input_shape` when creating the first layer in a Sequential model. However, if you **do not specify the input shape, it’s OK**: Keras will **simply wait until it knows the input shape before it actually builds the model**. This will happen either when you **feed it actual data (e.g., during training)**, or when you **call its `build()` method**. **Until the model is really built, the layers will not have any weights, and you will not be able to do certain things (such as print the model summary or save the model)**. So, if you know the input shape when creating the model, it is best to specify it."
   ]
  },
  {
   "cell_type": "code",
   "execution_count": 31,
   "metadata": {
    "ExecuteTime": {
     "end_time": "2020-01-03T11:05:07.069236Z",
     "start_time": "2020-01-03T11:05:06.992645Z"
    }
   },
   "outputs": [
    {
     "data": {
      "image/png": "[encoded data removed]",
      "text/plain": [
       "<IPython.core.display.Image object>"
      ]
     },
     "execution_count": 31,
     "metadata": {},
     "output_type": "execute_result"
    }
   ],
   "source": [
    "keras.utils.plot_model(model, './models/chap10-models/mnist_model.png',\n",
    "                       show_shapes=True, show_layer_names=True)"
   ]
  },
  {
   "cell_type": "code",
   "execution_count": 32,
   "metadata": {
    "ExecuteTime": {
     "end_time": "2020-01-03T11:05:07.221449Z",
     "start_time": "2020-01-03T11:05:07.071245Z"
    }
   },
   "outputs": [],
   "source": [
    "# after the model is created, must call its `compile()` method\n",
    "model.compile(loss='sparse_categorical_crossentropy',\n",
    "              optimizer='sgd',\n",
    "              # a list of (multiple) metrics to compute during training and evaluation\n",
    "              metrics=['acc'])"
   ]
  },
  {
   "cell_type": "markdown",
   "metadata": {},
   "source": [
    "This is equivalent to\n",
    "\n",
    "```python\n",
    "model.compile(loss=keras.losses.sparse_categorical_crossentropy,\n",
    "              optimizer=keras.optimizers.SGD(),\n",
    "              metrics=[keras.metrics.sparse_categorical_accuracy])\n",
    "```"
   ]
  },
  {
   "cell_type": "markdown",
   "metadata": {},
   "source": [
    "+ Use the **`loss='sparse_categorical_crossentropy'`** because we have **sparse labels** (i.e., for each instance, there is just a target class index, from 0 to 9 in this case), and the classes are exclusive (互斥的).\n",
    "\n",
    "\n",
    "+ If instead we had **one target probability per class for each instance** (such as one-hot vectors, e.g. `[0., 0., 0., 1., 0., 0., 0., 0., 0., 0.]` to represent class 3), then we would need to **use the `loss='categorical_crossentropy'` loss** instead.\n",
    "\n",
    "\n",
    "+ use the **`'sigmoid'`** (i.e., logistic) activation function in the output layer, and **use `loss='binary_crossentropy'`**  when **doing binary classification** (with one or more binary labels)"
   ]
  },
  {
   "cell_type": "code",
   "execution_count": 33,
   "metadata": {
    "ExecuteTime": {
     "end_time": "2020-01-03T11:05:07.226800Z",
     "start_time": "2020-01-03T11:05:07.223177Z"
    }
   },
   "outputs": [
    {
     "data": {
      "text/plain": [
       "array([4, 0, 7, ..., 3, 0, 5], dtype=uint8)"
      ]
     },
     "execution_count": 33,
     "metadata": {},
     "output_type": "execute_result"
    }
   ],
   "source": [
    "y_train"
   ]
  },
  {
   "cell_type": "code",
   "execution_count": 34,
   "metadata": {
    "ExecuteTime": {
     "end_time": "2020-01-03T11:05:07.234747Z",
     "start_time": "2020-01-03T11:05:07.228888Z"
    }
   },
   "outputs": [
    {
     "data": {
      "text/plain": [
       "array([[0., 0., 0., ..., 0., 0., 0.],\n",
       "       [1., 0., 0., ..., 0., 0., 0.],\n",
       "       [0., 0., 0., ..., 1., 0., 0.],\n",
       "       ...,\n",
       "       [0., 0., 0., ..., 0., 0., 0.],\n",
       "       [1., 0., 0., ..., 0., 0., 0.],\n",
       "       [0., 0., 0., ..., 0., 0., 0.]], dtype=float32)"
      ]
     },
     "execution_count": 34,
     "metadata": {},
     "output_type": "execute_result"
    }
   ],
   "source": [
    "# convert sparse labels (i.e., class indices) to one-hot vector labels\n",
    "keras.utils.to_categorical(y_train)"
   ]
  },
  {
   "cell_type": "code",
   "execution_count": 35,
   "metadata": {
    "ExecuteTime": {
     "end_time": "2020-01-03T11:05:07.242915Z",
     "start_time": "2020-01-03T11:05:07.236549Z"
    }
   },
   "outputs": [
    {
     "data": {
      "text/plain": [
       "array([4, 0, 7, ..., 3, 0, 5])"
      ]
     },
     "execution_count": 35,
     "metadata": {},
     "output_type": "execute_result"
    }
   ],
   "source": [
    "np.argmax(keras.utils.to_categorical(y_train), axis=1)"
   ]
  },
  {
   "cell_type": "markdown",
   "metadata": {},
   "source": [
    "Regarding the optimizer, `\"sgd\"` means that we will train the model using simple Stochastic Gradient Descent. **<font color='blue'>When using the SGD optimizer, it is important to tune the learning rate.</font>** So, you will generally want to use `optimizer=keras.optimizers.SGD(lr=???)` to set the learning rate, rather than `optimizer='sgd'`, which defaults to `lr=0.01`."
   ]
  },
  {
   "cell_type": "code",
   "execution_count": 36,
   "metadata": {
    "ExecuteTime": {
     "end_time": "2020-01-03T11:07:16.525037Z",
     "start_time": "2020-01-03T11:05:07.244634Z"
    },
    "collapsed": true
   },
   "outputs": [
    {
     "name": "stdout",
     "output_type": "stream",
     "text": [
      "Train on 55000 samples, validate on 5000 samples\n",
      "Epoch 1/30\n",
      "55000/55000 [==============================] - 5s 85us/sample - loss: 0.7228 - acc: 0.7623 - val_loss: 0.5304 - val_acc: 0.8160\n",
      "Epoch 2/30\n",
      "55000/55000 [==============================] - 4s 73us/sample - loss: 0.4838 - acc: 0.8323 - val_loss: 0.4494 - val_acc: 0.8454\n",
      "Epoch 3/30\n",
      "55000/55000 [==============================] - 4s 80us/sample - loss: 0.4379 - acc: 0.8475 - val_loss: 0.4173 - val_acc: 0.8548\n",
      "Epoch 4/30\n",
      "55000/55000 [==============================] - 5s 83us/sample - loss: 0.4126 - acc: 0.8555 - val_loss: 0.3898 - val_acc: 0.8660\n",
      "Epoch 5/30\n",
      "55000/55000 [==============================] - 4s 80us/sample - loss: 0.3930 - acc: 0.8626 - val_loss: 0.3987 - val_acc: 0.8610\n",
      "Epoch 6/30\n",
      "55000/55000 [==============================] - 5s 83us/sample - loss: 0.3776 - acc: 0.8672 - val_loss: 0.3730 - val_acc: 0.8732\n",
      "Epoch 7/30\n",
      "55000/55000 [==============================] - 5s 83us/sample - loss: 0.3645 - acc: 0.8709 - val_loss: 0.3663 - val_acc: 0.8692\n",
      "Epoch 8/30\n",
      "55000/55000 [==============================] - 5s 88us/sample - loss: 0.3526 - acc: 0.8743 - val_loss: 0.3614 - val_acc: 0.8736\n",
      "Epoch 9/30\n",
      "55000/55000 [==============================] - 5s 87us/sample - loss: 0.3414 - acc: 0.8787 - val_loss: 0.3648 - val_acc: 0.8746\n",
      "Epoch 10/30\n",
      "55000/55000 [==============================] - 4s 75us/sample - loss: 0.3323 - acc: 0.8814 - val_loss: 0.3480 - val_acc: 0.8790\n",
      "Epoch 11/30\n",
      "55000/55000 [==============================] - 4s 73us/sample - loss: 0.3247 - acc: 0.8839 - val_loss: 0.3387 - val_acc: 0.8798\n",
      "Epoch 12/30\n",
      "55000/55000 [==============================] - 4s 78us/sample - loss: 0.3171 - acc: 0.8862 - val_loss: 0.3406 - val_acc: 0.8800\n",
      "Epoch 13/30\n",
      "55000/55000 [==============================] - 4s 73us/sample - loss: 0.3093 - acc: 0.8887 - val_loss: 0.3294 - val_acc: 0.8834\n",
      "Epoch 14/30\n",
      "55000/55000 [==============================] - 4s 75us/sample - loss: 0.3029 - acc: 0.8915 - val_loss: 0.3228 - val_acc: 0.8848\n",
      "Epoch 15/30\n",
      "55000/55000 [==============================] - 4s 77us/sample - loss: 0.2960 - acc: 0.8944 - val_loss: 0.3247 - val_acc: 0.8838\n",
      "Epoch 16/30\n",
      "55000/55000 [==============================] - 4s 75us/sample - loss: 0.2896 - acc: 0.8952 - val_loss: 0.3293 - val_acc: 0.8788\n",
      "Epoch 17/30\n",
      "55000/55000 [==============================] - 4s 71us/sample - loss: 0.2833 - acc: 0.8979 - val_loss: 0.3109 - val_acc: 0.8896\n",
      "Epoch 18/30\n",
      "55000/55000 [==============================] - 4s 70us/sample - loss: 0.2773 - acc: 0.9001 - val_loss: 0.3264 - val_acc: 0.8848\n",
      "Epoch 19/30\n",
      "55000/55000 [==============================] - 4s 82us/sample - loss: 0.2730 - acc: 0.9021 - val_loss: 0.3572 - val_acc: 0.8660\n",
      "Epoch 20/30\n",
      "55000/55000 [==============================] - 5s 84us/sample - loss: 0.2683 - acc: 0.9034 - val_loss: 0.3015 - val_acc: 0.8926\n",
      "Epoch 21/30\n",
      "55000/55000 [==============================] - 4s 78us/sample - loss: 0.2628 - acc: 0.9059 - val_loss: 0.3175 - val_acc: 0.8846\n",
      "Epoch 22/30\n",
      "55000/55000 [==============================] - 4s 72us/sample - loss: 0.2585 - acc: 0.9063 - val_loss: 0.3164 - val_acc: 0.8878\n",
      "Epoch 23/30\n",
      "55000/55000 [==============================] - 4s 72us/sample - loss: 0.2549 - acc: 0.9083 - val_loss: 0.3035 - val_acc: 0.8924\n",
      "Epoch 24/30\n",
      "55000/55000 [==============================] - 4s 74us/sample - loss: 0.2483 - acc: 0.9101 - val_loss: 0.3013 - val_acc: 0.8930\n",
      "Epoch 25/30\n",
      "55000/55000 [==============================] - 4s 71us/sample - loss: 0.2451 - acc: 0.9123 - val_loss: 0.3071 - val_acc: 0.8890\n",
      "Epoch 26/30\n",
      "55000/55000 [==============================] - 4s 70us/sample - loss: 0.2409 - acc: 0.9144 - val_loss: 0.3194 - val_acc: 0.8828\n",
      "Epoch 27/30\n",
      "55000/55000 [==============================] - 4s 71us/sample - loss: 0.2362 - acc: 0.9146 - val_loss: 0.2990 - val_acc: 0.8896\n",
      "Epoch 28/30\n",
      "55000/55000 [==============================] - 5s 82us/sample - loss: 0.2333 - acc: 0.9157 - val_loss: 0.2989 - val_acc: 0.8946\n",
      "Epoch 29/30\n",
      "55000/55000 [==============================] - 5s 90us/sample - loss: 0.2290 - acc: 0.9178 - val_loss: 0.2978 - val_acc: 0.8946\n",
      "Epoch 30/30\n",
      "55000/55000 [==============================] - 5s 96us/sample - loss: 0.2251 - acc: 0.9181 - val_loss: 0.3308 - val_acc: 0.8816\n"
     ]
    }
   ],
   "source": [
    "history = model.fit(x_train, y_train, epochs=30, validation_data=(x_val, y_val))"
   ]
  },
  {
   "cell_type": "markdown",
   "metadata": {},
   "source": [
    "+ `epochs` default to just 1, which would definitely not be enough to converge to a good solution.\n",
    "\n",
    "\n",
    "+ Keras will measure the loss and the extra metrics on validation set (this is optional) at the end of each epoch, which is very useful to see how well the model really performs. **<font color='red'>If the performance on the training set is much better than on the validation set, your model is probably overfitting the training set (or there is a bug, such as a data mismatch between the training set and the validation set).</font>**"
   ]
  },
  {
   "cell_type": "markdown",
   "metadata": {},
   "source": [
    "At each epoch during training, Keras displays:\n",
    "\n",
    "+ the number of instances processed so far (along with a progress bar)\n",
    "\n",
    "\n",
    "+ the mean training time per sample\n",
    "\n",
    "\n",
    "+ the loss and accuracy (or any other extra metrics passed) on both the training set and the validation set (optional)."
   ]
  },
  {
   "cell_type": "markdown",
   "metadata": {},
   "source": [
    "**<font color='red' size=4>Tip:</font>**\n",
    "\n",
    "Instead of passing a validation set using the `validation_data` argument, you could set `validation_split` to the ratio of the training set that you want Keras to use for validation. For example, `validation_split=0.1` tells Keras to use the **last 10%** of the data (before shuffling) for validation."
   ]
  },
  {
   "cell_type": "markdown",
   "metadata": {},
   "source": [
    "+ If **the training set was very skewed**, with some classes being overrepresented and others underrepresented, it would be useful to set the **<font color='red'>class_weight</font>** argument when calling the `fit()` method, which would **give a larger weight to underrepresented classes and a lower weight to overrepresented classes**. **These weights would be used by Keras when computing the loss**. \n",
    "\n",
    "\n",
    "+ If you need per-instance weights, set the **<font color='red'>sample_weight</font>** argument (**if both `class_weight` and `sample_weight` are provided, Keras multiplies them**). Per-instance weights could be **useful if some instances were labeled by experts while others were labeled using a crowdsourcing platform**: you might want to give more weight to the former. You can also **provide sample weights (but not class weights) for the validation set** by adding them as a third item in the `validation_data` tuple."
   ]
  },
  {
   "cell_type": "markdown",
   "metadata": {},
   "source": [
    "**The `fit()` method returns a `History` object containing:**\n",
    "\n",
    "+ the training parameters (`history.params`)\n",
    "\n",
    "\n",
    "+ the list of epochs it went through (`history.epoch`)\n",
    "\n",
    "\n",
    "+ most importantly a dictionary (`history.history`) containing the loss and extra metrics it measured at the end of each epoch on the training set and on the validation set (if any)"
   ]
  },
  {
   "cell_type": "code",
   "execution_count": 37,
   "metadata": {
    "ExecuteTime": {
     "end_time": "2020-01-03T11:07:16.531405Z",
     "start_time": "2020-01-03T11:07:16.527107Z"
    }
   },
   "outputs": [
    {
     "data": {
      "text/plain": [
       "{'batch_size': 32,\n",
       " 'epochs': 30,\n",
       " 'steps': 1719,\n",
       " 'samples': 55000,\n",
       " 'verbose': 0,\n",
       " 'do_validation': True,\n",
       " 'metrics': ['loss', 'acc', 'val_loss', 'val_acc']}"
      ]
     },
     "execution_count": 37,
     "metadata": {},
     "output_type": "execute_result"
    }
   ],
   "source": [
    "history.params"
   ]
  },
  {
   "cell_type": "code",
   "execution_count": 38,
   "metadata": {
    "ExecuteTime": {
     "end_time": "2020-01-03T11:07:16.536342Z",
     "start_time": "2020-01-03T11:07:16.533455Z"
    }
   },
   "outputs": [
    {
     "name": "stdout",
     "output_type": "stream",
     "text": [
      "[0, 1, 2, 3, 4, 5, 6, 7, 8, 9, 10, 11, 12, 13, 14, 15, 16, 17, 18, 19, 20, 21, 22, 23, 24, 25, 26, 27, 28, 29]\n"
     ]
    }
   ],
   "source": [
    "print(history.epoch)"
   ]
  },
  {
   "cell_type": "code",
   "execution_count": 39,
   "metadata": {
    "ExecuteTime": {
     "end_time": "2020-01-03T11:07:16.543409Z",
     "start_time": "2020-01-03T11:07:16.538989Z"
    }
   },
   "outputs": [
    {
     "data": {
      "text/plain": [
       "['loss', 'acc']"
      ]
     },
     "execution_count": 39,
     "metadata": {},
     "output_type": "execute_result"
    }
   ],
   "source": [
    "model.metrics_names"
   ]
  },
  {
   "cell_type": "code",
   "execution_count": 40,
   "metadata": {
    "ExecuteTime": {
     "end_time": "2020-01-03T11:07:16.841374Z",
     "start_time": "2020-01-03T11:07:16.545488Z"
    }
   },
   "outputs": [
    {
     "data": {
      "image/png": "[encoded data removed]",
      "text/plain": [
       "<Figure size 576x360 with 1 Axes>"
      ]
     },
     "metadata": {
      "needs_background": "light"
     },
     "output_type": "display_data"
    }
   ],
   "source": [
    "pd.DataFrame(history.history).plot(figsize=(8, 5))\n",
    "plt.grid(True)\n",
    "plt.gca().set_ylim(0, 1)\n",
    "plt.show()"
   ]
  },
  {
   "cell_type": "markdown",
   "metadata": {},
   "source": [
    "+ The training accuracy and the validation accuracy steadily increase during training, while the training loss and the validation loss decrease. Good!\n",
    "\n",
    "\n",
    "+ **The validation curves are close to the training curves, which means that there is not too much overfitting**.\n",
    "\n",
    "\n",
    "+ In this particular case, the model looks like it performed better on the validation set than on the training set at the beginning of training. But that’s not the case: indeed, **the validation error is computed at the end of each epoch**, while **the training error is computed using a running mean during each epoch**. So **the training curve should be shifted by half an epoch to the left**. If you do that, you will see that the training and validation curves overlap almost perfectly at the beginning of training. **<font color='red'>When plotting the training curve, it should be shifted by half an epoch to the left.</font>**"
   ]
  },
  {
   "cell_type": "markdown",
   "metadata": {},
   "source": [
    "The training set performance ends up beating the validation performance, as is generally the case when you train for long enough. You can tell that **the model has not quite converged yet, as the validation loss is still going down**, so you should probably continue training. It’s as simple as **<font color='red'>calling the `fit()` method again, since Keras just continues training where it left off</font>** (you should be able to reach close to 89% validation accuracy)."
   ]
  },
  {
   "cell_type": "markdown",
   "metadata": {},
   "source": [
    "**Tune the hyperparameters:**\n",
    "1. the first one to check is the learning rate (**always retune the learning rate after changing any hyperparameter**)\n",
    "2. try another optimizer (if 1 does not help)\n",
    "3. if still not great, try tuning model hyperparameters such as the number of layers, the number of units per layer, and the types of activation functions to use for each hidden layer.\n",
    "4. can also try tuning other hyperparameters, such as the batch size (it can be set in the `fit()` method using the `batch_size` argument, which *defaults to 32*)"
   ]
  },
  {
   "cell_type": "code",
   "execution_count": 41,
   "metadata": {
    "ExecuteTime": {
     "end_time": "2020-01-03T11:07:17.344361Z",
     "start_time": "2020-01-03T11:07:16.843379Z"
    }
   },
   "outputs": [
    {
     "name": "stdout",
     "output_type": "stream",
     "text": [
      "10000/1 - 0s - loss: 0.3194 - acc: 0.8681\n"
     ]
    },
    {
     "data": {
      "text/plain": [
       "[0.36434496695995333, 0.8681]"
      ]
     },
     "execution_count": 41,
     "metadata": {},
     "output_type": "execute_result"
    }
   ],
   "source": [
    "# Once you are satisfied with your model’s validation accuracy,\n",
    "# you should evaluate it on the test set to estimate the generalization error\n",
    "# before you deploy the model to production.\n",
    "model.evaluate(x_test, y_test, verbose=2)  # `batch_size` and `sample_weight` are supported"
   ]
  },
  {
   "cell_type": "markdown",
   "metadata": {},
   "source": [
    "<font color='blue'>It is common to get slightly lower performance on the test set than on the validation set, because the hyperparameters are tuned on the validation set, not the test set</font> (however, in this example, we did not do any hyperparameter tuning, so the lower accuracy is just bad luck). **Remember to resist the temptation to tweak the hyperparameters on the test set**, or else your estimate of the generalization error will be too optimistic."
   ]
  },
  {
   "cell_type": "code",
   "execution_count": 42,
   "metadata": {
    "ExecuteTime": {
     "end_time": "2020-01-03T11:07:17.428869Z",
     "start_time": "2020-01-03T11:07:17.346313Z"
    }
   },
   "outputs": [
    {
     "data": {
      "text/plain": [
       "array([[0.  , 0.  , 0.  , 0.  , 0.  , 0.01, 0.  , 0.01, 0.  , 0.98],\n",
       "       [0.  , 0.  , 1.  , 0.  , 0.  , 0.  , 0.  , 0.  , 0.  , 0.  ],\n",
       "       [0.  , 1.  , 0.  , 0.  , 0.  , 0.  , 0.  , 0.  , 0.  , 0.  ]],\n",
       "      dtype=float32)"
      ]
     },
     "execution_count": 42,
     "metadata": {},
     "output_type": "execute_result"
    }
   ],
   "source": [
    "# make predictions on new instances\n",
    "x_new = x_test[:3]\n",
    "y_proba = model.predict(x_new)\n",
    "y_proba.round(2)"
   ]
  },
  {
   "cell_type": "markdown",
   "metadata": {},
   "source": [
    "> for each instance the model estimates one probability per class, from class 0 to class 9."
   ]
  },
  {
   "cell_type": "code",
   "execution_count": 43,
   "metadata": {
    "ExecuteTime": {
     "end_time": "2020-01-03T11:07:17.435628Z",
     "start_time": "2020-01-03T11:07:17.431093Z"
    }
   },
   "outputs": [
    {
     "data": {
      "text/plain": [
       "array([9, 2, 1])"
      ]
     },
     "execution_count": 43,
     "metadata": {},
     "output_type": "execute_result"
    }
   ],
   "source": [
    "np.argmax(y_proba, axis=1)"
   ]
  },
  {
   "cell_type": "code",
   "execution_count": 44,
   "metadata": {
    "ExecuteTime": {
     "end_time": "2020-01-03T11:07:17.479631Z",
     "start_time": "2020-01-03T11:07:17.438192Z"
    }
   },
   "outputs": [
    {
     "data": {
      "text/plain": [
       "array([9, 2, 1])"
      ]
     },
     "execution_count": 44,
     "metadata": {},
     "output_type": "execute_result"
    }
   ],
   "source": [
    "# only care about the class with the highest estimated probability (even if that probability is quite low)\n",
    "y_pred = model.predict_classes(x_new)\n",
    "y_pred"
   ]
  },
  {
   "cell_type": "code",
   "execution_count": 45,
   "metadata": {
    "ExecuteTime": {
     "end_time": "2020-01-03T11:07:17.486044Z",
     "start_time": "2020-01-03T11:07:17.481878Z"
    }
   },
   "outputs": [
    {
     "data": {
      "text/plain": [
       "array(['Ankle boot', 'Pullover', 'Trouser'], dtype='<U11')"
      ]
     },
     "execution_count": 45,
     "metadata": {},
     "output_type": "execute_result"
    }
   ],
   "source": [
    "np.array(class_names)[y_pred]"
   ]
  },
  {
   "cell_type": "markdown",
   "metadata": {},
   "source": [
    "### 2.2 Regression using the sequential API"
   ]
  },
  {
   "cell_type": "markdown",
   "metadata": {},
   "source": [
    "**dataset:** the California housing data (no `ocean_proximity` feature, and no missing value)"
   ]
  },
  {
   "cell_type": "code",
   "execution_count": 46,
   "metadata": {
    "ExecuteTime": {
     "end_time": "2020-01-03T11:07:17.491431Z",
     "start_time": "2020-01-03T11:07:17.488259Z"
    }
   },
   "outputs": [],
   "source": [
    "from sklearn.datasets import fetch_california_housing\n",
    "from sklearn.model_selection import train_test_split\n",
    "from sklearn.preprocessing import StandardScaler"
   ]
  },
  {
   "cell_type": "code",
   "execution_count": 47,
   "metadata": {
    "ExecuteTime": {
     "end_time": "2020-01-03T11:07:17.519489Z",
     "start_time": "2020-01-03T11:07:17.493561Z"
    }
   },
   "outputs": [],
   "source": [
    "housing = fetch_california_housing()\n",
    "\n",
    "x_train, x_test, y_train, y_test = train_test_split(\n",
    "    housing.data, housing.target)\n",
    "x_train, x_valid, y_train, y_valid = train_test_split(\n",
    "    x_train, y_train, test_size=0.25, random_state=42)\n",
    "\n",
    "scaler = StandardScaler()\n",
    "x_train = scaler.fit_transform(x_train)\n",
    "x_valid = scaler.transform(x_valid)\n",
    "x_test = scaler.transform(x_test)"
   ]
  },
  {
   "cell_type": "code",
   "execution_count": 48,
   "metadata": {
    "ExecuteTime": {
     "end_time": "2020-01-03T11:07:17.525899Z",
     "start_time": "2020-01-03T11:07:17.521615Z"
    }
   },
   "outputs": [
    {
     "data": {
      "text/plain": [
       "((11610, 8), (5000, 28, 28), (5160, 8))"
      ]
     },
     "execution_count": 48,
     "metadata": {},
     "output_type": "execute_result"
    }
   ],
   "source": [
    "x_train.shape, x_val.shape, x_test.shape"
   ]
  },
  {
   "cell_type": "code",
   "execution_count": 49,
   "metadata": {
    "ExecuteTime": {
     "end_time": "2020-01-03T11:07:17.532587Z",
     "start_time": "2020-01-03T11:07:17.528439Z"
    }
   },
   "outputs": [
    {
     "data": {
      "text/plain": [
       "array([1.442, 1.687, 1.621, ..., 0.68 , 0.613, 1.97 ])"
      ]
     },
     "execution_count": 49,
     "metadata": {},
     "output_type": "execute_result"
    }
   ],
   "source": [
    "y_train"
   ]
  },
  {
   "cell_type": "code",
   "execution_count": 50,
   "metadata": {
    "ExecuteTime": {
     "end_time": "2020-01-03T11:07:17.538674Z",
     "start_time": "2020-01-03T11:07:17.534751Z"
    }
   },
   "outputs": [
    {
     "data": {
      "text/plain": [
       "(8,)"
      ]
     },
     "execution_count": 50,
     "metadata": {},
     "output_type": "execute_result"
    }
   ],
   "source": [
    "x_train.shape[1:]"
   ]
  },
  {
   "cell_type": "code",
   "execution_count": 51,
   "metadata": {
    "ExecuteTime": {
     "end_time": "2020-01-03T11:07:29.788304Z",
     "start_time": "2020-01-03T11:07:17.540942Z"
    },
    "collapsed": true
   },
   "outputs": [
    {
     "name": "stdout",
     "output_type": "stream",
     "text": [
      "Train on 11610 samples, validate on 3870 samples\n",
      "Epoch 1/20\n",
      "11610/11610 [==============================] - 1s 94us/sample - loss: 1.6321 - mae: 0.9071 - val_loss: 1.5903 - val_mae: 0.6559\n",
      "Epoch 2/20\n",
      "11610/11610 [==============================] - 1s 52us/sample - loss: 0.7124 - mae: 0.6159 - val_loss: 0.6539 - val_mae: 0.5777\n",
      "Epoch 3/20\n",
      "11610/11610 [==============================] - 1s 52us/sample - loss: 0.6348 - mae: 0.5782 - val_loss: 0.6039 - val_mae: 0.5565\n",
      "Epoch 4/20\n",
      "11610/11610 [==============================] - 1s 51us/sample - loss: 0.5983 - mae: 0.5596 - val_loss: 0.5738 - val_mae: 0.5388\n",
      "Epoch 5/20\n",
      "11610/11610 [==============================] - 1s 50us/sample - loss: 0.5713 - mae: 0.5445 - val_loss: 0.5406 - val_mae: 0.5244\n",
      "Epoch 6/20\n",
      "11610/11610 [==============================] - 1s 50us/sample - loss: 0.5482 - mae: 0.5312 - val_loss: 0.5221 - val_mae: 0.5144\n",
      "Epoch 7/20\n",
      "11610/11610 [==============================] - 1s 50us/sample - loss: 0.5298 - mae: 0.5231 - val_loss: 0.4965 - val_mae: 0.5036\n",
      "Epoch 8/20\n",
      "11610/11610 [==============================] - 1s 49us/sample - loss: 0.5138 - mae: 0.5138 - val_loss: 0.4843 - val_mae: 0.4950\n",
      "Epoch 9/20\n",
      "11610/11610 [==============================] - 1s 48us/sample - loss: 0.5005 - mae: 0.5066 - val_loss: 0.4684 - val_mae: 0.4863\n",
      "Epoch 10/20\n",
      "11610/11610 [==============================] - 1s 47us/sample - loss: 0.4884 - mae: 0.4998 - val_loss: 0.4558 - val_mae: 0.4795\n",
      "Epoch 11/20\n",
      "11610/11610 [==============================] - 1s 48us/sample - loss: 0.4783 - mae: 0.4938 - val_loss: 0.4469 - val_mae: 0.4754\n",
      "Epoch 12/20\n",
      "11610/11610 [==============================] - 1s 49us/sample - loss: 0.4696 - mae: 0.4894 - val_loss: 0.4383 - val_mae: 0.4707\n",
      "Epoch 13/20\n",
      "11610/11610 [==============================] - 1s 50us/sample - loss: 0.4621 - mae: 0.4852 - val_loss: 0.4320 - val_mae: 0.4677\n",
      "Epoch 14/20\n",
      "11610/11610 [==============================] - 1s 49us/sample - loss: 0.4554 - mae: 0.4822 - val_loss: 0.4255 - val_mae: 0.4630\n",
      "Epoch 15/20\n",
      "11610/11610 [==============================] - 1s 49us/sample - loss: 0.4495 - mae: 0.4784 - val_loss: 0.4184 - val_mae: 0.4605\n",
      "Epoch 16/20\n",
      "11610/11610 [==============================] - 1s 48us/sample - loss: 0.4443 - mae: 0.4759 - val_loss: 0.4126 - val_mae: 0.4564\n",
      "Epoch 17/20\n",
      "11610/11610 [==============================] - 1s 49us/sample - loss: 0.4397 - mae: 0.4729 - val_loss: 0.4087 - val_mae: 0.4549\n",
      "Epoch 18/20\n",
      "11610/11610 [==============================] - 1s 53us/sample - loss: 0.4352 - mae: 0.4702 - val_loss: 0.4057 - val_mae: 0.4538\n",
      "Epoch 19/20\n",
      "11610/11610 [==============================] - 1s 52us/sample - loss: 0.4316 - mae: 0.4691 - val_loss: 0.4005 - val_mae: 0.4494\n",
      "Epoch 20/20\n",
      "11610/11610 [==============================] - 1s 51us/sample - loss: 0.4280 - mae: 0.4666 - val_loss: 0.3975 - val_mae: 0.4481\n"
     ]
    }
   ],
   "source": [
    "# Since the dataset is quite noisy,\n",
    "# we just use a single hidden layer with fewer neurons than before,\n",
    "# to avoid overfitting.\n",
    "np.random.seed(42)\n",
    "tf.random.set_seed(42)\n",
    "tf.keras.backend.clear_session()\n",
    "\n",
    "model = keras.models.Sequential([\n",
    "    keras.layers.Dense(30, activation=\"relu\", input_shape=x_train.shape[1:]),\n",
    "    keras.layers.Dense(1)\n",
    "])\n",
    "\n",
    "model.compile(loss=\"mean_squared_error\",\n",
    "              optimizer=keras.optimizers.SGD(lr=1e-3),\n",
    "              metrics=['mae'])\n",
    "\n",
    "history = model.fit(x_train, y_train, epochs=20, batch_size=32,\n",
    "                    validation_data=(x_valid, y_valid))"
   ]
  },
  {
   "cell_type": "code",
   "execution_count": 52,
   "metadata": {
    "ExecuteTime": {
     "end_time": "2020-01-03T11:07:29.962254Z",
     "start_time": "2020-01-03T11:07:29.790477Z"
    }
   },
   "outputs": [
    {
     "name": "stdout",
     "output_type": "stream",
     "text": [
      "5160/1 - 0s - loss: 0.3515 - mae: 0.4624\n"
     ]
    },
    {
     "data": {
      "text/plain": [
       "[0.4219739536906398, 0.46242753]"
      ]
     },
     "execution_count": 52,
     "metadata": {},
     "output_type": "execute_result"
    }
   ],
   "source": [
    "model.evaluate(x_test, y_test, verbose=2)"
   ]
  },
  {
   "cell_type": "code",
   "execution_count": 53,
   "metadata": {
    "ExecuteTime": {
     "end_time": "2020-01-03T11:07:30.039926Z",
     "start_time": "2020-01-03T11:07:29.964159Z"
    }
   },
   "outputs": [
    {
     "data": {
      "text/plain": [
       "array([[0.36892918],\n",
       "       [1.6819053 ],\n",
       "       [3.0886497 ]], dtype=float32)"
      ]
     },
     "execution_count": 53,
     "metadata": {},
     "output_type": "execute_result"
    }
   ],
   "source": [
    "x_new = x_test[:3]\n",
    "model.predict(x_new)"
   ]
  },
  {
   "cell_type": "code",
   "execution_count": 54,
   "metadata": {
    "ExecuteTime": {
     "end_time": "2020-01-03T11:07:30.047595Z",
     "start_time": "2020-01-03T11:07:30.042640Z"
    },
    "scrolled": true
   },
   "outputs": [
    {
     "data": {
      "text/plain": [
       "array([0.477  , 0.458  , 5.00001])"
      ]
     },
     "execution_count": 54,
     "metadata": {},
     "output_type": "execute_result"
    }
   ],
   "source": [
    "y_test[:3]"
   ]
  },
  {
   "cell_type": "code",
   "execution_count": 55,
   "metadata": {
    "ExecuteTime": {
     "end_time": "2020-01-03T11:07:30.341614Z",
     "start_time": "2020-01-03T11:07:30.050206Z"
    }
   },
   "outputs": [
    {
     "data": {
      "image/png": "[encoded data removed]",
      "text/plain": [
       "<Figure size 576x360 with 1 Axes>"
      ]
     },
     "metadata": {
      "needs_background": "light"
     },
     "output_type": "display_data"
    }
   ],
   "source": [
    "pd.DataFrame(history.history).plot(figsize=(8, 5))\n",
    "plt.grid(True)\n",
    "plt.gca().set_ylim(0, 1)\n",
    "plt.show()"
   ]
  },
  {
   "cell_type": "markdown",
   "metadata": {},
   "source": [
    "### 2.3 Complex models using the functional API"
   ]
  },
  {
   "cell_type": "markdown",
   "metadata": {},
   "source": [
    "However, although Sequential models are extremely common, it is sometimes useful to **build NNs with more complex topologies, or with multiple inputs or outputs**. For this purpose, Keras offers the Functional API."
   ]
  },
  {
   "cell_type": "markdown",
   "metadata": {},
   "source": [
    "**<font color='red'>Wide & Deep neural network</font>** ([2016 paper](https://homl.info/widedeep)) connects all or part of the inputs directly to the output layer. This architecture makes it possible for the neural network to **learn both deep patterns (using the deep path) and simple rules (through the short path)**. (**<font color='blue'>MLP的一个缺点</font>**) While a **regular MLP forces all the data to flow through the full stack of layers**; thus, simple patterns in the data may end up being distorted by this sequence of transformations.\n",
    "\n",
    "![wide-and-deep-neural-network](./figs/chap10-figs/wide-and-deep-neural-network.png)"
   ]
  },
  {
   "cell_type": "markdown",
   "metadata": {},
   "source": [
    "+ **<font color='green'>one input and one output, connect all the inputs directly to the output layer (all input features as the \"wide\")</font>**"
   ]
  },
  {
   "cell_type": "code",
   "execution_count": 56,
   "metadata": {
    "ExecuteTime": {
     "end_time": "2020-01-03T11:07:30.392486Z",
     "start_time": "2020-01-03T11:07:30.343774Z"
    }
   },
   "outputs": [
    {
     "name": "stdout",
     "output_type": "stream",
     "text": [
      "Model: \"model\"\n",
      "__________________________________________________________________________________________________\n",
      "Layer (type)                    Output Shape         Param #     Connected to                     \n",
      "==================================================================================================\n",
      "input_1 (InputLayer)            [(None, 8)]          0                                            \n",
      "__________________________________________________________________________________________________\n",
      "dense (Dense)                   (None, 30)           270         input_1[0][0]                    \n",
      "__________________________________________________________________________________________________\n",
      "dense_1 (Dense)                 (None, 30)           930         dense[0][0]                      \n",
      "__________________________________________________________________________________________________\n",
      "concatenate (Concatenate)       (None, 38)           0           input_1[0][0]                    \n",
      "                                                                 dense_1[0][0]                    \n",
      "__________________________________________________________________________________________________\n",
      "dense_2 (Dense)                 (None, 1)            39          concatenate[0][0]                \n",
      "==================================================================================================\n",
      "Total params: 1,239\n",
      "Trainable params: 1,239\n",
      "Non-trainable params: 0\n",
      "__________________________________________________________________________________________________\n"
     ]
    }
   ],
   "source": [
    "np.random.seed(42)\n",
    "tf.random.set_seed(42)\n",
    "tf.keras.backend.clear_session()\n",
    "\n",
    "input_ = keras.layers.Input(shape=x_train.shape[1:])  # shape: (8,)\n",
    "hidden1 = keras.layers.Dense(30, activation='relu')(input_)  # pass it the input\n",
    "# pass it the output of the 1st hidden layer\n",
    "hidden2 = keras.layers.Dense(30, activation='relu')(hidden1)\n",
    "# concat = keras.layers.concatenate([input_, hidden2])\n",
    "concat = keras.layers.Concatenate()([input_, hidden2])\n",
    "# output layer with a single unit and no activation function\n",
    "output = keras.layers.Dense(1)(concat)\n",
    "model = keras.Model(inputs=[input_], outputs=[output])\n",
    "\n",
    "model.summary()"
   ]
  },
  {
   "cell_type": "markdown",
   "metadata": {},
   "source": [
    "+ **`Input` layer** is a specification of the kind of input the model will get, including its `shape` and `dtype`. A model may actually have multiple inputs.\n",
    "\n",
    "\n",
    "+ **The `Dense` layers were called like a function, passing it the input.** **<font color='blue'>This is why this is called the Functional API.</font>** Note that we are **just telling Keras how it should connect the layers together; no actual data is being processed yet.**\n",
    "\n",
    "\n",
    "+ You may prefer the **`keras.layers.concatenate()` function**, which creates a `Concatenate` layer and immediately calls it with the given inputs.\n",
    "\n",
    "\n",
    "+ Create a Keras Model, specifying which inputs and outputs to use."
   ]
  },
  {
   "cell_type": "markdown",
   "metadata": {},
   "source": [
    "当构建 Keras 模型后，其他部分与 Sequential 模型一样。"
   ]
  },
  {
   "cell_type": "code",
   "execution_count": 57,
   "metadata": {
    "ExecuteTime": {
     "end_time": "2020-01-03T11:07:42.233758Z",
     "start_time": "2020-01-03T11:07:30.394853Z"
    },
    "collapsed": true
   },
   "outputs": [
    {
     "name": "stdout",
     "output_type": "stream",
     "text": [
      "Train on 11610 samples, validate on 3870 samples\n",
      "Epoch 1/20\n",
      "11610/11610 [==============================] - 1s 94us/sample - loss: 1.2474 - mae: 0.7958 - val_loss: 0.8727 - val_mae: 0.5975\n",
      "Epoch 2/20\n",
      "11610/11610 [==============================] - 1s 50us/sample - loss: 0.6341 - mae: 0.5799 - val_loss: 0.8881 - val_mae: 0.5628\n",
      "Epoch 3/20\n",
      "11610/11610 [==============================] - 1s 50us/sample - loss: 0.5885 - mae: 0.5552 - val_loss: 0.5573 - val_mae: 0.5347\n",
      "Epoch 4/20\n",
      "11610/11610 [==============================] - 1s 50us/sample - loss: 0.5599 - mae: 0.5411 - val_loss: 0.5238 - val_mae: 0.5185\n",
      "Epoch 5/20\n",
      "11610/11610 [==============================] - 1s 51us/sample - loss: 0.5367 - mae: 0.5288 - val_loss: 0.6201 - val_mae: 0.5152\n",
      "Epoch 6/20\n",
      "11610/11610 [==============================] - 1s 50us/sample - loss: 0.5170 - mae: 0.5173 - val_loss: 0.4979 - val_mae: 0.5012\n",
      "Epoch 7/20\n",
      "11610/11610 [==============================] - 1s 50us/sample - loss: 0.5022 - mae: 0.5120 - val_loss: 0.5240 - val_mae: 0.4968\n",
      "Epoch 8/20\n",
      "11610/11610 [==============================] - 1s 50us/sample - loss: 0.4885 - mae: 0.5031 - val_loss: 0.4538 - val_mae: 0.4851\n",
      "Epoch 9/20\n",
      "11610/11610 [==============================] - 1s 47us/sample - loss: 0.4778 - mae: 0.4984 - val_loss: 0.4906 - val_mae: 0.4818\n",
      "Epoch 10/20\n",
      "11610/11610 [==============================] - 1s 50us/sample - loss: 0.4673 - mae: 0.4921 - val_loss: 0.4332 - val_mae: 0.4730\n",
      "Epoch 11/20\n",
      "11610/11610 [==============================] - 1s 51us/sample - loss: 0.4585 - mae: 0.4876 - val_loss: 0.4430 - val_mae: 0.4723\n",
      "Epoch 12/20\n",
      "11610/11610 [==============================] - 1s 49us/sample - loss: 0.4508 - mae: 0.4832 - val_loss: 0.4182 - val_mae: 0.4649\n",
      "Epoch 13/20\n",
      "11610/11610 [==============================] - 1s 48us/sample - loss: 0.4437 - mae: 0.4793 - val_loss: 0.4282 - val_mae: 0.4643\n",
      "Epoch 14/20\n",
      "11610/11610 [==============================] - 1s 45us/sample - loss: 0.4375 - mae: 0.4764 - val_loss: 0.4053 - val_mae: 0.4571\n",
      "Epoch 15/20\n",
      "11610/11610 [==============================] - 1s 45us/sample - loss: 0.4316 - mae: 0.4728 - val_loss: 0.4192 - val_mae: 0.4576\n",
      "Epoch 16/20\n",
      "11610/11610 [==============================] - 1s 45us/sample - loss: 0.4263 - mae: 0.4696 - val_loss: 0.3946 - val_mae: 0.4503\n",
      "Epoch 17/20\n",
      "11610/11610 [==============================] - 1s 45us/sample - loss: 0.4216 - mae: 0.4664 - val_loss: 0.4018 - val_mae: 0.4503\n",
      "Epoch 18/20\n",
      "11610/11610 [==============================] - 1s 45us/sample - loss: 0.4168 - mae: 0.4635 - val_loss: 0.3910 - val_mae: 0.4493\n",
      "Epoch 19/20\n",
      "11610/11610 [==============================] - 1s 47us/sample - loss: 0.4131 - mae: 0.4619 - val_loss: 0.3829 - val_mae: 0.4428\n",
      "Epoch 20/20\n",
      "11610/11610 [==============================] - 1s 47us/sample - loss: 0.4093 - mae: 0.4595 - val_loss: 0.3807 - val_mae: 0.4409\n"
     ]
    }
   ],
   "source": [
    "model.compile(loss='mean_squared_error',\n",
    "              optimizer=keras.optimizers.SGD(lr=1e-3),\n",
    "              metrics=['mae'])\n",
    "\n",
    "history = model.fit(x_train, y_train, epochs=20, batch_size=32,\n",
    "                    validation_data=(x_valid, y_valid))"
   ]
  },
  {
   "cell_type": "code",
   "execution_count": 58,
   "metadata": {
    "ExecuteTime": {
     "end_time": "2020-01-03T11:07:42.395160Z",
     "start_time": "2020-01-03T11:07:42.235653Z"
    }
   },
   "outputs": [
    {
     "name": "stdout",
     "output_type": "stream",
     "text": [
      "5160/1 - 0s - loss: 0.3445 - mae: 0.4568\n"
     ]
    },
    {
     "data": {
      "text/plain": [
       "[0.4045557499855988, 0.45684075]"
      ]
     },
     "execution_count": 58,
     "metadata": {},
     "output_type": "execute_result"
    }
   ],
   "source": [
    "model.evaluate(x_test, y_test, verbose=2)"
   ]
  },
  {
   "cell_type": "markdown",
   "metadata": {},
   "source": [
    "+ **<font color='green'>multiple inputs and one output, connect part of the inputs directly to the output layer (part of the input features as the \"wide\")</font>**"
   ]
  },
  {
   "cell_type": "markdown",
   "metadata": {},
   "source": [
    "Q: What if you want to **send a subset of the features through the wide path and a different subset (possibly overlapping) through the deep path**?\n",
    "\n",
    "A: In this case, one solution is to use multiple inputs.\n",
    "\n",
    "![多输入](./figs/chap10-figs/handling-multiple-inputs.png)"
   ]
  },
  {
   "cell_type": "code",
   "execution_count": 59,
   "metadata": {
    "ExecuteTime": {
     "end_time": "2020-01-03T11:07:42.440442Z",
     "start_time": "2020-01-03T11:07:42.396874Z"
    }
   },
   "outputs": [
    {
     "name": "stdout",
     "output_type": "stream",
     "text": [
      "Model: \"model\"\n",
      "__________________________________________________________________________________________________\n",
      "Layer (type)                    Output Shape         Param #     Connected to                     \n",
      "==================================================================================================\n",
      "deep_input (InputLayer)         [(None, 8)]          0                                            \n",
      "__________________________________________________________________________________________________\n",
      "dense (Dense)                   (None, 30)           270         deep_input[0][0]                 \n",
      "__________________________________________________________________________________________________\n",
      "wide_input (InputLayer)         [(None, 5)]          0                                            \n",
      "__________________________________________________________________________________________________\n",
      "dense_1 (Dense)                 (None, 30)           930         dense[0][0]                      \n",
      "__________________________________________________________________________________________________\n",
      "concatenate (Concatenate)       (None, 35)           0           wide_input[0][0]                 \n",
      "                                                                 dense_1[0][0]                    \n",
      "__________________________________________________________________________________________________\n",
      "output (Dense)                  (None, 1)            36          concatenate[0][0]                \n",
      "==================================================================================================\n",
      "Total params: 1,236\n",
      "Trainable params: 1,236\n",
      "Non-trainable params: 0\n",
      "__________________________________________________________________________________________________\n"
     ]
    }
   ],
   "source": [
    "np.random.seed(42)\n",
    "tf.random.set_seed(42)\n",
    "tf.keras.backend.clear_session()\n",
    "\n",
    "# send 5 features through the wide path (features 0 - 4)\n",
    "# and all features through the deep path\n",
    "input_A = keras.layers.Input(shape=[5], name='wide_input')\n",
    "input_B = keras.layers.Input(shape=x_train.shape[1:], name='deep_input')\n",
    "hidden1 = keras.layers.Dense(30, activation='relu')(input_B)\n",
    "hidden2 = keras.layers.Dense(30, activation='relu')(hidden1)\n",
    "concat = keras.layers.concatenate([input_A, hidden2])\n",
    "output = keras.layers.Dense(1, name='output')(concat)\n",
    "model = keras.Model(inputs=[input_A, input_B], outputs=[output])\n",
    "\n",
    "model.summary()"
   ]
  },
  {
   "cell_type": "markdown",
   "metadata": {},
   "source": [
    "**<font color='blue'>You should name at least the most important layers, especially when the model gets a bit complex like this.</font>**\n",
    "\n",
    "We must pass a pair of matrices `(x_train_A, x_train_B)`: one per input when calling the `fit()` (or `evaluate()` or `predict()`) method."
   ]
  },
  {
   "cell_type": "code",
   "execution_count": 60,
   "metadata": {
    "ExecuteTime": {
     "end_time": "2020-01-03T11:07:42.446504Z",
     "start_time": "2020-01-03T11:07:42.442902Z"
    }
   },
   "outputs": [],
   "source": [
    "x_train_A, x_train_B = x_train[:, :5], x_train[:, :]\n",
    "x_valid_A, x_valid_B = x_valid[:, :5], x_valid[:, :]\n",
    "x_test_A, x_test_B = x_test[:, :5], x_test[:, :]"
   ]
  },
  {
   "cell_type": "code",
   "execution_count": 61,
   "metadata": {
    "ExecuteTime": {
     "end_time": "2020-01-03T11:07:52.945985Z",
     "start_time": "2020-01-03T11:07:42.448890Z"
    },
    "collapsed": true
   },
   "outputs": [
    {
     "name": "stdout",
     "output_type": "stream",
     "text": [
      "Train on 11610 samples, validate on 3870 samples\n",
      "Epoch 1/20\n",
      "11610/11610 [==============================] - 1s 80us/sample - loss: 1.9107 - mae: 1.0213 - val_loss: 5.3144 - val_mae: 0.6943\n",
      "Epoch 2/20\n",
      "11610/11610 [==============================] - 1s 47us/sample - loss: 0.7137 - mae: 0.6210 - val_loss: 0.7097 - val_mae: 0.5887\n",
      "Epoch 3/20\n",
      "11610/11610 [==============================] - 1s 48us/sample - loss: 0.6270 - mae: 0.5834 - val_loss: 0.5938 - val_mae: 0.5645\n",
      "Epoch 4/20\n",
      "11610/11610 [==============================] - 1s 46us/sample - loss: 0.5898 - mae: 0.5642 - val_loss: 0.5712 - val_mae: 0.5453\n",
      "Epoch 5/20\n",
      "11610/11610 [==============================] - 1s 46us/sample - loss: 0.5604 - mae: 0.5471 - val_loss: 0.5308 - val_mae: 0.5285\n",
      "Epoch 6/20\n",
      "11610/11610 [==============================] - 1s 45us/sample - loss: 0.5341 - mae: 0.5317 - val_loss: 0.5385 - val_mae: 0.5174\n",
      "Epoch 7/20\n",
      "11610/11610 [==============================] - 1s 44us/sample - loss: 0.5133 - mae: 0.5217 - val_loss: 0.4951 - val_mae: 0.5058\n",
      "Epoch 8/20\n",
      "11610/11610 [==============================] - 0s 43us/sample - loss: 0.4958 - mae: 0.5102 - val_loss: 0.4907 - val_mae: 0.4963\n",
      "Epoch 9/20\n",
      "11610/11610 [==============================] - 1s 44us/sample - loss: 0.4815 - mae: 0.5023 - val_loss: 0.4585 - val_mae: 0.4834\n",
      "Epoch 10/20\n",
      "11610/11610 [==============================] - 0s 41us/sample - loss: 0.4685 - mae: 0.4941 - val_loss: 0.4505 - val_mae: 0.4768\n",
      "Epoch 11/20\n",
      "11610/11610 [==============================] - 0s 41us/sample - loss: 0.4578 - mae: 0.4874 - val_loss: 0.4349 - val_mae: 0.4725\n",
      "Epoch 12/20\n",
      "11610/11610 [==============================] - 1s 44us/sample - loss: 0.4490 - mae: 0.4825 - val_loss: 0.4256 - val_mae: 0.4658\n",
      "Epoch 13/20\n",
      "11610/11610 [==============================] - 0s 41us/sample - loss: 0.4409 - mae: 0.4775 - val_loss: 0.4162 - val_mae: 0.4626\n",
      "Epoch 14/20\n",
      "11610/11610 [==============================] - 0s 41us/sample - loss: 0.4344 - mae: 0.4742 - val_loss: 0.4143 - val_mae: 0.4572\n",
      "Epoch 15/20\n",
      "11610/11610 [==============================] - 0s 40us/sample - loss: 0.4282 - mae: 0.4706 - val_loss: 0.4024 - val_mae: 0.4546\n",
      "Epoch 16/20\n",
      "11610/11610 [==============================] - 0s 39us/sample - loss: 0.4228 - mae: 0.4672 - val_loss: 0.3991 - val_mae: 0.4496\n",
      "Epoch 17/20\n",
      "11610/11610 [==============================] - 0s 40us/sample - loss: 0.4182 - mae: 0.4642 - val_loss: 0.3929 - val_mae: 0.4483\n",
      "Epoch 18/20\n",
      "11610/11610 [==============================] - 0s 43us/sample - loss: 0.4135 - mae: 0.4615 - val_loss: 0.3889 - val_mae: 0.4490\n",
      "Epoch 19/20\n",
      "11610/11610 [==============================] - 0s 40us/sample - loss: 0.4098 - mae: 0.4603 - val_loss: 0.3851 - val_mae: 0.4427\n",
      "Epoch 20/20\n",
      "11610/11610 [==============================] - 0s 42us/sample - loss: 0.4061 - mae: 0.4579 - val_loss: 0.3821 - val_mae: 0.4412\n"
     ]
    }
   ],
   "source": [
    "model.compile(loss='mse',\n",
    "              optimizer=keras.optimizers.SGD(lr=1e-3),\n",
    "              metrics=['mae'])\n",
    "\n",
    "history = model.fit([x_train_A, x_train_B], y_train, epochs=20, batch_size=32,\n",
    "                    validation_data=((x_valid_A, x_valid_B), y_valid))"
   ]
  },
  {
   "cell_type": "code",
   "execution_count": 62,
   "metadata": {
    "ExecuteTime": {
     "end_time": "2020-01-03T11:07:53.109663Z",
     "start_time": "2020-01-03T11:07:52.947534Z"
    }
   },
   "outputs": [
    {
     "name": "stdout",
     "output_type": "stream",
     "text": [
      "5160/1 - 0s - loss: 0.3207 - mae: 0.4544\n"
     ]
    },
    {
     "data": {
      "text/plain": [
       "[0.4011351616114609, 0.45436996]"
      ]
     },
     "execution_count": 62,
     "metadata": {},
     "output_type": "execute_result"
    }
   ],
   "source": [
    "model.evaluate((x_test_A, x_test_B), y_test, verbose=2)"
   ]
  },
  {
   "cell_type": "markdown",
   "metadata": {},
   "source": [
    "+ **<font color='green'> multiple inputs and multiple outputs</font>**"
   ]
  },
  {
   "cell_type": "markdown",
   "metadata": {},
   "source": [
    "**<font color='red'>When do we want to have multiple outputs?</font>**\n",
    "\n",
    "+ The task may demand it. (识别并定位到图片中的主要对象）\n",
    "\n",
    "\n",
    "+ **Have multiple independent tasks based on the same data**. Sure, you could train one NN per task, but **<font color='blue'>in many cases you will get better results on all tasks by training a single NN with one output per task</font>**. This is because the neural network can learn features in the data that are useful across tasks. (一个输出用来识别人的表情，一个输出用来识别是否带眼镜了。)\n",
    "\n",
    "\n",
    "+ Another use case is **<font color='blue'>as a regularization technique</font>** (i.e., **a training constraint whose objective is to reduce overfitting and thus improve the model’s ability to generalize**). For example, you may want to **<font color='blue'>add some auxiliary outputs</font>** in a neural network architecture (see Figure below) to **ensure that the underlying part of the network learns something useful on its own, without relying on the rest of the network**.\n",
    "\n",
    "\n",
    "![multiple outputs](./figs/chap10-figs/handling-multiple-outputs-adding-an-auxiliary-output.png)\n",
    "<center>handling multiple outputs, in this example to add an auxiliary output for regularization</center>"
   ]
  },
  {
   "cell_type": "code",
   "execution_count": 63,
   "metadata": {
    "ExecuteTime": {
     "end_time": "2020-01-03T11:07:53.168254Z",
     "start_time": "2020-01-03T11:07:53.111604Z"
    }
   },
   "outputs": [
    {
     "name": "stdout",
     "output_type": "stream",
     "text": [
      "Model: \"model\"\n",
      "__________________________________________________________________________________________________\n",
      "Layer (type)                    Output Shape         Param #     Connected to                     \n",
      "==================================================================================================\n",
      "deep (InputLayer)               [(None, 8)]          0                                            \n",
      "__________________________________________________________________________________________________\n",
      "dense (Dense)                   (None, 30)           270         deep[0][0]                       \n",
      "__________________________________________________________________________________________________\n",
      "wide (InputLayer)               [(None, 5)]          0                                            \n",
      "__________________________________________________________________________________________________\n",
      "dense_1 (Dense)                 (None, 30)           930         dense[0][0]                      \n",
      "__________________________________________________________________________________________________\n",
      "concatenate (Concatenate)       (None, 35)           0           wide[0][0]                       \n",
      "                                                                 dense_1[0][0]                    \n",
      "__________________________________________________________________________________________________\n",
      "main_output (Dense)             (None, 1)            36          concatenate[0][0]                \n",
      "__________________________________________________________________________________________________\n",
      "aux_output (Dense)              (None, 1)            31          dense_1[0][0]                    \n",
      "==================================================================================================\n",
      "Total params: 1,267\n",
      "Trainable params: 1,267\n",
      "Non-trainable params: 0\n",
      "__________________________________________________________________________________________________\n"
     ]
    }
   ],
   "source": [
    "np.random.seed(42)\n",
    "tf.random.set_seed(42)\n",
    "tf.keras.backend.clear_session()\n",
    "\n",
    "# add an auxiliary output for regularization\n",
    "input_A = keras.layers.Input(shape=[5], name='wide')\n",
    "input_B = keras.layers.Input(shape=x_train.shape[1:], name='deep')\n",
    "hidden1 = keras.layers.Dense(30, activation='relu')(input_B)\n",
    "hidden2 = keras.layers.Dense(30, activation='relu')(hidden1)\n",
    "aux_output = keras.layers.Dense(1, name='aux_output')(hidden2)  # auxiliary output\n",
    "concat = keras.layers.concatenate([input_A, hidden2])\n",
    "main_output = keras.layers.Dense(1, name='main_output')(concat)\n",
    "\n",
    "model = keras.Model(inputs=[input_A, input_B],\n",
    "                    outputs=[main_output, aux_output])\n",
    "\n",
    "model.summary()"
   ]
  },
  {
   "cell_type": "markdown",
   "metadata": {},
   "source": [
    "**<font color='blue'>Each output will need its own loss function.</font>** When compiling the model, we **should pass a list of losses** (**if we pass a single loss**, Keras will assume that the same loss must be used for all outputs. **By default, Keras will compute all these losses and simply add them up to get the final loss used for training**. We care much more about the main output than about the auxiliary output (as it is just used for regularization), so we want to **give the main output’s loss a much greater weight**."
   ]
  },
  {
   "cell_type": "code",
   "execution_count": 64,
   "metadata": {
    "ExecuteTime": {
     "end_time": "2020-01-03T11:08:04.698382Z",
     "start_time": "2020-01-03T11:07:53.171045Z"
    },
    "collapsed": true
   },
   "outputs": [
    {
     "name": "stdout",
     "output_type": "stream",
     "text": [
      "Train on 11610 samples, validate on 3870 samples\n",
      "Epoch 1/20\n",
      "11610/11610 [==============================] - 1s 118us/sample - loss: 2.0433 - main_output_loss: 1.7025 - aux_output_loss: 5.1032 - main_output_mae: 0.9097 - aux_output_mae: 1.9629 - val_loss: 6.4848 - val_main_output_loss: 6.8398 - val_aux_output_loss: 3.2592 - val_main_output_mae: 0.7015 - val_aux_output_mae: 1.4675\n",
      "Epoch 2/20\n",
      "11610/11610 [==============================] - 1s 51us/sample - loss: 0.9219 - main_output_loss: 0.7600 - aux_output_loss: 2.3784 - main_output_mae: 0.6321 - aux_output_mae: 1.2029 - val_loss: 1.6743 - val_main_output_loss: 1.6316 - val_aux_output_loss: 2.0519 - val_main_output_mae: 0.6140 - val_aux_output_mae: 0.9602\n",
      "Epoch 3/20\n",
      "11610/11610 [==============================] - 1s 49us/sample - loss: 0.7358 - main_output_loss: 0.6670 - aux_output_loss: 1.3535 - main_output_mae: 0.5969 - aux_output_mae: 0.8474 - val_loss: 0.9784 - val_main_output_loss: 0.9267 - val_aux_output_loss: 1.4405 - val_main_output_mae: 0.5874 - val_aux_output_mae: 0.7420\n",
      "Epoch 4/20\n",
      "11610/11610 [==============================] - 1s 49us/sample - loss: 0.6585 - main_output_loss: 0.6263 - aux_output_loss: 0.9468 - main_output_mae: 0.5777 - aux_output_mae: 0.7062 - val_loss: 0.7489 - val_main_output_loss: 0.6974 - val_aux_output_loss: 1.2102 - val_main_output_mae: 0.5611 - val_aux_output_mae: 0.6684\n",
      "Epoch 5/20\n",
      "11610/11610 [==============================] - 1s 51us/sample - loss: 0.6138 - main_output_loss: 0.5947 - aux_output_loss: 0.7850 - main_output_mae: 0.5607 - aux_output_mae: 0.6532 - val_loss: 0.6540 - val_main_output_loss: 0.5997 - val_aux_output_loss: 1.1405 - val_main_output_mae: 0.5405 - val_aux_output_mae: 0.6386\n",
      "Epoch 6/20\n",
      "11610/11610 [==============================] - 1s 45us/sample - loss: 0.5812 - main_output_loss: 0.5674 - aux_output_loss: 0.7043 - main_output_mae: 0.5449 - aux_output_mae: 0.6259 - val_loss: 0.6057 - val_main_output_loss: 0.5462 - val_aux_output_loss: 1.1398 - val_main_output_mae: 0.5263 - val_aux_output_mae: 0.6226\n",
      "Epoch 7/20\n",
      "11610/11610 [==============================] - 1s 45us/sample - loss: 0.5550 - main_output_loss: 0.5432 - aux_output_loss: 0.6615 - main_output_mae: 0.5339 - aux_output_mae: 0.6101 - val_loss: 0.5767 - val_main_output_loss: 0.5146 - val_aux_output_loss: 1.1342 - val_main_output_mae: 0.5158 - val_aux_output_mae: 0.6051\n",
      "Epoch 8/20\n",
      "11610/11610 [==============================] - 1s 44us/sample - loss: 0.5332 - main_output_loss: 0.5231 - aux_output_loss: 0.6240 - main_output_mae: 0.5216 - aux_output_mae: 0.5922 - val_loss: 0.5547 - val_main_output_loss: 0.4882 - val_aux_output_loss: 1.1514 - val_main_output_mae: 0.5039 - val_aux_output_mae: 0.5915\n",
      "Epoch 9/20\n",
      "11610/11610 [==============================] - 1s 44us/sample - loss: 0.5149 - main_output_loss: 0.5057 - aux_output_loss: 0.5984 - main_output_mae: 0.5123 - aux_output_mae: 0.5788 - val_loss: 0.5381 - val_main_output_loss: 0.4704 - val_aux_output_loss: 1.1459 - val_main_output_mae: 0.4925 - val_aux_output_mae: 0.5773\n",
      "Epoch 10/20\n",
      "11610/11610 [==============================] - 1s 43us/sample - loss: 0.4989 - main_output_loss: 0.4903 - aux_output_loss: 0.5762 - main_output_mae: 0.5036 - aux_output_mae: 0.5660 - val_loss: 0.5246 - val_main_output_loss: 0.4561 - val_aux_output_loss: 1.1393 - val_main_output_mae: 0.4848 - val_aux_output_mae: 0.5652\n",
      "Epoch 11/20\n",
      "11610/11610 [==============================] - 1s 44us/sample - loss: 0.4855 - main_output_loss: 0.4774 - aux_output_loss: 0.5579 - main_output_mae: 0.4961 - aux_output_mae: 0.5549 - val_loss: 0.5126 - val_main_output_loss: 0.4452 - val_aux_output_loss: 1.1181 - val_main_output_mae: 0.4803 - val_aux_output_mae: 0.5553\n",
      "Epoch 12/20\n",
      "11610/11610 [==============================] - 1s 46us/sample - loss: 0.4745 - main_output_loss: 0.4669 - aux_output_loss: 0.5426 - main_output_mae: 0.4905 - aux_output_mae: 0.5456 - val_loss: 0.5012 - val_main_output_loss: 0.4343 - val_aux_output_loss: 1.1016 - val_main_output_mae: 0.4736 - val_aux_output_mae: 0.5453\n",
      "Epoch 13/20\n",
      "11610/11610 [==============================] - 1s 51us/sample - loss: 0.4646 - main_output_loss: 0.4575 - aux_output_loss: 0.5302 - main_output_mae: 0.4849 - aux_output_mae: 0.5367 - val_loss: 0.4905 - val_main_output_loss: 0.4262 - val_aux_output_loss: 1.0674 - val_main_output_mae: 0.4708 - val_aux_output_mae: 0.5380\n",
      "Epoch 14/20\n",
      "11610/11610 [==============================] - 1s 44us/sample - loss: 0.4566 - main_output_loss: 0.4497 - aux_output_loss: 0.5192 - main_output_mae: 0.4812 - aux_output_mae: 0.5303 - val_loss: 0.4806 - val_main_output_loss: 0.4181 - val_aux_output_loss: 1.0419 - val_main_output_mae: 0.4640 - val_aux_output_mae: 0.5286\n",
      "Epoch 15/20\n",
      "11610/11610 [==============================] - 0s 43us/sample - loss: 0.4493 - main_output_loss: 0.4426 - aux_output_loss: 0.5094 - main_output_mae: 0.4767 - aux_output_mae: 0.5230 - val_loss: 0.4720 - val_main_output_loss: 0.4128 - val_aux_output_loss: 1.0031 - val_main_output_mae: 0.4621 - val_aux_output_mae: 0.5224\n",
      "Epoch 16/20\n",
      "11610/11610 [==============================] - 0s 42us/sample - loss: 0.4432 - main_output_loss: 0.4368 - aux_output_loss: 0.5010 - main_output_mae: 0.4736 - aux_output_mae: 0.5173 - val_loss: 0.4634 - val_main_output_loss: 0.4070 - val_aux_output_loss: 0.9696 - val_main_output_mae: 0.4566 - val_aux_output_mae: 0.5146\n",
      "Epoch 17/20\n",
      "11610/11610 [==============================] - 0s 41us/sample - loss: 0.4381 - main_output_loss: 0.4318 - aux_output_loss: 0.4937 - main_output_mae: 0.4702 - aux_output_mae: 0.5120 - val_loss: 0.4573 - val_main_output_loss: 0.4046 - val_aux_output_loss: 0.9295 - val_main_output_mae: 0.4567 - val_aux_output_mae: 0.5100\n",
      "Epoch 18/20\n",
      "11610/11610 [==============================] - 0s 41us/sample - loss: 0.4330 - main_output_loss: 0.4270 - aux_output_loss: 0.4869 - main_output_mae: 0.4676 - aux_output_mae: 0.5069 - val_loss: 0.4521 - val_main_output_loss: 0.4020 - val_aux_output_loss: 0.9015 - val_main_output_mae: 0.4561 - val_aux_output_mae: 0.5058\n",
      "Epoch 19/20\n",
      "11610/11610 [==============================] - 0s 42us/sample - loss: 0.4290 - main_output_loss: 0.4232 - aux_output_loss: 0.4813 - main_output_mae: 0.4658 - aux_output_mae: 0.5033 - val_loss: 0.4462 - val_main_output_loss: 0.3989 - val_aux_output_loss: 0.8704 - val_main_output_mae: 0.4504 - val_aux_output_mae: 0.4993\n",
      "Epoch 20/20\n",
      "11610/11610 [==============================] - 1s 44us/sample - loss: 0.4249 - main_output_loss: 0.4192 - aux_output_loss: 0.4762 - main_output_mae: 0.4634 - aux_output_mae: 0.4994 - val_loss: 0.4422 - val_main_output_loss: 0.3978 - val_aux_output_loss: 0.8405 - val_main_output_mae: 0.4485 - val_aux_output_mae: 0.4943\n"
     ]
    }
   ],
   "source": [
    "model.compile(\n",
    "    loss=['mse', 'mse'],  # each output need its own loss function\n",
    "    loss_weights=[0.9, 0.1],  # give the main output's loss a much greater weight\n",
    "    optimizer=keras.optimizers.SGD(lr=1e-3),\n",
    "    metrics=['mae']\n",
    ")\n",
    "\n",
    "history = model.fit(\n",
    "    [x_train_A, x_train_B], [y_train, y_train], epochs=20, batch_size=32,\n",
    "    validation_data=([x_valid_A, x_valid_B], [y_valid, y_valid])\n",
    ")"
   ]
  },
  {
   "cell_type": "code",
   "execution_count": 65,
   "metadata": {
    "ExecuteTime": {
     "end_time": "2020-01-03T11:08:04.860974Z",
     "start_time": "2020-01-03T11:08:04.699897Z"
    }
   },
   "outputs": [
    {
     "name": "stdout",
     "output_type": "stream",
     "text": [
      "5160/1 - 0s - loss: 0.3391 - main_output_loss: 0.4158 - aux_output_loss: 0.4657 - main_output_mae: 0.4600 - aux_output_mae: 0.4941\n"
     ]
    },
    {
     "data": {
      "text/plain": [
       "[0.4215106489122376, 0.41575122, 0.46571365, 0.46003705, 0.49408868]"
      ]
     },
     "execution_count": 65,
     "metadata": {},
     "output_type": "execute_result"
    }
   ],
   "source": [
    "# When evaluate the model,\n",
    "# Keras will return the total loss, as well as all the individual losses.\n",
    "model.evaluate((x_test_A, x_test_B), (y_test, y_test), verbose=2)"
   ]
  },
  {
   "cell_type": "code",
   "execution_count": 66,
   "metadata": {
    "ExecuteTime": {
     "end_time": "2020-01-03T11:08:05.033054Z",
     "start_time": "2020-01-03T11:08:04.862672Z"
    }
   },
   "outputs": [
    {
     "name": "stdout",
     "output_type": "stream",
     "text": [
      "5160/1 - 0s - loss: 0.3391 - main_output_loss: 0.4158 - aux_output_loss: 0.4657 - main_output_mae: 0.4600 - aux_output_mae: 0.4941\n"
     ]
    }
   ],
   "source": [
    "total_loss, main_loss, aux_loss, main_mae, aux_mae = model.evaluate(\n",
    "    (x_test_A, x_test_B), (y_test, y_test), verbose=2)"
   ]
  },
  {
   "cell_type": "code",
   "execution_count": 67,
   "metadata": {
    "ExecuteTime": {
     "end_time": "2020-01-03T11:08:05.037404Z",
     "start_time": "2020-01-03T11:08:05.034757Z"
    }
   },
   "outputs": [
    {
     "name": "stdout",
     "output_type": "stream",
     "text": [
      "0.4215106489122376 0.41575122 0.46571365 0.46003705 0.49408868\n"
     ]
    }
   ],
   "source": [
    "print(total_loss, main_loss, aux_loss, main_mae, aux_mae)"
   ]
  },
  {
   "cell_type": "code",
   "execution_count": 68,
   "metadata": {
    "ExecuteTime": {
     "end_time": "2020-01-03T11:08:05.057108Z",
     "start_time": "2020-01-03T11:08:05.053717Z"
    }
   },
   "outputs": [
    {
     "data": {
      "text/plain": [
       "0.4207474619150162"
      ]
     },
     "execution_count": 68,
     "metadata": {},
     "output_type": "execute_result"
    }
   ],
   "source": [
    "main_loss*0.9 + aux_loss*0.1"
   ]
  },
  {
   "cell_type": "code",
   "execution_count": 69,
   "metadata": {
    "ExecuteTime": {
     "end_time": "2020-01-03T11:08:05.252277Z",
     "start_time": "2020-01-03T11:08:05.066191Z"
    }
   },
   "outputs": [
    {
     "data": {
      "text/plain": [
       "[array([[0.42462975],\n",
       "        [1.6918638 ],\n",
       "        [3.365356  ],\n",
       "        ...,\n",
       "        [1.2852559 ],\n",
       "        [2.5727158 ],\n",
       "        [3.813661  ]], dtype=float32), array([[0.60257137],\n",
       "        [1.6257426 ],\n",
       "        [3.073895  ],\n",
       "        ...,\n",
       "        [1.5508424 ],\n",
       "        [2.1593542 ],\n",
       "        [3.7511044 ]], dtype=float32)]"
      ]
     },
     "execution_count": 69,
     "metadata": {},
     "output_type": "execute_result"
    }
   ],
   "source": [
    "# return predictions for each output:\n",
    "y_preds = model.predict([x_test_A, x_test_B])\n",
    "y_preds"
   ]
  },
  {
   "cell_type": "code",
   "execution_count": 70,
   "metadata": {
    "ExecuteTime": {
     "end_time": "2020-01-03T11:08:05.257917Z",
     "start_time": "2020-01-03T11:08:05.254139Z"
    }
   },
   "outputs": [
    {
     "data": {
      "text/plain": [
       "array([0.477  , 0.458  , 5.00001, ..., 1.177  , 2.631  , 4.815  ])"
      ]
     },
     "execution_count": 70,
     "metadata": {},
     "output_type": "execute_result"
    }
   ],
   "source": [
    "y_test"
   ]
  },
  {
   "cell_type": "code",
   "execution_count": 71,
   "metadata": {
    "ExecuteTime": {
     "end_time": "2020-01-03T11:08:05.263886Z",
     "start_time": "2020-01-03T11:08:05.259620Z"
    }
   },
   "outputs": [
    {
     "data": {
      "text/plain": [
       "array([0.42462975, 1.6918638 , 3.365356  , ..., 1.2852559 , 2.5727158 ,\n",
       "       3.813661  ], dtype=float32)"
      ]
     },
     "execution_count": 71,
     "metadata": {},
     "output_type": "execute_result"
    }
   ],
   "source": [
    "y_preds[0].flatten()"
   ]
  },
  {
   "cell_type": "markdown",
   "metadata": {},
   "source": [
    "### 2.4 Build dynamic models using the subclassing API"
   ]
  },
  {
   "cell_type": "markdown",
   "metadata": {},
   "source": [
    "<font color='blue'>Both the Sequential API and the Functional API are declarative</font> (陈述的、说明的): you <font color='blue'>start by declaring which layers you want to use and how they should be connected, and only then can you start feeding the model some data for training or inference</font>.\n",
    "\n",
    "**<font color='Crimson'>Sequential API 和 Functional API 的优点：</font>**\n",
    "\n",
    "+ the model can easily be saved, cloned, and shared\n",
    "\n",
    "\n",
    "+ model's structure can be displayed and analyzed\n",
    "\n",
    "\n",
    "+ the framework can infer shapes and check types, so errors can be caught early (i.e., before any data ever goes through the model)\n",
    "\n",
    "\n",
    "+ also fairly easy to debug, since the whole model is a static graph of layers\n",
    "\n",
    "<br>\n",
    "\n",
    "**<font color='Crimson'>Sequential API 和 Functional API 的缺点：</font>** **It is static.** Some models involve loops, varying shapes, conditional branching, and other dynamic behaviors. For such cases, or simply if you prefer a more imperative programming style, the Subclassing API is for you."
   ]
  },
  {
   "cell_type": "markdown",
   "metadata": {},
   "source": [
    "**Simply subclass the `Model` class, create the layers you need in the constructor, and then use them to perform the computations you want in the `call()` method.**"
   ]
  },
  {
   "cell_type": "code",
   "execution_count": 72,
   "metadata": {
    "ExecuteTime": {
     "end_time": "2020-01-03T11:08:05.273609Z",
     "start_time": "2020-01-03T11:08:05.265508Z"
    }
   },
   "outputs": [],
   "source": [
    "np.random.seed(42)\n",
    "tf.random.set_seed(42)\n",
    "tf.keras.backend.clear_session()"
   ]
  },
  {
   "cell_type": "code",
   "execution_count": 73,
   "metadata": {
    "ExecuteTime": {
     "end_time": "2020-01-03T11:08:05.281922Z",
     "start_time": "2020-01-03T11:08:05.275325Z"
    }
   },
   "outputs": [],
   "source": [
    "# Create a `WideAndDeepModel` class (== the functional model above)\n",
    "class WideAndDeepModel(keras.Model):\n",
    "    \"\"\"Creating a class gives us an equivalent model to the one we just built\n",
    "    with the Functional API. We can then compile it, evaluate it, and use it\n",
    "    to make predictions, exactly like we just did.\n",
    "    \"\"\"\n",
    "    def __init__(self, units=30, activation='relu', **kwargs):\n",
    "        super().__init__(**kwargs)  # handles standard args (e.g., name)\n",
    "        self.hidden1 = keras.layers.Dense(units, activation=activation)\n",
    "        self.hidden2 = keras.layers.Dense(units, activation=activation)\n",
    "        self.main_output = keras.layers.Dense(1)\n",
    "        self.aux_output = keras.layers.Dense(1)\n",
    "\n",
    "    # separate the creation of the layers in the constructor \n",
    "    # from their usage in the `call()` method\n",
    "    def call(self, inputs):\n",
    "        # do not need to create inputs,\n",
    "        # just use the `input` arg to the `call()` method\n",
    "        input_A, input_B = inputs\n",
    "        # you can do pretty much anything you want in the `call()` method\n",
    "        hidden1 = self.hidden1(input_B)\n",
    "        hidden2 = self.hidden2(hidden1)\n",
    "        aux_output = self.aux_output(hidden2)\n",
    "        concat = keras.layers.concatenate([input_A, hidden2])\n",
    "        main_output = self.main_output(concat)\n",
    "        return main_output, aux_output"
   ]
  },
  {
   "cell_type": "markdown",
   "metadata": {},
   "source": [
    "+ Do not need to create the inputs; we just use the `input` argument to the `call()` method.\n",
    "\n",
    "\n",
    "+ Separate the creation of the layers in the constructor from their usage in the `call()` method.\n",
    "\n",
    "\n",
    "+ **You can do pretty much anything you want in the `call()` method: `for` loops, `if` statements, low-level TensorFlow operations** (the big difference). This makes it a great API for researchers experimenting with new ideas."
   ]
  },
  {
   "cell_type": "markdown",
   "metadata": {},
   "source": [
    "**<font color='red'>subclassing API 的缺点：</font>**\n",
    "\n",
    "This extra flexibility does come at a cost:\n",
    "\n",
    "+ model’s architecture is hidden within the `call()` method, so Keras **cannot easily inspect it**\n",
    "\n",
    "\n",
    "+ **cannot save or clone it**\n",
    "\n",
    "\n",
    "+ when you call the **`summary()`** method, you **only get a list of layers**, without any information on how they are connected to each other\n",
    "\n",
    "\n",
    "+ Keras **cannot check types and shapes ahead of time**, and it is easier to make mistakes.\n",
    "\n",
    "**<font color='blue'>So unless you really need that extra flexibility, you should probably stick to the Sequential API or the Functional API.</font>**"
   ]
  },
  {
   "cell_type": "code",
   "execution_count": 74,
   "metadata": {
    "ExecuteTime": {
     "end_time": "2020-01-03T11:08:05.290594Z",
     "start_time": "2020-01-03T11:08:05.283781Z"
    }
   },
   "outputs": [],
   "source": [
    "model = WideAndDeepModel(30, activation='relu')"
   ]
  },
  {
   "cell_type": "code",
   "execution_count": 75,
   "metadata": {
    "ExecuteTime": {
     "end_time": "2020-01-03T11:08:05.296346Z",
     "start_time": "2020-01-03T11:08:05.292909Z"
    }
   },
   "outputs": [
    {
     "name": "stdout",
     "output_type": "stream",
     "text": [
      "ValueError: This model has not yet been built. Build the model first by calling `build()` or calling `fit()` with some data, or specify an `input_shape` argument in the first layer(s) for automatic build.\n"
     ]
    }
   ],
   "source": [
    "try:\n",
    "    model.summary()\n",
    "except ValueError as e:\n",
    "    print(\"ValueError:\", e)"
   ]
  },
  {
   "cell_type": "code",
   "execution_count": 76,
   "metadata": {
    "ExecuteTime": {
     "end_time": "2020-01-03T11:08:05.302139Z",
     "start_time": "2020-01-03T11:08:05.298475Z"
    }
   },
   "outputs": [],
   "source": [
    "model.compile(\n",
    "    # If we pass a single loss,\n",
    "    # Keras will assume that the same loss must be used for all outputs\n",
    "    loss='mse',\n",
    "    # give the main output’s loss a much greater weight\n",
    "    loss_weights=[0.9, 0.1],  # list or dictionary\n",
    "    optimizer=keras.optimizers.SGD(lr=1e-3),\n",
    "    metrics=['mae'])"
   ]
  },
  {
   "cell_type": "code",
   "execution_count": 77,
   "metadata": {
    "ExecuteTime": {
     "end_time": "2020-01-03T11:08:05.307410Z",
     "start_time": "2020-01-03T11:08:05.304215Z"
    }
   },
   "outputs": [
    {
     "name": "stdout",
     "output_type": "stream",
     "text": [
      "ValueError: This model has not yet been built. Build the model first by calling `build()` or calling `fit()` with some data, or specify an `input_shape` argument in the first layer(s) for automatic build.\n"
     ]
    }
   ],
   "source": [
    "try:\n",
    "    model.summary()\n",
    "except ValueError as e:\n",
    "    print(\"ValueError:\", e)"
   ]
  },
  {
   "cell_type": "code",
   "execution_count": 78,
   "metadata": {
    "ExecuteTime": {
     "end_time": "2020-01-03T11:08:17.085677Z",
     "start_time": "2020-01-03T11:08:05.309278Z"
    },
    "collapsed": true
   },
   "outputs": [
    {
     "name": "stdout",
     "output_type": "stream",
     "text": [
      "Train on 11610 samples, validate on 3870 samples\n",
      "Epoch 1/20\n",
      "11610/11610 [==============================] - 1s 110us/sample - loss: 2.0433 - output_1_loss: 1.7025 - output_2_loss: 5.1032 - output_1_mae: 0.9097 - output_2_mae: 1.9629 - val_loss: 6.4848 - val_output_1_loss: 6.8398 - val_output_2_loss: 3.2592 - val_output_1_mae: 0.7015 - val_output_2_mae: 1.4675\n",
      "Epoch 2/20\n",
      "11610/11610 [==============================] - 1s 48us/sample - loss: 0.9219 - output_1_loss: 0.7600 - output_2_loss: 2.3784 - output_1_mae: 0.6321 - output_2_mae: 1.2029 - val_loss: 1.6743 - val_output_1_loss: 1.6316 - val_output_2_loss: 2.0519 - val_output_1_mae: 0.6140 - val_output_2_mae: 0.9602\n",
      "Epoch 3/20\n",
      "11610/11610 [==============================] - 1s 48us/sample - loss: 0.7358 - output_1_loss: 0.6670 - output_2_loss: 1.3535 - output_1_mae: 0.5969 - output_2_mae: 0.8474 - val_loss: 0.9784 - val_output_1_loss: 0.9267 - val_output_2_loss: 1.4405 - val_output_1_mae: 0.5874 - val_output_2_mae: 0.7420\n",
      "Epoch 4/20\n",
      "11610/11610 [==============================] - 1s 50us/sample - loss: 0.6585 - output_1_loss: 0.6263 - output_2_loss: 0.9468 - output_1_mae: 0.5777 - output_2_mae: 0.7062 - val_loss: 0.7489 - val_output_1_loss: 0.6974 - val_output_2_loss: 1.2102 - val_output_1_mae: 0.5611 - val_output_2_mae: 0.6684\n",
      "Epoch 5/20\n",
      "11610/11610 [==============================] - 1s 48us/sample - loss: 0.6138 - output_1_loss: 0.5947 - output_2_loss: 0.7850 - output_1_mae: 0.5607 - output_2_mae: 0.6532 - val_loss: 0.6540 - val_output_1_loss: 0.5997 - val_output_2_loss: 1.1405 - val_output_1_mae: 0.5405 - val_output_2_mae: 0.6386\n",
      "Epoch 6/20\n",
      "11610/11610 [==============================] - 1s 46us/sample - loss: 0.5812 - output_1_loss: 0.5674 - output_2_loss: 0.7043 - output_1_mae: 0.5449 - output_2_mae: 0.6259 - val_loss: 0.6057 - val_output_1_loss: 0.5462 - val_output_2_loss: 1.1398 - val_output_1_mae: 0.5263 - val_output_2_mae: 0.6226\n",
      "Epoch 7/20\n",
      "11610/11610 [==============================] - 1s 50us/sample - loss: 0.5550 - output_1_loss: 0.5432 - output_2_loss: 0.6615 - output_1_mae: 0.5339 - output_2_mae: 0.6101 - val_loss: 0.5767 - val_output_1_loss: 0.5146 - val_output_2_loss: 1.1342 - val_output_1_mae: 0.5158 - val_output_2_mae: 0.6051\n",
      "Epoch 8/20\n",
      "11610/11610 [==============================] - 1s 47us/sample - loss: 0.5332 - output_1_loss: 0.5231 - output_2_loss: 0.6240 - output_1_mae: 0.5216 - output_2_mae: 0.5922 - val_loss: 0.5547 - val_output_1_loss: 0.4882 - val_output_2_loss: 1.1514 - val_output_1_mae: 0.5039 - val_output_2_mae: 0.5915\n",
      "Epoch 9/20\n",
      "11610/11610 [==============================] - 1s 52us/sample - loss: 0.5149 - output_1_loss: 0.5057 - output_2_loss: 0.5984 - output_1_mae: 0.5123 - output_2_mae: 0.5788 - val_loss: 0.5381 - val_output_1_loss: 0.4704 - val_output_2_loss: 1.1459 - val_output_1_mae: 0.4925 - val_output_2_mae: 0.5773\n",
      "Epoch 10/20\n",
      "11610/11610 [==============================] - 1s 48us/sample - loss: 0.4989 - output_1_loss: 0.4903 - output_2_loss: 0.5762 - output_1_mae: 0.5036 - output_2_mae: 0.5660 - val_loss: 0.5246 - val_output_1_loss: 0.4561 - val_output_2_loss: 1.1393 - val_output_1_mae: 0.4848 - val_output_2_mae: 0.5652\n",
      "Epoch 11/20\n",
      "11610/11610 [==============================] - 1s 46us/sample - loss: 0.4855 - output_1_loss: 0.4774 - output_2_loss: 0.5579 - output_1_mae: 0.4961 - output_2_mae: 0.5549 - val_loss: 0.5126 - val_output_1_loss: 0.4452 - val_output_2_loss: 1.1181 - val_output_1_mae: 0.4803 - val_output_2_mae: 0.5553\n",
      "Epoch 12/20\n",
      "11610/11610 [==============================] - 1s 44us/sample - loss: 0.4745 - output_1_loss: 0.4669 - output_2_loss: 0.5426 - output_1_mae: 0.4905 - output_2_mae: 0.5456 - val_loss: 0.5012 - val_output_1_loss: 0.4343 - val_output_2_loss: 1.1016 - val_output_1_mae: 0.4736 - val_output_2_mae: 0.5453\n",
      "Epoch 13/20\n",
      "11610/11610 [==============================] - 1s 48us/sample - loss: 0.4646 - output_1_loss: 0.4575 - output_2_loss: 0.5302 - output_1_mae: 0.4849 - output_2_mae: 0.5367 - val_loss: 0.4905 - val_output_1_loss: 0.4262 - val_output_2_loss: 1.0674 - val_output_1_mae: 0.4708 - val_output_2_mae: 0.5380\n",
      "Epoch 14/20\n",
      "11610/11610 [==============================] - 1s 52us/sample - loss: 0.4566 - output_1_loss: 0.4497 - output_2_loss: 0.5192 - output_1_mae: 0.4812 - output_2_mae: 0.5303 - val_loss: 0.4806 - val_output_1_loss: 0.4181 - val_output_2_loss: 1.0419 - val_output_1_mae: 0.4640 - val_output_2_mae: 0.5286\n",
      "Epoch 15/20\n",
      "11610/11610 [==============================] - 1s 45us/sample - loss: 0.4493 - output_1_loss: 0.4426 - output_2_loss: 0.5094 - output_1_mae: 0.4767 - output_2_mae: 0.5230 - val_loss: 0.4720 - val_output_1_loss: 0.4128 - val_output_2_loss: 1.0031 - val_output_1_mae: 0.4621 - val_output_2_mae: 0.5224\n",
      "Epoch 16/20\n",
      "11610/11610 [==============================] - 1s 45us/sample - loss: 0.4432 - output_1_loss: 0.4368 - output_2_loss: 0.5010 - output_1_mae: 0.4736 - output_2_mae: 0.5173 - val_loss: 0.4634 - val_output_1_loss: 0.4070 - val_output_2_loss: 0.9696 - val_output_1_mae: 0.4566 - val_output_2_mae: 0.5146\n",
      "Epoch 17/20\n",
      "11610/11610 [==============================] - 0s 41us/sample - loss: 0.4381 - output_1_loss: 0.4318 - output_2_loss: 0.4937 - output_1_mae: 0.4702 - output_2_mae: 0.5120 - val_loss: 0.4573 - val_output_1_loss: 0.4046 - val_output_2_loss: 0.9295 - val_output_1_mae: 0.4567 - val_output_2_mae: 0.5100\n",
      "Epoch 18/20\n",
      "11610/11610 [==============================] - 0s 41us/sample - loss: 0.4330 - output_1_loss: 0.4270 - output_2_loss: 0.4869 - output_1_mae: 0.4676 - output_2_mae: 0.5069 - val_loss: 0.4521 - val_output_1_loss: 0.4020 - val_output_2_loss: 0.9015 - val_output_1_mae: 0.4561 - val_output_2_mae: 0.5058\n",
      "Epoch 19/20\n",
      "11610/11610 [==============================] - 0s 40us/sample - loss: 0.4290 - output_1_loss: 0.4232 - output_2_loss: 0.4813 - output_1_mae: 0.4658 - output_2_mae: 0.5033 - val_loss: 0.4462 - val_output_1_loss: 0.3989 - val_output_2_loss: 0.8704 - val_output_1_mae: 0.4504 - val_output_2_mae: 0.4993\n",
      "Epoch 20/20\n",
      "11610/11610 [==============================] - 0s 41us/sample - loss: 0.4249 - output_1_loss: 0.4192 - output_2_loss: 0.4762 - output_1_mae: 0.4634 - output_2_mae: 0.4994 - val_loss: 0.4422 - val_output_1_loss: 0.3978 - val_output_2_loss: 0.8405 - val_output_1_mae: 0.4485 - val_output_2_mae: 0.4943\n"
     ]
    }
   ],
   "source": [
    "history = model.fit(\n",
    "    (x_train_A, x_train_B), (y_train, y_train), epochs=20, batch_size=32,\n",
    "    validation_data=((x_valid_A, x_valid_B), (y_valid, y_valid)))"
   ]
  },
  {
   "cell_type": "code",
   "execution_count": 79,
   "metadata": {
    "ExecuteTime": {
     "end_time": "2020-01-03T11:08:17.090791Z",
     "start_time": "2020-01-03T11:08:17.087306Z"
    }
   },
   "outputs": [
    {
     "name": "stdout",
     "output_type": "stream",
     "text": [
      "Model: \"wide_and_deep_model\"\n",
      "_________________________________________________________________\n",
      "Layer (type)                 Output Shape              Param #   \n",
      "=================================================================\n",
      "dense (Dense)                multiple                  270       \n",
      "_________________________________________________________________\n",
      "dense_1 (Dense)              multiple                  930       \n",
      "_________________________________________________________________\n",
      "dense_2 (Dense)              multiple                  36        \n",
      "_________________________________________________________________\n",
      "dense_3 (Dense)              multiple                  31        \n",
      "=================================================================\n",
      "Total params: 1,267\n",
      "Trainable params: 1,267\n",
      "Non-trainable params: 0\n",
      "_________________________________________________________________\n"
     ]
    }
   ],
   "source": [
    "model.summary()"
   ]
  },
  {
   "cell_type": "markdown",
   "metadata": {},
   "source": [
    "> only get a list of layers, without any information on how they are connected to each other."
   ]
  },
  {
   "cell_type": "code",
   "execution_count": 80,
   "metadata": {
    "ExecuteTime": {
     "end_time": "2020-01-03T11:08:17.261584Z",
     "start_time": "2020-01-03T11:08:17.092483Z"
    }
   },
   "outputs": [
    {
     "name": "stdout",
     "output_type": "stream",
     "text": [
      "5160/1 - 0s - loss: 0.3391 - output_1_loss: 0.4158 - output_2_loss: 0.4657 - output_1_mae: 0.4600 - output_2_mae: 0.4941\n"
     ]
    }
   ],
   "source": [
    "total_loss, main_loss, aux_loss, main_mae, aux_mae = model.evaluate(\n",
    "    (x_test_A, x_test_B), (y_test, y_test), verbose=2)"
   ]
  },
  {
   "cell_type": "code",
   "execution_count": 81,
   "metadata": {
    "ExecuteTime": {
     "end_time": "2020-01-03T11:08:17.266302Z",
     "start_time": "2020-01-03T11:08:17.263170Z"
    }
   },
   "outputs": [
    {
     "data": {
      "text/plain": [
       "(0.4215106489122376, 0.41575122, 0.46571365)"
      ]
     },
     "execution_count": 81,
     "metadata": {},
     "output_type": "execute_result"
    }
   ],
   "source": [
    "total_loss, main_loss, aux_loss"
   ]
  },
  {
   "cell_type": "code",
   "execution_count": 82,
   "metadata": {
    "ExecuteTime": {
     "end_time": "2020-01-03T11:08:17.271360Z",
     "start_time": "2020-01-03T11:08:17.267975Z"
    }
   },
   "outputs": [
    {
     "data": {
      "text/plain": [
       "0.4207474619150162"
      ]
     },
     "execution_count": 82,
     "metadata": {},
     "output_type": "execute_result"
    }
   ],
   "source": [
    "main_loss*0.9 + aux_loss*0.1"
   ]
  },
  {
   "cell_type": "markdown",
   "metadata": {},
   "source": [
    "> 和上面的 functional API 模型输出一摸一样。"
   ]
  },
  {
   "cell_type": "markdown",
   "metadata": {},
   "source": [
    "<div class=\"alert alert-block alert-info\">\n",
    "    <b>Keras models can be used just like regular layers, so you can easily combine them to build complex architectures.</b>\n",
    "</div>"
   ]
  },
  {
   "cell_type": "markdown",
   "metadata": {},
   "source": [
    "### 2.5 Save and restore a model"
   ]
  },
  {
   "cell_type": "code",
   "execution_count": 83,
   "metadata": {
    "ExecuteTime": {
     "end_time": "2020-01-03T11:08:20.106860Z",
     "start_time": "2020-01-03T11:08:17.272880Z"
    }
   },
   "outputs": [
    {
     "name": "stdout",
     "output_type": "stream",
     "text": [
      "Train on 11610 samples, validate on 3870 samples\n",
      "Epoch 1/5\n",
      "11610/11610 [==============================] - 1s 79us/sample - loss: 0.7157 - mae: 0.5846 - val_loss: 4.2397 - val_mae: 0.5293\n",
      "Epoch 2/5\n",
      "11610/11610 [==============================] - 0s 37us/sample - loss: 0.4353 - mae: 0.4677 - val_loss: 4.1245 - val_mae: 0.4842\n",
      "Epoch 3/5\n",
      "11610/11610 [==============================] - 0s 39us/sample - loss: 0.4179 - mae: 0.4510 - val_loss: 1.4598 - val_mae: 0.4501\n",
      "Epoch 4/5\n",
      "11610/11610 [==============================] - 0s 39us/sample - loss: 0.3927 - mae: 0.4406 - val_loss: 0.4107 - val_mae: 0.4203\n",
      "Epoch 5/5\n",
      "11610/11610 [==============================] - 0s 39us/sample - loss: 0.3737 - mae: 0.4341 - val_loss: 0.3648 - val_mae: 0.4173\n"
     ]
    },
    {
     "data": {
      "text/plain": [
       "<tensorflow.python.keras.callbacks.History at 0x168f78128>"
      ]
     },
     "execution_count": 83,
     "metadata": {},
     "output_type": "execute_result"
    }
   ],
   "source": [
    "np.random.seed(42)\n",
    "tf.random.set_seed(42)\n",
    "tf.keras.backend.clear_session()\n",
    "\n",
    "model = keras.models.Sequential([\n",
    "    keras.layers.Dense(30, activation='relu', input_shape=x_train.shape[1:]),\n",
    "    keras.layers.Dense(30, activation='relu'),\n",
    "    keras.layers.Dense(1)\n",
    "])\n",
    "model.compile(loss='mse', optimizer='sgd', metrics=['mae'])\n",
    "model.fit(x_train, y_train, epochs=5, validation_data=(x_valid, y_valid))"
   ]
  },
  {
   "cell_type": "markdown",
   "metadata": {},
   "source": [
    "When using the Sequential API or the Functional API, saving a trained Keras model is as simple as it gets."
   ]
  },
  {
   "cell_type": "code",
   "execution_count": 84,
   "metadata": {
    "ExecuteTime": {
     "end_time": "2020-01-03T11:08:20.122891Z",
     "start_time": "2020-01-03T11:08:20.108562Z"
    }
   },
   "outputs": [],
   "source": [
    "# save the model\n",
    "model.save('./models/chap10-models/my_keras_model.h5')"
   ]
  },
  {
   "cell_type": "markdown",
   "metadata": {},
   "source": [
    "Keras will use the **HDF5 format** to save\n",
    "+ the model’s architecture (including every layer’s hyperparameters)\n",
    "\n",
    "\n",
    "+ and the values of all the model parameters for every layer (e.g., connection weights and biases). \n",
    "\n",
    "\n",
    "+ also saves the optimizer (including its hyperparameters and any state it may have)\n",
    "\n",
    "\n",
    "In chap19, we will see how to **save a `tf.keras` model using TensorFlow’s `SavedModel` format instead**."
   ]
  },
  {
   "cell_type": "markdown",
   "metadata": {},
   "source": [
    "You will typically have a script that trains a model and saves it, and one or more scripts (or web services) that load the model and use it to make predictions."
   ]
  },
  {
   "cell_type": "code",
   "execution_count": 85,
   "metadata": {
    "ExecuteTime": {
     "end_time": "2020-01-03T11:08:20.332291Z",
     "start_time": "2020-01-03T11:08:20.124784Z"
    }
   },
   "outputs": [
    {
     "name": "stdout",
     "output_type": "stream",
     "text": [
      "Model: \"sequential\"\n",
      "_________________________________________________________________\n",
      "Layer (type)                 Output Shape              Param #   \n",
      "=================================================================\n",
      "dense (Dense)                (None, 30)                270       \n",
      "_________________________________________________________________\n",
      "dense_1 (Dense)              (None, 30)                930       \n",
      "_________________________________________________________________\n",
      "dense_2 (Dense)              (None, 1)                 31        \n",
      "=================================================================\n",
      "Total params: 1,231\n",
      "Trainable params: 1,231\n",
      "Non-trainable params: 0\n",
      "_________________________________________________________________\n"
     ]
    }
   ],
   "source": [
    "# load the saved model\n",
    "model_2 = keras.models.load_model('./models/chap10-models/my_keras_model.h5')\n",
    "model_2.summary()"
   ]
  },
  {
   "cell_type": "code",
   "execution_count": 86,
   "metadata": {
    "ExecuteTime": {
     "end_time": "2020-01-03T11:08:20.478083Z",
     "start_time": "2020-01-03T11:08:20.334424Z"
    }
   },
   "outputs": [
    {
     "data": {
      "text/plain": [
       "array([[0.70903134],\n",
       "       [1.8357373 ],\n",
       "       [3.747096  ],\n",
       "       ...,\n",
       "       [1.6408094 ],\n",
       "       [2.638808  ],\n",
       "       [3.9370565 ]], dtype=float32)"
      ]
     },
     "execution_count": 86,
     "metadata": {},
     "output_type": "execute_result"
    }
   ],
   "source": [
    "model_2.predict(x_test)"
   ]
  },
  {
   "cell_type": "markdown",
   "metadata": {},
   "source": [
    "**<font color='blue'>This will work when using the Sequential API or the Functional API, but unfortunately not when using model subclassing.</font>**\n",
    "\n",
    "\n",
    "You can use `save_weights()` and `load_weights()` to at least save and restore the model parameters, but you will need to save and restore everything else yourself."
   ]
  },
  {
   "cell_type": "code",
   "execution_count": 87,
   "metadata": {
    "ExecuteTime": {
     "end_time": "2020-01-03T11:08:20.491678Z",
     "start_time": "2020-01-03T11:08:20.479711Z"
    }
   },
   "outputs": [],
   "source": [
    "# save model's weights\n",
    "model.save_weights('./models/chap10-models/my_keras_weights.ckpt')"
   ]
  },
  {
   "cell_type": "code",
   "execution_count": 88,
   "metadata": {
    "ExecuteTime": {
     "end_time": "2020-01-03T11:08:20.502210Z",
     "start_time": "2020-01-03T11:08:20.493344Z"
    }
   },
   "outputs": [
    {
     "data": {
      "text/plain": [
       "<tensorflow.python.training.tracking.util.CheckpointLoadStatus at 0x14c9d1710>"
      ]
     },
     "execution_count": 88,
     "metadata": {},
     "output_type": "execute_result"
    }
   ],
   "source": [
    "# load model's weights\n",
    "model.load_weights('./models/chap10-models/my_keras_weights.ckpt')"
   ]
  },
  {
   "cell_type": "markdown",
   "metadata": {},
   "source": [
    "### 2.5 callbacks"
   ]
  },
  {
   "cell_type": "markdown",
   "metadata": {},
   "source": [
    "You should not only save your model at the end of training, but also save checkpoints at regular intervals during training, to avoid losing everything if your computer crashes."
   ]
  },
  {
   "cell_type": "markdown",
   "metadata": {},
   "source": [
    "The **`fit()`** method accepts a **`callbacks` argument** that lets you specify **a list of objects** that Keras will call **at the start and end of training, at the start and end of each epoch, and even before and after processing each batch**."
   ]
  },
  {
   "cell_type": "markdown",
   "metadata": {},
   "source": [
    "The **<font color='Crimson'>ModelCheckpoint</font> (`tf.keras.callbacks.ModelCheckpoint`)** callback saves checkpoints of your model at regular intervals during training, by default at the end of each epoch (controlled by the `save_freq` argument)."
   ]
  },
  {
   "cell_type": "markdown",
   "metadata": {},
   "source": [
    "+ **<font color='Green'>one way to implement early stopping:</font>**\n",
    "\n",
    "If you use a validation set during training, you can set **`save_best_only=True`** when creating the **`ModelCheckpoint`**. In this case, it will **only save your model when its performance on the validation set is the best so far**. This way, you do not need to worry about training for too long and overfitting the training set: simply restore the last model saved after training, and this will be the best model on the validation set."
   ]
  },
  {
   "cell_type": "code",
   "execution_count": 89,
   "metadata": {
    "ExecuteTime": {
     "end_time": "2020-01-03T13:21:09.236761Z",
     "start_time": "2020-01-03T13:21:06.608584Z"
    }
   },
   "outputs": [
    {
     "name": "stdout",
     "output_type": "stream",
     "text": [
      "Train on 11610 samples, validate on 3870 samples\n",
      "Epoch 1/5\n",
      "11610/11610 [==============================] - 1s 61us/sample - loss: 0.7157 - mae: 0.5846 - val_loss: 4.2397 - val_mae: 0.5293\n",
      "Epoch 2/5\n",
      "11610/11610 [==============================] - 0s 35us/sample - loss: 0.4353 - mae: 0.4677 - val_loss: 4.1245 - val_mae: 0.4842\n",
      "Epoch 3/5\n",
      "11610/11610 [==============================] - 0s 33us/sample - loss: 0.4179 - mae: 0.4510 - val_loss: 1.4598 - val_mae: 0.4501\n",
      "Epoch 4/5\n",
      "11610/11610 [==============================] - 0s 33us/sample - loss: 0.3927 - mae: 0.4406 - val_loss: 0.4107 - val_mae: 0.4203\n",
      "Epoch 5/5\n",
      "11610/11610 [==============================] - 0s 36us/sample - loss: 0.3737 - mae: 0.4341 - val_loss: 0.3648 - val_mae: 0.4173\n"
     ]
    },
    {
     "data": {
      "text/plain": [
       "<tensorflow.python.keras.callbacks.History at 0x16e176ef0>"
      ]
     },
     "execution_count": 89,
     "metadata": {},
     "output_type": "execute_result"
    }
   ],
   "source": [
    "np.random.seed(42)\n",
    "tf.random.set_seed(42)\n",
    "tf.keras.backend.clear_session()\n",
    "\n",
    "model = keras.models.Sequential([\n",
    "    keras.layers.Dense(30, activation='relu', input_shape=x_train.shape[1:]),\n",
    "    keras.layers.Dense(30, activation='relu'),\n",
    "    keras.layers.Dense(1)\n",
    "])\n",
    "\n",
    "# model checkpoint\n",
    "checkpoin_cb = keras.callbacks.ModelCheckpoint(\n",
    "    # can contain named formatting options, which will be filled the value of\n",
    "    # `epoch` and keys in `logs` (passed in `on_epoch_end`)\n",
    "    filepath='./models/chap10-models/callbacks/my_keras_model.h5',\n",
    "    monitor='val_loss',       # default\n",
    "    verbose=0,                # default\n",
    "    mode='auto',              # default\n",
    "    # the lastest best model according to the quantity monitored wil not be overwritten\n",
    "    save_best_only=True,      # default False\n",
    "    # if True, only the model's weights will be saved (`model.save_weights(filepath)`)\n",
    "    save_weights_only=False,  # default, the full mode is saved (`model.save(filepath)`)\n",
    "    # if integer, the callback saves the model at end of a batch\n",
    "    # at which this many samples have been seen since last saving ....\n",
    "    save_freq='epoch')  # default, save the model after each epoch\n",
    "\n",
    "\n",
    "model.compile(loss='mse', optimizer='sgd', metrics=['mae'])\n",
    "model.fit(x_train, y_train, epochs=5, validation_data=(x_valid, y_valid),\n",
    "          callbacks=[checkpoin_cb])  # a list of callbacks"
   ]
  },
  {
   "cell_type": "code",
   "execution_count": 90,
   "metadata": {
    "ExecuteTime": {
     "end_time": "2020-01-03T13:22:40.137597Z",
     "start_time": "2020-01-03T13:22:39.764599Z"
    }
   },
   "outputs": [
    {
     "name": "stdout",
     "output_type": "stream",
     "text": [
      "5160/1 - 0s - loss: 0.2804 - mae: 0.4258\n"
     ]
    },
    {
     "data": {
      "text/plain": [
       "[0.3640460860359576, 0.4257913]"
      ]
     },
     "execution_count": 90,
     "metadata": {},
     "output_type": "execute_result"
    }
   ],
   "source": [
    "# rollback to the best model\n",
    "model = keras.models.load_model('./models/chap10-models/callbacks/my_keras_model.h5')\n",
    "model.evaluate(x_test, y_test, verbose=2)"
   ]
  },
  {
   "cell_type": "markdown",
   "metadata": {},
   "source": [
    "+ **<font color='green'>another way to implement early stopping:</font>**\n",
    "\n",
    "**<font color='Crimson'>EarlyStopping</font> (`tf.keras.callbacks.EarlyStopping`)** will **interrupt training when it measures no progress on the validation set for a number of epochs** (defined by the `patience` argument), and it will optionally roll back to the best model."
   ]
  },
  {
   "cell_type": "markdown",
   "metadata": {},
   "source": [
    "You can **combine both callbacks** to save checkpoints of your model (in case your computer crashes) and interrupt training early when there is no more progress (to avoid wasting time and resources):"
   ]
  },
  {
   "cell_type": "code",
   "execution_count": 91,
   "metadata": {
    "ExecuteTime": {
     "end_time": "2020-01-03T13:46:20.048986Z",
     "start_time": "2020-01-03T13:46:15.560044Z"
    },
    "collapsed": true
   },
   "outputs": [
    {
     "name": "stdout",
     "output_type": "stream",
     "text": [
      "Train on 11610 samples, validate on 3870 samples\n",
      "Epoch 1/100\n",
      "11610/11610 [==============================] - 1s 61us/sample - loss: 0.7157 - mae: 0.5846 - val_loss: 4.2397 - val_mae: 0.5293\n",
      "Epoch 2/100\n",
      "11610/11610 [==============================] - 0s 35us/sample - loss: 0.4353 - mae: 0.4677 - val_loss: 4.1245 - val_mae: 0.4842\n",
      "Epoch 3/100\n",
      "11610/11610 [==============================] - 0s 33us/sample - loss: 0.4179 - mae: 0.4510 - val_loss: 1.4598 - val_mae: 0.4501\n",
      "Epoch 4/100\n",
      "11610/11610 [==============================] - 0s 34us/sample - loss: 0.3927 - mae: 0.4406 - val_loss: 0.4107 - val_mae: 0.4203\n",
      "Epoch 5/100\n",
      "11610/11610 [==============================] - 0s 36us/sample - loss: 0.3737 - mae: 0.4341 - val_loss: 0.3648 - val_mae: 0.4173\n",
      "Epoch 6/100\n",
      "11610/11610 [==============================] - 0s 40us/sample - loss: 0.3720 - mae: 0.4306 - val_loss: 0.3386 - val_mae: 0.4127\n",
      "Epoch 7/100\n",
      "11610/11610 [==============================] - 0s 35us/sample - loss: 0.3613 - mae: 0.4255 - val_loss: 0.3352 - val_mae: 0.4046\n",
      "Epoch 8/100\n",
      "11610/11610 [==============================] - 0s 34us/sample - loss: 0.3563 - mae: 0.4211 - val_loss: 0.3435 - val_mae: 0.4163\n",
      "Epoch 9/100\n",
      "11610/11610 [==============================] - 0s 33us/sample - loss: 0.3515 - mae: 0.4188 - val_loss: 0.3598 - val_mae: 0.4072\n",
      "Epoch 10/100\n",
      "11610/11610 [==============================] - 0s 37us/sample - loss: 0.3475 - mae: 0.4151 - val_loss: 0.3365 - val_mae: 0.4082\n"
     ]
    },
    {
     "data": {
      "text/plain": [
       "<tensorflow.python.keras.callbacks.History at 0x16ec96048>"
      ]
     },
     "execution_count": 91,
     "metadata": {},
     "output_type": "execute_result"
    }
   ],
   "source": [
    "np.random.seed(42)\n",
    "tf.random.set_seed(42)\n",
    "tf.keras.backend.clear_session()\n",
    "\n",
    "model = keras.models.Sequential([\n",
    "    keras.layers.Dense(30, activation='relu', input_shape=x_train.shape[1:]),\n",
    "    keras.layers.Dense(30, activation='relu'),\n",
    "    keras.layers.Dense(1)\n",
    "])\n",
    "\n",
    "# model checkpoint callback\n",
    "checkpoin_cb = keras.callbacks.ModelCheckpoint(\n",
    "    filepath='./models/chap10-models/callbacks/my_keras_model.h5',\n",
    "    monitor='val_loss',\n",
    "    save_best_only=True)\n",
    "# early stopping callback\n",
    "early_stopping_cb = keras.callbacks.EarlyStopping(\n",
    "    monitor='val_loss',  # quantity to be monitored\n",
    "    # Minimum change in the monitored quantity to qualify as an improvement,\n",
    "    # i.e. an absolute change of less than min_delta, will count as no improvement.\n",
    "    min_delta=0,               # default\n",
    "    # Number of epochs with no improvement after which training will be stopped.\n",
    "    patience=3,                # default 0\n",
    "    verbose=0,                 # default 0\n",
    "    mode='auto',               # default, one of {'auto', 'min', 'max'}\n",
    "    # Baseline value for the monitored quantity.\n",
    "    # Training will stop if the model doesn't show improvement over the baseline.\n",
    "    baseline=None, # default\n",
    "    # Whether to restore model weights from the epoch with the best value of the monitored quantity.\n",
    "    # If False, the model weights obtained at the last step of training are used.\n",
    "    restore_best_weights=True)  # default False\n",
    "\n",
    "model.compile(loss='mse', optimizer='sgd', metrics=['mae'])\n",
    "model.fit(x_train, y_train, epochs=100, validation_data=(x_valid, y_valid),\n",
    "          callbacks=[checkpoin_cb, early_stopping_cb])  # a list of callbacks"
   ]
  },
  {
   "cell_type": "markdown",
   "metadata": {},
   "source": [
    "+ The number of epochs can be set to a large value since training will stop automatically when there is no more progress. \n",
    "\n",
    "\n",
    "+ There is **no need to restore the best model saved** because the `EarlyStopping` callback will keep track of the best weights and restore them for you at the end of training."
   ]
  },
  {
   "cell_type": "markdown",
   "metadata": {},
   "source": [
    "You can **<font color='blue'>write your own custom callbacks</font>**."
   ]
  },
  {
   "cell_type": "code",
   "execution_count": 92,
   "metadata": {
    "ExecuteTime": {
     "end_time": "2020-01-03T13:56:20.456274Z",
     "start_time": "2020-01-03T13:56:20.452495Z"
    }
   },
   "outputs": [],
   "source": [
    "# a custom callback will display the ratio between the val loss and the training loss\n",
    "# during training (e.g., to detect overfitting)\n",
    "class PrintValTrainRatioCallback(keras.callbacks.Callback):\n",
    "    \"\"\"\n",
    "    keras.callbacks.Callback: Abstract base class used to build new callbacks.\n",
    "    \"\"\"\n",
    "    def on_epoch_end(self, epoch, logs):\n",
    "        \"\"\"\n",
    "        Called at the end of an epoch.\n",
    "        Subclass should override for any actions to run.\n",
    "        This function should only be called during TRAIN model.\n",
    "\n",
    "        Parameters\n",
    "        ----------\n",
    "        epoch: integer,\n",
    "            index of epoch\n",
    "        logs: dict,\n",
    "            metric results for this training epoch, and for the validation\n",
    "            epoch if validation is performed.\n",
    "            Validation result keys are prefixed with `val_`.\n",
    "        \"\"\"\n",
    "        print(\"\\nval/train: {:.2f}\".format(logs['val_loss'] / logs['loss']))"
   ]
  },
  {
   "cell_type": "code",
   "execution_count": 93,
   "metadata": {
    "ExecuteTime": {
     "end_time": "2020-01-03T13:57:43.259633Z",
     "start_time": "2020-01-03T13:57:42.336316Z"
    }
   },
   "outputs": [
    {
     "name": "stdout",
     "output_type": "stream",
     "text": [
      "Train on 11610 samples, validate on 3870 samples\n",
      "Epoch 1/2\n",
      "11488/11610 [============================>.] - ETA: 0s - loss: 0.3546 - mae: 0.4203\n",
      "val/train: 1.05\n",
      "11610/11610 [==============================] - 0s 40us/sample - loss: 0.3546 - mae: 0.4205 - val_loss: 0.3706 - val_mae: 0.4357\n",
      "Epoch 2/2\n",
      "11456/11610 [============================>.] - ETA: 0s - loss: 0.3542 - mae: 0.4198\n",
      "val/train: 0.95\n",
      "11610/11610 [==============================] - 0s 36us/sample - loss: 0.3531 - mae: 0.4193 - val_loss: 0.3367 - val_mae: 0.4075\n"
     ]
    }
   ],
   "source": [
    "val_train_ratio_cb = PrintValTrainRatioCallback()\n",
    "history = model.fit(x_train, y_train, epochs=2,\n",
    "                    validation_data=(x_valid, y_valid),\n",
    "                    callbacks=[val_train_ratio_cb])"
   ]
  },
  {
   "cell_type": "markdown",
   "metadata": {},
   "source": [
    "also you can implement:\n",
    "+ `on_train_begin/end()`\n",
    "+ `on_epoch_begin/end()`\n",
    "+ `on_batch_begin/end()`\n",
    "+ `on_train_batch_begin/end()`\n",
    "\n",
    "\n",
    "**callbacks used for evaluation**, you can implement (called by `evaluate()`):\n",
    "+ `on_test_begin/end()`\n",
    "+ `on_test_batch_begin/end()`\n",
    "\n",
    "\n",
    "**callbacks used for prediction**, you can implement (called by `predict()`):\n",
    "+ `on_predict_begin/end()`\n",
    "+ `on_predict_batch_begin/end()`\n",
    "    "
   ]
  },
  {
   "cell_type": "markdown",
   "metadata": {},
   "source": [
    "### 2.7 TensorBoard"
   ]
  },
  {
   "cell_type": "markdown",
   "metadata": {},
   "source": [
    "**<font color='Crimson'>TensorBoard</font>** is a great interactive visualization tool\n",
    "\n",
    "+ view the learning curves during training, compare learning curves between multiple runs\n",
    "\n",
    "\n",
    "+ visualize the computation graph\n",
    "\n",
    "\n",
    "+ analyze training statistics\n",
    "\n",
    "\n",
    "+ view images generated by the model\n",
    "\n",
    "\n",
    "+ visualize complex multidimensional data projected down to 3D and automatically clustered it for you\n",
    "\n",
    "\n",
    "+ ..."
   ]
  },
  {
   "cell_type": "markdown",
   "metadata": {},
   "source": [
    "To use TensorBoard, you **must modify the code** so that it **outputs the data** (that you want to visualize) **to special binary log files** called **<font color='Brown'>event files</font>**. Each binary data record is called a **<font color='Brown'>summary</font>**.\n",
    "\n",
    "The **TensorBoard server will monitor the log directory**, and it will **automatically pick up the changes and update the visualizations**: this allows you to visualize live data (with a short delay), such as the learning curves during training.\n",
    "\n",
    "**<font color='red'>实际使用</font>** In general, you want to <font color='blue'>point the TensorBoard server to a root log directory and configure your program so that it writes to a different subdirectory every time it runs</font>. This way, the same TensorBoard server instance will *allow you to visualize and compare data from multiple runs of your program*, without getting everything mixed up."
   ]
  },
  {
   "cell_type": "code",
   "execution_count": 124,
   "metadata": {
    "ExecuteTime": {
     "end_time": "2020-01-04T07:27:36.518980Z",
     "start_time": "2020-01-04T07:27:36.516519Z"
    }
   },
   "outputs": [],
   "source": [
    "import os"
   ]
  },
  {
   "cell_type": "code",
   "execution_count": 125,
   "metadata": {
    "ExecuteTime": {
     "end_time": "2020-01-04T07:27:37.364939Z",
     "start_time": "2020-01-04T07:27:37.361429Z"
    }
   },
   "outputs": [
    {
     "data": {
      "text/plain": [
       "'.'"
      ]
     },
     "execution_count": 125,
     "metadata": {},
     "output_type": "execute_result"
    }
   ],
   "source": [
    "os.curdir"
   ]
  },
  {
   "cell_type": "code",
   "execution_count": 126,
   "metadata": {
    "ExecuteTime": {
     "end_time": "2020-01-04T07:27:38.326455Z",
     "start_time": "2020-01-04T07:27:38.322703Z"
    }
   },
   "outputs": [
    {
     "data": {
      "text/plain": [
       "'./logs/chap10-logs/'"
      ]
     },
     "execution_count": 126,
     "metadata": {},
     "output_type": "execute_result"
    }
   ],
   "source": [
    "# define a root log directory used for TensorBoard logs\n",
    "root_log_dir = os.path.join(os.curdir, 'logs/chap10-logs/')\n",
    "root_log_dir"
   ]
  },
  {
   "cell_type": "code",
   "execution_count": 127,
   "metadata": {
    "ExecuteTime": {
     "end_time": "2020-01-04T07:27:40.623159Z",
     "start_time": "2020-01-04T07:27:40.620498Z"
    }
   },
   "outputs": [],
   "source": [
    "import time"
   ]
  },
  {
   "cell_type": "code",
   "execution_count": 128,
   "metadata": {
    "ExecuteTime": {
     "end_time": "2020-01-04T07:27:41.157049Z",
     "start_time": "2020-01-04T07:27:41.153424Z"
    }
   },
   "outputs": [
    {
     "data": {
      "text/plain": [
       "'run_2020_01_04-15_27_41'"
      ]
     },
     "execution_count": 128,
     "metadata": {},
     "output_type": "execute_result"
    }
   ],
   "source": [
    "time.strftime('run_%Y_%m_%d-%H_%M_%S')"
   ]
  },
  {
   "cell_type": "code",
   "execution_count": 129,
   "metadata": {
    "ExecuteTime": {
     "end_time": "2020-01-04T07:27:44.215775Z",
     "start_time": "2020-01-04T07:27:44.212820Z"
    }
   },
   "outputs": [],
   "source": [
    "def get_run_log_dir():\n",
    "    \"\"\"Generate a subdirectory path based on the current data and time\n",
    "    so that it's different at every run.\n",
    "    \"\"\"\n",
    "    run_id = time.strftime('run_%Y_%m_%d-%H_%M_%S')\n",
    "    return os.path.join(root_log_dir, run_id)"
   ]
  },
  {
   "cell_type": "markdown",
   "metadata": {},
   "source": [
    "> You can also include extra info in the log directory in the log directory name, such as hyperparameter values that you are testing, to make ti easier to know what you are looking at in TensorBoard."
   ]
  },
  {
   "cell_type": "markdown",
   "metadata": {},
   "source": [
    "+ **<font color='green'>run the program first time:</font>**"
   ]
  },
  {
   "cell_type": "code",
   "execution_count": 130,
   "metadata": {
    "ExecuteTime": {
     "end_time": "2020-01-04T07:27:46.107757Z",
     "start_time": "2020-01-04T07:27:46.104151Z"
    }
   },
   "outputs": [
    {
     "data": {
      "text/plain": [
       "'./logs/chap10-logs/run_2020_01_04-15_27_46'"
      ]
     },
     "execution_count": 130,
     "metadata": {},
     "output_type": "execute_result"
    }
   ],
   "source": [
    "run_log_dir = get_run_log_dir()\n",
    "run_log_dir"
   ]
  },
  {
   "cell_type": "markdown",
   "metadata": {},
   "source": [
    "**Keras provides a nice `TensorBoard()` callback:**"
   ]
  },
  {
   "cell_type": "code",
   "execution_count": 131,
   "metadata": {
    "ExecuteTime": {
     "end_time": "2020-01-04T07:27:50.496588Z",
     "start_time": "2020-01-04T07:27:50.493870Z"
    }
   },
   "outputs": [],
   "source": [
    "# tensorboard callback\n",
    "tensorboard_cb = keras.callbacks.TensorBoard(\n",
    "    log_dir=run_log_dir,  # directory where to save the log files\n",
    "    update_freq='epoch',  # default, or 'batch' or integer (mean xx samples)\n",
    "    # some arguments about embedding\n",
    ")"
   ]
  },
  {
   "cell_type": "code",
   "execution_count": 132,
   "metadata": {
    "ExecuteTime": {
     "end_time": "2020-01-04T07:29:09.747664Z",
     "start_time": "2020-01-04T07:29:05.171475Z"
    },
    "collapsed": true
   },
   "outputs": [
    {
     "name": "stdout",
     "output_type": "stream",
     "text": [
      "Train on 11610 samples, validate on 3870 samples\n",
      "Epoch 1/10\n",
      "11610/11610 [==============================] - 1s 56us/sample - loss: 0.7157 - mae: 0.5846 - val_loss: 4.2397 - val_mae: 0.5293\n",
      "Epoch 2/10\n",
      "11610/11610 [==============================] - 0s 38us/sample - loss: 0.4353 - mae: 0.4677 - val_loss: 4.1245 - val_mae: 0.4842\n",
      "Epoch 3/10\n",
      "11610/11610 [==============================] - 0s 36us/sample - loss: 0.4179 - mae: 0.4510 - val_loss: 1.4598 - val_mae: 0.4501\n",
      "Epoch 4/10\n",
      "11610/11610 [==============================] - 0s 34us/sample - loss: 0.3927 - mae: 0.4406 - val_loss: 0.4107 - val_mae: 0.4203\n",
      "Epoch 5/10\n",
      "11610/11610 [==============================] - 0s 36us/sample - loss: 0.3737 - mae: 0.4341 - val_loss: 0.3648 - val_mae: 0.4173\n",
      "Epoch 6/10\n",
      "11610/11610 [==============================] - 0s 33us/sample - loss: 0.3720 - mae: 0.4306 - val_loss: 0.3386 - val_mae: 0.4127\n",
      "Epoch 7/10\n",
      "11610/11610 [==============================] - 0s 36us/sample - loss: 0.3613 - mae: 0.4255 - val_loss: 0.3352 - val_mae: 0.4046\n",
      "Epoch 8/10\n",
      "11610/11610 [==============================] - 0s 37us/sample - loss: 0.3563 - mae: 0.4211 - val_loss: 0.3435 - val_mae: 0.4163\n",
      "Epoch 9/10\n",
      "11610/11610 [==============================] - 0s 34us/sample - loss: 0.3515 - mae: 0.4188 - val_loss: 0.3598 - val_mae: 0.4072\n",
      "Epoch 10/10\n",
      "11610/11610 [==============================] - 0s 41us/sample - loss: 0.3475 - mae: 0.4151 - val_loss: 0.3365 - val_mae: 0.4082\n"
     ]
    }
   ],
   "source": [
    "np.random.seed(42)\n",
    "tf.random.set_seed(42)\n",
    "tf.keras.backend.clear_session()\n",
    "\n",
    "model = keras.models.Sequential([\n",
    "    keras.layers.Dense(30, activation='relu', input_shape=x_train.shape[1:]),\n",
    "    keras.layers.Dense(30, activation='relu'),\n",
    "    keras.layers.Dense(1)\n",
    "])\n",
    "\n",
    "model.compile(loss='mse',\n",
    "              optimizer=keras.optimizers.SGD(lr=0.01),  # default\n",
    "              metrics=['mae'])\n",
    "history = model.fit(x_train, y_train, epochs=10, batch_size=32,\n",
    "                    validation_data=(x_valid, y_valid),\n",
    "                    callbacks=[tensorboard_cb])  # tensorboard callback"
   ]
  },
  {
   "cell_type": "markdown",
   "metadata": {},
   "source": [
    "That's all there is to it.\n",
    "\n",
    "**run the code:**\n",
    "\n",
    "+ `TensorBoard()` callback will take care of creating the log directory for you (along with its parent directories if needed)\n",
    "\n",
    "\n",
    "+ during training, it will create event files and write summaries to them."
   ]
  },
  {
   "cell_type": "code",
   "execution_count": 133,
   "metadata": {
    "ExecuteTime": {
     "end_time": "2020-01-04T07:29:25.381651Z",
     "start_time": "2020-01-04T07:29:25.377367Z"
    }
   },
   "outputs": [
    {
     "data": {
      "text/plain": [
       "['train', 'validation']"
      ]
     },
     "execution_count": 133,
     "metadata": {},
     "output_type": "execute_result"
    }
   ],
   "source": [
    "os.listdir(run_log_dir)"
   ]
  },
  {
   "cell_type": "code",
   "execution_count": 134,
   "metadata": {
    "ExecuteTime": {
     "end_time": "2020-01-04T07:29:26.151132Z",
     "start_time": "2020-01-04T07:29:26.146459Z"
    }
   },
   "outputs": [
    {
     "data": {
      "text/plain": [
       "['plugins',\n",
       " 'events.out.tfevents.1578122945.bingli.51329.484695.v2',\n",
       " 'events.out.tfevents.1578122945.bingli.profile-empty']"
      ]
     },
     "execution_count": 134,
     "metadata": {},
     "output_type": "execute_result"
    }
   ],
   "source": [
    "os.listdir(os.path.join(run_log_dir, 'train'))"
   ]
  },
  {
   "cell_type": "code",
   "execution_count": 135,
   "metadata": {
    "ExecuteTime": {
     "end_time": "2020-01-04T07:29:27.789972Z",
     "start_time": "2020-01-04T07:29:27.785833Z"
    }
   },
   "outputs": [
    {
     "data": {
      "text/plain": [
       "['events.out.tfevents.1578122945.bingli.51329.486656.v2']"
      ]
     },
     "execution_count": 135,
     "metadata": {},
     "output_type": "execute_result"
    }
   ],
   "source": [
    "os.listdir(os.path.join(run_log_dir, 'validation'))"
   ]
  },
  {
   "cell_type": "markdown",
   "metadata": {},
   "source": [
    "+ **<font color='green'>run the program a second time:</font>**"
   ]
  },
  {
   "cell_type": "code",
   "execution_count": 141,
   "metadata": {
    "ExecuteTime": {
     "end_time": "2020-01-04T07:29:52.429226Z",
     "start_time": "2020-01-04T07:29:52.425763Z"
    }
   },
   "outputs": [
    {
     "data": {
      "text/plain": [
       "'./logs/chap10-logs/run_2020_01_04-15_29_52'"
      ]
     },
     "execution_count": 141,
     "metadata": {},
     "output_type": "execute_result"
    }
   ],
   "source": [
    "run_log_dir2 = get_run_log_dir()\n",
    "run_log_dir2"
   ]
  },
  {
   "cell_type": "code",
   "execution_count": 142,
   "metadata": {
    "ExecuteTime": {
     "end_time": "2020-01-04T07:30:42.312339Z",
     "start_time": "2020-01-04T07:30:37.453363Z"
    },
    "collapsed": true
   },
   "outputs": [
    {
     "name": "stdout",
     "output_type": "stream",
     "text": [
      "Train on 11610 samples, validate on 3870 samples\n",
      "Epoch 1/10\n",
      "11610/11610 [==============================] - 1s 56us/sample - loss: 1.8631 - mae: 1.0009 - val_loss: 3.2403 - val_mae: 0.6867\n",
      "Epoch 2/10\n",
      "11610/11610 [==============================] - 0s 33us/sample - loss: 0.6723 - mae: 0.6092 - val_loss: 0.6939 - val_mae: 0.5660\n",
      "Epoch 3/10\n",
      "11610/11610 [==============================] - 0s 36us/sample - loss: 0.5927 - mae: 0.5608 - val_loss: 0.5531 - val_mae: 0.5386\n",
      "Epoch 4/10\n",
      "11610/11610 [==============================] - 0s 37us/sample - loss: 0.5550 - mae: 0.5401 - val_loss: 0.5519 - val_mae: 0.5200\n",
      "Epoch 5/10\n",
      "11610/11610 [==============================] - 1s 49us/sample - loss: 0.5278 - mae: 0.5238 - val_loss: 0.5715 - val_mae: 0.5111\n",
      "Epoch 6/10\n",
      "11610/11610 [==============================] - 0s 41us/sample - loss: 0.5032 - mae: 0.5098 - val_loss: 0.5591 - val_mae: 0.4969\n",
      "Epoch 7/10\n",
      "11610/11610 [==============================] - 0s 41us/sample - loss: 0.4863 - mae: 0.5026 - val_loss: 0.4593 - val_mae: 0.4840\n",
      "Epoch 8/10\n",
      "11610/11610 [==============================] - 0s 42us/sample - loss: 0.4701 - mae: 0.4920 - val_loss: 0.4651 - val_mae: 0.4777\n",
      "Epoch 9/10\n",
      "11610/11610 [==============================] - 0s 39us/sample - loss: 0.4586 - mae: 0.4862 - val_loss: 0.4392 - val_mae: 0.4669\n",
      "Epoch 10/10\n",
      "11610/11610 [==============================] - 0s 34us/sample - loss: 0.4476 - mae: 0.4793 - val_loss: 0.4257 - val_mae: 0.4623\n"
     ]
    }
   ],
   "source": [
    "np.random.seed(42)\n",
    "tf.random.set_seed(42)\n",
    "tf.keras.backend.clear_session()\n",
    "\n",
    "model = keras.models.Sequential([\n",
    "    keras.layers.Dense(30, activation='relu', input_shape=x_train.shape[1:]),\n",
    "    keras.layers.Dense(30, activation='relu'),\n",
    "    keras.layers.Dense(1)\n",
    "])\n",
    "\n",
    "model.compile(loss='mse',\n",
    "              optimizer=keras.optimizers.SGD(lr=0.001),  # decrease, default 0.01\n",
    "              metrics=['mae'])\n",
    "\n",
    "tensorboard_cb = keras.callbacks.TensorBoard(log_dir=run_log_dir2)\n",
    "history = model.fit(x_train, y_train, epochs=10, batch_size=32,\n",
    "                    validation_data=(x_valid, y_valid),\n",
    "                    callbacks=[tensorboard_cb])  # tensorboard callback"
   ]
  },
  {
   "cell_type": "code",
   "execution_count": 143,
   "metadata": {
    "ExecuteTime": {
     "end_time": "2020-01-04T07:30:50.505943Z",
     "start_time": "2020-01-04T07:30:50.501667Z"
    }
   },
   "outputs": [
    {
     "data": {
      "text/plain": [
       "['run_2020_01_04-15_29_52', 'run_2020_01_04-15_27_46', '.ipynb_checkpoints']"
      ]
     },
     "execution_count": 143,
     "metadata": {},
     "output_type": "execute_result"
    }
   ],
   "source": [
    "os.listdir(root_log_dir)"
   ]
  },
  {
   "cell_type": "code",
   "execution_count": 144,
   "metadata": {
    "ExecuteTime": {
     "end_time": "2020-01-04T07:30:52.428977Z",
     "start_time": "2020-01-04T07:30:52.424747Z"
    }
   },
   "outputs": [
    {
     "data": {
      "text/plain": [
       "['train', 'validation']"
      ]
     },
     "execution_count": 144,
     "metadata": {},
     "output_type": "execute_result"
    }
   ],
   "source": [
    "os.listdir(run_log_dir2)"
   ]
  },
  {
   "cell_type": "code",
   "execution_count": 145,
   "metadata": {
    "ExecuteTime": {
     "end_time": "2020-01-04T07:30:53.547196Z",
     "start_time": "2020-01-04T07:30:53.543191Z"
    }
   },
   "outputs": [
    {
     "data": {
      "text/plain": [
       "['plugins',\n",
       " 'events.out.tfevents.1578123037.bingli.profile-empty',\n",
       " 'events.out.tfevents.1578123037.bingli.51329.515941.v2']"
      ]
     },
     "execution_count": 145,
     "metadata": {},
     "output_type": "execute_result"
    }
   ],
   "source": [
    "os.listdir(os.path.join(run_log_dir2, 'train'))"
   ]
  },
  {
   "cell_type": "markdown",
   "metadata": {},
   "source": [
    "There’s **one directory per run, each containing one subdirectory for training logs and one for validation logs**. Both contain event files, but the training logs also include **profiling traces** (`train/plugins/profile/2020-01-04_15-09-01/local.trace`): this allows TensorBoard to **show you exactly how much time the model spent on each part of your model, across all your devices**, which is great for locating performance bottlenecks."
   ]
  },
  {
   "cell_type": "markdown",
   "metadata": {},
   "source": [
    "**<font color='red'>Start the TensorBoard Server:</font>**\n",
    "\n",
    "+ **run a command in a terminal** (should activate the virtualenv, if needed)\n",
    "\n",
    "`tensorboard --logdir=path_to_your_logs` (anywhere else, as long as you point to the appropriate log directory)\n",
    "\n",
    "`tensorboard --logdir=./logs/chap10-logs --port=6006` (for this notebook，注意 port 不要与 jupyter notebook 的 port 冲突)\n",
    "\n",
    "执行完命令显示如下信息即可：\n",
    "\n",
    "Serving TensorBoard on localhost; to expose to the network, use a proxy or pass --bind_all\n",
    "\n",
    "TensorBoard 2.0.0 at http://localhost:6006/ (Press CTRL+C to quit)\n",
    "\n",
    "> 在浏览器中打开这个链接即可。\n",
    "\n",
    "> If your shell cannot find the tensorboard script, then you must update your `PATH` environment variable so that it contains the directory in which the script was installed (alternatively, you can just replace tensorboard in the command line with `python3 -m tensorboard.main`).\n",
    "\n",
    "\n",
    "+ **use TensorBoard directly within Jupyter**\n",
    "\n",
    "```bash\n",
    "# loads the TensorBoard extension\n",
    "%load_ext tensorboard\n",
    "# starts a TensorBoard server on port 6006 (unless it is already started) and connects to it\n",
    "%tensorboard --logdir=./logs/chap10-logs --port 6006\n",
    "```"
   ]
  },
  {
   "cell_type": "markdown",
   "metadata": {},
   "source": [
    "![tensorboard](./figs/chap10-figs/tensorboard.png)"
   ]
  },
  {
   "cell_type": "markdown",
   "metadata": {},
   "source": [
    "You can also visualize the whole graph, the learned weights (projected to 3D), or the profiling traces. The `TensorBoard()` callback has options to log extra data too, such as embeddings (see chap13)."
   ]
  },
  {
   "cell_type": "markdown",
   "metadata": {},
   "source": [
    "TensorFlow offers a lower-level API in the `tf.summary` package. The following code creates a `SummaryWriter` using the `create_file_writer()` function, and it uses this writer as a context to log scalars, histograms, images, audio, and text, all of which can then be visualized using TensorBoard:\n",
    "\n",
    "```python\n",
    "test_logdir = get_run_logdir()\n",
    "writer = tf.summary.create_file_writer(test_logdir)\n",
    "with writer.as_default():\n",
    "    for step in range(1, 1000 + 1):\n",
    "        tf.summary.scalar(\"my_scalar\", np.sin(step / 10), step=step)\n",
    "        data = (np.random.randn(100) + 2) * step / 100 # some random data\n",
    "        tf.summary.histogram(\"my_hist\", data, buckets=50, step=step)\n",
    "        images = np.random.rand(2, 32, 32, 3) # random 32×32 RGB images\n",
    "        tf.summary.image(\"my_images\", images * step / 1000, step=step)\n",
    "        texts = [\"The step is \" + str(step), \"Its square is \" + str(step**2)]\n",
    "        tf.summary.text(\"my_text\", texts, step=step)\n",
    "        sine_wave = tf.math.sin(tf.range(12000) / 48000 * 2 * np.pi * step)\n",
    "        audio = tf.reshape(tf.cast(sine_wave, tf.float32), [1, -1, 1])\n",
    "        tf.summary.audio(\"my_audio\", audio, sample_rate=48000, step=step)\n",
    "```"
   ]
  },
  {
   "cell_type": "code",
   "execution_count": 146,
   "metadata": {
    "ExecuteTime": {
     "end_time": "2020-01-04T07:53:31.017434Z",
     "start_time": "2020-01-04T07:53:31.014299Z"
    }
   },
   "outputs": [
    {
     "name": "stdout",
     "output_type": "stream",
     "text": [
      "Help on function __init__ in module tensorflow.python.keras.callbacks:\n",
      "\n",
      "__init__(self, log_dir='logs', histogram_freq=0, write_graph=True, write_images=False, update_freq='epoch', profile_batch=2, embeddings_freq=0, embeddings_metadata=None, **kwargs)\n",
      "    Initialize self.  See help(type(self)) for accurate signature.\n",
      "\n"
     ]
    }
   ],
   "source": [
    "# check out the other available logging options:\n",
    "help(keras.callbacks.TensorBoard.__init__)"
   ]
  },
  {
   "cell_type": "markdown",
   "metadata": {},
   "source": [
    "## 3 Fine-tuning NN hyperparameters"
   ]
  },
  {
   "cell_type": "markdown",
   "metadata": {},
   "source": [
    "For more best practices regarding tuning NN hyperparameters, check out the excellent [2018 paper by Leslie Smith](https://homl.info/1cycle)."
   ]
  },
  {
   "cell_type": "markdown",
   "metadata": {},
   "source": [
    "**<font color='green' size=3>1. One option</font>**\n",
    "    \n",
    "One option is to **simply try many combinations of hyperparameters and see which one works best on the validation set (or use \"K-fold\" cross-validation)**, like using **<font color='Crimson'>GridSearchCV</font>** (`sklearn.model_selection.GridSearchCV`) or **<font color='Crimson'>RandomizedSearchCV</font>** (`sklearn.model_selection.RandomizedSearchCV`).\n",
    "\n",
    "To do this, we need to **<font color='red'>wrap Keras models in objects that mimic (模仿) regular Scikit-Learn regressors/classifiers</font>**."
   ]
  },
  {
   "cell_type": "code",
   "execution_count": 147,
   "metadata": {
    "ExecuteTime": {
     "end_time": "2020-01-04T08:55:36.411130Z",
     "start_time": "2020-01-04T08:55:36.405488Z"
    }
   },
   "outputs": [],
   "source": [
    "# first step\n",
    "# create a function that will *build* and *compile* a Keras model, given a set of hyperparameters\n",
    "def build_model(n_hidden=1, n_units=30, learning_rate=3e-3, input_shape=(8,)):\n",
    "    np.random.seed(42)\n",
    "    tf.random.set_seed(42)\n",
    "    tf.keras.backend.clear_session()\n",
    "\n",
    "    # build\n",
    "    model = keras.models.Sequential()\n",
    "    model.add(keras.layers.InputLayer(input_shape=input_shape))\n",
    "    for layer in range(n_hidden):\n",
    "        model.add(keras.layers.Dense(n_units, activation='relu'))\n",
    "    model.add(keras.layers.Dense(1))\n",
    "\n",
    "    # compile\n",
    "    optimizer = keras.optimizers.SGD(lr=learning_rate)\n",
    "    model.compile(loss='mse', optimizer=optimizer, metrics=['mae'])\n",
    "\n",
    "    return model"
   ]
  },
  {
   "cell_type": "markdown",
   "metadata": {},
   "source": [
    "**It is good practice to provide reasonable defaults to as many hyperparameters as you can, as Scikit-Learn does.**"
   ]
  },
  {
   "cell_type": "code",
   "execution_count": 148,
   "metadata": {
    "ExecuteTime": {
     "end_time": "2020-01-04T08:59:38.516132Z",
     "start_time": "2020-01-04T08:59:38.513653Z"
    }
   },
   "outputs": [],
   "source": [
    "# next step\n",
    "# create a `KerasRegressor` based on this `build_model()` function\n",
    "keras_reg = keras.wrappers.scikit_learn.KerasRegressor(build_model)"
   ]
  },
  {
   "cell_type": "markdown",
   "metadata": {},
   "source": [
    "The `KerasRegressor` object is a *thin wrapper* around the Keras model built using `build_model()`.\n",
    "\n",
    "Since we did not specify any hyperparameters when creating it, it will use the default hyperparameters (defined in `build_model()`).\n",
    "\n",
    "**Now we use this object like a regular Scikit-Learn regressor:**\n",
    "\n",
    "+ use `fit()` to train it\n",
    "\n",
    "\n",
    "+ use its `score()` method to evaluate it\n",
    "\n",
    "\n",
    "+ use its `predict()` method to make prediction"
   ]
  },
  {
   "cell_type": "code",
   "execution_count": 150,
   "metadata": {
    "ExecuteTime": {
     "end_time": "2020-01-04T09:10:30.292253Z",
     "start_time": "2020-01-04T09:10:22.988508Z"
    },
    "collapsed": true
   },
   "outputs": [
    {
     "name": "stdout",
     "output_type": "stream",
     "text": [
      "Train on 11610 samples, validate on 3870 samples\n",
      "Epoch 1/50\n",
      "11610/11610 [==============================] - 1s 52us/sample - loss: 1.1815 - mae: 0.7215 - val_loss: 20.7837 - val_mae: 0.6763\n",
      "Epoch 2/50\n",
      "11610/11610 [==============================] - 0s 32us/sample - loss: 0.7013 - mae: 0.5560 - val_loss: 0.6646 - val_mae: 0.5304\n",
      "Epoch 3/50\n",
      "11610/11610 [==============================] - 0s 32us/sample - loss: 0.5197 - mae: 0.5189 - val_loss: 0.5974 - val_mae: 0.4990\n",
      "Epoch 4/50\n",
      "11610/11610 [==============================] - 0s 35us/sample - loss: 0.4811 - mae: 0.4962 - val_loss: 0.5292 - val_mae: 0.4749\n",
      "Epoch 5/50\n",
      "11610/11610 [==============================] - 0s 32us/sample - loss: 0.4565 - mae: 0.4816 - val_loss: 0.4813 - val_mae: 0.4618\n",
      "Epoch 6/50\n",
      "11610/11610 [==============================] - 0s 32us/sample - loss: 0.4393 - mae: 0.4711 - val_loss: 0.4501 - val_mae: 0.4576\n",
      "Epoch 7/50\n",
      "11610/11610 [==============================] - 0s 31us/sample - loss: 0.4283 - mae: 0.4671 - val_loss: 0.4231 - val_mae: 0.4488\n",
      "Epoch 8/50\n",
      "11610/11610 [==============================] - 0s 33us/sample - loss: 0.4205 - mae: 0.4607 - val_loss: 0.4072 - val_mae: 0.4476\n",
      "Epoch 9/50\n",
      "11610/11610 [==============================] - 0s 37us/sample - loss: 0.4154 - mae: 0.4591 - val_loss: 0.3956 - val_mae: 0.4410\n",
      "Epoch 10/50\n",
      "11610/11610 [==============================] - 0s 36us/sample - loss: 0.4100 - mae: 0.4557 - val_loss: 0.3873 - val_mae: 0.4392\n",
      "Epoch 11/50\n",
      "11610/11610 [==============================] - 0s 33us/sample - loss: 0.4060 - mae: 0.4535 - val_loss: 0.3811 - val_mae: 0.4384\n",
      "Epoch 12/50\n",
      "11610/11610 [==============================] - 0s 34us/sample - loss: 0.4028 - mae: 0.4517 - val_loss: 0.3743 - val_mae: 0.4364\n",
      "Epoch 13/50\n",
      "11610/11610 [==============================] - 0s 32us/sample - loss: 0.3995 - mae: 0.4496 - val_loss: 0.3691 - val_mae: 0.4344\n",
      "Epoch 14/50\n",
      "11610/11610 [==============================] - 0s 33us/sample - loss: 0.3964 - mae: 0.4484 - val_loss: 0.3657 - val_mae: 0.4300\n",
      "Epoch 15/50\n",
      "11610/11610 [==============================] - 0s 32us/sample - loss: 0.3932 - mae: 0.4464 - val_loss: 0.3640 - val_mae: 0.4304\n",
      "Epoch 16/50\n",
      "11610/11610 [==============================] - 0s 35us/sample - loss: 0.3903 - mae: 0.4446 - val_loss: 0.3618 - val_mae: 0.4273\n",
      "Epoch 17/50\n",
      "11610/11610 [==============================] - 0s 34us/sample - loss: 0.3882 - mae: 0.4426 - val_loss: 0.3629 - val_mae: 0.4288\n",
      "Epoch 18/50\n",
      "11610/11610 [==============================] - 0s 35us/sample - loss: 0.3856 - mae: 0.4412 - val_loss: 0.3661 - val_mae: 0.4319\n"
     ]
    },
    {
     "data": {
      "text/plain": [
       "<tensorflow.python.keras.callbacks.History at 0x17008b828>"
      ]
     },
     "execution_count": 150,
     "metadata": {},
     "output_type": "execute_result"
    }
   ],
   "source": [
    "# final step\n",
    "# use it like a regular Scikit-Learn regressor\n",
    "early_stopping_cb = keras.callbacks.EarlyStopping(patience=2,  # for statement\n",
    "                                                  restore_best_weights=True)\n",
    "# any extra parameters passed to the `fit` will get passed to the underlying keras model\n",
    "keras_reg.fit(x_train,\n",
    "              y_train,\n",
    "              epochs=50,\n",
    "              validation_data=(x_valid, y_valid),\n",
    "              callbacks=[early_stopping_cb])"
   ]
  },
  {
   "cell_type": "markdown",
   "metadata": {},
   "source": [
    "> **<font color='blue'>Note that any extra parameter you pass to the `fit()` method will get passed to the underlying Keras model.</font>**"
   ]
  },
  {
   "cell_type": "code",
   "execution_count": 152,
   "metadata": {
    "ExecuteTime": {
     "end_time": "2020-01-04T09:12:21.194862Z",
     "start_time": "2020-01-04T09:12:21.056469Z"
    }
   },
   "outputs": [
    {
     "name": "stdout",
     "output_type": "stream",
     "text": [
      "5160/1 - 0s - loss: 0.3010 - mae: 0.4402\n"
     ]
    },
    {
     "data": {
      "text/plain": [
       "-0.3846614597610725"
      ]
     },
     "execution_count": 152,
     "metadata": {},
     "output_type": "execute_result"
    }
   ],
   "source": [
    "# evaluate the KerasRegressor\n",
    "# the score will be the opposite of the MSE \n",
    "mse_test = keras_reg.score(x_test, y_test, verbose=2)\n",
    "mse_test"
   ]
  },
  {
   "cell_type": "markdown",
   "metadata": {},
   "source": [
    "**<font color='blue'>Note that the score will be the opposite of the MSE because Scikit-Learn wants scores, not losses (i.e., higher should be better).</font>**"
   ]
  },
  {
   "cell_type": "markdown",
   "metadata": {},
   "source": [
    "**<font color='red'>Since there are many hyperparameters, it is preferable to use a randomized search rather than grid search.</font>** (see in chap2)"
   ]
  },
  {
   "cell_type": "code",
   "execution_count": 153,
   "metadata": {
    "ExecuteTime": {
     "end_time": "2020-01-04T09:14:27.648144Z",
     "start_time": "2020-01-04T09:14:27.645589Z"
    }
   },
   "outputs": [],
   "source": [
    "from scipy.stats import reciprocal\n",
    "from sklearn.model_selection import RandomizedSearchCV"
   ]
  },
  {
   "cell_type": "markdown",
   "metadata": {
    "ExecuteTime": {
     "end_time": "2020-01-04T09:28:17.517702Z",
     "start_time": "2020-01-04T09:26:47.666071Z"
    }
   },
   "source": [
    "```python\n",
    "# 由于 TensrFlow 的原因?，输出中会有很多 == ，\n",
    "# 因此将这个 code snippet 跑完后从 Python code 转换为 markdown\n",
    "param_distribs = {  # just for statement\n",
    "    'n_hidden': [0, 1, 2, 3, 4],\n",
    "    'n_units': [10, 20, 30, 40, 50],\n",
    "    #     'learning_rate': reciprocal(3e-4, 3e-2),\n",
    "    'learning_rate': [0.001, 0.002, 0.005, 0.008, 0.01]\n",
    "}\n",
    "rnd_search_cv = RandomizedSearchCV(keras_reg,\n",
    "                                   param_distributions=param_distribs,\n",
    "                                   n_iter=10,\n",
    "                                   cv=3,\n",
    "                                   verbose=2,\n",
    "                                   random_state=42)\n",
    "# extra params passed to the `fit()` will get relayed(传递) to the underlying keras model\n",
    "rnd_search_cv.fit(\n",
    "    x_train,\n",
    "    y_train,\n",
    "    epochs=50,\n",
    "    # `RandomizedSearchCV` uses k-fold cv, so it does not use X_valid and y_valid,\n",
    "    # which are only used for early stopping.\n",
    "    validation_data=(x_valid, y_valid),\n",
    "    callbacks=[early_stopping_cb],\n",
    "    verbose=0)  # tf.keras evalute 时有很多 == 的问题还没有解决\n",
    "```"
   ]
  },
  {
   "cell_type": "raw",
   "metadata": {},
   "source": [
    "**output for the code snippet above:**\n",
    "\n",
    "RandomizedSearchCV(cv=3, error_score='raise-deprecating',\n",
    "                   estimator=<tensorflow.python.keras.wrappers.scikit_learn.KerasRegressor object at 0x16fa57550>,\n",
    "                   iid='warn', n_iter=10, n_jobs=None,\n",
    "                   param_distributions={'learning_rate': [0.001, 0.002, 0.005,\n",
    "                                                          0.008, 0.01],\n",
    "                                        'n_hidden': [0, 1, 2, 3, 4],\n",
    "                                        'n_units': [10, 20, 30, 40, 50]},\n",
    "                   pre_dispatch='2*n_jobs', random_state=42, refit=True,\n",
    "                   return_train_score=False, scoring=None, verbose=2)"
   ]
  },
  {
   "cell_type": "markdown",
   "metadata": {},
   "source": [
    "**<font color='red'>Note that `RandomizedSearchCV` uses K-fold cross-validation, so it does not use `x_valid` and `y_valid`, which are only used for early stopping.</font>**"
   ]
  },
  {
   "cell_type": "markdown",
   "metadata": {},
   "source": [
    "The exploration may last many hours, depending on the hardware, the size of the dataset, the complexity of the model, and the values of `n_iter` and `cv`."
   ]
  },
  {
   "cell_type": "code",
   "execution_count": 159,
   "metadata": {
    "ExecuteTime": {
     "end_time": "2020-01-04T09:31:02.194483Z",
     "start_time": "2020-01-04T09:31:02.191187Z"
    }
   },
   "outputs": [
    {
     "data": {
      "text/plain": [
       "{'n_units': 40, 'n_hidden': 4, 'learning_rate': 0.01}"
      ]
     },
     "execution_count": 159,
     "metadata": {},
     "output_type": "execute_result"
    }
   ],
   "source": [
    "# access the best parameters found\n",
    "rnd_search_cv.best_params_"
   ]
  },
  {
   "cell_type": "code",
   "execution_count": 160,
   "metadata": {
    "ExecuteTime": {
     "end_time": "2020-01-04T09:31:19.321277Z",
     "start_time": "2020-01-04T09:31:19.317814Z"
    }
   },
   "outputs": [
    {
     "data": {
      "text/plain": [
       "-0.39890320162440457"
      ]
     },
     "execution_count": 160,
     "metadata": {},
     "output_type": "execute_result"
    }
   ],
   "source": [
    "# best score\n",
    "rnd_search_cv.best_score_"
   ]
  },
  {
   "cell_type": "markdown",
   "metadata": {},
   "source": [
    "> The score will be the opposite of the MSE because Scikit-Learn wants scores, not losses (i.e., higher should be better)."
   ]
  },
  {
   "cell_type": "code",
   "execution_count": 161,
   "metadata": {
    "ExecuteTime": {
     "end_time": "2020-01-04T09:32:38.233516Z",
     "start_time": "2020-01-04T09:32:38.229788Z"
    }
   },
   "outputs": [
    {
     "data": {
      "text/plain": [
       "<tensorflow.python.keras.wrappers.scikit_learn.KerasRegressor at 0x171f87128>"
      ]
     },
     "execution_count": 161,
     "metadata": {},
     "output_type": "execute_result"
    }
   ],
   "source": [
    "rnd_search_cv.best_estimator_"
   ]
  },
  {
   "cell_type": "code",
   "execution_count": 165,
   "metadata": {
    "ExecuteTime": {
     "end_time": "2020-01-04T09:33:33.993027Z",
     "start_time": "2020-01-04T09:33:33.979719Z"
    }
   },
   "outputs": [
    {
     "ename": "TypeError",
     "evalue": "score() got an unexpected keyword argument 'verbose'",
     "output_type": "error",
     "traceback": [
      "\u001b[0;31m---------------------------------------------------------------------------\u001b[0m",
      "\u001b[0;31mTypeError\u001b[0m                                 Traceback (most recent call last)",
      "\u001b[0;32m<ipython-input-165-ed60e1eb589b>\u001b[0m in \u001b[0;36m<module>\u001b[0;34m\u001b[0m\n\u001b[0;32m----> 1\u001b[0;31m \u001b[0mrnd_search_cv\u001b[0m\u001b[0;34m.\u001b[0m\u001b[0mscore\u001b[0m\u001b[0;34m(\u001b[0m\u001b[0mx_test\u001b[0m\u001b[0;34m,\u001b[0m \u001b[0my_test\u001b[0m\u001b[0;34m,\u001b[0m \u001b[0mverbose\u001b[0m\u001b[0;34m=\u001b[0m\u001b[0;36m2\u001b[0m\u001b[0;34m)\u001b[0m\u001b[0;34m\u001b[0m\u001b[0;34m\u001b[0m\u001b[0m\n\u001b[0m",
      "\u001b[0;31mTypeError\u001b[0m: score() got an unexpected keyword argument 'verbose'"
     ]
    }
   ],
   "source": [
    "rnd_search_cv.score(x_test, y_test, verbose=2)"
   ]
  },
  {
   "cell_type": "markdown",
   "metadata": {},
   "source": [
    "> 神奇！"
   ]
  },
  {
   "cell_type": "code",
   "execution_count": 167,
   "metadata": {
    "ExecuteTime": {
     "end_time": "2020-01-04T09:34:27.563147Z",
     "start_time": "2020-01-04T09:34:27.560948Z"
    }
   },
   "outputs": [],
   "source": [
    "# rnd_search_cv.score(x_test, y_test) 这样有很多 =="
   ]
  },
  {
   "cell_type": "code",
   "execution_count": 168,
   "metadata": {
    "ExecuteTime": {
     "end_time": "2020-01-04T09:34:43.821984Z",
     "start_time": "2020-01-04T09:34:43.818282Z"
    }
   },
   "outputs": [
    {
     "data": {
      "text/plain": [
       "<tensorflow.python.keras.engine.sequential.Sequential at 0x17104afd0>"
      ]
     },
     "execution_count": 168,
     "metadata": {},
     "output_type": "execute_result"
    }
   ],
   "source": [
    "# the trained Keras model\n",
    "model = rnd_search_cv.best_estimator_.model\n",
    "model"
   ]
  },
  {
   "cell_type": "code",
   "execution_count": 169,
   "metadata": {
    "ExecuteTime": {
     "end_time": "2020-01-04T09:34:58.068695Z",
     "start_time": "2020-01-04T09:34:57.923858Z"
    }
   },
   "outputs": [
    {
     "name": "stdout",
     "output_type": "stream",
     "text": [
      "5160/1 - 0s - loss: 0.2583 - mae: 0.4653\n"
     ]
    },
    {
     "data": {
      "text/plain": [
       "[0.41407177108664844, 0.46533865]"
      ]
     },
     "execution_count": 169,
     "metadata": {},
     "output_type": "execute_result"
    }
   ],
   "source": [
    "model.evaluate(x_test, y_test, verbose=2)"
   ]
  },
  {
   "cell_type": "markdown",
   "metadata": {},
   "source": [
    "> 与 `rnd_search_cv.score(x_test, y_test)` 结果一样。"
   ]
  },
  {
   "cell_type": "code",
   "execution_count": 171,
   "metadata": {
    "ExecuteTime": {
     "end_time": "2020-01-04T09:35:34.662139Z",
     "start_time": "2020-01-04T09:35:34.658531Z"
    }
   },
   "outputs": [
    {
     "data": {
      "text/plain": [
       "['loss', 'mae']"
      ]
     },
     "execution_count": 171,
     "metadata": {},
     "output_type": "execute_result"
    }
   ],
   "source": [
    "model.metrics_names"
   ]
  },
  {
   "cell_type": "markdown",
   "metadata": {},
   "source": [
    "You can now save this model, evaluate it on the test set, and, if you are satisfied with its performance, deploy it to production.\n",
    "\n",
    "Using **randomized search** is not too hard, and it **works well for many fairly simple problems**.\n",
    "\n",
    "**<font color='red'>解决 RandomSearchCV 训练慢的方法（比无脑好）：</font>**\n",
    "\n",
    "When training is slow, however (e.g., for more complex problems with larger datasets), this approach will only explore a tiny portion of the hyperparameter space. You can partially alleviate this problem by assisting (帮助、协助) the search process manually: **first run a quick random search using wide ranges of hyperparameter values, then run another search using smaller ranges of values centered on the best ones found during the first run, and so on (最后一个 range 中使用 `GridSearchCV` 会不会好一点?). This approach will hopefully zoom in on a good set of hyperparameters**. However, **it’s very time consuming, and probably not the best use of your time.**"
   ]
  },
  {
   "cell_type": "markdown",
   "metadata": {},
   "source": [
    "**<font color='green' size=3>2. some Python libraries</font>**"
   ]
  },
  {
   "cell_type": "markdown",
   "metadata": {},
   "source": [
    "There are many techniques to explore a search space much more efficiently than randomly.\n",
    "\n",
    "Their **<font color='red'>core idea</font>** is simple: **<font color='red'>when a region of the space turns out to be good, it should be explored more</font>**.\n",
    "\n",
    "Such techniques **take care of the “zooming” process for you and lead to much better solutions in much less time**. Here are some Python libraries you can use to optimize hyperparameters:\n",
    "\n",
    "+ [Hyperopt](https://github.com/hyperopt/hyperopt)\n",
    "\n",
    "A popular library for optimizing over all sorts of complex search spaces (including real values, such as the learning rate, and discrete values, such as the number of layers).\n",
    "\n",
    "\n",
    "+ [Hyperas](https://github.com/maxpumperla/hyperas), [kopt](https://github.com/Avsecz/kopt), or [Talos](https://github.com/autonomio/talos)\n",
    "\n",
    "Useful libraries for optimizing hyperparameters for Keras models (the first two are based on Hyperopt).\n",
    "\n",
    "\n",
    "+ [Keras Tuner](https://homl.info/kerastuner)\n",
    "\n",
    "An easy-to-use hyperparameter optimization library **by Google for Keras models**, with a hosted service for visualization and analysis.\n",
    "\n",
    "\n",
    "+ [Scikit-Optimize (skopt)](https://scikit-optimize.github.io/)\n",
    "\n",
    "A general-purpose optimization library. The `BayesSearchCV` class performs Bayesian optimization using an interface similar to `GridSearchCV`.\n",
    "\n",
    "\n",
    "+ [Spearmint](https://github.com/JasperSnoek/spearmint) -- A Bayesian optimization library.\n",
    "\n",
    "\n",
    "+ [Hyperban](https://github.com/zygmuntz/hyperband)\n",
    "\n",
    "A fast hyperparameter tuning library based on the recent [Hyperband 2018 paper](https://homl.info/hyperband) by Lisha Li et al.\n",
    "\n",
    "\n",
    "+ [Sklearn-Deap](https://github.com/rsteca/sklearn-deap)\n",
    "\n",
    "A hyperparameter optimization library **based on evolutionary algorithms**, with a `GridSearchCV`-like interface."
   ]
  },
  {
   "cell_type": "markdown",
   "metadata": {},
   "source": [
    "**<font color='green' size=3>3. services for hyperparameter optimization by some companies</font>**\n",
    "\n",
    "+ Google Cloud AI Platform’s [hyperparameter tuning service](https://homl.info/googletuning), chap19\n",
    "\n",
    "\n",
    "+ services by [Arimo](https://arimo.com/) and [SigOpt](https://sigopt.com/)\n",
    "\n",
    "\n",
    "+ CallDesk’s [Oscar](http://oscar.calldesk.ai/)"
   ]
  },
  {
   "cell_type": "markdown",
   "metadata": {},
   "source": [
    "**<font color='green' size=3>4. evolutionary algorithms</font>**\n",
    "\n",
    "**Hyperparameter tuning is still an active area of research, and evolutionary algorithms are making a comeback.**\n",
    "\n",
    "+ [DeepMind' 2017 paper](https://homl.info/pbt) jointly optimize a population of models and their hyperparameters.\n",
    "\n",
    "\n",
    "+ Google has also used an evolutionary approach, not just to search for hyperparameters but also to look for the best neural network architecture for the problem; their [AutoML](https://homl.info/automlpost) suite is already available as a cloud service.\n",
    "\n",
    "\n",
    "+ In fact, evolutionary algorithms have been used successfully to train individual neural networks, replacing the ubiquitous Gradient Descent! For an example, [Uber's 2017 post](https://homl.info/neuroevol) introduce their Deep Neuroevolution technique."
   ]
  },
  {
   "cell_type": "markdown",
   "metadata": {},
   "source": [
    "But despite all this exciting progress and all these tools and services, it **still helps to have an idea of what values are reasonable for each hyperparameter so that you can build a quick prototype and restrict the search space**.\n",
    "\n",
    "The following sections provide guidelines for selecting good values for some of the main hyperparameters."
   ]
  },
  {
   "cell_type": "markdown",
   "metadata": {},
   "source": [
    "### 3.1 Number of hidder layers"
   ]
  },
  {
   "cell_type": "markdown",
   "metadata": {},
   "source": [
    "**For many problems, you can begin with a single hidden layer and get reasonable results.**\n",
    "\n",
    "An MLP with just one hidden layer can theoretically model even the most complex functions, provided it has enough units.\n",
    "\n",
    "<div class=\"alert alert-block alert-danger\">\n",
    "    <b>为什么含有足够多的 unit 的单层网络就能解决最复杂的问题了，为什么还要使用多层网络呢？</b>\n",
    "</div>\n",
    "\n",
    "But **for complex problems, deep networks have a much higher <font color='Crimson'>parameter efficiency</font> than shallow ones**: they can **<font color='red'>model complex functions using exponentially fewer units than shallow nets, allowing them to reach much better performance with the same amount of training data</font>**."
   ]
  },
  {
   "cell_type": "markdown",
   "metadata": {},
   "source": [
    "> To understand why, suppose you are asked to draw a forest using some drawing software, but you are forbidden to copy and paste anything. It would take an enormous amount of time: you would have to draw each tree individually, branch by branch, leaf by leaf. If you could instead draw one leaf, copy and paste it to draw a branch, then copy and paste that branch to create a tree, and finally copy and paste this tree to make a forest, you would be finished in no time.\n",
    "\n",
    "**Real-world data is often structured in such a hierarchical way, and deep neural networks automatically take advantage of this fact:**\n",
    "\n",
    "+ **<font color='blue'>lower hidden layers model low-level structures</font>** (e.g., line segments of various shapes and orientations)\n",
    "\n",
    "\n",
    "+ **<font color='blue'>intermediate hidden layers combine these low-level structures to model intermediate-level structures</font>** (e.g., squares, circles)\n",
    "\n",
    "\n",
    "+ **<font color='blue'>the highest hidden layers and the output layer combine these intermediate structures to model high-level structures</font>** (e.g., faces)"
   ]
  },
  {
   "cell_type": "markdown",
   "metadata": {},
   "source": [
    "**<font color='red'>Not only does this hierarchical architecture help DNNs converge faster to a good solution, but it also improves their ability to generalize to new datasets.</font>**\n",
    "\n",
    "For example, if you have already trained a model to recognize faces in pictures and you now want to train a new neural network to recognize hairstyles, you can kickstart the training by reusing the lower layers of the first network. Instead of randomly initializing the weights and biases of the first few layers of the new neural network, you can initialize them to the values of the weights and biases of the lower layers of the first network. This way the network will not have to learn from scratch all the low-level structures that occur in most pictures; it will only have to learn the higher-level structures (e.g., hairstyles). This is called **<font color='Crimson'>transfer learning</font>**."
   ]
  },
  {
   "cell_type": "markdown",
   "metadata": {},
   "source": [
    "**<font color='red'>Summary:</font>**\n",
    "\n",
    "+ For **many problems**, you can **start with just one or two hidden layers** and the NN will work just fine.\n",
    "\n",
    "> You can easily reach above 97% accuracy on the MNIST dataset using just one hidden layer with a few hundred neurons, and above 98% accuracy using two hidden layers with the same total number of neurons, in roughly the same amount of training time.\n",
    "\n",
    "+ For **more complex problems**, you can **ramp up the number of hidden layers until you start overfitting the training set**.\n",
    "\n",
    "\n",
    "+ **Very complex tasks** (large image classification or speech recognition) typically require networks with dozens of layers (or even hundreds, but not fully connected ones), and a huge amount of training data. **It is much more common to reuse parts of a pretrained state-of-the-art network that performs a similar task. Training will then be a lot faster and require much less data.**"
   ]
  },
  {
   "cell_type": "markdown",
   "metadata": {},
   "source": [
    "### 3.2 Number of units per hidden layers"
   ]
  },
  {
   "cell_type": "markdown",
   "metadata": {},
   "source": [
    "**<font color='green' size=3>1. for input/output layers</font>**\n",
    "\n",
    "The number of neurons in the input and output layers is **determined by the type of input and output the task requires**.\n",
    "\n",
    "<br>\n",
    "\n",
    "**<font color='green' size=3>2. for hidden layers</font>**\n",
    "\n",
    "+ It **used to be common** to size them to form a pyramid (金字塔), with fewer and fewer neurons at each layer —- the rationale (基本原理/根本原因) being that many low-level features can coalesce (合并、结合) into far fewer high-level features.\n",
    "\n",
    "\n",
    "+ **In practice, the above is abandoned.** It seems that **using the same number of units in all hidden layers performs just as well in most cases, or even better**; plus, there is **only one hyperparameter to tune**, instead of one per layer. That said, depending on the dataset, it **can sometimes help to make the first hidden layer bigger than the others**.\n",
    "\n",
    "\n",
    "+ **Just like the number of layers, you can try increasing the number of neurons gradually until the network starts overfitting**. But **<font color='red' size=3>in practice, it’s often simpler and more efficient to pick a model with more layers and units than you actually need, then use early stopping and other regularization techniques to prevent it from overfitting.</font>** On the flip side (另一方面), **if a layer has too few units, it will not have enough representational power to preserve all the useful information from the inputs** (e.g., a layer with two neurons can only output 2D data, so if it processes 3D data, some information will be lost). **No matter how big and powerful the rest of the network is, that information will never be recovered**."
   ]
  },
  {
   "cell_type": "markdown",
   "metadata": {},
   "source": [
    "<div class=\"alert alert-block alert-info\">\n",
    "    <b>In general you will get more bang for your buck by increasing the number of layers instead of the number of neurons per layer.</b> 增加 layer 数比增加每层的 unit 数收益更好。\n",
    "</div>"
   ]
  },
  {
   "cell_type": "markdown",
   "metadata": {},
   "source": [
    "### 3.3 Learning Rate, Batch Size, and Other Hyperparameters"
   ]
  },
  {
   "cell_type": "markdown",
   "metadata": {},
   "source": [
    "#### 3.3.1 Learning rate"
   ]
  },
  {
   "cell_type": "markdown",
   "metadata": {},
   "source": [
    "**The learning rate is arguably the most important hyperparameter.**"
   ]
  },
  {
   "cell_type": "markdown",
   "metadata": {},
   "source": [
    "**In general, the optimal learning rate is about half of the maximum learning rate** (i.e., the learning rate above which the training algorithm diverges, in Chapter 4)."
   ]
  },
  {
   "cell_type": "markdown",
   "metadata": {},
   "source": [
    "**<font color='red'>One way to find a good learning rate</font>** is to train the model for a few hundred iterations, starting with a very low learning rate (e.g., $10^{-5}$) and gradually increasing it up to a very large value (e.g., 10). This is done by multiplying the learning rate by a constant factor at each iteration (epoch) (e.g., by $e^{log(10^6)/500}$ to go from $10^{-5}$ to 10 in 500 iterations). If you **plot the loss as a function of the learning rate (using a log scale for the learning rate)**, you should see it dropping at first. But after a while, the learning rate will be too large, so the loss will shoot back up: **the optimal learning rate will be a bit lower than the point at which the loss starts to climb (typically about 10 times lower than the turning point)**. You can then reinitialize your model and train it normally using this good learning rate.\n",
    "\n",
    "See in chap-11."
   ]
  },
  {
   "cell_type": "markdown",
   "metadata": {},
   "source": [
    "#### 3.3.2 Optimizer"
   ]
  },
  {
   "cell_type": "markdown",
   "metadata": {},
   "source": [
    "**Choosing a better optimizer than plain old Mini-batch Gradient Descent (and tuning its hyperparameters) is also quite important.**"
   ]
  },
  {
   "cell_type": "markdown",
   "metadata": {},
   "source": [
    "#### 3.3.3 Batch size"
   ]
  },
  {
   "cell_type": "markdown",
   "metadata": {},
   "source": [
    "**<font color='blue'>The batch size can have a significant impact on your model’s performance and training time.</font>**"
   ]
  },
  {
   "cell_type": "markdown",
   "metadata": {},
   "source": [
    "+ The **<font color='red'>main benefit of using large batch sizes</font>** is that **hardware accelerators like GPUs can process them efficiently** (see Chapter 19), so the training algorithm will see more instances per second. Therefore, many researchers and practitioners recommend using the largest batch size that can fit in GPU RAM. There’s a catch, though: (**<font color='red'>main weakness of using large batch sizes)</font>** in practice, large batch sizes often lead to training instabilities, especially at the beginning of training, and the resulting model may not generalize as well as a model trained with a small batch size.\n",
    "\n",
    "\n",
    "+ In April 2018, Yann LeCun even tweeted **“Friends don’t let friends use mini-batches larger than 32,”** citing a [2018 paper](https://homl.info/smallbatch) which concluded that using small batches (from 2 to 32) was preferable because small batches led to better models in less training time. (**<font color='red'>main benefit of using small batch sizes</font>**)\n",
    "\n",
    "\n",
    "+ [2017 paper](https://homl.info/largebatch) and [2017 paper](https://homl.info/largebatch2) showed that <font color='red'>it was possible to use very large batch sizes (up to 8192) using various techniques</font> such as **<font color='red'>warming up the learning rate (i.e., starting training with a small learning rate, then ramping it up)</font>** (see in Chapter 11). This **led to a very short training time, without any generalization gap**.\n",
    "\n",
    "\n",
    "**<font color='red'>One strategy is to try to use a large batch size, using learning rate warmup, and if training is unstable or the final performance is disappointing, then try using a small batch size instead.</font>**"
   ]
  },
  {
   "cell_type": "markdown",
   "metadata": {},
   "source": [
    "#### 3.3.4 Activation function"
   ]
  },
  {
   "cell_type": "markdown",
   "metadata": {},
   "source": [
    "+ In general, the ReLU activation function will be a good default for all hidden layers. \n",
    "\n",
    "\n",
    "+ For the output layer, it really depends on your task."
   ]
  },
  {
   "cell_type": "markdown",
   "metadata": {},
   "source": [
    "#### 3.3.5 Number of iterations (epoch)"
   ]
  },
  {
   "cell_type": "markdown",
   "metadata": {},
   "source": [
    "In most cases, the number of training iterations **does not actually need to be tweaked: just use early stopping instead**."
   ]
  },
  {
   "cell_type": "markdown",
   "metadata": {},
   "source": [
    "<div class=\"alert alert-block alert-info\">\n",
    "    <b>The optimal learning rate depends on the other hyperparameters—especially the batch size—so if you modify any hyperparameter, make sure to update the learning rate as well.</b>\n",
    "</div>"
   ]
  }
 ],
 "metadata": {
  "kernelspec": {
   "display_name": "Python 3",
   "language": "python",
   "name": "python3"
  },
  "language_info": {
   "codemirror_mode": {
    "name": "ipython",
    "version": 3
   },
   "file_extension": ".py",
   "mimetype": "text/x-python",
   "name": "python",
   "nbconvert_exporter": "python",
   "pygments_lexer": "ipython3",
   "version": "3.6.9"
  },
  "toc": {
   "base_numbering": 1,
   "nav_menu": {},
   "number_sections": true,
   "sideBar": true,
   "skip_h1_title": false,
   "title_cell": "Table of Contents",
   "title_sidebar": "Contents",
   "toc_cell": false,
   "toc_position": {
    "height": "calc(100% - 180px)",
    "left": "10px",
    "top": "150px",
    "width": "367.6px"
   },
   "toc_section_display": true,
   "toc_window_display": false
  },
  "varInspector": {
   "cols": {
    "lenName": 16,
    "lenType": 16,
    "lenVar": 40
   },
   "kernels_config": {
    "python": {
     "delete_cmd_postfix": "",
     "delete_cmd_prefix": "del ",
     "library": "var_list.py",
     "varRefreshCmd": "print(var_dic_list())"
    },
    "r": {
     "delete_cmd_postfix": ") ",
     "delete_cmd_prefix": "rm(",
     "library": "var_list.r",
     "varRefreshCmd": "cat(var_dic_list()) "
    }
   },
   "types_to_exclude": [
    "module",
    "function",
    "builtin_function_or_method",
    "instance",
    "_Feature"
   ],
   "window_display": false
  }
 },
 "nbformat": 4,
 "nbformat_minor": 2
}
