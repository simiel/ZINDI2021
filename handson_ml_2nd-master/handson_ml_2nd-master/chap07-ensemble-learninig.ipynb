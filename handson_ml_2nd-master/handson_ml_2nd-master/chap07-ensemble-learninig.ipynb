{
 "cells": [
  {
   "cell_type": "code",
   "execution_count": 1,
   "metadata": {
    "ExecuteTime": {
     "end_time": "2020-04-01T02:09:48.089572Z",
     "start_time": "2020-04-01T02:09:47.174520Z"
    }
   },
   "outputs": [],
   "source": [
    "# Common imports\n",
    "import os\n",
    "import sys\n",
    "import warnings\n",
    "\n",
    "import matplotlib as mpl\n",
    "import matplotlib.pyplot as plt\n",
    "import numpy as np\n",
    "import pandas as pd\n",
    "import sklearn\n",
    "\n",
    "%matplotlib inline\n",
    "mpl.rc('axes', labelsize=14)\n",
    "mpl.rc('xtick', labelsize=12)\n",
    "mpl.rc('ytick', labelsize=12)\n",
    "\n",
    "np.random.seed(42)\n",
    "# warnings.filterwarnings(action='ignore', message=\"^internal gelsd\")"
   ]
  },
  {
   "cell_type": "code",
   "execution_count": 2,
   "metadata": {
    "ExecuteTime": {
     "end_time": "2020-04-01T02:09:48.094510Z",
     "start_time": "2020-04-01T02:09:48.091283Z"
    }
   },
   "outputs": [
    {
     "name": "stdout",
     "output_type": "stream",
     "text": [
      "python version: sys.version_info(major=3, minor=6, micro=9, releaselevel='final', serial=0)\n",
      "matplotlib version: 3.1.2\n",
      "numpy version: 1.18.1\n",
      "pandas version: 1.0.1\n",
      "scikit-learn version: 0.22.1\n"
     ]
    }
   ],
   "source": [
    "print('python version:', sys.version_info)\n",
    "print('matplotlib version:', mpl.__version__)\n",
    "print('numpy version:', np.__version__)\n",
    "print('pandas version:', pd.__version__)\n",
    "print('scikit-learn version:', sklearn.__version__)"
   ]
  },
  {
   "cell_type": "markdown",
   "metadata": {},
   "source": [
    "## 1. Voting classifiers"
   ]
  },
  {
   "cell_type": "markdown",
   "metadata": {},
   "source": [
    "**<font color='crimson'>Such a classifier can be useful for a set of equally well performing model in order to balance out their individual weaknesses.</font>** -- From [sklearn](https://scikit-learn.org/stable/modules/ensemble.html#voting-classifier)"
   ]
  },
  {
   "cell_type": "markdown",
   "metadata": {},
   "source": [
    "### 1.1 Hard voting classifier"
   ]
  },
  {
   "cell_type": "markdown",
   "metadata": {},
   "source": [
    "Suppose you have trained a few clfs, each one achieving about 80% acc. <font color='crimson'>A very simple way to create an even better clf is to aggregate the predictions of each clf and predict the class that gets the most votes.</font> This majority-vote clf is called a **<font color='red' size=3>hard voting classifier</font>**. This voting clf is <font color='crimson'>often get a higher accuracy than the best clf in the ensemble</font>.\n",
    "\n",
    "In fact, even if each classifier is a **<font color='red'>weak learner</font>** (meaning it does only slightly better than random guessing), the ensemble can still be a strong learner (achieving high accuracy), provided there are a sufficient number of weak learners and they are sufficiently diverse.\n",
    "\n",
    "However, this is **only true if all classifiers are perfectly independent, making uncorrelated errors**, which is clearly not the case because they are trained on the same data. They are likely to make the same types of errors, so there will be many majority votes for the wrong class, reducing the ensemble’s accuracy.\n",
    "\n",
    "<div class=\"alert alert-block alert-info\">\n",
    "    <b>Ensemble methods work best when the predictors are as independent from one another as possible. One way to get diverse classifiers is to train them using very different algorithms. This increases the chance that they will make very different types of errors, improving the ensemble’s accuracy.</b>\n",
    "</div>\n",
    "\n",
    "\n",
    "![Hard voting clf predictions](./figs/chap07-figs/hard-voting-clf-predictions.png)\n",
    "\n",
    "<center><i>Hard voting classifier predictions</i></center>"
   ]
  },
  {
   "cell_type": "code",
   "execution_count": 3,
   "metadata": {
    "ExecuteTime": {
     "end_time": "2020-04-01T02:09:48.157991Z",
     "start_time": "2020-04-01T02:09:48.097016Z"
    }
   },
   "outputs": [
    {
     "name": "stdout",
     "output_type": "stream",
     "text": [
      "The shape of `x_train`: (375, 2)\n",
      "The shape of `y_train`: (375,)\n",
      "The shape of `x_test`: (125, 2)\n"
     ]
    }
   ],
   "source": [
    "from sklearn.model_selection import train_test_split\n",
    "from sklearn.datasets import make_moons\n",
    "\n",
    "# Generate a moon dataset\n",
    "X, y = make_moons(n_samples=500, noise=0.30, random_state=42)\n",
    "x_train, x_test, y_train, y_test = train_test_split(X, y, random_state=42)\n",
    "\n",
    "print(\"The shape of `x_train`:\", x_train.shape)\n",
    "print(\"The shape of `y_train`:\", y_train.shape)\n",
    "print(\"The shape of `x_test`:\", x_test.shape)"
   ]
  },
  {
   "cell_type": "code",
   "execution_count": 4,
   "metadata": {
    "ExecuteTime": {
     "end_time": "2020-04-01T02:09:49.349522Z",
     "start_time": "2020-04-01T02:09:48.160718Z"
    },
    "scrolled": false
   },
   "outputs": [
    {
     "data": {
      "text/plain": [
       "VotingClassifier(estimators=[('lr',\n",
       "                              LogisticRegression(C=1.0, class_weight=None,\n",
       "                                                 dual=False, fit_intercept=True,\n",
       "                                                 intercept_scaling=1,\n",
       "                                                 l1_ratio=None, max_iter=100,\n",
       "                                                 multi_class='auto',\n",
       "                                                 n_jobs=None, penalty='l2',\n",
       "                                                 random_state=42,\n",
       "                                                 solver='lbfgs', tol=0.0001,\n",
       "                                                 verbose=0, warm_start=False)),\n",
       "                             ('rf',\n",
       "                              RandomForestClassifier(bootstrap=True,\n",
       "                                                     ccp_alpha=0.0,\n",
       "                                                     class_weight=None,\n",
       "                                                     crit...\n",
       "                                                     oob_score=False,\n",
       "                                                     random_state=42, verbose=0,\n",
       "                                                     warm_start=False)),\n",
       "                             ('svc',\n",
       "                              SVC(C=1.0, break_ties=False, cache_size=200,\n",
       "                                  class_weight=None, coef0=0.0,\n",
       "                                  decision_function_shape='ovr', degree=3,\n",
       "                                  gamma='scale', kernel='rbf', max_iter=-1,\n",
       "                                  probability=False, random_state=42,\n",
       "                                  shrinking=True, tol=0.001, verbose=False))],\n",
       "                 flatten_transform=True, n_jobs=-1, voting='hard',\n",
       "                 weights=None)"
      ]
     },
     "execution_count": 4,
     "metadata": {},
     "output_type": "execute_result"
    }
   ],
   "source": [
    "from sklearn.ensemble import RandomForestClassifier\n",
    "from sklearn.ensemble import VotingClassifier\n",
    "from sklearn.linear_model import LogisticRegression\n",
    "from sklearn.svm import SVC\n",
    "\n",
    "# Train a HARD voting classifier composed of 3 diverse classifiers\n",
    "log_clf = LogisticRegression(solver='lbfgs', random_state=42)\n",
    "rnd_clf = RandomForestClassifier(n_estimators=100, random_state=42)\n",
    "svm_clf = SVC(gamma='scale', random_state=42)\n",
    "\n",
    "hard_voting_clf = VotingClassifier(\n",
    "    # List of (str, estimator) tuples\n",
    "    estimators=[('lr', log_clf), ('rf', rnd_clf), ('svc', svm_clf)],\n",
    "    # Default, use predicted class labels for majority rule voting\n",
    "    voting='hard',\n",
    "    n_jobs=-1)\n",
    "hard_voting_clf.fit(x_train, y_train)"
   ]
  },
  {
   "cell_type": "code",
   "execution_count": 5,
   "metadata": {
    "ExecuteTime": {
     "end_time": "2020-04-01T02:09:50.686986Z",
     "start_time": "2020-04-01T02:09:49.351280Z"
    }
   },
   "outputs": [
    {
     "name": "stdout",
     "output_type": "stream",
     "text": [
      "Acc: 0.8640 [LogisticRegression]\n",
      "Acc: 0.8960 [RandomForestClassifier]\n",
      "Acc: 0.8960 [SVC]\n",
      "Acc: 0.9120 [VotingClassifier]\n"
     ]
    }
   ],
   "source": [
    "from sklearn.metrics import accuracy_score\n",
    "\n",
    "# Look at each clf's acc on the test\n",
    "for clf in (log_clf, rnd_clf, svm_clf, hard_voting_clf):\n",
    "    clf.fit(x_train, y_train)\n",
    "    y_pred = clf.predict(x_test)\n",
    "    print(\"Acc: {:.4f} [{}]\".format(\n",
    "        accuracy_score(y_test, y_pred), clf.__class__.__name__))"
   ]
  },
  {
   "cell_type": "markdown",
   "metadata": {},
   "source": [
    "> **<font color='crimson'>学会这种对齐方式！</font>**"
   ]
  },
  {
   "cell_type": "markdown",
   "metadata": {},
   "source": [
    "```python\n",
    "# Look at each clf's acc on the test\n",
    "from sklearn.model_selection import cross_val_score\n",
    "\n",
    "for clf in (log_clf, rnd_clf, svm_clf, hard_voting_clf):\n",
    "    scores = cross_val_score(clf, x_train, y_train, scoring='accuracy',\n",
    "                             cv=5, n_jobs=-1)\n",
    "    print(\"Acc: {:.4f} (+/- {:.4f}) [{}]\".format(\n",
    "        scores.mean(), scores.std(), clf.__class__.__name__))\n",
    "```"
   ]
  },
  {
   "cell_type": "markdown",
   "metadata": {},
   "source": [
    "The voting clf slightly outperforms all the individual classifiers."
   ]
  },
  {
   "cell_type": "markdown",
   "metadata": {},
   "source": [
    "### 1.2 Soft voting classifier"
   ]
  },
  {
   "cell_type": "markdown",
   "metadata": {},
   "source": [
    "If all clfs are able to estimate class probabilities (i.e., they all have a `predict_proba()` method), then you can tell Scikit-Learn to <font color='crimson'>predict the class with the highest class probability, averaged over all the individual classifiers</font>. This is called **<font color='red' size=3>soft voting</font>**.\n",
    "\n",
    "**<font color='crimson'>It often achieves higher performance than hard voting because it gives more weight to highly confident votes.</font>**\n",
    "\n",
    "All you need to do is **replace `voting='hard'` with `voting='soft'` and ensure that all clfs can estimate class probabilities**.\n",
    "\n",
    "> **<font color='blue'>Notice:</font>** This is not the case for the `SVC` class by default, so you need to set its `probability=True` (this will make the `SVC` class use cv to estimate class probabilities, slowing down training, and it will add a `predict_proba()` method)."
   ]
  },
  {
   "cell_type": "code",
   "execution_count": 6,
   "metadata": {
    "ExecuteTime": {
     "end_time": "2020-04-01T02:09:51.961107Z",
     "start_time": "2020-04-01T02:09:50.689109Z"
    },
    "scrolled": false
   },
   "outputs": [
    {
     "data": {
      "text/plain": [
       "VotingClassifier(estimators=[('lr',\n",
       "                              LogisticRegression(C=1.0, class_weight=None,\n",
       "                                                 dual=False, fit_intercept=True,\n",
       "                                                 intercept_scaling=1,\n",
       "                                                 l1_ratio=None, max_iter=100,\n",
       "                                                 multi_class='auto',\n",
       "                                                 n_jobs=None, penalty='l2',\n",
       "                                                 random_state=42,\n",
       "                                                 solver='lbfgs', tol=0.0001,\n",
       "                                                 verbose=0, warm_start=False)),\n",
       "                             ('rf',\n",
       "                              RandomForestClassifier(bootstrap=True,\n",
       "                                                     ccp_alpha=0.0,\n",
       "                                                     class_weight=None,\n",
       "                                                     crit...\n",
       "                                                     oob_score=False,\n",
       "                                                     random_state=42, verbose=0,\n",
       "                                                     warm_start=False)),\n",
       "                             ('svc',\n",
       "                              SVC(C=1.0, break_ties=False, cache_size=200,\n",
       "                                  class_weight=None, coef0=0.0,\n",
       "                                  decision_function_shape='ovr', degree=3,\n",
       "                                  gamma='scale', kernel='rbf', max_iter=-1,\n",
       "                                  probability=True, random_state=42,\n",
       "                                  shrinking=True, tol=0.001, verbose=False))],\n",
       "                 flatten_transform=True, n_jobs=-1, voting='soft',\n",
       "                 weights=None)"
      ]
     },
     "execution_count": 6,
     "metadata": {},
     "output_type": "execute_result"
    }
   ],
   "source": [
    "# Train a SOFT voting classifier composed of 3 diverse classifiers\n",
    "log_clf = LogisticRegression(solver='lbfgs', random_state=42)\n",
    "rnd_clf = RandomForestClassifier(n_estimators=100, random_state=42)\n",
    "svm_clf = SVC(gamma='scale', probability=True, random_state=42)\n",
    "\n",
    "soft_voting_clf = VotingClassifier(\n",
    "    # List of (str, estimator) tuples\n",
    "    estimators=[('lr', log_clf), ('rf', rnd_clf), ('svc', svm_clf)],\n",
    "    # Predict the class label based on the argmax of the sums of the predicted\n",
    "    # probabilities, which is recommended for an ensemble of well-calibrated classifiers.\n",
    "    voting='soft',\n",
    "    n_jobs=-1)\n",
    "soft_voting_clf.fit(x_train, y_train)"
   ]
  },
  {
   "cell_type": "code",
   "execution_count": 7,
   "metadata": {
    "ExecuteTime": {
     "end_time": "2020-04-01T02:09:53.595456Z",
     "start_time": "2020-04-01T02:09:51.962959Z"
    }
   },
   "outputs": [
    {
     "name": "stdout",
     "output_type": "stream",
     "text": [
      "Acc: 0.8640 [LogisticRegression]\n",
      "Acc: 0.8960 [RandomForestClassifier]\n",
      "Acc: 0.8960 [SVC]\n",
      "Acc: 0.9200 [VotingClassifier]\n"
     ]
    }
   ],
   "source": [
    "# Look at each clf's acc on the test\n",
    "for clf in (log_clf, rnd_clf, svm_clf, soft_voting_clf):\n",
    "    clf.fit(x_train, y_train)\n",
    "    y_pred = clf.predict(x_test)\n",
    "    print(\"Acc: {:.4f} [{}]\".format(\n",
    "        accuracy_score(y_test, y_pred), clf.__class__.__name__))"
   ]
  },
  {
   "cell_type": "markdown",
   "metadata": {},
   "source": [
    "When specific **`weights`** are provided, the predicted class probabilities for each classifier are collected, multiplied by the classifier weight, and averaged. The final class label is then derived from the class label with the highest average probability."
   ]
  },
  {
   "cell_type": "code",
   "execution_count": 8,
   "metadata": {
    "ExecuteTime": {
     "end_time": "2020-04-01T02:09:57.001142Z",
     "start_time": "2020-04-01T02:09:53.600845Z"
    }
   },
   "outputs": [
    {
     "name": "stdout",
     "output_type": "stream",
     "text": [
      "Acc: 0.8640 [LogisticRegression]\n",
      "Acc: 0.8960 [RandomForestClassifier]\n",
      "Acc: 0.8960 [SVC]\n",
      "Acc: 0.9120 [VotingClassifier]\n"
     ]
    }
   ],
   "source": [
    "# Train a SOFT voting classifier composed of 3 diverse classifiers with weights specified\n",
    "log_clf = LogisticRegression(solver='lbfgs', random_state=42)\n",
    "rnd_clf = RandomForestClassifier(n_estimators=100, random_state=42)\n",
    "svm_clf = SVC(gamma='scale', probability=True, random_state=42)\n",
    "\n",
    "soft_voting_clf = VotingClassifier(\n",
    "    # List of (str, estimator) tuples\n",
    "    estimators=[('lr', log_clf), ('rf', rnd_clf), ('svc', svm_clf)],\n",
    "    # Predict the class label based on the argmax of the sums of the predicted\n",
    "    # probabilities, which is recommended for an ensemble of well-calibrated classifiers.\n",
    "    voting='soft',\n",
    "    # Use uniform weights if None (default)\n",
    "    weights=[1, 2, 2],\n",
    "    n_jobs=-1)\n",
    "soft_voting_clf.fit(x_train, y_train)\n",
    "\n",
    "# Look at each clf's acc on the test\n",
    "for clf in (log_clf, rnd_clf, svm_clf, soft_voting_clf):\n",
    "    clf.fit(x_train, y_train)\n",
    "    y_pred = clf.predict(x_test)\n",
    "    print(\"Acc: {:.4f} [{}]\".format(\n",
    "        accuracy_score(y_test, y_pred), clf.__class__.__name__))"
   ]
  },
  {
   "cell_type": "markdown",
   "metadata": {},
   "source": [
    "### 1.3  Tune the hyperparameters of the individual estimators"
   ]
  },
  {
   "cell_type": "code",
   "execution_count": 9,
   "metadata": {
    "ExecuteTime": {
     "end_time": "2020-04-01T02:10:02.070510Z",
     "start_time": "2020-04-01T02:09:57.005887Z"
    }
   },
   "outputs": [
    {
     "name": "stdout",
     "output_type": "stream",
     "text": [
      "Acc: 0.9120 [GridSearchCV]\n"
     ]
    }
   ],
   "source": [
    "# Tune the hyperparameters of the individual estimators\n",
    "from sklearn.model_selection import GridSearchCV\n",
    "\n",
    "log_clf = LogisticRegression(solver='lbfgs', random_state=42)\n",
    "rnd_clf = RandomForestClassifier(n_estimators=100, random_state=42)\n",
    "svm_clf = SVC(gamma='scale', probability=True, random_state=42)\n",
    "\n",
    "soft_voting_clf = VotingClassifier(\n",
    "    estimators=[('lr', log_clf), ('rf', rnd_clf), ('svc', svm_clf)],\n",
    "    voting='soft',\n",
    "    weights=None,  # default\n",
    "    n_jobs=-1)\n",
    "\n",
    "# Train\n",
    "param_grid = {'lr__C': [1, 10, 100], 'rf__n_estimators': [50, 100, 200]}\n",
    "grid_search = GridSearchCV(estimator=soft_voting_clf, param_grid=param_grid,\n",
    "                           cv=5, n_jobs=-1)\n",
    "grid_search.fit(x_train, y_train)\n",
    "\n",
    "# Test\n",
    "y_pred = grid_search.predict(x_test)\n",
    "print(\"Acc: {:.4f} [{}]\".format(\n",
    "        accuracy_score(y_test, y_pred), grid_search.__class__.__name__))"
   ]
  },
  {
   "cell_type": "markdown",
   "metadata": {},
   "source": [
    "## 2. Bagging methods"
   ]
  },
  {
   "cell_type": "markdown",
   "metadata": {},
   "source": [
    "Bagging methods form a class of algorithms which build several instances of a black-box estimator **on random subsets** of the original training set and then aggregate their individual predictions to form a final prediction. These methods are used as a way to <font color='crimson'>reduce the variance of a base estimator</font> (e.g., a decision tree), <font color='crimson'>by introducing randomization into its construction procedure and then making an ensemble out of it</font>."
   ]
  },
  {
   "cell_type": "markdown",
   "metadata": {},
   "source": [
    "### 2.1 Bagging and Pasting"
   ]
  },
  {
   "cell_type": "markdown",
   "metadata": {},
   "source": [
    "**<font color='crimson'>Get a diverse set of clfs:</font>**\n",
    "\n",
    "- <font color='crimson'>use very different training algorithms on the (same) full training set</font> (before)\n",
    "\n",
    "\n",
    "- <font color='crimson'>use the same training algorithm for every predictor and train them on different random subsets of the training set</font>\n",
    "\n",
    "  - When **sampling training set is performed with replacement**, this method is called **<font color='red'>bagging</font>** (short for **<font color='red'>bootstrap aggregating</font>**.\n",
    "  \n",
    "  - When **sampling the training set is performed without replacement**, it's called **<font color='red'>pasting</font>**.\n",
    "\n",
    "<br>\n",
    "\n",
    "Both bagging and pasting allow training instances to be sampled several times across multiple predictors, but only bagging allows training instances to be sampled several times for the same predictor.\n",
    "\n",
    "![bagging-pasting](./figs/chap07-figs/bagging-pasting.png)\n",
    "\n",
    "<center><i>Bagging and pasting involves training several predictors on different random samples of the training set</i></center>\n",
    "\n",
    "<br>\n",
    "\n",
    "Once all predictors are trained, the ensemble can <font color='crimson'>make a prediction for a new instance by simply aggregating the predictions of all predictors</font>. The aggregation function is typically the **statistical mode** (i.e., the most frequent prediction, just like a hard voting classifier) for classification, or the average for regression.\n",
    "\n",
    "<font color='crimson'>Each individual predictor has a higher bias than if it were trained on the original training set, but aggregation reduces both bias and variance. <b>Generally, the net result is that the ensemble has a similar bias but a lower variance than a single predictor trained on the original training set.</b></font>\n",
    "\n",
    "Predictors can all be <font color='crimson'>trained in parallel, via different CPU cores or even different servers</font>. Similarly, <font color='crimson'>predictions can be made in parallel</font>. This is one of the reasons bagging and pasting are such popular methods: they <font color='crimson'>scale very well</font>."
   ]
  },
  {
   "cell_type": "markdown",
   "metadata": {},
   "source": [
    "In scikit-learn, **`BaggingClassifier`** and **`BaggingRegressor`** take as input a user-specified base estimator along with parameters specifying the strategy to draw random subsets.\n",
    "\n",
    "- `max_samples` and `max_features` control the size of the subsets (in terms of samples and features)\n",
    "\n",
    "\n",
    "- `bootstrap` and `bootstrap_features` control whether samples and features are drawn with or without replacement. When using a subset of the available samples the generalization accuracy can be estimated with the `out-of-bag` samples by setting `oob_score=True`."
   ]
  },
  {
   "cell_type": "code",
   "execution_count": 10,
   "metadata": {
    "ExecuteTime": {
     "end_time": "2020-04-01T02:10:02.075889Z",
     "start_time": "2020-04-01T02:10:02.073056Z"
    }
   },
   "outputs": [],
   "source": [
    "from sklearn.ensemble import BaggingClassifier\n",
    "from sklearn.tree import DecisionTreeClassifier"
   ]
  },
  {
   "cell_type": "code",
   "execution_count": 11,
   "metadata": {
    "ExecuteTime": {
     "end_time": "2020-04-01T02:10:02.885001Z",
     "start_time": "2020-04-01T02:10:02.077797Z"
    }
   },
   "outputs": [
    {
     "data": {
      "text/plain": [
       "0.904"
      ]
     },
     "execution_count": 11,
     "metadata": {},
     "output_type": "execute_result"
    }
   ],
   "source": [
    "bagging_clf = BaggingClassifier(\n",
    "    # The base estimator to fit on random subsets of the dataset.\n",
    "    DecisionTreeClassifier(random_state=42),  # Default=DecisionTree\n",
    "    # The number of base estimators in the ensemble.\n",
    "    n_estimators=500,\n",
    "    # The number of samples to draw from X to train each base estimator.\n",
    "    max_samples=100,   # Default=1.0\n",
    "    max_features=1.0,  # Default\n",
    "    # Whether samples are drawn with replacement.\n",
    "    # If `False`, sampling without replacement is performed.\n",
    "    bootstrap=True,    # Default\n",
    "    # Whether features are drawn with replacement.\n",
    "    bootstrap_features=False,  # Default\n",
    "    # Whether to use out-of-bag samples to estimate the generalization error.\n",
    "    oob_score=False,   # Default\n",
    "    random_state=42)\n",
    "bagging_clf.fit(x_train, y_train)\n",
    "\n",
    "y_pred = bagging_clf.predict(x_test)\n",
    "accuracy_score(y_test, y_pred)"
   ]
  },
  {
   "cell_type": "code",
   "execution_count": 12,
   "metadata": {
    "ExecuteTime": {
     "end_time": "2020-04-01T02:10:02.896859Z",
     "start_time": "2020-04-01T02:10:02.887723Z"
    }
   },
   "outputs": [
    {
     "data": {
      "text/plain": [
       "0.856"
      ]
     },
     "execution_count": 12,
     "metadata": {},
     "output_type": "execute_result"
    }
   ],
   "source": [
    "tree_clf = DecisionTreeClassifier(random_state=42)\n",
    "tree_clf.fit(x_train, y_train)\n",
    "y_pred = tree_clf.predict(x_test)\n",
    "accuracy_score(y_test, y_pred)"
   ]
  },
  {
   "cell_type": "markdown",
   "metadata": {},
   "source": [
    "<div class=\"alert alert-class alert-info\">\n",
    "    \n",
    "<b>The <code>BaggingClassifier</code> automatically performs soft voting instead of hard voting if the base classifier can estimate class probabilities (i.e., if it has a <code>predict_proba()</code> method).</b>\n",
    "</div>"
   ]
  },
  {
   "cell_type": "code",
   "execution_count": 13,
   "metadata": {
    "ExecuteTime": {
     "end_time": "2020-04-01T02:10:02.912454Z",
     "start_time": "2020-04-01T02:10:02.900285Z"
    }
   },
   "outputs": [],
   "source": [
    "from matplotlib.colors import ListedColormap\n",
    "\n",
    "\n",
    "def plot_decision_boundary(clf, x, y):\n",
    "    x_min, x_max = x[:, 0].min() - 0.1, x[:, 0].max() + 0.1\n",
    "    y_min, y_max = x[:, 1].min() - 0.1, x[:, 1].max() + 0.1\n",
    "    xx, yy = np.meshgrid(np.linspace(x_min, x_max, 1000),\n",
    "                         np.linspace(y_min, y_max, 1000))\n",
    "    x_new = np.c_[xx.ravel(), yy.ravel()]\n",
    "\n",
    "    y_pred = clf.predict(x_new).reshape(xx.shape)\n",
    "\n",
    "    custom_cmap = ListedColormap(['#fafab0', '#9898ff', '#a0faa0'])\n",
    "    plt.contourf(xx, yy, y_pred, alpha=0.3, cmap=custom_cmap)\n",
    "\n",
    "    plt.plot(x[:, 0][y == 0], x[:, 1][y == 0], 'yo', alpha=0.5)\n",
    "    plt.plot(x[:, 0][y == 1], x[:, 1][y == 1], 'bs', alpha=0.5)\n",
    "    plt.xlabel('$x_1$', fontsize=14)\n",
    "    plt.ylabel('$x_2$', fontsize=14, rotation=0)"
   ]
  },
  {
   "cell_type": "code",
   "execution_count": 14,
   "metadata": {
    "ExecuteTime": {
     "end_time": "2020-04-01T02:10:24.601415Z",
     "start_time": "2020-04-01T02:10:02.915369Z"
    }
   },
   "outputs": [
    {
     "data": {
      "image/png": "[encoded data removed]",
      "text/plain": [
       "<Figure size 864x316.8 with 2 Axes>"
      ]
     },
     "metadata": {
      "needs_background": "light"
     },
     "output_type": "display_data"
    }
   ],
   "source": [
    "plt.figure(figsize=(12, 4.4))\n",
    "plt.subplot(121)\n",
    "plot_decision_boundary(tree_clf, X, y)\n",
    "plt.title(\"Decision Tree\", fontsize=18)\n",
    "\n",
    "plt.subplot(122)\n",
    "plot_decision_boundary(bagging_clf, X, y)\n",
    "plt.title(\"Decision Tree with Bagging\", fontsize=18)\n",
    "plt.show()"
   ]
  },
  {
   "cell_type": "markdown",
   "metadata": {},
   "source": [
    "**The ensemble has a comparable bias but a smaller variance (it makes roughly the same number of errors on the training set, but the decision boundary is less irregular).**"
   ]
  },
  {
   "cell_type": "markdown",
   "metadata": {},
   "source": [
    "<div class=\"alert alert-block alert-info\">\n",
    "    <center><b><font size=3>Note</font></b></center>\n",
    "    \n",
    "Bootstrapping introduces a bit more diversity in the subsets that each predictor is trained on, so <b>bagging ends up with a slightly higher bias than pasting</b>; but the extra diversity also means that the predictors end up being less correlated, so the ensemble’s variance is reduced. Overall, <b>bagging often results in better models, which explains why it is generally preferred</b>.\n",
    "\n",
    "If you have spare time and CPU power, you can use cross-validation to evaluate both bagging and pasting and select the one that works best.\n",
    "</div>"
   ]
  },
  {
   "cell_type": "markdown",
   "metadata": {},
   "source": [
    "### 2.2 Out-of-bag evaluation"
   ]
  },
  {
   "cell_type": "markdown",
   "metadata": {},
   "source": [
    "With bagging, some instances may be sampled several times for any given predictor, while others may not be sampled at all. By default a `BaggingClassifier` samples m training instances with replacement (**`bootstrap=True`**), where m is the size of the training set. This <font color='crimson'>means that only about 63.2% of the training instances are sampled on average for each predictor</font>. The remaining 36.8% of the training instances that are not sampled are called **<font color='red'>out-of-bag (oob)</font>** instances. **Note that they are not the same 36.8% for all predictors.**\n",
    "\n",
    "Since a predictor never sees the oob instances during training, it can be evaluated on these instances, without the need for a separate validation set. You can <font color='crimson'>evaluate the ensemble itself by averaging out the oob evaluations of each predictor</font>.\n",
    "\n",
    "In scikit-learn, set `oob_score=True` when creating a `BaggingClassifier` to request an automatic oob evaluation after training. The resulting evaluation score is available through the `oob_score_` variable:"
   ]
  },
  {
   "cell_type": "code",
   "execution_count": 15,
   "metadata": {
    "ExecuteTime": {
     "end_time": "2020-04-01T02:10:25.416856Z",
     "start_time": "2020-04-01T02:10:24.603874Z"
    }
   },
   "outputs": [
    {
     "data": {
      "text/plain": [
       "0.8986666666666666"
      ]
     },
     "execution_count": 15,
     "metadata": {},
     "output_type": "execute_result"
    }
   ],
   "source": [
    "# Train a bagging clf with `oob_score` set to True\n",
    "bagging_clf = BaggingClassifier(\n",
    "    DecisionTreeClassifier(random_state=42),\n",
    "    n_estimators=500,\n",
    "    bootstrap=True,\n",
    "    max_samples=1.0,\n",
    "    oob_score=True,\n",
    "    random_state=42)\n",
    "bagging_clf.fit(x_train, y_train)\n",
    "# Score of the training dataset obtained using an out-of-bag estimate.\n",
    "bagging_clf.oob_score_"
   ]
  },
  {
   "cell_type": "code",
   "execution_count": 16,
   "metadata": {
    "ExecuteTime": {
     "end_time": "2020-04-01T02:10:25.471983Z",
     "start_time": "2020-04-01T02:10:25.418801Z"
    }
   },
   "outputs": [
    {
     "data": {
      "text/plain": [
       "0.912"
      ]
     },
     "execution_count": 16,
     "metadata": {},
     "output_type": "execute_result"
    }
   ],
   "source": [
    "y_pred = bagging_clf.predict(x_test)\n",
    "accuracy_score(y_test, y_pred)"
   ]
  },
  {
   "cell_type": "code",
   "execution_count": 17,
   "metadata": {
    "ExecuteTime": {
     "end_time": "2020-04-01T02:10:25.477605Z",
     "start_time": "2020-04-01T02:10:25.473828Z"
    }
   },
   "outputs": [
    {
     "data": {
      "text/plain": [
       "((375, 2), (375,))"
      ]
     },
     "execution_count": 17,
     "metadata": {},
     "output_type": "execute_result"
    }
   ],
   "source": [
    "# The oob decision function for each training instance is available\n",
    "oob_decision_function = bagging_clf.oob_decision_function_\n",
    "oob_decision_function.shape, y_train.shape"
   ]
  },
  {
   "cell_type": "markdown",
   "metadata": {},
   "source": [
    "**Since the base estimator (`DecisionTreeClassifier`) has a `predict_proba()` method, the decision function returns the class probabilities for each training instance.**"
   ]
  },
  {
   "cell_type": "markdown",
   "metadata": {},
   "source": [
    "### 2.3 Random patches and Random subspaces"
   ]
  },
  {
   "cell_type": "markdown",
   "metadata": {},
   "source": [
    "The `BaggingClassifier` class supports sampling the features as well - `max_features` and `bootstrap_features`. Thus, each predictor will be trained on a random subset of the input features. <font color='crimson'>This technique is particularly useful when you are dealing with high-dimensional inputs (such as images).</font>\n",
    "\n",
    "- **<font color='red'>Random Patches:</font>** sampling both training instances and features.\n",
    "\n",
    "\n",
    "- **<font color='red'>Random subspaces:</font>** keep all training instances (`bootstrap=False` and `max_samples=1.0`) but sampling features (`bootstrap_features=True` and/or `max_features=float_value_smaller_than_1`).\n",
    "\n",
    "**<font color='crimson'>Sampling features results in even more predictor diversity, trading a bit more bias for a lower variance.</font>**\n",
    "\n",
    "- **<font color='red'>Bagging:</font>** sampling training instances with replacement.\n",
    "\n",
    "\n",
    "- **<font color='red'>Pasting:</font>** sampling training instances without replacement."
   ]
  },
  {
   "cell_type": "markdown",
   "metadata": {},
   "source": [
    "## 3. Forests of randomized trees"
   ]
  },
  {
   "cell_type": "markdown",
   "metadata": {},
   "source": [
    "There are **<font color='crimson'>two averaging algorithms based on randomized DTs</font>** in `sklearn.ensemble`:\n",
    "\n",
    "- RandomForest\n",
    "\n",
    "\n",
    "- Extremely Randomized Trees\n",
    "\n",
    "Both algorithms are perturb-and-combine techniques **<font color='crimson'>specifically designed for trees</font>**. This means a diverse set of classifiers is created by introducing randomness in the classifier construction. The prediction of the ensemble is given as the averaged prediction of the individual classifiers."
   ]
  },
  {
   "cell_type": "markdown",
   "metadata": {},
   "source": [
    "### 3.1 Random Forests"
   ]
  },
  {
   "cell_type": "markdown",
   "metadata": {},
   "source": [
    "- **<font color='crimson'>1st randomness</font>** In RF, each tree in the ensemble is built from a sample drawn with replacement (i.e., a bootstrap sample) from the training instances. The sub-sample size is always the same as the original input sample size but the samples are drawn with replacement if `bootstrap=True` (default).\n",
    "\n",
    "\n",
    "- **<font color='crimson'>2nd randomness</font>** Furthermore, it searches for the best feature among a random subset of features when splitting a node during growing the tree.\n",
    "\n",
    "**<font color='crimson'>These 2 sources of randomness result in greater tree diversity, which (again) trades a higher bias for a lower variance, generally yielding an overall better model.</font>** Indeed, individual decision trees typically exhibit high variance and tend to overfit. The injected (注入的) randomness in forests yield decision trees with somewhat decoupled prediction errors. By taking an average of those predictions, some errors can cancel out. RFs achieve a reduced variance by combining diverse trees, sometimes at the cost of a slight increase in bias. In practice the variance reduction is often significant hence yielding an overall better model.\n",
    "\n",
    "\n",
    "You can use the `RandomForestClassifier` instead of `BaggingClassifier` with `DecisionTreeClassifier` (same for regression)."
   ]
  },
  {
   "cell_type": "code",
   "execution_count": 18,
   "metadata": {
    "ExecuteTime": {
     "end_time": "2020-04-01T02:10:26.310721Z",
     "start_time": "2020-04-01T02:10:25.479247Z"
    }
   },
   "outputs": [
    {
     "data": {
      "text/plain": [
       "0.912"
      ]
     },
     "execution_count": 18,
     "metadata": {},
     "output_type": "execute_result"
    }
   ],
   "source": [
    "# Train a random forests clf\n",
    "from sklearn.ensemble import RandomForestClassifier\n",
    "\n",
    "rnd_clf = RandomForestClassifier(n_estimators=500, max_leaf_nodes=16,\n",
    "                                 max_features=1.0, random_state=42, n_jobs=-1)\n",
    "rnd_clf.fit(x_train, y_train)\n",
    "\n",
    "y_pred_rf = rnd_clf.predict(x_test)\n",
    "accuracy_score(y_test, y_pred_rf)"
   ]
  },
  {
   "cell_type": "markdown",
   "metadata": {},
   "source": [
    "**`RandomForestClassifier` has all the hyperparameters of a `DecisionTreeClassifier` (to control how trees are grown), plus all the hyperparameters of a `BaggingClassifier` to control the ensemble itself.**\n",
    "\n",
    "In contrast to the [original publication](https://www.stat.berkeley.edu/~breiman/randomforest2001.pdf), the Scikit-Learn implementation combines clfs by averaging their probabilistic prediction, instead of letting each clf vote for a single class."
   ]
  },
  {
   "cell_type": "code",
   "execution_count": 19,
   "metadata": {
    "ExecuteTime": {
     "end_time": "2020-04-01T02:10:29.474388Z",
     "start_time": "2020-04-01T02:10:26.312507Z"
    }
   },
   "outputs": [
    {
     "data": {
      "text/plain": [
       "0.92"
      ]
     },
     "execution_count": 19,
     "metadata": {},
     "output_type": "execute_result"
    }
   ],
   "source": [
    "# Same to the previous RF\n",
    "bagging_clf = BaggingClassifier(\n",
    "    DecisionTreeClassifier(splitter='random',  # Choose the best random split\n",
    "                           max_leaf_nodes=16,\n",
    "                           random_state=42),\n",
    "    n_estimators=500,\n",
    "    bootstrap=True,\n",
    "    max_samples=1.0,\n",
    "    n_jobs=-1,\n",
    "    random_state=42)\n",
    "bagging_clf.fit(x_train, y_train)\n",
    "\n",
    "y_pred = bagging_clf.predict(x_test)\n",
    "accuracy_score(y_test, y_pred)"
   ]
  },
  {
   "cell_type": "code",
   "execution_count": 20,
   "metadata": {
    "ExecuteTime": {
     "end_time": "2020-04-01T02:10:29.480876Z",
     "start_time": "2020-04-01T02:10:29.476572Z"
    },
    "scrolled": true
   },
   "outputs": [
    {
     "data": {
      "text/plain": [
       "0.944"
      ]
     },
     "execution_count": 20,
     "metadata": {},
     "output_type": "execute_result"
    }
   ],
   "source": [
    "np.sum(y_pred_rf == y_pred) / len(y_pred)"
   ]
  },
  {
   "cell_type": "markdown",
   "metadata": {},
   "source": [
    "### 3.2 Extremely Randomized Trees (Extre-Trees)"
   ]
  },
  {
   "cell_type": "markdown",
   "metadata": {},
   "source": [
    "- **<font color='crimson'>3rd randomness</font>** It is possible to make trees even more random by also using random thresholds for each feature rather than searching for the best possible thresholds (like regular Decision Trees do).\n",
    "\n",
    "A forest of such extremely random trees is called an **<font color='red'>Extremely Randomized Trees</font>** ensemble (or Extra-Trees for short).\n",
    "\n",
    "<font color='crimson'>This usually allows to reduce the variance of the model a bit more, at the expense of a slightly greater increase in bias.</font>\n",
    "\n",
    "It also **<font color='crimson'>makes Extra Trees much faster to train than regular RF</font>**, because finding the best possible threshold for each feature at every node is one of the most time-consuming tasks of growing a tree.\n",
    "\n",
    "The `ExtraTreesClasifier`'s API is identical to the `RandomForestClassifier`. (also for `ExtraTressRegressor`)\n",
    "\n",
    "<br>\n",
    "\n",
    "<div class=\"alert alert-class alert-info\">\n",
    "    <b>It is hard to tell in advance whether a <code>RandomForestClassifier</code> will perform better or worse than an <code>ExtraTreesClassifier</code>. Generally, the only way to know is to try both and compare them using cross-validation (tuning the hyperparameters using grid search).</b>\n",
    "</div>"
   ]
  },
  {
   "cell_type": "code",
   "execution_count": 21,
   "metadata": {
    "ExecuteTime": {
     "end_time": "2020-04-01T02:10:30.108528Z",
     "start_time": "2020-04-01T02:10:29.482747Z"
    }
   },
   "outputs": [
    {
     "data": {
      "text/plain": [
       "0.912"
      ]
     },
     "execution_count": 21,
     "metadata": {},
     "output_type": "execute_result"
    }
   ],
   "source": [
    "# Train a Extra-tree clf\n",
    "from sklearn.ensemble import ExtraTreesClassifier\n",
    "\n",
    "extra_trees = ExtraTreesClassifier(n_estimators=500, max_leaf_nodes=16,\n",
    "                                   max_features=1.0, random_state=42, n_jobs=-1)\n",
    "extra_trees.fit(x_train, y_train)\n",
    "y_pred_rf = extra_trees.predict(x_test)\n",
    "accuracy_score(y_test, y_pred_rf)"
   ]
  },
  {
   "cell_type": "markdown",
   "metadata": {},
   "source": [
    "### 3.3 Feature importance"
   ]
  },
  {
   "cell_type": "markdown",
   "metadata": {},
   "source": [
    "Scikit-Learn <font color='crimson'>measures a feature's importance by looking at how much the tree nodes that use this feature reduce impurity on average (across all tress in the forest)</font>. It is weighted average, where each node's weight is equal to the number of training samples that are associated with it.\n",
    "\n",
    "Scikit-Learn computes this score automatically for each feature after training, then is scale the results so that the sum of all importances is equal to 1."
   ]
  },
  {
   "cell_type": "code",
   "execution_count": 22,
   "metadata": {
    "ExecuteTime": {
     "end_time": "2020-04-01T02:10:30.947702Z",
     "start_time": "2020-04-01T02:10:30.110698Z"
    }
   },
   "outputs": [
    {
     "data": {
      "text/plain": [
       "array([0.11249225, 0.02311929, 0.44103046, 0.423358  ])"
      ]
     },
     "execution_count": 22,
     "metadata": {},
     "output_type": "execute_result"
    }
   ],
   "source": [
    "# Output each feature's importance for Iris dataset by using RF\n",
    "from sklearn.datasets import load_iris\n",
    "\n",
    "iris = load_iris()\n",
    "\n",
    "rnd_clf = RandomForestClassifier(n_estimators=500, random_state=42, n_jobs=-1)\n",
    "rnd_clf.fit(iris['data'], iris['target'])\n",
    "\n",
    "# shape: (n_features, ).\n",
    "# The higher, the more important the feature.\n",
    "rnd_clf.feature_importances_"
   ]
  },
  {
   "cell_type": "code",
   "execution_count": 23,
   "metadata": {
    "ExecuteTime": {
     "end_time": "2020-04-01T02:10:31.066290Z",
     "start_time": "2020-04-01T02:10:30.954608Z"
    }
   },
   "outputs": [
    {
     "name": "stdout",
     "output_type": "stream",
     "text": [
      "sepal length (cm) 0.11249225099876375\n",
      "sepal width (cm) 0.02311928828251033\n",
      "petal length (cm) 0.4410304643639577\n",
      "petal width (cm) 0.4233579963547682\n"
     ]
    }
   ],
   "source": [
    "for name, score in zip(iris['feature_names'], rnd_clf.feature_importances_):\n",
    "    print(name, score)"
   ]
  },
  {
   "cell_type": "code",
   "execution_count": 24,
   "metadata": {
    "ExecuteTime": {
     "end_time": "2020-04-01T02:11:00.152412Z",
     "start_time": "2020-04-01T02:10:31.071302Z"
    }
   },
   "outputs": [
    {
     "data": {
      "image/png": "[encoded data removed]",
      "text/plain": [
       "<Figure size 432x288 with 2 Axes>"
      ]
     },
     "metadata": {
      "needs_background": "light"
     },
     "output_type": "display_data"
    }
   ],
   "source": [
    "# Output each pixel's importance for MNIST dataset by using Extra-Trees\n",
    "from sklearn.datasets import fetch_openml\n",
    "\n",
    "mnist = fetch_openml('mnist_784', version=1)\n",
    "mnist.target = mnist.target.astype(np.uint8)\n",
    "\n",
    "extra_trees_clf = ExtraTreesClassifier(n_estimators=100, random_state=42, n_jobs=-1)\n",
    "extra_trees_clf.fit(mnist['data'], mnist['target'])\n",
    "feature_importances = extra_trees_clf.feature_importances_\n",
    "\n",
    "# Plot each pixel's importance\n",
    "plt.imshow(feature_importances.reshape((28, 28)),\n",
    "           cmap=mpl.cm.hot, interpolation='nearest')\n",
    "cbar = plt.colorbar(ticks=[feature_importances.min(), feature_importances.max()])\n",
    "cbar.ax.set_yticklabels(['Not important', 'Very important'])\n",
    "plt.axis('off')\n",
    "plt.show()"
   ]
  },
  {
   "cell_type": "markdown",
   "metadata": {},
   "source": [
    "RF/Extra-Trees are very handy to get a quick understanding of what features actually matter, in particular if you need to perform feature selection."
   ]
  },
  {
   "cell_type": "markdown",
   "metadata": {},
   "source": [
    "### 3.4 Parameters"
   ]
  },
  {
   "cell_type": "markdown",
   "metadata": {},
   "source": [
    "The <font color='blue'>main parameters to adjust</font> when using these methods (RF and Extra-Trees) are **`n_estimators`** and **`max_features`**.\n",
    "\n",
    "- **`n_estimators`**: the number of trees in the forest. The larger the better, but also the longer it will take to compute. Note that results will stop getting significantly better beyond a critical number of trees.\n",
    "\n",
    "\n",
    "- **`max_features`**: the size of the random subsets of features to consider when splitting a node. The lower the greater the reduction of variance, but also the greater the increase in bias.\n",
    "\n",
    "\n",
    "- Empirical good default values are `max_features=None` (all features instead of a random subset) for regression tasks, and `max-features='sqrt'` (a random subset of size `sqrt(n_features)`) for classification tasks.\n",
    "\n",
    "\n",
    "- Good results are often achieved when setting `max_depth=None` in combination with `min_samples_split=2` (i.e., when fully developing the trees).\n",
    "\n",
    "\n",
    "- These values are usually not optimal, and might result in models that consume a lot of RAM. **<font color='blue'>The best parameter values should always be cross-validated.</font>**\n",
    "\n",
    "\n",
    "- In RF, bootstrap samples are used by default (`bootstrap=True`) while the default strategy for Extra-Trees is to use the whole dataset (`bootstrap=False`). When using bootstrap sampling the generalization accuracy can be estimated on the left out or out-of-bag samples. This can be enabled by setting `oob_score=True`."
   ]
  },
  {
   "cell_type": "markdown",
   "metadata": {},
   "source": [
    "### 3.5 Parallelization (`n_jobs`)"
   ]
  },
  {
   "cell_type": "markdown",
   "metadata": {},
   "source": [
    "This module also features the parallel construction of the trees and the parallel computation of the predictions through the **`n_jobs`** parameter.\n",
    "\n",
    "- `n_jobs=k`: computations are partitioned into `k` jobs, and run on `k` cores of the machine.\n",
    "\n",
    "\n",
    "- `n_job=-1`: all cores available on the machine are used.\n",
    "\n",
    "\n",
    "<div class=\"alert alert-class alert-info\">\n",
    "\n",
    "<b>Note that because of inter-process communication overhead(费用), the speedup might not be linear (i.e., using k jobs will unfortunately not be k times as fast). Significant speedup can still be achieved though when building a large number of trees, or when building a single tree requires a fair amount of time (e.g., on large datasets).</b>\n",
    "\n",
    "</div>"
   ]
  },
  {
   "cell_type": "markdown",
   "metadata": {},
   "source": [
    "### 3.6 Totally Random Trees Embedding (Notice)"
   ]
  },
  {
   "cell_type": "markdown",
   "metadata": {},
   "source": [
    "`RandomTreesEmbeding` **<font color='crimson'>implements an unsupervised transformation of the data</font>**.\n",
    "\n",
    "It encodes the data by the indices of the leaves a data point ends up in by using a forest of completely random trees. The index is then encoded in a one-of-K manner, leading to a high-dimensional sparse representation. This coding can be computed very efficiently and can then be used as a basis for other learning tasks.\n",
    "\n",
    "The size and sparsity of the code can be influenced by choosing the number of trees and the maximum depth per tree. For each tree in the ensemble, the coding contains one entry of one. The dimensionality of the resulting representation is `n_out <= n_estimators * max_leaf_nodes`. If `max_leaf_nodes = None`, the number of leaf nodes is at most `n_estimators * 2 ** max_depth`.\n",
    "\n",
    "**<font color='crimson'>It provides a way to map data to a very high-dimensional, sparse space, in which linear clfs often achieve excellent accuracy. For sparse binary data, BernoulliNB is particularly well-suited.</font>**"
   ]
  },
  {
   "cell_type": "code",
   "execution_count": 25,
   "metadata": {
    "ExecuteTime": {
     "end_time": "2020-04-01T02:11:00.413454Z",
     "start_time": "2020-04-01T02:11:00.154183Z"
    }
   },
   "outputs": [
    {
     "data": {
      "text/plain": [
       "RandomTreesEmbedding(max_depth=5, max_leaf_nodes=None,\n",
       "                     min_impurity_decrease=0.0, min_impurity_split=None,\n",
       "                     min_samples_leaf=1, min_samples_split=2,\n",
       "                     min_weight_fraction_leaf=0.0, n_estimators=100, n_jobs=-1,\n",
       "                     random_state=42, sparse_output=True, verbose=0,\n",
       "                     warm_start=False)"
      ]
     },
     "execution_count": 25,
     "metadata": {},
     "output_type": "execute_result"
    }
   ],
   "source": [
    "from sklearn.ensemble import RandomTreesEmbedding\n",
    "\n",
    "random_trees_embedding = RandomTreesEmbedding(\n",
    "    n_estimators=100, max_depth=5, n_jobs=-1, random_state=42)\n",
    "random_trees_embedding.fit(iris['data'], iris['target'])"
   ]
  },
  {
   "cell_type": "code",
   "execution_count": 26,
   "metadata": {
    "ExecuteTime": {
     "end_time": "2020-04-01T02:11:00.418788Z",
     "start_time": "2020-04-01T02:11:00.415157Z"
    }
   },
   "outputs": [
    {
     "data": {
      "text/plain": [
       "ExtraTreeRegressor(ccp_alpha=0.0, criterion='mse', max_depth=None,\n",
       "                   max_features='auto', max_leaf_nodes=None,\n",
       "                   min_impurity_decrease=0.0, min_impurity_split=None,\n",
       "                   min_samples_leaf=1, min_samples_split=2,\n",
       "                   min_weight_fraction_leaf=0.0, random_state=None,\n",
       "                   splitter='random')"
      ]
     },
     "execution_count": 26,
     "metadata": {},
     "output_type": "execute_result"
    }
   ],
   "source": [
    "# The completely random trees\n",
    "random_trees_embedding.base_estimator_"
   ]
  },
  {
   "cell_type": "code",
   "execution_count": 27,
   "metadata": {
    "ExecuteTime": {
     "end_time": "2020-04-01T02:11:00.535871Z",
     "start_time": "2020-04-01T02:11:00.420601Z"
    }
   },
   "outputs": [
    {
     "data": {
      "text/plain": [
       "<150x2189 sparse matrix of type '<class 'numpy.float64'>'\n",
       "\twith 15000 stored elements in Compressed Sparse Row format>"
      ]
     },
     "execution_count": 27,
     "metadata": {},
     "output_type": "execute_result"
    }
   ],
   "source": [
    "iris_transformed = random_trees_embedding.transform(iris['data'])\n",
    "iris_transformed"
   ]
  },
  {
   "cell_type": "code",
   "execution_count": 28,
   "metadata": {
    "ExecuteTime": {
     "end_time": "2020-04-01T02:11:00.541398Z",
     "start_time": "2020-04-01T02:11:00.537907Z"
    }
   },
   "outputs": [
    {
     "data": {
      "text/plain": [
       "(150, 2189)"
      ]
     },
     "execution_count": 28,
     "metadata": {},
     "output_type": "execute_result"
    }
   ],
   "source": [
    "# shape: (n_samples, n_out)\n",
    "iris_transformed.shape"
   ]
  },
  {
   "cell_type": "markdown",
   "metadata": {},
   "source": [
    "每行是每个 instance 在每棵树中所属叶子节点 index 的 one-hot 编码合并而成。"
   ]
  },
  {
   "cell_type": "code",
   "execution_count": 29,
   "metadata": {
    "ExecuteTime": {
     "end_time": "2020-04-01T02:11:00.547900Z",
     "start_time": "2020-04-01T02:11:00.543028Z"
    }
   },
   "outputs": [
    {
     "data": {
      "text/plain": [
       "array([[0., 1., 0., ..., 0., 0., 0.],\n",
       "       [0., 1., 0., ..., 0., 0., 0.],\n",
       "       [0., 1., 0., ..., 0., 0., 0.],\n",
       "       ...,\n",
       "       [0., 0., 0., ..., 0., 1., 0.],\n",
       "       [0., 0., 0., ..., 0., 1., 0.],\n",
       "       [0., 0., 0., ..., 0., 0., 0.]])"
      ]
     },
     "execution_count": 29,
     "metadata": {},
     "output_type": "execute_result"
    }
   ],
   "source": [
    "iris_transformed.toarray()"
   ]
  },
  {
   "cell_type": "code",
   "execution_count": 30,
   "metadata": {
    "ExecuteTime": {
     "end_time": "2020-04-01T02:11:00.555958Z",
     "start_time": "2020-04-01T02:11:00.549658Z"
    }
   },
   "outputs": [
    {
     "data": {
      "text/plain": [
       "array([100., 100., 100., 100., 100., 100., 100., 100., 100., 100., 100.,\n",
       "       100., 100., 100., 100., 100., 100., 100., 100., 100., 100., 100.,\n",
       "       100., 100., 100., 100., 100., 100., 100., 100., 100., 100., 100.,\n",
       "       100., 100., 100., 100., 100., 100., 100., 100., 100., 100., 100.,\n",
       "       100., 100., 100., 100., 100., 100., 100., 100., 100., 100., 100.,\n",
       "       100., 100., 100., 100., 100., 100., 100., 100., 100., 100., 100.,\n",
       "       100., 100., 100., 100., 100., 100., 100., 100., 100., 100., 100.,\n",
       "       100., 100., 100., 100., 100., 100., 100., 100., 100., 100., 100.,\n",
       "       100., 100., 100., 100., 100., 100., 100., 100., 100., 100., 100.,\n",
       "       100., 100., 100., 100., 100., 100., 100., 100., 100., 100., 100.,\n",
       "       100., 100., 100., 100., 100., 100., 100., 100., 100., 100., 100.,\n",
       "       100., 100., 100., 100., 100., 100., 100., 100., 100., 100., 100.,\n",
       "       100., 100., 100., 100., 100., 100., 100., 100., 100., 100., 100.,\n",
       "       100., 100., 100., 100., 100., 100., 100.])"
      ]
     },
     "execution_count": 30,
     "metadata": {},
     "output_type": "execute_result"
    }
   ],
   "source": [
    "iris_transformed.toarray().sum(axis=1)"
   ]
  },
  {
   "cell_type": "code",
   "execution_count": 31,
   "metadata": {
    "ExecuteTime": {
     "end_time": "2020-04-01T02:11:00.560562Z",
     "start_time": "2020-04-01T02:11:00.557538Z"
    }
   },
   "outputs": [
    {
     "data": {
      "text/plain": [
       "3200"
      ]
     },
     "execution_count": 31,
     "metadata": {},
     "output_type": "execute_result"
    }
   ],
   "source": [
    "# the maximum of `n_out`\n",
    "100 * 2 ** 5"
   ]
  },
  {
   "cell_type": "code",
   "execution_count": 32,
   "metadata": {
    "ExecuteTime": {
     "end_time": "2020-04-01T02:11:00.672297Z",
     "start_time": "2020-04-01T02:11:00.562247Z"
    }
   },
   "outputs": [
    {
     "data": {
      "text/plain": [
       "array([[ 6, 23,  8, ..., 10,  5, 17],\n",
       "       [ 6, 23,  8, ..., 10,  5, 17],\n",
       "       [ 6, 13,  8, ..., 10,  5,  6],\n",
       "       ...,\n",
       "       [24, 39, 38, ..., 28, 14, 35],\n",
       "       [26, 39, 12, ..., 28, 25, 35],\n",
       "       [23, 39, 12, ..., 28, 14, 18]])"
      ]
     },
     "execution_count": 32,
     "metadata": {},
     "output_type": "execute_result"
    }
   ],
   "source": [
    "# Apply trees in the forests to `X`, return leaf indices.\n",
    "# For each data point x in `X` and for each tree in the forest, return the\n",
    "# index of the leaf x ends up in.\n",
    "leaf_idx = random_trees_embedding.apply(iris['data'])\n",
    "leaf_idx  # shape: (n_samples, n_estimators)"
   ]
  },
  {
   "cell_type": "markdown",
   "metadata": {},
   "source": [
    "每行表示每个 instance 在每棵树中所属叶子节点 index。"
   ]
  },
  {
   "cell_type": "code",
   "execution_count": 33,
   "metadata": {
    "ExecuteTime": {
     "end_time": "2020-04-01T02:11:00.677229Z",
     "start_time": "2020-04-01T02:11:00.674108Z"
    }
   },
   "outputs": [
    {
     "data": {
      "text/plain": [
       "(150, 100)"
      ]
     },
     "execution_count": 33,
     "metadata": {},
     "output_type": "execute_result"
    }
   ],
   "source": [
    "# shape: (n_samples, n_estimators)\n",
    "leaf_idx.shape"
   ]
  },
  {
   "cell_type": "code",
   "execution_count": 34,
   "metadata": {
    "ExecuteTime": {
     "end_time": "2020-04-01T02:11:00.684023Z",
     "start_time": "2020-04-01T02:11:00.678805Z"
    }
   },
   "outputs": [
    {
     "name": "stdout",
     "output_type": "stream",
     "text": [
      "[21, 21, 28, 23, 27, 25, 24, 17, 22, 27, 30, 15, 15, 22, 18, 16, 21, 27, 27, 24, 21, 28, 27, 23, 18, 29, 21, 26, 23, 23, 31, 25, 17, 19, 27, 19, 23, 21, 21, 26, 23, 23, 14, 18, 21, 24, 17, 22, 23, 20, 21, 20, 25, 17, 23, 22, 26, 25, 16, 30, 19, 28, 23, 22, 22, 25, 23, 27, 20, 16, 17, 16, 19, 20, 17, 24, 22, 28, 17, 15, 25, 27, 26, 27, 21, 21, 18, 13, 25, 24, 24, 17, 25, 17, 16, 25, 13, 19, 19, 19]\n"
     ]
    }
   ],
   "source": [
    "# The number of leaves nodes for each tree in the forest\n",
    "leaf_num = []\n",
    "for i in range(leaf_idx.shape[1]):\n",
    "    leaf_num.append(len(set(leaf_idx[:, i])))\n",
    "print(leaf_num)"
   ]
  },
  {
   "cell_type": "code",
   "execution_count": 35,
   "metadata": {
    "ExecuteTime": {
     "end_time": "2020-04-01T02:11:00.688911Z",
     "start_time": "2020-04-01T02:11:00.685738Z"
    }
   },
   "outputs": [
    {
     "data": {
      "text/plain": [
       "2189"
      ]
     },
     "execution_count": 35,
     "metadata": {},
     "output_type": "execute_result"
    }
   ],
   "source": [
    "sum(leaf_num)"
   ]
  },
  {
   "cell_type": "code",
   "execution_count": 36,
   "metadata": {
    "ExecuteTime": {
     "end_time": "2020-04-01T02:11:00.693077Z",
     "start_time": "2020-04-01T02:11:00.690462Z"
    }
   },
   "outputs": [
    {
     "name": "stdout",
     "output_type": "stream",
     "text": [
      "{4, 6, 7, 10, 11, 12, 16, 17, 19, 20, 23, 24, 26, 27, 32, 33, 35, 36, 38, 39, 40}\n"
     ]
    }
   ],
   "source": [
    "print(set(leaf_idx[:, 0]))  # 第 1 棵树所有可能的 index"
   ]
  },
  {
   "cell_type": "code",
   "execution_count": 37,
   "metadata": {
    "ExecuteTime": {
     "end_time": "2020-04-01T02:11:00.698092Z",
     "start_time": "2020-04-01T02:11:00.694694Z"
    }
   },
   "outputs": [
    {
     "name": "stdout",
     "output_type": "stream",
     "text": [
      "第 1 个样本在第 1 棵树中所属叶子 index: 6\n",
      "第 2 个样本在第 1 棵树中所属叶子 index: 6\n",
      "第 3 个样本在第 1 棵树中所属叶子 index: 6\n"
     ]
    }
   ],
   "source": [
    "print(\"第 1 个样本在第 1 棵树中所属叶子 index:\", leaf_idx[0, 0])\n",
    "print(\"第 2 个样本在第 1 棵树中所属叶子 index:\", leaf_idx[1, 0])\n",
    "print(\"第 3 个样本在第 1 棵树中所属叶子 index:\", leaf_idx[2, 0])"
   ]
  },
  {
   "cell_type": "markdown",
   "metadata": {},
   "source": [
    "所以，转换后样本在前 3 行（样本）都是以 \"0, 1, 0, ...\" 开头："
   ]
  },
  {
   "cell_type": "code",
   "execution_count": 38,
   "metadata": {
    "ExecuteTime": {
     "end_time": "2020-04-01T02:11:00.704362Z",
     "start_time": "2020-04-01T02:11:00.699947Z"
    }
   },
   "outputs": [
    {
     "data": {
      "text/plain": [
       "array([[0., 1., 0., ..., 0., 0., 0.],\n",
       "       [0., 1., 0., ..., 0., 0., 0.],\n",
       "       [0., 1., 0., ..., 0., 0., 0.],\n",
       "       ...,\n",
       "       [0., 0., 0., ..., 0., 1., 0.],\n",
       "       [0., 0., 0., ..., 0., 1., 0.],\n",
       "       [0., 0., 0., ..., 0., 0., 0.]])"
      ]
     },
     "execution_count": 38,
     "metadata": {},
     "output_type": "execute_result"
    }
   ],
   "source": [
    "iris_transformed.toarray()"
   ]
  },
  {
   "cell_type": "markdown",
   "metadata": {},
   "source": [
    "**<font color='blue'>More examples:</font>**\n",
    "\n",
    "- [Hashing feature transformation using Totally Random Trees](https://scikit-learn.org/stable/auto_examples/ensemble/plot_random_forest_embedding.html#sphx-glr-auto-examples-ensemble-plot-random-forest-embedding-py)\n",
    "\n",
    "\n",
    "- [Feature transformations with ensembles of trees](https://scikit-learn.org/stable/auto_examples/ensemble/plot_feature_transformation.html#sphx-glr-auto-examples-ensemble-plot-feature-transformation-py): fit an ensemble of trees (totally random trees, a random forest, or gradient boosted trees)"
   ]
  },
  {
   "cell_type": "markdown",
   "metadata": {},
   "source": [
    "## 4. Boosting"
   ]
  },
  {
   "cell_type": "markdown",
   "metadata": {},
   "source": [
    "**<font color='red'>Boosting</font>** (originally called **<font color='red'>hypothesis boosting</font>**) refers to any Ensemble method that can <font color='crimson'>combine several weak learners into a strong learner</font>.\n",
    "\n",
    "The general idea of most boosting methods is to **<font color='crimson'>train predictors sequentially, each trying to correct its predecessor</font>**."
   ]
  },
  {
   "cell_type": "markdown",
   "metadata": {},
   "source": [
    "### 4.1 AdaBoost"
   ]
  },
  {
   "cell_type": "markdown",
   "metadata": {},
   "source": [
    "The <font color='crimson'>core principle of AdaBoost</font> is to fit a sequence of *weak learners* (i.e., models that are only slightly better than random guessing, such as small decision trees) on repeatedly modified versions of the data. The predictions from all of them are then **combined through a weighted majority vote (or sum) to produce the final prediction**.\n",
    "\n",
    "![AdaBoost](./figs/chap07-figs/AdaBoost.png)\n",
    "<Br>\n",
    "\n",
    "The data modifications at each so-called boosting iteration consist of applying weights $w_1, w_2, ..., w_m$ to each of the training samples. Initially, those weights are all set to $w_i=1/m$ so that the first step simply trains a weak learner on the original data.\n",
    "\n",
    "For each successive iteration, the sample weights are individually modified and the learning algorithm is reapplied to the reweighted data. <font color='crimson'>At a given step, those training examples that were incorrectly predicted by the boosted model induced at the previous step have their weights increased, whereas the weights are decreased for those that were predicted correctly.</font> As iterations proceed, examples that are difficult to predict receive ever-increasing influence. Each subsequent weak learner is thereby forced to concentrate on the examples that are missed by the previous ones in the sequence"
   ]
  },
  {
   "cell_type": "markdown",
   "metadata": {},
   "source": [
    "<div class=\"alert alert-class alert-info\">\n",
    "    There is one <b>important drawback</b> to this sequential learning technique: it <b>cannot be parallelized (or only partially)</b>, since each predictor can only be trained after the previous predictor has been trained and evaluated. As a result, it <b>does not scale as well as bagging or pasting</b>.\n",
    "</div>"
   ]
  },
  {
   "cell_type": "markdown",
   "metadata": {},
   "source": [
    "**<font color='blue'>Look at the AdaBoost algorithm:</font>**\n",
    "\n",
    "Each instance weight $w_i$ is initially set to $1/m$. A first predictor is trained, and its weighted error rate $r_1$ is computed on the training set.\n",
    "\n",
    "Weighted error rate of the $j^{th}$ predictor:\n",
    "\n",
    "$$r_j=\\frac{\\sum^m_{\\hat y_j^i\\neq y^i}w_i}{\\sum_{i=1}^m w_i}$$\n",
    "\n",
    "The predictor weight is then computed using\n",
    "\n",
    "$$\\alpha_j=\\eta log{\\frac{1-r_j}{r_j}}$$\n",
    "\n",
    "$\\eta$ is the learning rate hyperparameter (default to 1). The more accurate the predictor is, the higher its weight will be. If it is just guessing randomly, then its weight will be close to zero. However, if it is most often wrong (i.e., less accurate than random guessing), then its weight will be negative.\n",
    "\n",
    "Next, update the instance weights\n",
    "\n",
    "$$w_i\\leftarrow\n",
    "\\begin{cases}\n",
    "w_i& \\text{if } \\hat y_j^i=y^i\\\\\n",
    "w_i e^{\\alpha_j}& \\text{if } \\hat y_j^i\\neq y^i\n",
    "\\end{cases}$$\n",
    "\n",
    "Then all the instance weights are normalized (i.e., divided by $\\sum^m_{i=1}w_i$).\n",
    "\n",
    "Finally, a new predictor is trained using the updated weights, and the whole process is repeated (the new predictor’s weight is computed, the instance weights are updated, then another predictor is trained, and so on). **The algorithm stops when the desired number of predictors is reached, or when a perfect predictor is found.**\n",
    "\n",
    "To predict, AdaBoost simply computes the predictions of all the predictors and weights them using the predictor weights $\\alpha_j$. The predicted class is the one that receives the majority of weighted votes.\n",
    "\n",
    "$$\\hat y(x)={argmax}_k\\sum^N_{j=1, \\hat y_j(x)=k}{\\alpha_j}, N \\text{ is the number of predictors}$$"
   ]
  },
  {
   "cell_type": "markdown",
   "metadata": {},
   "source": [
    "Scikit-Learn uses a **multiclass version of AdaBoost** called **<font color='red'>SAMME (Stagewise Additive Modeling using a Multiclass Exponential loss function)</font>**. If there are **just two classes**, SAMME is equivalent to AdaBoost. If the predictors can estimate class probabilities (have `predict_proba()`), Scikit-Learn can use a variant of SAMME called **<font color='red'>SAMME.R</font>** (the R stands for \"Real\"), which relies on class probabilities rather than prediction an generally performs better."
   ]
  },
  {
   "cell_type": "code",
   "execution_count": 39,
   "metadata": {
    "ExecuteTime": {
     "end_time": "2020-04-01T02:11:15.748064Z",
     "start_time": "2020-04-01T02:11:00.706224Z"
    }
   },
   "outputs": [
    {
     "data": {
      "image/png": "[encoded data removed]",
      "text/plain": [
       "<Figure size 432x288 with 1 Axes>"
      ]
     },
     "metadata": {
      "needs_background": "light"
     },
     "output_type": "display_data"
    }
   ],
   "source": [
    "from sklearn.ensemble import AdaBoostClassifier\n",
    "\n",
    "ada_clf = AdaBoostClassifier(\n",
    "    # A decision stump, composed of a single decision node plus two leaf nodes\n",
    "    base_estimator=DecisionTreeClassifier(max_depth=1),  # Default\n",
    "    n_estimators=200,\n",
    "    algorithm='SAMME.R',\n",
    "    learning_rate=0.5,\n",
    "    random_state=42)\n",
    "ada_clf.fit(x_train, y_train)\n",
    "\n",
    "plot_decision_boundary(ada_clf, X, y)"
   ]
  },
  {
   "cell_type": "markdown",
   "metadata": {},
   "source": [
    "The main parameters to tune to obtain good results are `n_estimators` and the complexity of the base estimators (e.g., its depth `max_depth` or minimum required number of samples to consider a split `min_samples_split`).\n",
    "\n",
    "<div class=\"alert alert-class alert-info\">\n",
    "<b>If the AdaBoost ensemble is overfitting the training set, you can try reducing the number of estimators or more strongly regularizing the base estimator.</b>\n",
    "</div>"
   ]
  },
  {
   "cell_type": "markdown",
   "metadata": {},
   "source": [
    "### 4.2 Gradient Boosting"
   ]
  },
  {
   "cell_type": "markdown",
   "metadata": {},
   "source": [
    "[Gradient Boosting](https://homl.info/28) **works by sequentially adding predictors to an ensemble, each one correcting its predecessor** (前任) (just like AdaBoost). However, instead of tweaking the instance weights at every iteration (like AdaBoost), this methods <font color='crimson'>tries to fit the new predictor to the residual errors made by the previous predictor</font>.\n",
    "\n",
    "Go through a simple regression example by using DT as the base predictors. This is called **<font color='red'>Gradient Tree Boosting</font>**, or **<font color='red'>Gradient Boosted Regression Trees (GBRT)</font>**."
   ]
  },
  {
   "cell_type": "code",
   "execution_count": 40,
   "metadata": {
    "ExecuteTime": {
     "end_time": "2020-04-01T02:11:15.754226Z",
     "start_time": "2020-04-01T02:11:15.749735Z"
    }
   },
   "outputs": [
    {
     "data": {
      "text/plain": [
       "((100, 1), (100,))"
      ]
     },
     "execution_count": 40,
     "metadata": {},
     "output_type": "execute_result"
    }
   ],
   "source": [
    "# Generate data\n",
    "np.random.seed(42)\n",
    "x = np.random.rand(100, 1) - 0.5\n",
    "y = 3 * x[:, 0]**2 + 0.05 * np.random.randn(100)\n",
    "\n",
    "x.shape, y.shape"
   ]
  },
  {
   "cell_type": "code",
   "execution_count": 41,
   "metadata": {
    "ExecuteTime": {
     "end_time": "2020-04-01T02:11:15.762294Z",
     "start_time": "2020-04-01T02:11:15.756647Z"
    }
   },
   "outputs": [
    {
     "data": {
      "text/plain": [
       "DecisionTreeRegressor(ccp_alpha=0.0, criterion='mse', max_depth=2,\n",
       "                      max_features=None, max_leaf_nodes=None,\n",
       "                      min_impurity_decrease=0.0, min_impurity_split=None,\n",
       "                      min_samples_leaf=1, min_samples_split=2,\n",
       "                      min_weight_fraction_leaf=0.0, presort='deprecated',\n",
       "                      random_state=42, splitter='best')"
      ]
     },
     "execution_count": 41,
     "metadata": {},
     "output_type": "execute_result"
    }
   ],
   "source": [
    "from sklearn.tree import DecisionTreeRegressor\n",
    "\n",
    "# 1st, fit a DT on the training set\n",
    "tree_reg1 = DecisionTreeRegressor(max_depth=2, random_state=42)\n",
    "tree_reg1.fit(x, y)"
   ]
  },
  {
   "cell_type": "code",
   "execution_count": 42,
   "metadata": {
    "ExecuteTime": {
     "end_time": "2020-04-01T02:11:15.769043Z",
     "start_time": "2020-04-01T02:11:15.764080Z"
    }
   },
   "outputs": [
    {
     "data": {
      "text/plain": [
       "DecisionTreeRegressor(ccp_alpha=0.0, criterion='mse', max_depth=2,\n",
       "                      max_features=None, max_leaf_nodes=None,\n",
       "                      min_impurity_decrease=0.0, min_impurity_split=None,\n",
       "                      min_samples_leaf=1, min_samples_split=2,\n",
       "                      min_weight_fraction_leaf=0.0, presort='deprecated',\n",
       "                      random_state=42, splitter='best')"
      ]
     },
     "execution_count": 42,
     "metadata": {},
     "output_type": "execute_result"
    }
   ],
   "source": [
    "# 2nd, fit a DT on the residual errors made by the 1st DT\n",
    "y2 = y - tree_reg1.predict(x)\n",
    "\n",
    "tree_reg2 = DecisionTreeRegressor(max_depth=2, random_state=42)\n",
    "tree_reg2.fit(x, y2)"
   ]
  },
  {
   "cell_type": "code",
   "execution_count": 43,
   "metadata": {
    "ExecuteTime": {
     "end_time": "2020-04-01T02:11:15.775875Z",
     "start_time": "2020-04-01T02:11:15.770632Z"
    }
   },
   "outputs": [
    {
     "data": {
      "text/plain": [
       "DecisionTreeRegressor(ccp_alpha=0.0, criterion='mse', max_depth=2,\n",
       "                      max_features=None, max_leaf_nodes=None,\n",
       "                      min_impurity_decrease=0.0, min_impurity_split=None,\n",
       "                      min_samples_leaf=1, min_samples_split=2,\n",
       "                      min_weight_fraction_leaf=0.0, presort='deprecated',\n",
       "                      random_state=42, splitter='best')"
      ]
     },
     "execution_count": 43,
     "metadata": {},
     "output_type": "execute_result"
    }
   ],
   "source": [
    "# 3rd, fit a DT on the residual errors made by the 2nd DT\n",
    "y3 = y2 - tree_reg2.predict(x)\n",
    "\n",
    "tree_reg3 = DecisionTreeRegressor(max_depth=2, random_state=42)\n",
    "tree_reg3.fit(x, y3)"
   ]
  },
  {
   "cell_type": "markdown",
   "metadata": {},
   "source": [
    "Now, we have an ensemble containing 3 trees. It can make predictions on a new instance simply by adding up the predictions of all the trees:"
   ]
  },
  {
   "cell_type": "code",
   "execution_count": 44,
   "metadata": {
    "ExecuteTime": {
     "end_time": "2020-04-01T02:11:15.781925Z",
     "start_time": "2020-04-01T02:11:15.777455Z"
    }
   },
   "outputs": [
    {
     "data": {
      "text/plain": [
       "array([0.75026781])"
      ]
     },
     "execution_count": 44,
     "metadata": {},
     "output_type": "execute_result"
    }
   ],
   "source": [
    "# Make predictions on a new instances simply adding up the predictions of all the trees\n",
    "x_new = np.array([[0.8]])\n",
    "\n",
    "y_pred = sum(tree.predict(x_new) for tree in (tree_reg1, tree_reg2, tree_reg3))\n",
    "y_pred"
   ]
  },
  {
   "cell_type": "code",
   "execution_count": 45,
   "metadata": {
    "ExecuteTime": {
     "end_time": "2020-04-01T02:11:15.788583Z",
     "start_time": "2020-04-01T02:11:15.783465Z"
    }
   },
   "outputs": [],
   "source": [
    "def plot_predictions(regressors: list, x, y, label=None, style='r-',\n",
    "                     data_style='b.', data_label=None):\n",
    "    x_all = np.linspace(x.min(), x.max(), 500)\n",
    "    x_all = x_all.reshape(-1, 1)\n",
    "    y_pred = sum(regressor.predict(x_all) for regressor in regressors)\n",
    "    plt.plot(x[:, 0], y, data_style, label=data_label)\n",
    "    plt.plot(x_all, y_pred, style, lw=2, label=label)\n",
    "    if label or data_label:\n",
    "        plt.legend(fontsize=16)"
   ]
  },
  {
   "cell_type": "code",
   "execution_count": 46,
   "metadata": {
    "ExecuteTime": {
     "end_time": "2020-04-01T02:11:16.824353Z",
     "start_time": "2020-04-01T02:11:15.790609Z"
    }
   },
   "outputs": [
    {
     "data": {
      "image/png": "[encoded data removed]",
      "text/plain": [
       "<Figure size 864x864 with 6 Axes>"
      ]
     },
     "metadata": {
      "needs_background": "light"
     },
     "output_type": "display_data"
    }
   ],
   "source": [
    "plt.figure(figsize=(12, 12))\n",
    "\n",
    "# The 1st trained DT\n",
    "plt.subplot(321)\n",
    "plot_predictions([tree_reg1], x, y, label='$h_1(x)$',\n",
    "                 style='g-', data_style='b.', data_label='Training set')\n",
    "plt.ylabel('$y$', fontsize=16, rotation=0)\n",
    "plt.title(\"Residual and tree predictions\", fontsize=16)\n",
    "\n",
    "# The ensemble has just one DT\n",
    "plt.subplot(322)\n",
    "plot_predictions([tree_reg1], x, y, label='$h(x)=h_1(x_1)$',\n",
    "                 style='r-', data_style='b.', data_label='Training set')\n",
    "plt.ylabel('$y$', fontsize=16, rotation=0)\n",
    "plt.title(\"Ensemble predictions\", fontsize=16)\n",
    "\n",
    "# A new DT is trained on the residual errors of the 1st DT\n",
    "plt.subplot(323)\n",
    "plot_predictions([tree_reg2], x, y2, label='$h_2(x_1)$',\n",
    "                 style='g-', data_style='k+', data_label='Residuals')\n",
    "plt.ylabel('$y-h_1(x_1)$', fontsize=16)\n",
    "\n",
    "# The ensemble's preds are equal to the sum of the preds of the first two DTs\n",
    "plt.subplot(324)\n",
    "plot_predictions([tree_reg1, tree_reg2], x, y, label='$h(x_1)=h_1(x_1)+h_2(x_1)$',\n",
    "                 style='r-', data_style='b.')\n",
    "plt.ylabel('$y$', fontsize=16, rotation=0)\n",
    "\n",
    "# Another new DT is trained on the residual erros of the 2nd DT\n",
    "plt.subplot(325)\n",
    "plot_predictions([tree_reg3], x, y3, label='$h_3(x_1)$',\n",
    "                 style='g-', data_style='k+', data_label=None)\n",
    "plt.xlabel('$x_1$', fontsize=16)\n",
    "plt.ylabel('$y-h_1(x_1)-h_2(x_1)$', fontsize=16)\n",
    "\n",
    "# The ensemble's preds are the sum of preds of all the DTs\n",
    "plt.subplot(326)\n",
    "plot_predictions([tree_reg1, tree_reg2, tree_reg3], x, y,\n",
    "                 label='$h(x_1) = h_1(x_1) + h_2(x_1) + h_3(x_1)$',\n",
    "                 style='r-', data_style='b.')\n",
    "plt.xlabel('$x_1$', fontsize=16)\n",
    "plt.ylabel('$y$', fontsize=16, rotation=0)\n",
    "\n",
    "plt.show()"
   ]
  },
  {
   "cell_type": "markdown",
   "metadata": {},
   "source": [
    "The above figure represents the predictions of these 3 DTs in the left column, and the ensemble's predictions in the right column."
   ]
  },
  {
   "cell_type": "markdown",
   "metadata": {},
   "source": [
    "**`GradientBoostingRegressor`** is a simpler way to train GBRT ensembles. It has hypyerparameters to control the growth of DT, as well as hyperparameters to control the ensemble training, such as the number of trees (`n_estimators`)."
   ]
  },
  {
   "cell_type": "code",
   "execution_count": 47,
   "metadata": {
    "ExecuteTime": {
     "end_time": "2020-04-01T02:11:16.832152Z",
     "start_time": "2020-04-01T02:11:16.826084Z"
    }
   },
   "outputs": [
    {
     "data": {
      "text/plain": [
       "GradientBoostingRegressor(alpha=0.9, ccp_alpha=0.0, criterion='friedman_mse',\n",
       "                          init=None, learning_rate=1.0, loss='ls', max_depth=2,\n",
       "                          max_features=None, max_leaf_nodes=None,\n",
       "                          min_impurity_decrease=0.0, min_impurity_split=None,\n",
       "                          min_samples_leaf=1, min_samples_split=2,\n",
       "                          min_weight_fraction_leaf=0.0, n_estimators=3,\n",
       "                          n_iter_no_change=None, presort='deprecated',\n",
       "                          random_state=42, subsample=1.0, tol=0.0001,\n",
       "                          validation_fraction=0.1, verbose=0, warm_start=False)"
      ]
     },
     "execution_count": 47,
     "metadata": {},
     "output_type": "execute_result"
    }
   ],
   "source": [
    "from sklearn.ensemble import GradientBoostingRegressor\n",
    "\n",
    "gbrt = GradientBoostingRegressor(max_depth=2, n_estimators=3,\n",
    "                                 learning_rate=1.0, random_state=42)\n",
    "gbrt.fit(x, y)"
   ]
  },
  {
   "cell_type": "code",
   "execution_count": 48,
   "metadata": {
    "ExecuteTime": {
     "end_time": "2020-04-01T02:11:16.836774Z",
     "start_time": "2020-04-01T02:11:16.833469Z"
    }
   },
   "outputs": [
    {
     "data": {
      "text/plain": [
       "array([0.75026781])"
      ]
     },
     "execution_count": 48,
     "metadata": {},
     "output_type": "execute_result"
    }
   ],
   "source": [
    "gbrt.predict(x_new)"
   ]
  },
  {
   "cell_type": "markdown",
   "metadata": {},
   "source": [
    "**<font color='crimson'>The `learning_rate` hyperparameter scales the contribution of each tree.</font>** **The `learning_rate` strongly interacts with the `n_estimators`.**\n",
    "\n",
    "**Smaller values** require **larger numbers of weak learners** to maintain a constant training error, but predictions will usually **generalize better** (favor better test error). This is a regularization technique called **<font color='red'>shrinkage</font>**.\n",
    "[HTF](https://scikit-learn.org/stable/modules/ensemble.html#id18) recommend to **<font color='crimson'>set a small constant learnin rate (e.g., <=0.1) and choose `n_estimators` by early stopping.</font>**"
   ]
  },
  {
   "cell_type": "code",
   "execution_count": 49,
   "metadata": {
    "ExecuteTime": {
     "end_time": "2020-04-01T02:11:17.449683Z",
     "start_time": "2020-04-01T02:11:16.838236Z"
    },
    "scrolled": false
   },
   "outputs": [
    {
     "data": {
      "image/png": "[encoded data removed]",
      "text/plain": [
       "<Figure size 1296x273.6 with 3 Axes>"
      ]
     },
     "metadata": {
      "needs_background": "light"
     },
     "output_type": "display_data"
    }
   ],
   "source": [
    "gbrt_1 = GradientBoostingRegressor(max_depth=2, n_estimators=50,\n",
    "                                   learning_rate=0.1, random_state=42)\n",
    "gbrt_1.fit(x, y)\n",
    "\n",
    "gbrt_2 = GradientBoostingRegressor(max_depth=2, n_estimators=50,\n",
    "                                   learning_rate=0.05, random_state=42)\n",
    "gbrt_2.fit(x, y)\n",
    "\n",
    "gbrt_3 = GradientBoostingRegressor(max_depth=2, n_estimators=200,\n",
    "                                   learning_rate=0.05, random_state=42)\n",
    "gbrt_3.fit(x, y)\n",
    "\n",
    "plt.figure(figsize=(18, 3.8))\n",
    "\n",
    "plt.subplot(131)\n",
    "plot_predictions([gbrt_1], x, y, label='GBRT')\n",
    "plt.xlabel('$x_1$', fontsize=16)\n",
    "plt.ylabel('$y$', fontsize=16, rotation=0)\n",
    "plt.title(\"learning_rate={}, n_estimators={}\".format(gbrt_1.learning_rate, gbrt_1.n_estimators),\n",
    "          fontsize=16)\n",
    "\n",
    "plt.subplot(132)\n",
    "plot_predictions([gbrt_2], x, y)\n",
    "plt.xlabel('$x_1$', fontsize=16)\n",
    "plt.title(\"learning_rate={}, n_estimators={}\".format(gbrt_2.learning_rate, gbrt_2.n_estimators),\n",
    "          fontsize=16)\n",
    "\n",
    "plt.subplot(133)\n",
    "plot_predictions([gbrt_3], x, y)\n",
    "plt.xlabel('$x_1$', fontsize=16)\n",
    "plt.title(\"learning_rate={}, n_estimators={}\".format(gbrt_3.learning_rate, gbrt_3.n_estimators),\n",
    "          fontsize=16)\n",
    "\n",
    "plt.subplots_adjust(wspace=0.15)\n",
    "plt.show()\n"
   ]
  },
  {
   "cell_type": "markdown",
   "metadata": {},
   "source": [
    "#### 4.2.1 Gradient boosting with early stopping"
   ]
  },
  {
   "cell_type": "markdown",
   "metadata": {},
   "source": [
    "**<font color='blueviolet'>In order to find the optimal number of trees, you can use early stopping.</font>**\n",
    "\n",
    "- **<font color='blueviolet'>Way 1:</font>**\n",
    "\n",
    "Use the **`staged_predict()`** method: it returns an iterator over the predictions made by the ensemble at each stage of training (with one DT, two DT, etc.). It allows monitoring (i.e., determine error on test set) after each stage."
   ]
  },
  {
   "cell_type": "code",
   "execution_count": 50,
   "metadata": {
    "ExecuteTime": {
     "end_time": "2020-04-01T02:11:17.517691Z",
     "start_time": "2020-04-01T02:11:17.451082Z"
    }
   },
   "outputs": [
    {
     "data": {
      "text/plain": [
       "GradientBoostingRegressor(alpha=0.9, ccp_alpha=0.0, criterion='friedman_mse',\n",
       "                          init=None, learning_rate=0.1, loss='ls', max_depth=2,\n",
       "                          max_features=None, max_leaf_nodes=None,\n",
       "                          min_impurity_decrease=0.0, min_impurity_split=None,\n",
       "                          min_samples_leaf=1, min_samples_split=2,\n",
       "                          min_weight_fraction_leaf=0.0, n_estimators=56,\n",
       "                          n_iter_no_change=None, presort='deprecated',\n",
       "                          random_state=42, subsample=1.0, tol=0.0001,\n",
       "                          validation_fraction=0.1, verbose=0, warm_start=False)"
      ]
     },
     "execution_count": 50,
     "metadata": {},
     "output_type": "execute_result"
    }
   ],
   "source": [
    "from sklearn.metrics import mean_squared_error\n",
    "from sklearn.model_selection import train_test_split\n",
    "\n",
    "x_train, x_val, y_train, y_val = train_test_split(\n",
    "    x, y, test_size=0.25, random_state=49)\n",
    "\n",
    "gbrt = GradientBoostingRegressor(max_depth=2, n_estimators=120, random_state=42)\n",
    "gbrt.fit(x_train, y_train)\n",
    "\n",
    "errors = [mean_squared_error(y_val, y_pred)\n",
    "          for y_pred in gbrt.staged_predict(x_val)]\n",
    "best_n_estimators = np.argmin(errors) + 1\n",
    "gbrt_best = GradientBoostingRegressor(max_depth=2,\n",
    "                                      n_estimators=best_n_estimators,\n",
    "                                      random_state=42)\n",
    "gbrt_best.fit(x_train, y_train)\n"
   ]
  },
  {
   "cell_type": "code",
   "execution_count": 51,
   "metadata": {
    "ExecuteTime": {
     "end_time": "2020-04-01T02:11:17.522535Z",
     "start_time": "2020-04-01T02:11:17.519313Z"
    }
   },
   "outputs": [
    {
     "data": {
      "text/plain": [
       "(120, 120)"
      ]
     },
     "execution_count": 51,
     "metadata": {},
     "output_type": "execute_result"
    }
   ],
   "source": [
    "len(errors), gbrt.n_estimators"
   ]
  },
  {
   "cell_type": "code",
   "execution_count": 52,
   "metadata": {
    "ExecuteTime": {
     "end_time": "2020-04-01T02:11:17.839858Z",
     "start_time": "2020-04-01T02:11:17.524288Z"
    }
   },
   "outputs": [
    {
     "data": {
      "image/png": "[encoded data removed]",
      "text/plain": [
       "<Figure size 936x288 with 2 Axes>"
      ]
     },
     "metadata": {
      "needs_background": "light"
     },
     "output_type": "display_data"
    }
   ],
   "source": [
    "min_error = np.min(errors)\n",
    "plt.figure(figsize=(13, 4))\n",
    "\n",
    "# Staged error on val set\n",
    "plt.subplot(121)\n",
    "plt.plot(errors, 'b.-')\n",
    "plt.plot([best_n_estimators, best_n_estimators], [0, min_error], 'k--')\n",
    "plt.plot([0, 120], [min_error, min_error], 'k--')\n",
    "plt.plot(best_n_estimators, min_error, 'ko')\n",
    "plt.text(best_n_estimators, min_error*1.2, \"Minimum\", ha=\"center\", fontsize=14)\n",
    "plt.axis([0, 120, 0, np.max(errors)])\n",
    "plt.xlabel(\"Number of trees\")\n",
    "plt.ylabel(\"Error\", fontsize=16)\n",
    "plt.title(\"Validation error\", fontsize=18)\n",
    "\n",
    "# Early stopping with GBRT\n",
    "plt.subplot(122)\n",
    "plot_predictions([gbrt_best], x, y)\n",
    "plt.xlabel(\"$x_1$\", fontsize=16)\n",
    "plt.ylabel(\"$y$\", fontsize=16, rotation=0)\n",
    "plt.title(\"Best model (%d trees)\" % best_n_estimators, fontsize=18)\n",
    "\n",
    "plt.subplots_adjust(wspace=0.35)\n",
    "plt.show()"
   ]
  },
  {
   "cell_type": "markdown",
   "metadata": {
    "ExecuteTime": {
     "end_time": "2020-03-31T01:29:04.958813Z",
     "start_time": "2020-03-31T01:29:04.954813Z"
    }
   },
   "source": [
    "- **<font color='blueviolet'>Way 2:</font>**\n",
    "\n",
    "Set **`warm_start=True`** to implement actual stopping training early (instead of training a large number of trees first and then looking back to find the optimal number).\n",
    "\n",
    "**`warm_start=True` makes sklearn keep existing trees when the `fit()` method is called, allowing incremental training.**"
   ]
  },
  {
   "cell_type": "code",
   "execution_count": 60,
   "metadata": {
    "ExecuteTime": {
     "end_time": "2020-04-01T02:17:01.409828Z",
     "start_time": "2020-04-01T02:17:01.342938Z"
    }
   },
   "outputs": [],
   "source": [
    "gbrt = GradientBoostingRegressor(\n",
    "    max_depth=2,\n",
    "    # Reuse the solution of the previous call to fit and\n",
    "    # add more estimators to the ensemble\n",
    "    warm_start=True,\n",
    "    random_state=42)\n",
    "\n",
    "# Stop training when the validation error does not improve for 5 iterations in a row\n",
    "min_val_error = float('inf')\n",
    "error_going_up = 0\n",
    "for n_estimators in range(1, 200):\n",
    "    gbrt.n_estimators = n_estimators\n",
    "    gbrt.fit(x_train, y_train)\n",
    "\n",
    "    y_pred = gbrt.predict(x_val)\n",
    "    val_error = mean_squared_error(y_val, y_pred)\n",
    "    if val_error < min_val_error:\n",
    "        min_val_error = val_error\n",
    "        error_going_up = 0\n",
    "    else:\n",
    "        error_going_up += 1\n",
    "        if error_going_up == 5:\n",
    "            break  # early stopping"
   ]
  },
  {
   "cell_type": "code",
   "execution_count": 61,
   "metadata": {
    "ExecuteTime": {
     "end_time": "2020-04-01T02:17:02.400151Z",
     "start_time": "2020-04-01T02:17:02.396396Z"
    }
   },
   "outputs": [
    {
     "data": {
      "text/plain": [
       "61"
      ]
     },
     "execution_count": 61,
     "metadata": {},
     "output_type": "execute_result"
    }
   ],
   "source": [
    "gbrt.n_estimators"
   ]
  },
  {
   "cell_type": "code",
   "execution_count": 62,
   "metadata": {
    "ExecuteTime": {
     "end_time": "2020-04-01T02:17:06.289658Z",
     "start_time": "2020-04-01T02:17:06.285997Z"
    }
   },
   "outputs": [
    {
     "data": {
      "text/plain": [
       "61"
      ]
     },
     "execution_count": 62,
     "metadata": {},
     "output_type": "execute_result"
    }
   ],
   "source": [
    "gbrt.n_estimators_"
   ]
  },
  {
   "cell_type": "code",
   "execution_count": 63,
   "metadata": {
    "ExecuteTime": {
     "end_time": "2020-04-01T02:17:09.301147Z",
     "start_time": "2020-04-01T02:17:09.297571Z"
    }
   },
   "outputs": [
    {
     "data": {
      "text/plain": [
       "0.002712853325235463"
      ]
     },
     "execution_count": 63,
     "metadata": {},
     "output_type": "execute_result"
    }
   ],
   "source": [
    "# Minimum validation MSE\n",
    "min_val_error"
   ]
  },
  {
   "cell_type": "markdown",
   "metadata": {},
   "source": [
    "- **<font color='blueviolet'>Way 3:</font>**\n",
    "\n",
    "Set **`n_iter_no_change`** to a number, it will set aside `validation_fraction` size of the training data as validation and terminate training when validation score is not improving in all of the previous `n_iter_no_change` numbers of iterations."
   ]
  },
  {
   "cell_type": "code",
   "execution_count": 64,
   "metadata": {
    "ExecuteTime": {
     "end_time": "2020-04-01T02:17:21.773058Z",
     "start_time": "2020-04-01T02:17:21.750637Z"
    }
   },
   "outputs": [
    {
     "data": {
      "text/plain": [
       "(10000, 52)"
      ]
     },
     "execution_count": 64,
     "metadata": {},
     "output_type": "execute_result"
    }
   ],
   "source": [
    "gbrt = GradientBoostingRegressor(\n",
    "    n_estimators=10000,\n",
    "    max_depth=2,\n",
    "    # Set aside validation_fraction size of the training data as validation and\n",
    "    # terminate training when validation score is not improving in all of the\n",
    "    # previous n_iter_no_change numbers of iterations.\n",
    "    validation_fraction=0.25,\n",
    "    n_iter_no_change=5,\n",
    "    random_state=42)\n",
    "gbrt.fit(x, y)\n",
    "\n",
    "gbrt.n_estimators, gbrt.n_estimators_"
   ]
  },
  {
   "cell_type": "markdown",
   "metadata": {},
   "source": [
    "An optimized implementation of Gradient Boosting is available in XGBoost, which stands for Extreme Gradient Boosting. It aims to be extremely fast, scalable, and portable.\n",
    "\n",
    "```python\n",
    "import xgboost\n",
    "\n",
    "# Take care of early stopping\n",
    "xgb_reg.fit(x_train, y_train, eval_set=[(x_val, y_val)], early_stopping_rounds=2)\n",
    "\n",
    "y_pred = xgb_reg.predict(x_val)\n",
    "val_error = mean_squared_error(y_val, y_pred)\n",
    "print(\"Validation MSE:\", val_error)\n",
    "```"
   ]
  },
  {
   "cell_type": "markdown",
   "metadata": {},
   "source": [
    "#### 4.2.2 Gradient boosting with subsampling (Stochastic Gradient Boosting)"
   ]
  },
  {
   "cell_type": "markdown",
   "metadata": {},
   "source": [
    "**<font color='red'>Stochastic Gradient Boosting</font>** combines gradient boosting with bootstrap averaging (bagging). At each iteration the tree is trained on a fraction **`subsample`** of the available training data. **The subsample is drawn without replacement.** <font color='crimson'>A typical value of subsample is 0.5</font>, then each tree is trained on 50% of the training data, selected randomly.\n",
    "\n",
    "<font color='crimson'>This technique trades a higher bias for a lower variance. It also speeds up training considerably.</font>"
   ]
  },
  {
   "cell_type": "markdown",
   "metadata": {},
   "source": [
    "<div class=\"alert alert-block alert-info\">\n",
    "\n",
    "<b>Regularization strategies for Gradient Boosting</b>\n",
    "\n",
    "- shrinkage\n",
    "\n",
    "\n",
    "- subsampling\n",
    "\n",
    "</div>"
   ]
  },
  {
   "cell_type": "code",
   "execution_count": 65,
   "metadata": {
    "ExecuteTime": {
     "end_time": "2020-04-01T02:17:45.800670Z",
     "start_time": "2020-04-01T02:17:27.767630Z"
    }
   },
   "outputs": [
    {
     "data": {
      "image/png": "[encoded data removed]",
      "text/plain": [
       "<Figure size 576x352.8 with 1 Axes>"
      ]
     },
     "metadata": {
      "needs_background": "light"
     },
     "output_type": "display_data"
    }
   ],
   "source": [
    "# Compare the effect of different regularization strategies for Gradient Boosting\n",
    "from sklearn.datasets import make_hastie_10_2\n",
    "from sklearn.ensemble import GradientBoostingClassifier\n",
    "\n",
    "# Generates data for binary classification used in Hastie et al. 2009, Example 10.2.\n",
    "# The ten features are standard independent Gaussian and the target y is defined by:\n",
    "# y[i] = 1 if np.sum(X[i] ** 2) > 9.34 else -1\n",
    "x, y = make_hastie_10_2(n_samples=12000, random_state=1)\n",
    "x = x.astype(np.float32)\n",
    "# map labels from {-1, 1} to {0, 1}\n",
    "labels, y = np.unique(y, return_inverse=True)\n",
    "\n",
    "x_train, x_val = x[:2000], x[2000:]\n",
    "y_train, y_val = y[:2000], y[2000:]\n",
    "\n",
    "original_params = {\n",
    "    'n_estimators': 1000,\n",
    "    'max_leaf_nodes': 4,\n",
    "    'max_depth': None,\n",
    "    'random_state': 2,\n",
    "    'min_samples_split': 5,\n",
    "}\n",
    "\n",
    "settings = [\n",
    "    ('No shrinkage, No subsample', 'orange', {'learning_rate': 1.0, 'subsample': 1.0}),\n",
    "    ('learning_rate=0.1, No subsample', 'turquoise', {'learning_rate': 0.1, 'subsample': 1.0}),\n",
    "    ('No shrinkage, subsample=0.5', 'blue', {'learning_rate': 1.0, 'subsample': 0.5}),\n",
    "    ('learning_rate=0.1, subsample=0.5', 'gray', {'learning_rate': 0.1, 'subsample': 0.5}),\n",
    "    ('learning_rate=0.1, max_features=2', 'magenta', {'learning_rate': 0.1, 'max_features': 2})]\n",
    "\n",
    "plt.figure(figsize=(8, 4.9))\n",
    "for label, c, param in settings:\n",
    "    params = dict(param)\n",
    "    params.update(original_params)\n",
    "\n",
    "    clf = GradientBoostingClassifier(**params)\n",
    "    clf.fit(x_train, y_train)\n",
    "\n",
    "    # Compute val set deviance\n",
    "    val_deviance = np.zeros((params['n_estimators'],), dtype=np.float64)\n",
    "\n",
    "    for i, y_pred in enumerate(clf.staged_decision_function(x_val)):\n",
    "        # clf.loss_ assumes that y_test[i] in {0, 1}\n",
    "        val_deviance[i] = clf.loss_(y_val, y_pred)\n",
    "\n",
    "    plt.plot((np.arange(val_deviance.shape[0])+1)[::5], val_deviance[::5],\n",
    "             '-', color=c, label=label)\n",
    "\n",
    "plt.legend(loc='upper right', fontsize=12)\n",
    "plt.xlabel('Boosting Iterations', fontsize=14)\n",
    "plt.ylabel('Val Deviance', fontsize=14)\n",
    "plt.title(\"Different regularization strategies for Gradient Boosting\", fontsize=16)\n",
    "plt.show()"
   ]
  },
  {
   "cell_type": "markdown",
   "metadata": {},
   "source": [
    "**<font color='crimson'>Summary:</font>**\n",
    "\n",
    "- Regularization via shrinkage (`learning_rate` < 1.0) improves performance considerably.\n",
    "\n",
    "\n",
    "- In combination with shrinkage, stochastic gradient boosting (`subsample` < 1.0) can produce more accurate models by reducing the variance via bagging.\n",
    "\n",
    "\n",
    "- Subsampling without shrinkage usually does poorly.\n",
    "\n",
    "\n",
    "- Another strategy to reduce the variance is by subsampling the features analogous to the random splits in `RandomForestClassifier`."
   ]
  },
  {
   "cell_type": "markdown",
   "metadata": {},
   "source": [
    "## 5. Stacking"
   ]
  },
  {
   "cell_type": "markdown",
   "metadata": {},
   "source": [
    "**<font color='red'>Stacking (stacked generalization)</font>** is based on a simple idea: instead of using trivial functions (such as hard voting) to aggregate the predictions of all predictors in an ensemble, why don’t we **train a model to perform this aggregation**?\n",
    "\n",
    "[sklearn](https://scikit-learn.org/stable/modules/ensemble.html#stacked-generalization)\n",
    "It is an ensemble method for <font color='crimson'>combining estimators to reduce their biases</font> [1992 paper](http://machine-learning.martinsewell.com/ensembles/stacking/Wolpert1992.pdf). <font color='crimson'>The predictions of each individual estimator are stacked together and used as input to a final estimator to compute the prediction. The final estimator is trained through cross-validation.</font>\n",
    "\n",
    "![](./figs/chap07-figs/aggregating-predictions-using-a-blending-predictor.png)\n",
    "<center><i>Aggregating predictions using a blending predictor</i></center>\n",
    "\n",
    "The figure shows such an ensemble performing a regression task on a new instance. Each of the bottom three predictors predicts a different value (3.1, 2.7, and 2.9), and then **the final predictor** (called a **<font color='red'>blender</font>**, or a **<font color='red'>meta learner</font>**) takes these predictions as inputs and makes the final prediction (3.0).\n",
    "\n",
    "\n",
    "<font color='crimson'>To train the blender, a common approach is to use a hold-out set.</font>\n",
    "\n",
    "First, the training set is split into two subsets. The first subset is used to train the predictors in the first layer.\n",
    "\n",
    "![Training the first layer](./figs/chap07-figs/training-for-1st-layer.png)\n",
    "<center><i>Training the first layer</i></center>\n",
    "\n",
    "Next, the first layer’s predictors are used to make predictions on the second (held-out) sets. This ensures that the predictions are “clean”, since the predictors never saw these instances during training. For each instance in the hold-out set, there are three predicted values. We can create a new training set using these predicted values as input features (which makes this new training set 3D), and keeping the target values. The blender is trained on this new training set, so it learns to predict the target value, given the first layer’s predictions.\n",
    "\n",
    "\n",
    "![Training the blender](./figs/chap07-figs/train-the-blender.png)\n",
    "<center><i>Training the blender</i></center>\n",
    "\n",
    "<br>\n",
    "\n",
    "<font color='crimson'>It is actually possible to train several different blenders this way to get a whole layer of blenders.</font> The trick is to split the training set into three subsets: the first one is used to train the first layer, the second one is used to create the training set used to train the second layer (using predictions made by the predictors of the first layer), and the third one is used to create the training set to train the third layer (using predictions made by the predictors of the second layer). Once this is done, we can make a prediction for a new instance by going through each layer sequentially\n",
    "\n",
    "![Predictions in a multilayer stacking ensemble](./figs/chap07-figs/predictions-in-a-multilayer-stacking-enseble.png)\n",
    "<center><i>Predictions in a multilayer stacking ensemble</i></center>"
   ]
  },
  {
   "cell_type": "markdown",
   "metadata": {},
   "source": [
    "**<font color='crimson'>Implementation:</font>**\n",
    "\n",
    "1. [Scikit-Learn >= 0.22](https://scikit-learn.org/stable/modules/ensemble.html#stacked-generalization). \n",
    "\n",
    "2. [DESlib](https://github.com/scikit-learn-contrib/DESlib)"
   ]
  },
  {
   "cell_type": "markdown",
   "metadata": {},
   "source": [
    "### 5.1 Scikit-Learn implementation"
   ]
  },
  {
   "cell_type": "markdown",
   "metadata": {},
   "source": [
    "The predictions of each individual estimator are stacked together and used as input to a final estimator to compute the prediction. **This final estimator is trained through cross-validation.** The [StackingClassifier](https://scikit-learn.org/stable/modules/generated/sklearn.ensemble.StackingClassifier.html#sklearn.ensemble.StackingClassifier) and [StackingRegressor](https://scikit-learn.org/stable/modules/generated/sklearn.ensemble.StackingRegressor.html#sklearn.ensemble.StackingRegressor) provide such strategies which can be applied to classification and regression problems."
   ]
  },
  {
   "cell_type": "markdown",
   "metadata": {},
   "source": [
    "The **`estimators`** parameter corresponds to the list of the estimators which are stacked together **in parallel on the input data**. It should be **given as a list of names and estimators**:"
   ]
  },
  {
   "cell_type": "code",
   "execution_count": 66,
   "metadata": {
    "ExecuteTime": {
     "end_time": "2020-04-01T02:17:51.749238Z",
     "start_time": "2020-04-01T02:17:51.745683Z"
    }
   },
   "outputs": [],
   "source": [
    "from sklearn.linear_model import Ridge, Lasso\n",
    "from sklearn.svm import SVR\n",
    "\n",
    "# List of (name_str, estimator)\n",
    "estimators = [\n",
    "    ('ridge', Ridge(random_state=42)),\n",
    "    ('lasso', Lasso(random_state=42)),\n",
    "    ('svr', SVR(C=1, gamma=1e-6))\n",
    "]"
   ]
  },
  {
   "cell_type": "markdown",
   "metadata": {},
   "source": [
    "The **`final_estimator`** will use the predictions of the estimators as input. It needs to be a classifier or a regressor when using `StackingClassifier` or `StackingRegressor`, respectively:"
   ]
  },
  {
   "cell_type": "code",
   "execution_count": 67,
   "metadata": {
    "ExecuteTime": {
     "end_time": "2020-04-01T02:17:52.873167Z",
     "start_time": "2020-04-01T02:17:52.869641Z"
    }
   },
   "outputs": [],
   "source": [
    "from sklearn.ensemble import GradientBoostingRegressor\n",
    "from sklearn.ensemble import StackingRegressor\n",
    "\n",
    "reg = StackingRegressor(\n",
    "    estimators=estimators,\n",
    "    # A regressor which will be used to combine the base estimators.\n",
    "    # The default regressor is a `RidgeCV`.\n",
    "    final_estimator=GradientBoostingRegressor(random_state=42),\n",
    "    cv=None,  # Default, use 5-fold cv\n",
    "    n_jobs=-1)"
   ]
  },
  {
   "cell_type": "code",
   "execution_count": 68,
   "metadata": {
    "ExecuteTime": {
     "end_time": "2020-04-01T02:17:55.685740Z",
     "start_time": "2020-04-01T02:17:53.719258Z"
    }
   },
   "outputs": [
    {
     "data": {
      "text/plain": [
       "StackingRegressor(cv=None,\n",
       "                  estimators=[('ridge',\n",
       "                               Ridge(alpha=1.0, copy_X=True, fit_intercept=True,\n",
       "                                     max_iter=None, normalize=False,\n",
       "                                     random_state=42, solver='auto',\n",
       "                                     tol=0.001)),\n",
       "                              ('lasso',\n",
       "                               Lasso(alpha=1.0, copy_X=True, fit_intercept=True,\n",
       "                                     max_iter=1000, normalize=False,\n",
       "                                     positive=False, precompute=False,\n",
       "                                     random_state=42, selection='cyclic',\n",
       "                                     tol=0.0001, warm_start=False)),\n",
       "                              (...\n",
       "                                                            max_depth=3,\n",
       "                                                            max_features=None,\n",
       "                                                            max_leaf_nodes=None,\n",
       "                                                            min_impurity_decrease=0.0,\n",
       "                                                            min_impurity_split=None,\n",
       "                                                            min_samples_leaf=1,\n",
       "                                                            min_samples_split=2,\n",
       "                                                            min_weight_fraction_leaf=0.0,\n",
       "                                                            n_estimators=100,\n",
       "                                                            n_iter_no_change=None,\n",
       "                                                            presort='deprecated',\n",
       "                                                            random_state=42,\n",
       "                                                            subsample=1.0,\n",
       "                                                            tol=0.0001,\n",
       "                                                            validation_fraction=0.1,\n",
       "                                                            verbose=0,\n",
       "                                                            warm_start=False),\n",
       "                  n_jobs=-1, passthrough=False, verbose=0)"
      ]
     },
     "execution_count": 68,
     "metadata": {},
     "output_type": "execute_result"
    }
   ],
   "source": [
    "from sklearn.datasets import load_boston\n",
    "from sklearn.model_selection import train_test_split\n",
    "\n",
    "x, y = load_boston(return_X_y=True)\n",
    "x_train, x_test, y_train, y_test = train_test_split(\n",
    "    x, y, test_size=0.2, random_state=42)\n",
    "\n",
    "# Train the `estimators` and `final_estimator`\n",
    "reg.fit(x_train, y_train)"
   ]
  },
  {
   "cell_type": "code",
   "execution_count": 69,
   "metadata": {
    "ExecuteTime": {
     "end_time": "2020-04-01T02:17:56.212742Z",
     "start_time": "2020-04-01T02:17:56.208647Z"
    }
   },
   "outputs": [
    {
     "data": {
      "text/plain": [
       "[Ridge(alpha=1.0, copy_X=True, fit_intercept=True, max_iter=None,\n",
       "       normalize=False, random_state=42, solver='auto', tol=0.001),\n",
       " Lasso(alpha=1.0, copy_X=True, fit_intercept=True, max_iter=1000,\n",
       "       normalize=False, positive=False, precompute=False, random_state=42,\n",
       "       selection='cyclic', tol=0.0001, warm_start=False),\n",
       " SVR(C=1, cache_size=200, coef0=0.0, degree=3, epsilon=0.1, gamma=1e-06,\n",
       "     kernel='rbf', max_iter=-1, shrinking=True, tol=0.001, verbose=False)]"
      ]
     },
     "execution_count": 69,
     "metadata": {},
     "output_type": "execute_result"
    }
   ],
   "source": [
    "# The elements of the estimators parameter, having been fitted on the training data.\n",
    "reg.estimators_"
   ]
  },
  {
   "cell_type": "code",
   "execution_count": 70,
   "metadata": {
    "ExecuteTime": {
     "end_time": "2020-04-01T02:17:56.843337Z",
     "start_time": "2020-04-01T02:17:56.839285Z"
    }
   },
   "outputs": [
    {
     "data": {
      "text/plain": [
       "{'ridge': Ridge(alpha=1.0, copy_X=True, fit_intercept=True, max_iter=None,\n",
       "       normalize=False, random_state=42, solver='auto', tol=0.001),\n",
       " 'lasso': Lasso(alpha=1.0, copy_X=True, fit_intercept=True, max_iter=1000,\n",
       "       normalize=False, positive=False, precompute=False, random_state=42,\n",
       "       selection='cyclic', tol=0.0001, warm_start=False),\n",
       " 'svr': SVR(C=1, cache_size=200, coef0=0.0, degree=3, epsilon=0.1, gamma=1e-06,\n",
       "     kernel='rbf', max_iter=-1, shrinking=True, tol=0.001, verbose=False)}"
      ]
     },
     "execution_count": 70,
     "metadata": {},
     "output_type": "execute_result"
    }
   ],
   "source": [
    "# Attribute to access any fitted sub-estimators by name.\n",
    "reg.named_estimators_"
   ]
  },
  {
   "cell_type": "code",
   "execution_count": 71,
   "metadata": {
    "ExecuteTime": {
     "end_time": "2020-04-01T02:17:57.348039Z",
     "start_time": "2020-04-01T02:17:57.344566Z"
    }
   },
   "outputs": [
    {
     "data": {
      "text/plain": [
       "GradientBoostingRegressor(alpha=0.9, ccp_alpha=0.0, criterion='friedman_mse',\n",
       "                          init=None, learning_rate=0.1, loss='ls', max_depth=3,\n",
       "                          max_features=None, max_leaf_nodes=None,\n",
       "                          min_impurity_decrease=0.0, min_impurity_split=None,\n",
       "                          min_samples_leaf=1, min_samples_split=2,\n",
       "                          min_weight_fraction_leaf=0.0, n_estimators=100,\n",
       "                          n_iter_no_change=None, presort='deprecated',\n",
       "                          random_state=42, subsample=1.0, tol=0.0001,\n",
       "                          validation_fraction=0.1, verbose=0, warm_start=False)"
      ]
     },
     "execution_count": 71,
     "metadata": {},
     "output_type": "execute_result"
    }
   ],
   "source": [
    "# The regressor to stacked the base estimators fitted.\n",
    "reg.final_estimator_"
   ]
  },
  {
   "cell_type": "markdown",
   "metadata": {},
   "source": [
    "During training, **the `estimators` are fitted on the whole training data `x_train`**. They will be used when calling `predict` or `predict_proba`.\n",
    "\n",
    "**To generalize and avoid over-fitting, the `final_estimator` is trained on out-samples using `sklearn.model_selection.cross_val_predict` internally.**\n",
    "\n",
    "For **`StackingClassifier`**, note that the output of the estimators is controlled by the parameter **`stack_method`** (a string) and it is called by each estimator.\n",
    "\n",
    "- `'auto'`, it will try to invoke, for each estimator, `'predict_proba'`, `'decision_function'` or `'predict'` in that order.\n",
    "\n",
    "- otherwise, one of 'predict_proba', 'decision_function' or 'predict'. If the method is not implemented by the estimator, it will raise an error."
   ]
  },
  {
   "cell_type": "code",
   "execution_count": 72,
   "metadata": {
    "ExecuteTime": {
     "end_time": "2020-04-01T02:17:57.884593Z",
     "start_time": "2020-04-01T02:17:57.879479Z"
    }
   },
   "outputs": [
    {
     "name": "stdout",
     "output_type": "stream",
     "text": [
      "R2 score: 0.79\n"
     ]
    }
   ],
   "source": [
    "from sklearn.metrics import r2_score\n",
    "\n",
    "y_pred = reg.predict(x_test)\n",
    "print('R2 score: {:.2f}'.format(r2_score(y_test, y_pred)))"
   ]
  },
  {
   "cell_type": "code",
   "execution_count": 73,
   "metadata": {
    "ExecuteTime": {
     "end_time": "2020-04-01T02:17:58.434234Z",
     "start_time": "2020-04-01T02:17:58.430912Z"
    }
   },
   "outputs": [
    {
     "data": {
      "text/plain": [
       "array([[28.69407967, 28.46688043, 22.61898964]])"
      ]
     },
     "execution_count": 73,
     "metadata": {},
     "output_type": "execute_result"
    }
   ],
   "source": [
    "# Return the predictions for X for each estimator\n",
    "reg.transform(x_test[:1])"
   ]
  },
  {
   "cell_type": "code",
   "execution_count": 74,
   "metadata": {
    "ExecuteTime": {
     "end_time": "2020-04-01T02:17:58.954526Z",
     "start_time": "2020-04-01T02:17:58.951152Z"
    }
   },
   "outputs": [
    {
     "data": {
      "text/plain": [
       "array([24.])"
      ]
     },
     "execution_count": 74,
     "metadata": {},
     "output_type": "execute_result"
    }
   ],
   "source": [
    "y[:1]"
   ]
  },
  {
   "cell_type": "markdown",
   "metadata": {},
   "source": [
    "<div class=\"alert alert-block alert-info\">\n",
    "    <b>In practise, a stacking predictor predict as good as the best predictor of the base layer and even sometimes outputperform it by combining the different strength of the these predictors. However, training a stacking predictor is computationally expensive.</b>\n",
    "</div>"
   ]
  },
  {
   "cell_type": "markdown",
   "metadata": {},
   "source": [
    "**See all parameters by `reg.get_params().keys()`.**"
   ]
  },
  {
   "cell_type": "code",
   "execution_count": 75,
   "metadata": {
    "ExecuteTime": {
     "end_time": "2020-04-01T02:18:44.086425Z",
     "start_time": "2020-04-01T02:18:01.048559Z"
    }
   },
   "outputs": [
    {
     "data": {
      "text/plain": [
       "GridSearchCV(cv=5, error_score=nan,\n",
       "             estimator=StackingRegressor(cv=None,\n",
       "                                         estimators=[('ridge',\n",
       "                                                      Ridge(alpha=1.0,\n",
       "                                                            copy_X=True,\n",
       "                                                            fit_intercept=True,\n",
       "                                                            max_iter=None,\n",
       "                                                            normalize=False,\n",
       "                                                            random_state=42,\n",
       "                                                            solver='auto',\n",
       "                                                            tol=0.001)),\n",
       "                                                     ('lasso',\n",
       "                                                      Lasso(alpha=1.0,\n",
       "                                                            copy_X=True,\n",
       "                                                            fit_intercept=True,\n",
       "                                                            max_iter=1000,\n",
       "                                                            normalize=False,\n",
       "                                                            positive=False,\n",
       "                                                            precompute=False,\n",
       "                                                            random_state=42,\n",
       "                                                            select...\n",
       "                                                                                   verbose=0,\n",
       "                                                                                   warm_start=False),\n",
       "                                         n_jobs=-1, passthrough=False,\n",
       "                                         verbose=0),\n",
       "             iid='deprecated', n_jobs=-1,\n",
       "             param_grid={'final_estimator__max_depth': [1, 2, 3, 4],\n",
       "                         'final_estimator__n_estimators': [100, 150, 200],\n",
       "                         'lasso__alpha': [0.1, 1.0, 10.0],\n",
       "                         'ridge__alpha': [0.1, 1.0, 10.0],\n",
       "                         'svr__C': [0.1, 1.0, 10.0]},\n",
       "             pre_dispatch='2*n_jobs', refit=True, return_train_score=False,\n",
       "             scoring=None, verbose=0)"
      ]
     },
     "execution_count": 75,
     "metadata": {},
     "output_type": "execute_result"
    }
   ],
   "source": [
    "from sklearn.model_selection import GridSearchCV\n",
    "\n",
    "param_grid = {\n",
    "    'ridge__alpha': [0.1, 1., 10.],\n",
    "    'lasso__alpha': [0.1, 1., 10.],\n",
    "    'svr__C': [0.1, 1., 10.],\n",
    "    'final_estimator__max_depth': [1, 2, 3, 4],\n",
    "    'final_estimator__n_estimators': [100, 150, 200]\n",
    "}\n",
    "grid_search = GridSearchCV(reg, param_grid=param_grid, cv=5, n_jobs=-1)\n",
    "grid_search.fit(x_train, y_train)"
   ]
  },
  {
   "cell_type": "code",
   "execution_count": 76,
   "metadata": {
    "ExecuteTime": {
     "end_time": "2020-04-01T02:18:44.673830Z",
     "start_time": "2020-04-01T02:18:44.670564Z"
    }
   },
   "outputs": [
    {
     "data": {
      "text/plain": [
       "{'final_estimator__max_depth': 4,\n",
       " 'final_estimator__n_estimators': 100,\n",
       " 'lasso__alpha': 10.0,\n",
       " 'ridge__alpha': 0.1,\n",
       " 'svr__C': 10.0}"
      ]
     },
     "execution_count": 76,
     "metadata": {},
     "output_type": "execute_result"
    }
   ],
   "source": [
    "grid_search.best_params_"
   ]
  },
  {
   "cell_type": "code",
   "execution_count": 77,
   "metadata": {
    "ExecuteTime": {
     "end_time": "2020-04-01T02:18:45.233247Z",
     "start_time": "2020-04-01T02:18:45.228273Z"
    },
    "scrolled": true
   },
   "outputs": [
    {
     "name": "stdout",
     "output_type": "stream",
     "text": [
      "R2 score: 0.79\n"
     ]
    }
   ],
   "source": [
    "y_pred = grid_search.predict(x_test)\n",
    "print('R2 score: {:.2f}'.format(r2_score(y_test, y_pred)))"
   ]
  },
  {
   "cell_type": "code",
   "execution_count": 78,
   "metadata": {
    "ExecuteTime": {
     "end_time": "2020-04-01T02:18:45.892326Z",
     "start_time": "2020-04-01T02:18:45.884098Z"
    }
   },
   "outputs": [
    {
     "data": {
      "text/plain": [
       "StackingRegressor(cv=None,\n",
       "                  estimators=[('ridge',\n",
       "                               Ridge(alpha=0.1, copy_X=True, fit_intercept=True,\n",
       "                                     max_iter=None, normalize=False,\n",
       "                                     random_state=42, solver='auto',\n",
       "                                     tol=0.001)),\n",
       "                              ('lasso',\n",
       "                               Lasso(alpha=10.0, copy_X=True,\n",
       "                                     fit_intercept=True, max_iter=1000,\n",
       "                                     normalize=False, positive=False,\n",
       "                                     precompute=False, random_state=42,\n",
       "                                     selection='cyclic', tol=0.0001,\n",
       "                                     warm_start=False)),...\n",
       "                                                            max_depth=4,\n",
       "                                                            max_features=None,\n",
       "                                                            max_leaf_nodes=None,\n",
       "                                                            min_impurity_decrease=0.0,\n",
       "                                                            min_impurity_split=None,\n",
       "                                                            min_samples_leaf=1,\n",
       "                                                            min_samples_split=2,\n",
       "                                                            min_weight_fraction_leaf=0.0,\n",
       "                                                            n_estimators=100,\n",
       "                                                            n_iter_no_change=None,\n",
       "                                                            presort='deprecated',\n",
       "                                                            random_state=42,\n",
       "                                                            subsample=1.0,\n",
       "                                                            tol=0.0001,\n",
       "                                                            validation_fraction=0.1,\n",
       "                                                            verbose=0,\n",
       "                                                            warm_start=False),\n",
       "                  n_jobs=-1, passthrough=False, verbose=0)"
      ]
     },
     "execution_count": 78,
     "metadata": {},
     "output_type": "execute_result"
    }
   ],
   "source": [
    "grid_search.best_estimator_"
   ]
  },
  {
   "cell_type": "markdown",
   "metadata": {},
   "source": [
    "**<font color='crimson'>Multiple stacking layers can be achieved by assigning final_estimator to a `StackingClassifier` or `StackingRegressor`.</font>**"
   ]
  },
  {
   "cell_type": "code",
   "execution_count": 79,
   "metadata": {
    "ExecuteTime": {
     "end_time": "2020-04-01T02:18:49.894469Z",
     "start_time": "2020-04-01T02:18:46.474451Z"
    }
   },
   "outputs": [
    {
     "name": "stdout",
     "output_type": "stream",
     "text": [
      "R2 score: 0.82\n"
     ]
    }
   ],
   "source": [
    "from sklearn.ensemble import RandomForestRegressor\n",
    "\n",
    "final_layer = StackingRegressor(\n",
    "    estimators=[('rf', RandomForestRegressor(random_state=42)),\n",
    "                ('gbrt', GradientBoostingRegressor(random_state=42))],\n",
    "    # Default None, use `RidgeCV()`\n",
    "    final_estimator=None)\n",
    "multi_layer_regressor = StackingRegressor(\n",
    "    estimators=[('ridge', Ridge(random_state=42)),\n",
    "                ('lasso', Lasso(random_state=42)),\n",
    "                ('svr', SVR(C=1, gamma=1e-6))],\n",
    "    final_estimator=final_layer,\n",
    "    n_jobs=-1)\n",
    "\n",
    "multi_layer_regressor.fit(x_train, y_train)\n",
    "print('R2 score: {:.2f}'.format(multi_layer_regressor.score(x_test, y_test)))"
   ]
  }
 ],
 "metadata": {
  "kernelspec": {
   "display_name": "Python 3",
   "language": "python",
   "name": "python3"
  },
  "language_info": {
   "codemirror_mode": {
    "name": "ipython",
    "version": 3
   },
   "file_extension": ".py",
   "mimetype": "text/x-python",
   "name": "python",
   "nbconvert_exporter": "python",
   "pygments_lexer": "ipython3",
   "version": "3.6.9"
  },
  "toc": {
   "base_numbering": 1,
   "nav_menu": {},
   "number_sections": true,
   "sideBar": true,
   "skip_h1_title": false,
   "title_cell": "Table of Contents",
   "title_sidebar": "Contents",
   "toc_cell": false,
   "toc_position": {
    "height": "calc(100% - 180px)",
    "left": "10px",
    "top": "150px",
    "width": "165px"
   },
   "toc_section_display": true,
   "toc_window_display": false
  },
  "varInspector": {
   "cols": {
    "lenName": 16,
    "lenType": 16,
    "lenVar": 40
   },
   "kernels_config": {
    "python": {
     "delete_cmd_postfix": "",
     "delete_cmd_prefix": "del ",
     "library": "var_list.py",
     "varRefreshCmd": "print(var_dic_list())"
    },
    "r": {
     "delete_cmd_postfix": ") ",
     "delete_cmd_prefix": "rm(",
     "library": "var_list.r",
     "varRefreshCmd": "cat(var_dic_list()) "
    }
   },
   "types_to_exclude": [
    "module",
    "function",
    "builtin_function_or_method",
    "instance",
    "_Feature"
   ],
   "window_display": false
  }
 },
 "nbformat": 4,
 "nbformat_minor": 2
}
