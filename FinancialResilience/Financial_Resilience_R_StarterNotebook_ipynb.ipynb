{
  "nbformat": 4,
  "nbformat_minor": 0,
  "metadata": {
    "colab": {
      "name": "Financial_Resilience_R_StarterNotebook_ipynb.ipynb",
      "provenance": [],
      "collapsed_sections": []
    },
    "kernelspec": {
      "name": "ir",
      "display_name": "R"
    }
  },
  "cells": [
    {
      "cell_type": "markdown",
      "metadata": {
        "id": "ntJvNijbr3MU"
      },
      "source": [
        "## UmojaHack Africa 2021 #3: Financial Resilience Challenge (BEGINNER) by UmojaHack Africa\n",
        "\n",
        "Can you predict if an individual will be able to make a payment in an emergency situation?\n",
        "\n",
        "The objective of this challenge is to build a machine learning model to predict which individuals across Africa and around the world are most likely to be financially resilient.\n",
        "\n",
        "\n",
        "![Umoja Hack](https://zindpublic.blob.core.windows.net/public/uploads/competition/image/151/thumb_cdf71374-9857-44bb-8216-5f8c67afb51f.png)\n",
        "\n",
        "This is a simple R starter notebook to get you started with the Financial Resilience Challenge.\n",
        "\n",
        "This notebook covers:\n",
        "- Loading the data\n",
        "- Simple EDA and an example of feature engineering\n",
        "- Data preprocessing and data wrangling\n",
        "- Creating a simple model\n",
        "- Making a submission\n",
        "- Some tips for improving your score"
      ]
    },
    {
      "cell_type": "code",
      "metadata": {
        "id": "Z60PpIfIeF4Z",
        "colab": {
          "base_uri": "https://localhost:8080/",
          "height": 34
        },
        "outputId": "9699d69d-3cc0-4d7c-cff7-0446439bfc72"
      },
      "source": [
        "#Check version of R\n",
        "R.version.string"
      ],
      "execution_count": 1,
      "outputs": [
        {
          "output_type": "display_data",
          "data": {
            "text/plain": [
              "[1] \"R version 4.0.4 (2021-02-15)\""
            ],
            "text/latex": "'R version 4.0.4 (2021-02-15)'",
            "text/markdown": "'R version 4.0.4 (2021-02-15)'",
            "text/html": [
              "'R version 4.0.4 (2021-02-15)'"
            ]
          },
          "metadata": {
            "tags": []
          }
        }
      ]
    },
    {
      "cell_type": "markdown",
      "metadata": {
        "id": "IqI5iox-09ty"
      },
      "source": [
        "### Install packages"
      ]
    },
    {
      "cell_type": "code",
      "metadata": {
        "colab": {
          "base_uri": "https://localhost:8080/"
        },
        "id": "hOdxGcvmgIhf",
        "outputId": "32f882c7-832a-4294-f846-3db009085647"
      },
      "source": [
        "install.packages(\"fastDummies\")\n",
        "install.packages('naniar')\n",
        "install.packages(\"caret\")\n",
        "install.packages(\"e1071\")\n",
        "install.packages('devtools')\n",
        "library(devtools)\n",
        "BINARY_URL=\"https://github.com/catboost/catboost/releases/download/v0.23/catboost-R-Linux-0.23.tgz\"\n",
        "devtools::install_url(BINARY_URL,args = c(\"--no-multiarch\"))"
      ],
      "execution_count": 2,
      "outputs": [
        {
          "output_type": "stream",
          "text": [
            "Installing package into ‘/usr/local/lib/R/site-library’\n",
            "(as ‘lib’ is unspecified)\n",
            "\n",
            "also installing the dependency ‘data.table’\n",
            "\n",
            "\n",
            "Installing package into ‘/usr/local/lib/R/site-library’\n",
            "(as ‘lib’ is unspecified)\n",
            "\n",
            "also installing the dependencies ‘gridExtra’, ‘plyr’, ‘visdat’, ‘viridis’, ‘UpSetR’\n",
            "\n",
            "\n",
            "Installing package into ‘/usr/local/lib/R/site-library’\n",
            "(as ‘lib’ is unspecified)\n",
            "\n",
            "also installing the dependencies ‘numDeriv’, ‘SQUAREM’, ‘lava’, ‘prodlim’, ‘iterators’, ‘gower’, ‘ipred’, ‘timeDate’, ‘foreach’, ‘ModelMetrics’, ‘reshape2’, ‘recipes’, ‘pROC’\n",
            "\n",
            "\n",
            "Installing package into ‘/usr/local/lib/R/site-library’\n",
            "(as ‘lib’ is unspecified)\n",
            "\n",
            "also installing the dependency ‘proxy’\n",
            "\n",
            "\n",
            "Installing package into ‘/usr/local/lib/R/site-library’\n",
            "(as ‘lib’ is unspecified)\n",
            "\n",
            "Loading required package: usethis\n",
            "\n",
            "Downloading package from url: https://github.com/catboost/catboost/releases/download/v0.23/catboost-R-Linux-0.23.tgz\n",
            "\n"
          ],
          "name": "stderr"
        },
        {
          "output_type": "stream",
          "text": [
            "\n",
            "\u001b[32m✔\u001b[39m  \u001b[90mchecking for file ‘/tmp/RtmpIUSpMq/remotes3b58eca9cd/catboost/DESCRIPTION’\u001b[39m\u001b[36m\u001b[39m\n",
            "\u001b[90m─\u001b[39m\u001b[90m  \u001b[39m\u001b[90mpreparing ‘catboost’:\u001b[39m\u001b[36m\u001b[36m (402ms)\u001b[36m\u001b[39m\n",
            "\u001b[32m✔\u001b[39m  \u001b[90mchecking DESCRIPTION meta-information\u001b[39m\u001b[36m\u001b[39m\n",
            "\u001b[90m─\u001b[39m\u001b[90m  \u001b[39m\u001b[90mchecking for LF line-endings in source and make files and shell scripts\u001b[39m\u001b[36m\u001b[39m\n",
            "\u001b[90m─\u001b[39m\u001b[90m  \u001b[39m\u001b[90mchecking for empty or unneeded directories\u001b[39m\u001b[36m\u001b[39m\n",
            "\u001b[90m─\u001b[39m\u001b[90m  \u001b[39m\u001b[90mbuilding ‘catboost_0.23.tar.gz’\u001b[39m\u001b[36m\u001b[39m\n",
            "   \n"
          ],
          "name": "stdout"
        },
        {
          "output_type": "stream",
          "text": [
            "Installing package into ‘/usr/local/lib/R/site-library’\n",
            "(as ‘lib’ is unspecified)\n",
            "\n",
            "Warning message:\n",
            "“1 components of `...` were not used.\n",
            "\n",
            "We detected these problematic arguments:\n",
            "* `args`\n",
            "\n",
            "Did you misspecify an argument?”\n"
          ],
          "name": "stderr"
        }
      ]
    },
    {
      "cell_type": "markdown",
      "metadata": {
        "id": "IPgNPkOEr-ay"
      },
      "source": [
        "### Importing libraries"
      ]
    },
    {
      "cell_type": "code",
      "metadata": {
        "colab": {
          "base_uri": "https://localhost:8080/"
        },
        "id": "G9DAioHYN9EY",
        "outputId": "be36d11f-9806-41d2-ddee-23dd441f3641"
      },
      "source": [
        "# Import libraries\n",
        "library(tidyverse)\n",
        "library(fastDummies)\n",
        "library(naniar)\n",
        "library(catboost)\n",
        "library(caret)\n",
        "library(e1071)"
      ],
      "execution_count": 3,
      "outputs": [
        {
          "output_type": "stream",
          "text": [
            "Warning message in system(\"timedatectl\", intern = TRUE):\n",
            "“running command 'timedatectl' had status 1”\n",
            "── \u001b[1mAttaching packages\u001b[22m ─────────────────────────────────────── tidyverse 1.3.0 ──\n",
            "\n",
            "\u001b[32m✔\u001b[39m \u001b[34mggplot2\u001b[39m 3.3.3     \u001b[32m✔\u001b[39m \u001b[34mpurrr  \u001b[39m 0.3.4\n",
            "\u001b[32m✔\u001b[39m \u001b[34mtibble \u001b[39m 3.1.0     \u001b[32m✔\u001b[39m \u001b[34mdplyr  \u001b[39m 1.0.5\n",
            "\u001b[32m✔\u001b[39m \u001b[34mtidyr  \u001b[39m 1.1.3     \u001b[32m✔\u001b[39m \u001b[34mstringr\u001b[39m 1.4.0\n",
            "\u001b[32m✔\u001b[39m \u001b[34mreadr  \u001b[39m 1.4.0     \u001b[32m✔\u001b[39m \u001b[34mforcats\u001b[39m 0.5.1\n",
            "\n",
            "── \u001b[1mConflicts\u001b[22m ────────────────────────────────────────── tidyverse_conflicts() ──\n",
            "\u001b[31m✖\u001b[39m \u001b[34mdplyr\u001b[39m::\u001b[32mfilter()\u001b[39m masks \u001b[34mstats\u001b[39m::filter()\n",
            "\u001b[31m✖\u001b[39m \u001b[34mdplyr\u001b[39m::\u001b[32mlag()\u001b[39m    masks \u001b[34mstats\u001b[39m::lag()\n",
            "\n",
            "Loading required package: lattice\n",
            "\n",
            "\n",
            "Attaching package: ‘caret’\n",
            "\n",
            "\n",
            "The following object is masked from ‘package:purrr’:\n",
            "\n",
            "    lift\n",
            "\n",
            "\n"
          ],
          "name": "stderr"
        }
      ]
    },
    {
      "cell_type": "markdown",
      "metadata": {
        "id": "PN5PrWmnsEbb"
      },
      "source": [
        "### Read files"
      ]
    },
    {
      "cell_type": "code",
      "metadata": {
        "id": "SHAbnzi9NI_T"
      },
      "source": [
        "# Load files\n",
        "train = read.csv('/content/Train.csv')\n",
        "test = read.csv('/content/Test.csv')\n",
        "samplesubmission = read.csv('/content/SampleSubmission.csv')\n",
        "variable_definations = read.csv('/content/VariableDefinitions.csv')"
      ],
      "execution_count": 26,
      "outputs": []
    },
    {
      "cell_type": "markdown",
      "metadata": {
        "id": "tFxjjgsMsJD1"
      },
      "source": [
        "### Some basic EDA"
      ]
    },
    {
      "cell_type": "code",
      "metadata": {
        "colab": {
          "base_uri": "https://localhost:8080/",
          "height": 338
        },
        "id": "7JebboqeNI8-",
        "outputId": "a28f8c16-14e4-46b3-cd12-368e9823155c"
      },
      "source": [
        "# Preview first five rows of the train set\n",
        "head(train)"
      ],
      "execution_count": 27,
      "outputs": [
        {
          "output_type": "display_data",
          "data": {
            "text/plain": [
              "  ID            country region                                            \n",
              "1 ID_0000020532 Morocco Middle East & North Africa (excluding high income)\n",
              "2 ID_0000075765 Lebanon Middle East & North Africa (excluding high income)\n",
              "3 ID_0000085491 Morocco Middle East & North Africa (excluding high income)\n",
              "4 ID_0000144505 Canada  High income: OECD                                 \n",
              "5 ID_0000214184 Mexico  Latin America & Caribbean (excluding high income) \n",
              "6 ID_0000261077 Bahrain High income: nonOECD                              \n",
              "  population age Q1 Q2 Q3 Q4 Q5 ⋯ Q21 Q22 Q23 Q24 Q25 Q26 Q27 owns_mobile Q28\n",
              "1 25550170   66  2  NA NA NA NA ⋯ 1   2   NA  1   2    2   2  1            1 \n",
              "2  4591023   44  2  NA NA  2  2 ⋯ 1   2   NA  2   2    2   1  1            1 \n",
              "3 25550170   29  1   1  1  2  2 ⋯ 1   1    2  2   2    2  NA  1            1 \n",
              "4 30491168   44  1   1  1  1  1 ⋯ 1   1    2  1   2   NA  NA  1           NA \n",
              "5 93002320   36  2  NA NA NA NA ⋯ 1   2   NA  1   2    2   2  1            1 \n",
              "6  1135982   52  1   1  1  1  1 ⋯ 1   1    1  2   2   NA  NA  1           NA \n",
              "  target\n",
              "1 0     \n",
              "2 1     \n",
              "3 0     \n",
              "4 1     \n",
              "5 1     \n",
              "6 1     "
            ],
            "text/latex": "A data.frame: 6 × 36\n\\begin{tabular}{r|lllllllllllllllllllll}\n  & ID & country & region & population & age & Q1 & Q2 & Q3 & Q4 & Q5 & ⋯ & Q21 & Q22 & Q23 & Q24 & Q25 & Q26 & Q27 & owns\\_mobile & Q28 & target\\\\\n  & <chr> & <chr> & <chr> & <dbl> & <dbl> & <int> & <dbl> & <dbl> & <dbl> & <dbl> & ⋯ & <int> & <int> & <dbl> & <int> & <int> & <dbl> & <dbl> & <dbl> & <dbl> & <int>\\\\\n\\hline\n\t1 & ID\\_0000020532 & Morocco & Middle East \\& North Africa (excluding high income) & 25550170 & 66 & 2 & NA & NA & NA & NA & ⋯ & 1 & 2 & NA & 1 & 2 &  2 &  2 & 1 &  1 & 0\\\\\n\t2 & ID\\_0000075765 & Lebanon & Middle East \\& North Africa (excluding high income) &  4591023 & 44 & 2 & NA & NA &  2 &  2 & ⋯ & 1 & 2 & NA & 2 & 2 &  2 &  1 & 1 &  1 & 1\\\\\n\t3 & ID\\_0000085491 & Morocco & Middle East \\& North Africa (excluding high income) & 25550170 & 29 & 1 &  1 &  1 &  2 &  2 & ⋯ & 1 & 1 &  2 & 2 & 2 &  2 & NA & 1 &  1 & 0\\\\\n\t4 & ID\\_0000144505 & Canada  & High income: OECD                                  & 30491168 & 44 & 1 &  1 &  1 &  1 &  1 & ⋯ & 1 & 1 &  2 & 1 & 2 & NA & NA & 1 & NA & 1\\\\\n\t5 & ID\\_0000214184 & Mexico  & Latin America \\& Caribbean (excluding high income)  & 93002320 & 36 & 2 & NA & NA & NA & NA & ⋯ & 1 & 2 & NA & 1 & 2 &  2 &  2 & 1 &  1 & 1\\\\\n\t6 & ID\\_0000261077 & Bahrain & High income: nonOECD                               &  1135982 & 52 & 1 &  1 &  1 &  1 &  1 & ⋯ & 1 & 1 &  1 & 2 & 2 & NA & NA & 1 & NA & 1\\\\\n\\end{tabular}\n",
            "text/markdown": "\nA data.frame: 6 × 36\n\n| <!--/--> | ID &lt;chr&gt; | country &lt;chr&gt; | region &lt;chr&gt; | population &lt;dbl&gt; | age &lt;dbl&gt; | Q1 &lt;int&gt; | Q2 &lt;dbl&gt; | Q3 &lt;dbl&gt; | Q4 &lt;dbl&gt; | Q5 &lt;dbl&gt; | ⋯ ⋯ | Q21 &lt;int&gt; | Q22 &lt;int&gt; | Q23 &lt;dbl&gt; | Q24 &lt;int&gt; | Q25 &lt;int&gt; | Q26 &lt;dbl&gt; | Q27 &lt;dbl&gt; | owns_mobile &lt;dbl&gt; | Q28 &lt;dbl&gt; | target &lt;int&gt; |\n|---|---|---|---|---|---|---|---|---|---|---|---|---|---|---|---|---|---|---|---|---|---|\n| 1 | ID_0000020532 | Morocco | Middle East &amp; North Africa (excluding high income) | 25550170 | 66 | 2 | NA | NA | NA | NA | ⋯ | 1 | 2 | NA | 1 | 2 |  2 |  2 | 1 |  1 | 0 |\n| 2 | ID_0000075765 | Lebanon | Middle East &amp; North Africa (excluding high income) |  4591023 | 44 | 2 | NA | NA |  2 |  2 | ⋯ | 1 | 2 | NA | 2 | 2 |  2 |  1 | 1 |  1 | 1 |\n| 3 | ID_0000085491 | Morocco | Middle East &amp; North Africa (excluding high income) | 25550170 | 29 | 1 |  1 |  1 |  2 |  2 | ⋯ | 1 | 1 |  2 | 2 | 2 |  2 | NA | 1 |  1 | 0 |\n| 4 | ID_0000144505 | Canada  | High income: OECD                                  | 30491168 | 44 | 1 |  1 |  1 |  1 |  1 | ⋯ | 1 | 1 |  2 | 1 | 2 | NA | NA | 1 | NA | 1 |\n| 5 | ID_0000214184 | Mexico  | Latin America &amp; Caribbean (excluding high income)  | 93002320 | 36 | 2 | NA | NA | NA | NA | ⋯ | 1 | 2 | NA | 1 | 2 |  2 |  2 | 1 |  1 | 1 |\n| 6 | ID_0000261077 | Bahrain | High income: nonOECD                               |  1135982 | 52 | 1 |  1 |  1 |  1 |  1 | ⋯ | 1 | 1 |  1 | 2 | 2 | NA | NA | 1 | NA | 1 |\n\n",
            "text/html": [
              "<table class=\"dataframe\">\n",
              "<caption>A data.frame: 6 × 36</caption>\n",
              "<thead>\n",
              "\t<tr><th></th><th scope=col>ID</th><th scope=col>country</th><th scope=col>region</th><th scope=col>population</th><th scope=col>age</th><th scope=col>Q1</th><th scope=col>Q2</th><th scope=col>Q3</th><th scope=col>Q4</th><th scope=col>Q5</th><th scope=col>⋯</th><th scope=col>Q21</th><th scope=col>Q22</th><th scope=col>Q23</th><th scope=col>Q24</th><th scope=col>Q25</th><th scope=col>Q26</th><th scope=col>Q27</th><th scope=col>owns_mobile</th><th scope=col>Q28</th><th scope=col>target</th></tr>\n",
              "\t<tr><th></th><th scope=col>&lt;chr&gt;</th><th scope=col>&lt;chr&gt;</th><th scope=col>&lt;chr&gt;</th><th scope=col>&lt;dbl&gt;</th><th scope=col>&lt;dbl&gt;</th><th scope=col>&lt;int&gt;</th><th scope=col>&lt;dbl&gt;</th><th scope=col>&lt;dbl&gt;</th><th scope=col>&lt;dbl&gt;</th><th scope=col>&lt;dbl&gt;</th><th scope=col>⋯</th><th scope=col>&lt;int&gt;</th><th scope=col>&lt;int&gt;</th><th scope=col>&lt;dbl&gt;</th><th scope=col>&lt;int&gt;</th><th scope=col>&lt;int&gt;</th><th scope=col>&lt;dbl&gt;</th><th scope=col>&lt;dbl&gt;</th><th scope=col>&lt;dbl&gt;</th><th scope=col>&lt;dbl&gt;</th><th scope=col>&lt;int&gt;</th></tr>\n",
              "</thead>\n",
              "<tbody>\n",
              "\t<tr><th scope=row>1</th><td>ID_0000020532</td><td>Morocco</td><td>Middle East &amp; North Africa (excluding high income)</td><td>25550170</td><td>66</td><td>2</td><td>NA</td><td>NA</td><td>NA</td><td>NA</td><td>⋯</td><td>1</td><td>2</td><td>NA</td><td>1</td><td>2</td><td> 2</td><td> 2</td><td>1</td><td> 1</td><td>0</td></tr>\n",
              "\t<tr><th scope=row>2</th><td>ID_0000075765</td><td>Lebanon</td><td>Middle East &amp; North Africa (excluding high income)</td><td> 4591023</td><td>44</td><td>2</td><td>NA</td><td>NA</td><td> 2</td><td> 2</td><td>⋯</td><td>1</td><td>2</td><td>NA</td><td>2</td><td>2</td><td> 2</td><td> 1</td><td>1</td><td> 1</td><td>1</td></tr>\n",
              "\t<tr><th scope=row>3</th><td>ID_0000085491</td><td>Morocco</td><td>Middle East &amp; North Africa (excluding high income)</td><td>25550170</td><td>29</td><td>1</td><td> 1</td><td> 1</td><td> 2</td><td> 2</td><td>⋯</td><td>1</td><td>1</td><td> 2</td><td>2</td><td>2</td><td> 2</td><td>NA</td><td>1</td><td> 1</td><td>0</td></tr>\n",
              "\t<tr><th scope=row>4</th><td>ID_0000144505</td><td>Canada </td><td>High income: OECD                                 </td><td>30491168</td><td>44</td><td>1</td><td> 1</td><td> 1</td><td> 1</td><td> 1</td><td>⋯</td><td>1</td><td>1</td><td> 2</td><td>1</td><td>2</td><td>NA</td><td>NA</td><td>1</td><td>NA</td><td>1</td></tr>\n",
              "\t<tr><th scope=row>5</th><td>ID_0000214184</td><td>Mexico </td><td>Latin America &amp; Caribbean (excluding high income) </td><td>93002320</td><td>36</td><td>2</td><td>NA</td><td>NA</td><td>NA</td><td>NA</td><td>⋯</td><td>1</td><td>2</td><td>NA</td><td>1</td><td>2</td><td> 2</td><td> 2</td><td>1</td><td> 1</td><td>1</td></tr>\n",
              "\t<tr><th scope=row>6</th><td>ID_0000261077</td><td>Bahrain</td><td>High income: nonOECD                              </td><td> 1135982</td><td>52</td><td>1</td><td> 1</td><td> 1</td><td> 1</td><td> 1</td><td>⋯</td><td>1</td><td>1</td><td> 1</td><td>2</td><td>2</td><td>NA</td><td>NA</td><td>1</td><td>NA</td><td>1</td></tr>\n",
              "</tbody>\n",
              "</table>\n"
            ]
          },
          "metadata": {
            "tags": []
          }
        }
      ]
    },
    {
      "cell_type": "code",
      "metadata": {
        "colab": {
          "base_uri": "https://localhost:8080/",
          "height": 372
        },
        "id": "i4_xuIj_NI6q",
        "outputId": "124efc86-1dd0-4ae9-c187-e9800dc99f06"
      },
      "source": [
        "# Preview first five rows of the test set\n",
        "head(test)"
      ],
      "execution_count": 28,
      "outputs": [
        {
          "output_type": "display_data",
          "data": {
            "text/plain": [
              "  ID            country    region                                            \n",
              "1 ID_0000005111 Croatia    Europe & Central Asia (excluding high income)     \n",
              "2 ID_0000389416 Kazakhstan Europe & Central Asia (excluding high income)     \n",
              "3 ID_0000634789 Costa Rica Latin America & Caribbean (excluding high income) \n",
              "4 ID_0000778100 Japan      High income: OECD                                 \n",
              "5 ID_0001123210 Morocco    Middle East & North Africa (excluding high income)\n",
              "6 ID_0001249054 Lebanon    Middle East & North Africa (excluding high income)\n",
              "  population age Q1 Q2 Q3 Q4 Q5 ⋯ Q20 Q21 Q22 Q23 Q24 Q25 Q26 Q27 owns_mobile\n",
              "1   3557444  62  2  NA NA  2  2 ⋯  2  2   1    1  2   2    2  NA  1          \n",
              "2  12920168  32  2  NA NA NA NA ⋯  2  2   2   NA  2   2    2   2  1          \n",
              "3   3791520  73  1   1  1  2  2 ⋯  2  2   2   NA  2   1    2   1  1          \n",
              "4 110566824  67  1   1  1  1  2 ⋯ NA  1   1    2  1   1   NA  NA  1          \n",
              "5  25550170  32  1   1  1  2  2 ⋯  1  2   2   NA  2   2    2   2  1          \n",
              "6   4591023  49  1   1  2  2  2 ⋯  1  1   2   NA  2   2    2   1  1          \n",
              "  Q28\n",
              "1  1 \n",
              "2  2 \n",
              "3  1 \n",
              "4 NA \n",
              "5  1 \n",
              "6  1 "
            ],
            "text/latex": "A data.frame: 6 × 35\n\\begin{tabular}{r|lllllllllllllllllllll}\n  & ID & country & region & population & age & Q1 & Q2 & Q3 & Q4 & Q5 & ⋯ & Q20 & Q21 & Q22 & Q23 & Q24 & Q25 & Q26 & Q27 & owns\\_mobile & Q28\\\\\n  & <chr> & <chr> & <chr> & <dbl> & <dbl> & <int> & <dbl> & <dbl> & <dbl> & <dbl> & ⋯ & <dbl> & <int> & <int> & <dbl> & <int> & <int> & <dbl> & <dbl> & <dbl> & <dbl>\\\\\n\\hline\n\t1 & ID\\_0000005111 & Croatia    & Europe \\& Central Asia (excluding high income)      &   3557444 & 62 & 2 & NA & NA &  2 &  2 & ⋯ &  2 & 2 & 1 &  1 & 2 & 2 &  2 & NA & 1 &  1\\\\\n\t2 & ID\\_0000389416 & Kazakhstan & Europe \\& Central Asia (excluding high income)      &  12920168 & 32 & 2 & NA & NA & NA & NA & ⋯ &  2 & 2 & 2 & NA & 2 & 2 &  2 &  2 & 1 &  2\\\\\n\t3 & ID\\_0000634789 & Costa Rica & Latin America \\& Caribbean (excluding high income)  &   3791520 & 73 & 1 &  1 &  1 &  2 &  2 & ⋯ &  2 & 2 & 2 & NA & 2 & 1 &  2 &  1 & 1 &  1\\\\\n\t4 & ID\\_0000778100 & Japan      & High income: OECD                                  & 110566824 & 67 & 1 &  1 &  1 &  1 &  2 & ⋯ & NA & 1 & 1 &  2 & 1 & 1 & NA & NA & 1 & NA\\\\\n\t5 & ID\\_0001123210 & Morocco    & Middle East \\& North Africa (excluding high income) &  25550170 & 32 & 1 &  1 &  1 &  2 &  2 & ⋯ &  1 & 2 & 2 & NA & 2 & 2 &  2 &  2 & 1 &  1\\\\\n\t6 & ID\\_0001249054 & Lebanon    & Middle East \\& North Africa (excluding high income) &   4591023 & 49 & 1 &  1 &  2 &  2 &  2 & ⋯ &  1 & 1 & 2 & NA & 2 & 2 &  2 &  1 & 1 &  1\\\\\n\\end{tabular}\n",
            "text/markdown": "\nA data.frame: 6 × 35\n\n| <!--/--> | ID &lt;chr&gt; | country &lt;chr&gt; | region &lt;chr&gt; | population &lt;dbl&gt; | age &lt;dbl&gt; | Q1 &lt;int&gt; | Q2 &lt;dbl&gt; | Q3 &lt;dbl&gt; | Q4 &lt;dbl&gt; | Q5 &lt;dbl&gt; | ⋯ ⋯ | Q20 &lt;dbl&gt; | Q21 &lt;int&gt; | Q22 &lt;int&gt; | Q23 &lt;dbl&gt; | Q24 &lt;int&gt; | Q25 &lt;int&gt; | Q26 &lt;dbl&gt; | Q27 &lt;dbl&gt; | owns_mobile &lt;dbl&gt; | Q28 &lt;dbl&gt; |\n|---|---|---|---|---|---|---|---|---|---|---|---|---|---|---|---|---|---|---|---|---|---|\n| 1 | ID_0000005111 | Croatia    | Europe &amp; Central Asia (excluding high income)      |   3557444 | 62 | 2 | NA | NA |  2 |  2 | ⋯ |  2 | 2 | 1 |  1 | 2 | 2 |  2 | NA | 1 |  1 |\n| 2 | ID_0000389416 | Kazakhstan | Europe &amp; Central Asia (excluding high income)      |  12920168 | 32 | 2 | NA | NA | NA | NA | ⋯ |  2 | 2 | 2 | NA | 2 | 2 |  2 |  2 | 1 |  2 |\n| 3 | ID_0000634789 | Costa Rica | Latin America &amp; Caribbean (excluding high income)  |   3791520 | 73 | 1 |  1 |  1 |  2 |  2 | ⋯ |  2 | 2 | 2 | NA | 2 | 1 |  2 |  1 | 1 |  1 |\n| 4 | ID_0000778100 | Japan      | High income: OECD                                  | 110566824 | 67 | 1 |  1 |  1 |  1 |  2 | ⋯ | NA | 1 | 1 |  2 | 1 | 1 | NA | NA | 1 | NA |\n| 5 | ID_0001123210 | Morocco    | Middle East &amp; North Africa (excluding high income) |  25550170 | 32 | 1 |  1 |  1 |  2 |  2 | ⋯ |  1 | 2 | 2 | NA | 2 | 2 |  2 |  2 | 1 |  1 |\n| 6 | ID_0001249054 | Lebanon    | Middle East &amp; North Africa (excluding high income) |   4591023 | 49 | 1 |  1 |  2 |  2 |  2 | ⋯ |  1 | 1 | 2 | NA | 2 | 2 |  2 |  1 | 1 |  1 |\n\n",
            "text/html": [
              "<table class=\"dataframe\">\n",
              "<caption>A data.frame: 6 × 35</caption>\n",
              "<thead>\n",
              "\t<tr><th></th><th scope=col>ID</th><th scope=col>country</th><th scope=col>region</th><th scope=col>population</th><th scope=col>age</th><th scope=col>Q1</th><th scope=col>Q2</th><th scope=col>Q3</th><th scope=col>Q4</th><th scope=col>Q5</th><th scope=col>⋯</th><th scope=col>Q20</th><th scope=col>Q21</th><th scope=col>Q22</th><th scope=col>Q23</th><th scope=col>Q24</th><th scope=col>Q25</th><th scope=col>Q26</th><th scope=col>Q27</th><th scope=col>owns_mobile</th><th scope=col>Q28</th></tr>\n",
              "\t<tr><th></th><th scope=col>&lt;chr&gt;</th><th scope=col>&lt;chr&gt;</th><th scope=col>&lt;chr&gt;</th><th scope=col>&lt;dbl&gt;</th><th scope=col>&lt;dbl&gt;</th><th scope=col>&lt;int&gt;</th><th scope=col>&lt;dbl&gt;</th><th scope=col>&lt;dbl&gt;</th><th scope=col>&lt;dbl&gt;</th><th scope=col>&lt;dbl&gt;</th><th scope=col>⋯</th><th scope=col>&lt;dbl&gt;</th><th scope=col>&lt;int&gt;</th><th scope=col>&lt;int&gt;</th><th scope=col>&lt;dbl&gt;</th><th scope=col>&lt;int&gt;</th><th scope=col>&lt;int&gt;</th><th scope=col>&lt;dbl&gt;</th><th scope=col>&lt;dbl&gt;</th><th scope=col>&lt;dbl&gt;</th><th scope=col>&lt;dbl&gt;</th></tr>\n",
              "</thead>\n",
              "<tbody>\n",
              "\t<tr><th scope=row>1</th><td>ID_0000005111</td><td><span style=white-space:pre-wrap>Croatia   </span></td><td><span style=white-space:pre-wrap>Europe &amp; Central Asia (excluding high income)     </span></td><td><span style=white-space:pre-wrap>  3557444</span></td><td>62</td><td>2</td><td>NA</td><td>NA</td><td> 2</td><td> 2</td><td>⋯</td><td> 2</td><td>2</td><td>1</td><td> 1</td><td>2</td><td>2</td><td> 2</td><td>NA</td><td>1</td><td> 1</td></tr>\n",
              "\t<tr><th scope=row>2</th><td>ID_0000389416</td><td>Kazakhstan</td><td><span style=white-space:pre-wrap>Europe &amp; Central Asia (excluding high income)     </span></td><td> 12920168</td><td>32</td><td>2</td><td>NA</td><td>NA</td><td>NA</td><td>NA</td><td>⋯</td><td> 2</td><td>2</td><td>2</td><td>NA</td><td>2</td><td>2</td><td> 2</td><td> 2</td><td>1</td><td> 2</td></tr>\n",
              "\t<tr><th scope=row>3</th><td>ID_0000634789</td><td>Costa Rica</td><td>Latin America &amp; Caribbean (excluding high income) </td><td><span style=white-space:pre-wrap>  3791520</span></td><td>73</td><td>1</td><td> 1</td><td> 1</td><td> 2</td><td> 2</td><td>⋯</td><td> 2</td><td>2</td><td>2</td><td>NA</td><td>2</td><td>1</td><td> 2</td><td> 1</td><td>1</td><td> 1</td></tr>\n",
              "\t<tr><th scope=row>4</th><td>ID_0000778100</td><td>Japan     </td><td>High income: OECD                                 </td><td>110566824</td><td>67</td><td>1</td><td> 1</td><td> 1</td><td> 1</td><td> 2</td><td>⋯</td><td>NA</td><td>1</td><td>1</td><td> 2</td><td>1</td><td>1</td><td>NA</td><td>NA</td><td>1</td><td>NA</td></tr>\n",
              "\t<tr><th scope=row>5</th><td>ID_0001123210</td><td><span style=white-space:pre-wrap>Morocco   </span></td><td>Middle East &amp; North Africa (excluding high income)</td><td> 25550170</td><td>32</td><td>1</td><td> 1</td><td> 1</td><td> 2</td><td> 2</td><td>⋯</td><td> 1</td><td>2</td><td>2</td><td>NA</td><td>2</td><td>2</td><td> 2</td><td> 2</td><td>1</td><td> 1</td></tr>\n",
              "\t<tr><th scope=row>6</th><td>ID_0001249054</td><td><span style=white-space:pre-wrap>Lebanon   </span></td><td>Middle East &amp; North Africa (excluding high income)</td><td><span style=white-space:pre-wrap>  4591023</span></td><td>49</td><td>1</td><td> 1</td><td> 2</td><td> 2</td><td> 2</td><td>⋯</td><td> 1</td><td>1</td><td>2</td><td>NA</td><td>2</td><td>2</td><td> 2</td><td> 1</td><td>1</td><td> 1</td></tr>\n",
              "</tbody>\n",
              "</table>\n"
            ]
          },
          "metadata": {
            "tags": []
          }
        }
      ]
    },
    {
      "cell_type": "code",
      "metadata": {
        "colab": {
          "base_uri": "https://localhost:8080/",
          "height": 271
        },
        "id": "NGYueLrbNI4R",
        "outputId": "266f0415-7167-4fd6-c44a-72b9571d92aa"
      },
      "source": [
        "# Preview first five rows of the sample submission file\n",
        "head(samplesubmission)"
      ],
      "execution_count": 29,
      "outputs": [
        {
          "output_type": "display_data",
          "data": {
            "text/plain": [
              "  ID            target\n",
              "1 ID_0000005111 NA    \n",
              "2 ID_0000389416 NA    \n",
              "3 ID_0000634789 NA    \n",
              "4 ID_0000778100 NA    \n",
              "5 ID_0001123210 NA    \n",
              "6 ID_0001249054 NA    "
            ],
            "text/latex": "A data.frame: 6 × 2\n\\begin{tabular}{r|ll}\n  & ID & target\\\\\n  & <chr> & <lgl>\\\\\n\\hline\n\t1 & ID\\_0000005111 & NA\\\\\n\t2 & ID\\_0000389416 & NA\\\\\n\t3 & ID\\_0000634789 & NA\\\\\n\t4 & ID\\_0000778100 & NA\\\\\n\t5 & ID\\_0001123210 & NA\\\\\n\t6 & ID\\_0001249054 & NA\\\\\n\\end{tabular}\n",
            "text/markdown": "\nA data.frame: 6 × 2\n\n| <!--/--> | ID &lt;chr&gt; | target &lt;lgl&gt; |\n|---|---|---|\n| 1 | ID_0000005111 | NA |\n| 2 | ID_0000389416 | NA |\n| 3 | ID_0000634789 | NA |\n| 4 | ID_0000778100 | NA |\n| 5 | ID_0001123210 | NA |\n| 6 | ID_0001249054 | NA |\n\n",
            "text/html": [
              "<table class=\"dataframe\">\n",
              "<caption>A data.frame: 6 × 2</caption>\n",
              "<thead>\n",
              "\t<tr><th></th><th scope=col>ID</th><th scope=col>target</th></tr>\n",
              "\t<tr><th></th><th scope=col>&lt;chr&gt;</th><th scope=col>&lt;lgl&gt;</th></tr>\n",
              "</thead>\n",
              "<tbody>\n",
              "\t<tr><th scope=row>1</th><td>ID_0000005111</td><td>NA</td></tr>\n",
              "\t<tr><th scope=row>2</th><td>ID_0000389416</td><td>NA</td></tr>\n",
              "\t<tr><th scope=row>3</th><td>ID_0000634789</td><td>NA</td></tr>\n",
              "\t<tr><th scope=row>4</th><td>ID_0000778100</td><td>NA</td></tr>\n",
              "\t<tr><th scope=row>5</th><td>ID_0001123210</td><td>NA</td></tr>\n",
              "\t<tr><th scope=row>6</th><td>ID_0001249054</td><td>NA</td></tr>\n",
              "</tbody>\n",
              "</table>\n"
            ]
          },
          "metadata": {
            "tags": []
          }
        }
      ]
    },
    {
      "cell_type": "code",
      "metadata": {
        "colab": {
          "base_uri": "https://localhost:8080/",
          "height": 1000
        },
        "id": "gCqKoRMKm39n",
        "outputId": "2a6c9f9d-2ff4-48f7-bcf3-340709ecd367"
      },
      "source": [
        "# Preview variable definations\n",
        "variable_definations"
      ],
      "execution_count": 30,
      "outputs": [
        {
          "output_type": "display_data",
          "data": {
            "text/plain": [
              "   ID         \n",
              "1  country    \n",
              "2  region     \n",
              "3  population \n",
              "4  age        \n",
              "5  Q1         \n",
              "6  Q2         \n",
              "7  Q3         \n",
              "8  Q4         \n",
              "9  Q5         \n",
              "10 Q6         \n",
              "11 Q7         \n",
              "12 Q8         \n",
              "13 Q9         \n",
              "14 Q10a       \n",
              "15 Q10b       \n",
              "16 Q11        \n",
              "17 Q12        \n",
              "18 Q13a       \n",
              "19 Q13b       \n",
              "20 Q14        \n",
              "21 Q15        \n",
              "22 Q16        \n",
              "23 Q17a       \n",
              "24 Q17b       \n",
              "25 Q19        \n",
              "26 Q20        \n",
              "27 Q21        \n",
              "28 Q22        \n",
              "29 Q23        \n",
              "30 Q24        \n",
              "31 Q25        \n",
              "32 Q26        \n",
              "33 Q27        \n",
              "34 owns_mobile\n",
              "35 Q28        \n",
              "36 target     \n",
              "   Person.unique.random.identification                                                         \n",
              "1  The country                                                                                 \n",
              "2  Region of a given country,.i.e., South Asia, Europe, etc                                    \n",
              "3  The population of the given country                                                         \n",
              "4  Individual age                                                                              \n",
              "5  Has ATM/debit card                                                                          \n",
              "6  Is the ATM connect to an account with your name?                                            \n",
              "7  Purchased with the ATM                                                                      \n",
              "8  Use of mobile or internet to make payments or send money                                    \n",
              "9  Mobile/internet to check account balance                                                    \n",
              "10 Has a credit card                                                                           \n",
              "11 Used the credit card in 12 months                                                           \n",
              "12 Money deposits to a bank account in the last 12 months                                      \n",
              "13 Money withdrawals from a bank account in the last 12 months                                 \n",
              "14 Used the Internet in the last 12 months;- to make payments for the bills -                  \n",
              "15 Used the Internet in the last 12 months;- to buy something online                           \n",
              "16 Savings in the last 12 months to start a business/farm                                      \n",
              "17 Savings in the last 12 months for old age                                                   \n",
              "18 Saved the money at a bank/financial institutions                                            \n",
              "19 Save the money at groups/clubs of any informal type                                         \n",
              "20 Has a loan from formal financial institutions to purchase land, home, or apartment          \n",
              "21 Borrowed money for health/medical purposes in the last 12 months                            \n",
              "22 Borrowed money to start/grow business or farm                                               \n",
              "23 Borrowed money from formal financial institutions - 12 months                               \n",
              "24 Borrowed money from friends, relatives, or family - 12 months                               \n",
              "25 Sent/given money to friend/relative                                                         \n",
              "26 Received money from friend or relative                                                      \n",
              "27 Payments for electricity, water, or trash in the last 12 months                             \n",
              "28 salary/wages in the last 12 months                                                          \n",
              "29 Employed by government or public sector -12 months                                          \n",
              "30 Received any form of financial support from the government                                  \n",
              "31 Pension in the last 12 months                                                               \n",
              "32 Received money for the sale of livestock, agricultural products, crops, produce? (12 months)\n",
              "33 Received money from your business in last 12 months                                         \n",
              "34 Owns a mobile phone                                                                         \n",
              "35 Has national ID card                                                                        \n",
              "36 target class                                                                                \n",
              "   For.columns.Q1...Q28...Value.1...Yes..2...No..3.Don.t.Know.4...refused.to.answer\n",
              "1  NA                                                                              \n",
              "2  NA                                                                              \n",
              "3  NA                                                                              \n",
              "4  NA                                                                              \n",
              "5  NA                                                                              \n",
              "6  NA                                                                              \n",
              "7  NA                                                                              \n",
              "8  NA                                                                              \n",
              "9  NA                                                                              \n",
              "10 NA                                                                              \n",
              "11 NA                                                                              \n",
              "12 NA                                                                              \n",
              "13 NA                                                                              \n",
              "14 NA                                                                              \n",
              "15 NA                                                                              \n",
              "16 NA                                                                              \n",
              "17 NA                                                                              \n",
              "18 NA                                                                              \n",
              "19 NA                                                                              \n",
              "20 NA                                                                              \n",
              "21 NA                                                                              \n",
              "22 NA                                                                              \n",
              "23 NA                                                                              \n",
              "24 NA                                                                              \n",
              "25 NA                                                                              \n",
              "26 NA                                                                              \n",
              "27 NA                                                                              \n",
              "28 NA                                                                              \n",
              "29 NA                                                                              \n",
              "30 NA                                                                              \n",
              "31 NA                                                                              \n",
              "32 NA                                                                              \n",
              "33 NA                                                                              \n",
              "34 NA                                                                              \n",
              "35 NA                                                                              \n",
              "36 NA                                                                              "
            ],
            "text/latex": "A data.frame: 36 × 3\n\\begin{tabular}{lll}\n ID & Person.unique.random.identification & For.columns.Q1...Q28...Value.1...Yes..2...No..3.Don.t.Know.4...refused.to.answer\\\\\n <chr> & <chr> & <lgl>\\\\\n\\hline\n\t country     & The country                                                                                  & NA\\\\\n\t region      & Region of a given country,.i.e., South Asia, Europe, etc                                     & NA\\\\\n\t population  & The population of the given country                                                          & NA\\\\\n\t age         & Individual age                                                                               & NA\\\\\n\t Q1          & Has ATM/debit card                                                                           & NA\\\\\n\t Q2          & Is the ATM connect to an account with your name?                                             & NA\\\\\n\t Q3          & Purchased with the ATM                                                                       & NA\\\\\n\t Q4          & Use of mobile or internet to make payments or send money                                     & NA\\\\\n\t Q5          & Mobile/internet to check account balance                                                     & NA\\\\\n\t Q6          & Has a credit card                                                                            & NA\\\\\n\t Q7          & Used the credit card in 12 months                                                            & NA\\\\\n\t Q8          & Money deposits to a bank account in the last 12 months                                       & NA\\\\\n\t Q9          & Money withdrawals from a bank account in the last 12 months                                  & NA\\\\\n\t Q10a        & Used the Internet in the last 12 months;- to make payments for the bills -                   & NA\\\\\n\t Q10b        & Used the Internet in the last 12 months;- to buy something online                            & NA\\\\\n\t Q11         & Savings in the last 12 months to start a business/farm                                       & NA\\\\\n\t Q12         & Savings in the last 12 months for old age                                                    & NA\\\\\n\t Q13a        & Saved the money at a bank/financial institutions                                             & NA\\\\\n\t Q13b        & Save the money at groups/clubs of any informal type                                          & NA\\\\\n\t Q14         & Has a loan from formal financial institutions to purchase land, home, or apartment           & NA\\\\\n\t Q15         & Borrowed money for health/medical purposes in the last 12 months                             & NA\\\\\n\t Q16         & Borrowed money to start/grow business or farm                                                & NA\\\\\n\t Q17a        & Borrowed money from formal financial institutions - 12 months                                & NA\\\\\n\t Q17b        & Borrowed money from friends, relatives, or family - 12 months                                & NA\\\\\n\t Q19         & Sent/given money to friend/relative                                                          & NA\\\\\n\t Q20         & Received money from friend or relative                                                       & NA\\\\\n\t Q21         & Payments for electricity, water, or trash in the last 12 months                              & NA\\\\\n\t Q22         & salary/wages in the last 12 months                                                           & NA\\\\\n\t Q23         & Employed by government or public sector -12 months                                           & NA\\\\\n\t Q24         & Received any form of financial support from the government                                   & NA\\\\\n\t Q25         & Pension in the last 12 months                                                                & NA\\\\\n\t Q26         & Received money for the sale of livestock, agricultural products, crops, produce? (12 months) & NA\\\\\n\t Q27         & Received money from your business in last 12 months                                          & NA\\\\\n\t owns\\_mobile & Owns a mobile phone                                                                          & NA\\\\\n\t Q28         & Has national ID card                                                                         & NA\\\\\n\t target      & target class                                                                                 & NA\\\\\n\\end{tabular}\n",
            "text/markdown": "\nA data.frame: 36 × 3\n\n| ID &lt;chr&gt; | Person.unique.random.identification &lt;chr&gt; | For.columns.Q1...Q28...Value.1...Yes..2...No..3.Don.t.Know.4...refused.to.answer &lt;lgl&gt; |\n|---|---|---|\n| country     | The country                                                                                  | NA |\n| region      | Region of a given country,.i.e., South Asia, Europe, etc                                     | NA |\n| population  | The population of the given country                                                          | NA |\n| age         | Individual age                                                                               | NA |\n| Q1          | Has ATM/debit card                                                                           | NA |\n| Q2          | Is the ATM connect to an account with your name?                                             | NA |\n| Q3          | Purchased with the ATM                                                                       | NA |\n| Q4          | Use of mobile or internet to make payments or send money                                     | NA |\n| Q5          | Mobile/internet to check account balance                                                     | NA |\n| Q6          | Has a credit card                                                                            | NA |\n| Q7          | Used the credit card in 12 months                                                            | NA |\n| Q8          | Money deposits to a bank account in the last 12 months                                       | NA |\n| Q9          | Money withdrawals from a bank account in the last 12 months                                  | NA |\n| Q10a        | Used the Internet in the last 12 months;- to make payments for the bills -                   | NA |\n| Q10b        | Used the Internet in the last 12 months;- to buy something online                            | NA |\n| Q11         | Savings in the last 12 months to start a business/farm                                       | NA |\n| Q12         | Savings in the last 12 months for old age                                                    | NA |\n| Q13a        | Saved the money at a bank/financial institutions                                             | NA |\n| Q13b        | Save the money at groups/clubs of any informal type                                          | NA |\n| Q14         | Has a loan from formal financial institutions to purchase land, home, or apartment           | NA |\n| Q15         | Borrowed money for health/medical purposes in the last 12 months                             | NA |\n| Q16         | Borrowed money to start/grow business or farm                                                | NA |\n| Q17a        | Borrowed money from formal financial institutions - 12 months                                | NA |\n| Q17b        | Borrowed money from friends, relatives, or family - 12 months                                | NA |\n| Q19         | Sent/given money to friend/relative                                                          | NA |\n| Q20         | Received money from friend or relative                                                       | NA |\n| Q21         | Payments for electricity, water, or trash in the last 12 months                              | NA |\n| Q22         | salary/wages in the last 12 months                                                           | NA |\n| Q23         | Employed by government or public sector -12 months                                           | NA |\n| Q24         | Received any form of financial support from the government                                   | NA |\n| Q25         | Pension in the last 12 months                                                                | NA |\n| Q26         | Received money for the sale of livestock, agricultural products, crops, produce? (12 months) | NA |\n| Q27         | Received money from your business in last 12 months                                          | NA |\n| owns_mobile | Owns a mobile phone                                                                          | NA |\n| Q28         | Has national ID card                                                                         | NA |\n| target      | target class                                                                                 | NA |\n\n",
            "text/html": [
              "<table class=\"dataframe\">\n",
              "<caption>A data.frame: 36 × 3</caption>\n",
              "<thead>\n",
              "\t<tr><th scope=col>ID</th><th scope=col>Person.unique.random.identification</th><th scope=col>For.columns.Q1...Q28...Value.1...Yes..2...No..3.Don.t.Know.4...refused.to.answer</th></tr>\n",
              "\t<tr><th scope=col>&lt;chr&gt;</th><th scope=col>&lt;chr&gt;</th><th scope=col>&lt;lgl&gt;</th></tr>\n",
              "</thead>\n",
              "<tbody>\n",
              "\t<tr><td>country    </td><td>The country                                                                                 </td><td>NA</td></tr>\n",
              "\t<tr><td>region     </td><td>Region of a given country,.i.e., South Asia, Europe, etc                                    </td><td>NA</td></tr>\n",
              "\t<tr><td>population </td><td>The population of the given country                                                         </td><td>NA</td></tr>\n",
              "\t<tr><td>age        </td><td>Individual age                                                                              </td><td>NA</td></tr>\n",
              "\t<tr><td>Q1         </td><td>Has ATM/debit card                                                                          </td><td>NA</td></tr>\n",
              "\t<tr><td>Q2         </td><td>Is the ATM connect to an account with your name?                                            </td><td>NA</td></tr>\n",
              "\t<tr><td>Q3         </td><td>Purchased with the ATM                                                                      </td><td>NA</td></tr>\n",
              "\t<tr><td>Q4         </td><td>Use of mobile or internet to make payments or send money                                    </td><td>NA</td></tr>\n",
              "\t<tr><td>Q5         </td><td>Mobile/internet to check account balance                                                    </td><td>NA</td></tr>\n",
              "\t<tr><td>Q6         </td><td>Has a credit card                                                                           </td><td>NA</td></tr>\n",
              "\t<tr><td>Q7         </td><td>Used the credit card in 12 months                                                           </td><td>NA</td></tr>\n",
              "\t<tr><td>Q8         </td><td>Money deposits to a bank account in the last 12 months                                      </td><td>NA</td></tr>\n",
              "\t<tr><td>Q9         </td><td>Money withdrawals from a bank account in the last 12 months                                 </td><td>NA</td></tr>\n",
              "\t<tr><td>Q10a       </td><td>Used the Internet in the last 12 months;- to make payments for the bills -                  </td><td>NA</td></tr>\n",
              "\t<tr><td>Q10b       </td><td>Used the Internet in the last 12 months;- to buy something online                           </td><td>NA</td></tr>\n",
              "\t<tr><td>Q11        </td><td>Savings in the last 12 months to start a business/farm                                      </td><td>NA</td></tr>\n",
              "\t<tr><td>Q12        </td><td>Savings in the last 12 months for old age                                                   </td><td>NA</td></tr>\n",
              "\t<tr><td>Q13a       </td><td>Saved the money at a bank/financial institutions                                            </td><td>NA</td></tr>\n",
              "\t<tr><td>Q13b       </td><td>Save the money at groups/clubs of any informal type                                         </td><td>NA</td></tr>\n",
              "\t<tr><td>Q14        </td><td>Has a loan from formal financial institutions to purchase land, home, or apartment          </td><td>NA</td></tr>\n",
              "\t<tr><td>Q15        </td><td>Borrowed money for health/medical purposes in the last 12 months                            </td><td>NA</td></tr>\n",
              "\t<tr><td>Q16        </td><td>Borrowed money to start/grow business or farm                                               </td><td>NA</td></tr>\n",
              "\t<tr><td>Q17a       </td><td>Borrowed money from formal financial institutions - 12 months                               </td><td>NA</td></tr>\n",
              "\t<tr><td>Q17b       </td><td>Borrowed money from friends, relatives, or family - 12 months                               </td><td>NA</td></tr>\n",
              "\t<tr><td>Q19        </td><td>Sent/given money to friend/relative                                                         </td><td>NA</td></tr>\n",
              "\t<tr><td>Q20        </td><td>Received money from friend or relative                                                      </td><td>NA</td></tr>\n",
              "\t<tr><td>Q21        </td><td>Payments for electricity, water, or trash in the last 12 months                             </td><td>NA</td></tr>\n",
              "\t<tr><td>Q22        </td><td>salary/wages in the last 12 months                                                          </td><td>NA</td></tr>\n",
              "\t<tr><td>Q23        </td><td>Employed by government or public sector -12 months                                          </td><td>NA</td></tr>\n",
              "\t<tr><td>Q24        </td><td>Received any form of financial support from the government                                  </td><td>NA</td></tr>\n",
              "\t<tr><td>Q25        </td><td>Pension in the last 12 months                                                               </td><td>NA</td></tr>\n",
              "\t<tr><td>Q26        </td><td>Received money for the sale of livestock, agricultural products, crops, produce? (12 months)</td><td>NA</td></tr>\n",
              "\t<tr><td>Q27        </td><td>Received money from your business in last 12 months                                         </td><td>NA</td></tr>\n",
              "\t<tr><td>owns_mobile</td><td>Owns a mobile phone                                                                         </td><td>NA</td></tr>\n",
              "\t<tr><td>Q28        </td><td>Has national ID card                                                                        </td><td>NA</td></tr>\n",
              "\t<tr><td>target     </td><td>target class                                                                                </td><td>NA</td></tr>\n",
              "</tbody>\n",
              "</table>\n"
            ]
          },
          "metadata": {
            "tags": []
          }
        }
      ]
    },
    {
      "cell_type": "code",
      "metadata": {
        "colab": {
          "base_uri": "https://localhost:8080/",
          "height": 67
        },
        "id": "x3eXskMVKFhP",
        "outputId": "0ba9615c-46a2-4b18-cd9e-b1c0c8a956a4"
      },
      "source": [
        "# Check the shape of the train set, test and sample submission file\n",
        "dim(train)\n",
        "dim(test)\n",
        "dim(samplesubmission)"
      ],
      "execution_count": 31,
      "outputs": [
        {
          "output_type": "display_data",
          "data": {
            "text/plain": [
              "[1] 104867     36"
            ],
            "text/latex": "\\begin{enumerate*}\n\\item 104867\n\\item 36\n\\end{enumerate*}\n",
            "text/markdown": "1. 104867\n2. 36\n\n\n",
            "text/html": [
              "<style>\n",
              ".list-inline {list-style: none; margin:0; padding: 0}\n",
              ".list-inline>li {display: inline-block}\n",
              ".list-inline>li:not(:last-child)::after {content: \"\\00b7\"; padding: 0 .5ex}\n",
              "</style>\n",
              "<ol class=list-inline><li>104867</li><li>36</li></ol>\n"
            ]
          },
          "metadata": {
            "tags": []
          }
        },
        {
          "output_type": "display_data",
          "data": {
            "text/plain": [
              "[1] 44943    35"
            ],
            "text/latex": "\\begin{enumerate*}\n\\item 44943\n\\item 35\n\\end{enumerate*}\n",
            "text/markdown": "1. 44943\n2. 35\n\n\n",
            "text/html": [
              "<style>\n",
              ".list-inline {list-style: none; margin:0; padding: 0}\n",
              ".list-inline>li {display: inline-block}\n",
              ".list-inline>li:not(:last-child)::after {content: \"\\00b7\"; padding: 0 .5ex}\n",
              "</style>\n",
              "<ol class=list-inline><li>44943</li><li>35</li></ol>\n"
            ]
          },
          "metadata": {
            "tags": []
          }
        },
        {
          "output_type": "display_data",
          "data": {
            "text/plain": [
              "[1] 44943     2"
            ],
            "text/latex": "\\begin{enumerate*}\n\\item 44943\n\\item 2\n\\end{enumerate*}\n",
            "text/markdown": "1. 44943\n2. 2\n\n\n",
            "text/html": [
              "<style>\n",
              ".list-inline {list-style: none; margin:0; padding: 0}\n",
              ".list-inline>li {display: inline-block}\n",
              ".list-inline>li:not(:last-child)::after {content: \"\\00b7\"; padding: 0 .5ex}\n",
              "</style>\n",
              "<ol class=list-inline><li>44943</li><li>2</li></ol>\n"
            ]
          },
          "metadata": {
            "tags": []
          }
        }
      ]
    },
    {
      "cell_type": "code",
      "metadata": {
        "colab": {
          "base_uri": "https://localhost:8080/",
          "height": 557
        },
        "id": "q5Co6VkQ2COJ",
        "outputId": "247afec6-e18c-4336-e535-57c1ce558b42"
      },
      "source": [
        "# Check if there any missing values in train set\n",
        "options(repr.plot.width = 15, repr.plot.height = 9)\n",
        "visdat::vis_miss(train%>%sample_frac(0.2)) + \n",
        "  labs(title = 'Percentage of Missing Values Per Column in Train Set')"
      ],
      "execution_count": 32,
      "outputs": [
        {
          "output_type": "display_data",
          "data": {
            "image/png": "[encoded data removed]",
            "text/plain": [
              "plot without title"
            ]
          },
          "metadata": {
            "tags": [],
            "image/png": {
              "width": 900,
              "height": 540
            }
          }
        }
      ]
    },
    {
      "cell_type": "code",
      "metadata": {
        "colab": {
          "base_uri": "https://localhost:8080/",
          "height": 557
        },
        "id": "M96OWyGW2ssq",
        "outputId": "926f6d53-45fe-4080-f517-f64db153fa27"
      },
      "source": [
        "# Check if there any missing values in test set\n",
        "options(repr.plot.width = 15, repr.plot.height = 9)\n",
        "visdat::vis_miss(test%>%sample_frac(0.2)) + \n",
        "  labs(title = 'Percentage of Missing Values Per Column in Test Set')"
      ],
      "execution_count": 33,
      "outputs": [
        {
          "output_type": "display_data",
          "data": {
            "image/png": "[encoded data removed]",
            "text/plain": [
              "plot without title"
            ]
          },
          "metadata": {
            "tags": [],
            "image/png": {
              "width": 900,
              "height": 540
            }
          }
        }
      ]
    },
    {
      "cell_type": "markdown",
      "metadata": {
        "id": "UOHQJxR8jsro"
      },
      "source": [
        "## Distribution of the target variable"
      ]
    },
    {
      "cell_type": "code",
      "metadata": {
        "colab": {
          "base_uri": "https://localhost:8080/",
          "height": 377
        },
        "id": "EEQAwbK5jusz",
        "outputId": "d2a222e3-c841-4973-9e33-b6d43d472f4b"
      },
      "source": [
        "options(repr.plot.width = 7, repr.plot.height = 6)\n",
        "ggplot(train, aes(x=target)) +\n",
        "  geom_bar() +\n",
        "  labs(title = \"Distribution of the target variable\")"
      ],
      "execution_count": 34,
      "outputs": [
        {
          "output_type": "display_data",
          "data": {
            "image/png": "[encoded data removed]",
            "text/plain": [
              "plot without title"
            ]
          },
          "metadata": {
            "tags": [],
            "image/png": {
              "width": 420,
              "height": 360
            }
          }
        }
      ]
    },
    {
      "cell_type": "markdown",
      "metadata": {
        "id": "buylPs7wj4w0"
      },
      "source": [
        "This shows us that the target (Can you make a payment if you were in an emergency) is fairly balanced. The majority class in this dataset are people who can make a payment incase of an emergency"
      ]
    },
    {
      "cell_type": "code",
      "metadata": {
        "colab": {
          "base_uri": "https://localhost:8080/",
          "height": 377
        },
        "id": "T1HU-WoRj7ku",
        "outputId": "474662c4-8eed-469b-c821-f3c62c1ef9bd"
      },
      "source": [
        "# Q1 - Has ATM/debit card\n",
        "options(repr.plot.width = 12, repr.plot.height = 6)\n",
        "ggplot(train, aes(x = Q1)) + \n",
        "  geom_bar() + \n",
        "  labs(title=\"Distribution of the Q1 column\")"
      ],
      "execution_count": 35,
      "outputs": [
        {
          "output_type": "display_data",
          "data": {
            "image/png": "[encoded data removed]",
            "text/plain": [
              "plot without title"
            ]
          },
          "metadata": {
            "tags": [],
            "image/png": {
              "width": 720,
              "height": 360
            }
          }
        }
      ]
    },
    {
      "cell_type": "markdown",
      "metadata": {
        "id": "POM2X5qYkHB-"
      },
      "source": [
        "This shows that most people do not own a debit or ATM card"
      ]
    },
    {
      "cell_type": "markdown",
      "metadata": {
        "id": "HdrQUu3ysIMG"
      },
      "source": [
        "## Combine train and test set for easy preprocessing "
      ]
    },
    {
      "cell_type": "code",
      "metadata": {
        "colab": {
          "base_uri": "https://localhost:8080/",
          "height": 338
        },
        "id": "U61lwNJyr7Im",
        "outputId": "0ead4b7c-b472-4e6a-98bc-5346f32f0289"
      },
      "source": [
        "# Add target column to test for rbinding\n",
        "test$target = NA\n",
        "\n",
        "# To be used in splitting\n",
        "ntrain = dim(train)[1]\n",
        "\n",
        "all_data = rbind(train, test)\n",
        "head(all_data)"
      ],
      "execution_count": 36,
      "outputs": [
        {
          "output_type": "display_data",
          "data": {
            "text/plain": [
              "  ID            country region                                            \n",
              "1 ID_0000020532 Morocco Middle East & North Africa (excluding high income)\n",
              "2 ID_0000075765 Lebanon Middle East & North Africa (excluding high income)\n",
              "3 ID_0000085491 Morocco Middle East & North Africa (excluding high income)\n",
              "4 ID_0000144505 Canada  High income: OECD                                 \n",
              "5 ID_0000214184 Mexico  Latin America & Caribbean (excluding high income) \n",
              "6 ID_0000261077 Bahrain High income: nonOECD                              \n",
              "  population age Q1 Q2 Q3 Q4 Q5 ⋯ Q21 Q22 Q23 Q24 Q25 Q26 Q27 owns_mobile Q28\n",
              "1 25550170   66  2  NA NA NA NA ⋯ 1   2   NA  1   2    2   2  1            1 \n",
              "2  4591023   44  2  NA NA  2  2 ⋯ 1   2   NA  2   2    2   1  1            1 \n",
              "3 25550170   29  1   1  1  2  2 ⋯ 1   1    2  2   2    2  NA  1            1 \n",
              "4 30491168   44  1   1  1  1  1 ⋯ 1   1    2  1   2   NA  NA  1           NA \n",
              "5 93002320   36  2  NA NA NA NA ⋯ 1   2   NA  1   2    2   2  1            1 \n",
              "6  1135982   52  1   1  1  1  1 ⋯ 1   1    1  2   2   NA  NA  1           NA \n",
              "  target\n",
              "1 0     \n",
              "2 1     \n",
              "3 0     \n",
              "4 1     \n",
              "5 1     \n",
              "6 1     "
            ],
            "text/latex": "A data.frame: 6 × 36\n\\begin{tabular}{r|lllllllllllllllllllll}\n  & ID & country & region & population & age & Q1 & Q2 & Q3 & Q4 & Q5 & ⋯ & Q21 & Q22 & Q23 & Q24 & Q25 & Q26 & Q27 & owns\\_mobile & Q28 & target\\\\\n  & <chr> & <chr> & <chr> & <dbl> & <dbl> & <int> & <dbl> & <dbl> & <dbl> & <dbl> & ⋯ & <int> & <int> & <dbl> & <int> & <int> & <dbl> & <dbl> & <dbl> & <dbl> & <int>\\\\\n\\hline\n\t1 & ID\\_0000020532 & Morocco & Middle East \\& North Africa (excluding high income) & 25550170 & 66 & 2 & NA & NA & NA & NA & ⋯ & 1 & 2 & NA & 1 & 2 &  2 &  2 & 1 &  1 & 0\\\\\n\t2 & ID\\_0000075765 & Lebanon & Middle East \\& North Africa (excluding high income) &  4591023 & 44 & 2 & NA & NA &  2 &  2 & ⋯ & 1 & 2 & NA & 2 & 2 &  2 &  1 & 1 &  1 & 1\\\\\n\t3 & ID\\_0000085491 & Morocco & Middle East \\& North Africa (excluding high income) & 25550170 & 29 & 1 &  1 &  1 &  2 &  2 & ⋯ & 1 & 1 &  2 & 2 & 2 &  2 & NA & 1 &  1 & 0\\\\\n\t4 & ID\\_0000144505 & Canada  & High income: OECD                                  & 30491168 & 44 & 1 &  1 &  1 &  1 &  1 & ⋯ & 1 & 1 &  2 & 1 & 2 & NA & NA & 1 & NA & 1\\\\\n\t5 & ID\\_0000214184 & Mexico  & Latin America \\& Caribbean (excluding high income)  & 93002320 & 36 & 2 & NA & NA & NA & NA & ⋯ & 1 & 2 & NA & 1 & 2 &  2 &  2 & 1 &  1 & 1\\\\\n\t6 & ID\\_0000261077 & Bahrain & High income: nonOECD                               &  1135982 & 52 & 1 &  1 &  1 &  1 &  1 & ⋯ & 1 & 1 &  1 & 2 & 2 & NA & NA & 1 & NA & 1\\\\\n\\end{tabular}\n",
            "text/markdown": "\nA data.frame: 6 × 36\n\n| <!--/--> | ID &lt;chr&gt; | country &lt;chr&gt; | region &lt;chr&gt; | population &lt;dbl&gt; | age &lt;dbl&gt; | Q1 &lt;int&gt; | Q2 &lt;dbl&gt; | Q3 &lt;dbl&gt; | Q4 &lt;dbl&gt; | Q5 &lt;dbl&gt; | ⋯ ⋯ | Q21 &lt;int&gt; | Q22 &lt;int&gt; | Q23 &lt;dbl&gt; | Q24 &lt;int&gt; | Q25 &lt;int&gt; | Q26 &lt;dbl&gt; | Q27 &lt;dbl&gt; | owns_mobile &lt;dbl&gt; | Q28 &lt;dbl&gt; | target &lt;int&gt; |\n|---|---|---|---|---|---|---|---|---|---|---|---|---|---|---|---|---|---|---|---|---|---|\n| 1 | ID_0000020532 | Morocco | Middle East &amp; North Africa (excluding high income) | 25550170 | 66 | 2 | NA | NA | NA | NA | ⋯ | 1 | 2 | NA | 1 | 2 |  2 |  2 | 1 |  1 | 0 |\n| 2 | ID_0000075765 | Lebanon | Middle East &amp; North Africa (excluding high income) |  4591023 | 44 | 2 | NA | NA |  2 |  2 | ⋯ | 1 | 2 | NA | 2 | 2 |  2 |  1 | 1 |  1 | 1 |\n| 3 | ID_0000085491 | Morocco | Middle East &amp; North Africa (excluding high income) | 25550170 | 29 | 1 |  1 |  1 |  2 |  2 | ⋯ | 1 | 1 |  2 | 2 | 2 |  2 | NA | 1 |  1 | 0 |\n| 4 | ID_0000144505 | Canada  | High income: OECD                                  | 30491168 | 44 | 1 |  1 |  1 |  1 |  1 | ⋯ | 1 | 1 |  2 | 1 | 2 | NA | NA | 1 | NA | 1 |\n| 5 | ID_0000214184 | Mexico  | Latin America &amp; Caribbean (excluding high income)  | 93002320 | 36 | 2 | NA | NA | NA | NA | ⋯ | 1 | 2 | NA | 1 | 2 |  2 |  2 | 1 |  1 | 1 |\n| 6 | ID_0000261077 | Bahrain | High income: nonOECD                               |  1135982 | 52 | 1 |  1 |  1 |  1 |  1 | ⋯ | 1 | 1 |  1 | 2 | 2 | NA | NA | 1 | NA | 1 |\n\n",
            "text/html": [
              "<table class=\"dataframe\">\n",
              "<caption>A data.frame: 6 × 36</caption>\n",
              "<thead>\n",
              "\t<tr><th></th><th scope=col>ID</th><th scope=col>country</th><th scope=col>region</th><th scope=col>population</th><th scope=col>age</th><th scope=col>Q1</th><th scope=col>Q2</th><th scope=col>Q3</th><th scope=col>Q4</th><th scope=col>Q5</th><th scope=col>⋯</th><th scope=col>Q21</th><th scope=col>Q22</th><th scope=col>Q23</th><th scope=col>Q24</th><th scope=col>Q25</th><th scope=col>Q26</th><th scope=col>Q27</th><th scope=col>owns_mobile</th><th scope=col>Q28</th><th scope=col>target</th></tr>\n",
              "\t<tr><th></th><th scope=col>&lt;chr&gt;</th><th scope=col>&lt;chr&gt;</th><th scope=col>&lt;chr&gt;</th><th scope=col>&lt;dbl&gt;</th><th scope=col>&lt;dbl&gt;</th><th scope=col>&lt;int&gt;</th><th scope=col>&lt;dbl&gt;</th><th scope=col>&lt;dbl&gt;</th><th scope=col>&lt;dbl&gt;</th><th scope=col>&lt;dbl&gt;</th><th scope=col>⋯</th><th scope=col>&lt;int&gt;</th><th scope=col>&lt;int&gt;</th><th scope=col>&lt;dbl&gt;</th><th scope=col>&lt;int&gt;</th><th scope=col>&lt;int&gt;</th><th scope=col>&lt;dbl&gt;</th><th scope=col>&lt;dbl&gt;</th><th scope=col>&lt;dbl&gt;</th><th scope=col>&lt;dbl&gt;</th><th scope=col>&lt;int&gt;</th></tr>\n",
              "</thead>\n",
              "<tbody>\n",
              "\t<tr><th scope=row>1</th><td>ID_0000020532</td><td>Morocco</td><td>Middle East &amp; North Africa (excluding high income)</td><td>25550170</td><td>66</td><td>2</td><td>NA</td><td>NA</td><td>NA</td><td>NA</td><td>⋯</td><td>1</td><td>2</td><td>NA</td><td>1</td><td>2</td><td> 2</td><td> 2</td><td>1</td><td> 1</td><td>0</td></tr>\n",
              "\t<tr><th scope=row>2</th><td>ID_0000075765</td><td>Lebanon</td><td>Middle East &amp; North Africa (excluding high income)</td><td> 4591023</td><td>44</td><td>2</td><td>NA</td><td>NA</td><td> 2</td><td> 2</td><td>⋯</td><td>1</td><td>2</td><td>NA</td><td>2</td><td>2</td><td> 2</td><td> 1</td><td>1</td><td> 1</td><td>1</td></tr>\n",
              "\t<tr><th scope=row>3</th><td>ID_0000085491</td><td>Morocco</td><td>Middle East &amp; North Africa (excluding high income)</td><td>25550170</td><td>29</td><td>1</td><td> 1</td><td> 1</td><td> 2</td><td> 2</td><td>⋯</td><td>1</td><td>1</td><td> 2</td><td>2</td><td>2</td><td> 2</td><td>NA</td><td>1</td><td> 1</td><td>0</td></tr>\n",
              "\t<tr><th scope=row>4</th><td>ID_0000144505</td><td>Canada </td><td>High income: OECD                                 </td><td>30491168</td><td>44</td><td>1</td><td> 1</td><td> 1</td><td> 1</td><td> 1</td><td>⋯</td><td>1</td><td>1</td><td> 2</td><td>1</td><td>2</td><td>NA</td><td>NA</td><td>1</td><td>NA</td><td>1</td></tr>\n",
              "\t<tr><th scope=row>5</th><td>ID_0000214184</td><td>Mexico </td><td>Latin America &amp; Caribbean (excluding high income) </td><td>93002320</td><td>36</td><td>2</td><td>NA</td><td>NA</td><td>NA</td><td>NA</td><td>⋯</td><td>1</td><td>2</td><td>NA</td><td>1</td><td>2</td><td> 2</td><td> 2</td><td>1</td><td> 1</td><td>1</td></tr>\n",
              "\t<tr><th scope=row>6</th><td>ID_0000261077</td><td>Bahrain</td><td>High income: nonOECD                              </td><td> 1135982</td><td>52</td><td>1</td><td> 1</td><td> 1</td><td> 1</td><td> 1</td><td>⋯</td><td>1</td><td>1</td><td> 1</td><td>2</td><td>2</td><td>NA</td><td>NA</td><td>1</td><td>NA</td><td>1</td></tr>\n",
              "</tbody>\n",
              "</table>\n"
            ]
          },
          "metadata": {
            "tags": []
          }
        }
      ]
    },
    {
      "cell_type": "code",
      "metadata": {
        "colab": {
          "base_uri": "https://localhost:8080/",
          "height": 601
        },
        "id": "w8z9A9C14Bwn",
        "outputId": "6b835787-8c10-44b9-9151-7fb58d4d64c8"
      },
      "source": [
        "# Total missing values\n",
        "all_data %>%\n",
        "  gather(key = \"key\", value = \"val\") %>%\n",
        "  mutate(is.missing = is.na(val)) %>%\n",
        "  group_by(key, is.missing) %>%\n",
        "  summarise(num.missing = n()) %>%\n",
        "  filter(is.missing==T) %>%\n",
        "  select(-is.missing) %>%\n",
        "  arrange(desc(num.missing))"
      ],
      "execution_count": 37,
      "outputs": [
        {
          "output_type": "stream",
          "text": [
            "`summarise()` has grouped output by 'key'. You can override using the `.groups` argument.\n",
            "\n"
          ],
          "name": "stderr"
        },
        {
          "output_type": "display_data",
          "data": {
            "text/plain": [
              "   key         num.missing\n",
              "1  Q7          120295     \n",
              "2  Q23          96230     \n",
              "3  Q3           85248     \n",
              "4  Q2           81673     \n",
              "5  Q4           67806     \n",
              "6  Q5           67806     \n",
              "7  Q27          66275     \n",
              "8  Q8           65538     \n",
              "9  Q9           65538     \n",
              "10 target       44943     \n",
              "11 Q28          44438     \n",
              "12 Q19          34604     \n",
              "13 Q20          34604     \n",
              "14 Q26          34604     \n",
              "15 age            411     \n",
              "16 owns_mobile      2     "
            ],
            "text/latex": "A grouped\\_df: 16 × 2\n\\begin{tabular}{ll}\n key & num.missing\\\\\n <chr> & <int>\\\\\n\\hline\n\t Q7          & 120295\\\\\n\t Q23         &  96230\\\\\n\t Q3          &  85248\\\\\n\t Q2          &  81673\\\\\n\t Q4          &  67806\\\\\n\t Q5          &  67806\\\\\n\t Q27         &  66275\\\\\n\t Q8          &  65538\\\\\n\t Q9          &  65538\\\\\n\t target      &  44943\\\\\n\t Q28         &  44438\\\\\n\t Q19         &  34604\\\\\n\t Q20         &  34604\\\\\n\t Q26         &  34604\\\\\n\t age         &    411\\\\\n\t owns\\_mobile &      2\\\\\n\\end{tabular}\n",
            "text/markdown": "\nA grouped_df: 16 × 2\n\n| key &lt;chr&gt; | num.missing &lt;int&gt; |\n|---|---|\n| Q7          | 120295 |\n| Q23         |  96230 |\n| Q3          |  85248 |\n| Q2          |  81673 |\n| Q4          |  67806 |\n| Q5          |  67806 |\n| Q27         |  66275 |\n| Q8          |  65538 |\n| Q9          |  65538 |\n| target      |  44943 |\n| Q28         |  44438 |\n| Q19         |  34604 |\n| Q20         |  34604 |\n| Q26         |  34604 |\n| age         |    411 |\n| owns_mobile |      2 |\n\n",
            "text/html": [
              "<table class=\"dataframe\">\n",
              "<caption>A grouped_df: 16 × 2</caption>\n",
              "<thead>\n",
              "\t<tr><th scope=col>key</th><th scope=col>num.missing</th></tr>\n",
              "\t<tr><th scope=col>&lt;chr&gt;</th><th scope=col>&lt;int&gt;</th></tr>\n",
              "</thead>\n",
              "<tbody>\n",
              "\t<tr><td>Q7         </td><td>120295</td></tr>\n",
              "\t<tr><td>Q23        </td><td> 96230</td></tr>\n",
              "\t<tr><td>Q3         </td><td> 85248</td></tr>\n",
              "\t<tr><td>Q2         </td><td> 81673</td></tr>\n",
              "\t<tr><td>Q4         </td><td> 67806</td></tr>\n",
              "\t<tr><td>Q5         </td><td> 67806</td></tr>\n",
              "\t<tr><td>Q27        </td><td> 66275</td></tr>\n",
              "\t<tr><td>Q8         </td><td> 65538</td></tr>\n",
              "\t<tr><td>Q9         </td><td> 65538</td></tr>\n",
              "\t<tr><td>target     </td><td> 44943</td></tr>\n",
              "\t<tr><td>Q28        </td><td> 44438</td></tr>\n",
              "\t<tr><td>Q19        </td><td> 34604</td></tr>\n",
              "\t<tr><td>Q20        </td><td> 34604</td></tr>\n",
              "\t<tr><td>Q26        </td><td> 34604</td></tr>\n",
              "\t<tr><td>age        </td><td>   411</td></tr>\n",
              "\t<tr><td>owns_mobile</td><td>     2</td></tr>\n",
              "</tbody>\n",
              "</table>\n"
            ]
          },
          "metadata": {
            "tags": []
          }
        }
      ]
    },
    {
      "cell_type": "code",
      "metadata": {
        "colab": {
          "base_uri": "https://localhost:8080/"
        },
        "id": "If99y3aNswxw",
        "outputId": "bf743b57-1c22-486f-89ed-8718ee8c44b5"
      },
      "source": [
        "# Check the datatypes of each column\n",
        "glimpse(all_data)"
      ],
      "execution_count": 38,
      "outputs": [
        {
          "output_type": "stream",
          "text": [
            "Rows: 149,810\n",
            "Columns: 36\n",
            "$ ID          \u001b[3m\u001b[90m<chr>\u001b[39m\u001b[23m \"ID_0000020532\", \"ID_0000075765\", \"ID_0000085491\", \"ID_000…\n",
            "$ country     \u001b[3m\u001b[90m<chr>\u001b[39m\u001b[23m \"Morocco\", \"Lebanon\", \"Morocco\", \"Canada\", \"Mexico\", \"Bahr…\n",
            "$ region      \u001b[3m\u001b[90m<chr>\u001b[39m\u001b[23m \"Middle East & North Africa (excluding high income)\", \"Mid…\n",
            "$ population  \u001b[3m\u001b[90m<dbl>\u001b[39m\u001b[23m 25550170.0, 4591023.0, 25550170.0, 30491168.0, 93002320.0,…\n",
            "$ age         \u001b[3m\u001b[90m<dbl>\u001b[39m\u001b[23m 66, 44, 29, 44, 36, 52, 61, 42, 41, 65, 31, 62, 54, 35, 57…\n",
            "$ Q1          \u001b[3m\u001b[90m<int>\u001b[39m\u001b[23m 2, 2, 1, 1, 2, 1, 1, 1, 1, 2, 1, 1, 1, 2, 2, 1, 2, 2, 1, 1…\n",
            "$ Q2          \u001b[3m\u001b[90m<dbl>\u001b[39m\u001b[23m NA, NA, 1, 1, NA, 1, 1, 1, 1, NA, 1, 1, 1, NA, NA, 1, NA, …\n",
            "$ Q3          \u001b[3m\u001b[90m<dbl>\u001b[39m\u001b[23m NA, NA, 1, 1, NA, 1, 1, 1, 1, NA, 1, 1, 1, NA, NA, 1, NA, …\n",
            "$ Q4          \u001b[3m\u001b[90m<dbl>\u001b[39m\u001b[23m NA, 2, 2, 1, NA, 1, 1, 1, 2, 2, 1, 2, 2, NA, NA, 1, 2, NA,…\n",
            "$ Q5          \u001b[3m\u001b[90m<dbl>\u001b[39m\u001b[23m NA, 2, 2, 1, NA, 1, 1, 1, 1, 2, 1, 1, 2, NA, NA, 1, 2, NA,…\n",
            "$ Q6          \u001b[3m\u001b[90m<int>\u001b[39m\u001b[23m 2, 2, 2, 2, 2, 2, 1, 1, 1, 2, 2, 1, 2, 2, 2, 2, 2, 2, 1, 1…\n",
            "$ Q7          \u001b[3m\u001b[90m<dbl>\u001b[39m\u001b[23m NA, NA, NA, NA, NA, NA, 1, 1, 1, NA, NA, 1, NA, NA, NA, NA…\n",
            "$ Q8          \u001b[3m\u001b[90m<dbl>\u001b[39m\u001b[23m NA, 1, 1, 1, NA, 1, 1, 1, 1, 1, 1, 1, 1, NA, NA, 1, 1, NA,…\n",
            "$ Q9          \u001b[3m\u001b[90m<dbl>\u001b[39m\u001b[23m NA, 1, 1, 1, NA, 1, 1, 1, 1, 1, 1, 1, 1, NA, NA, 1, 1, NA,…\n",
            "$ Q10a        \u001b[3m\u001b[90m<int>\u001b[39m\u001b[23m 2, 2, 2, 1, 1, 1, 1, 2, 1, 2, 1, 2, 2, 2, 2, 2, 2, 2, 1, 2…\n",
            "$ Q10b        \u001b[3m\u001b[90m<int>\u001b[39m\u001b[23m 2, 2, 2, 1, 2, 2, 1, 1, 2, 2, 1, 1, 2, 2, 2, 1, 2, 2, 1, 1…\n",
            "$ Q11         \u001b[3m\u001b[90m<int>\u001b[39m\u001b[23m 2, 2, 2, 2, 2, 2, 1, 1, 2, 2, 2, 2, 2, 2, 2, 2, 2, 2, 2, 2…\n",
            "$ Q12         \u001b[3m\u001b[90m<int>\u001b[39m\u001b[23m 2, 2, 2, 1, 2, 2, 1, 1, 1, 2, 2, 2, 3, 2, 2, 2, 1, 2, 2, 1…\n",
            "$ Q13a        \u001b[3m\u001b[90m<int>\u001b[39m\u001b[23m 2, 1, 2, 1, 2, 2, 1, 1, 1, 2, 2, 2, 2, 2, 2, 2, 1, 2, 2, 1…\n",
            "$ Q14         \u001b[3m\u001b[90m<int>\u001b[39m\u001b[23m 2, 2, 2, 2, 2, 1, 2, 2, 1, 2, 2, 2, 2, 2, 2, 2, 2, 2, 1, 2…\n",
            "$ Q15         \u001b[3m\u001b[90m<int>\u001b[39m\u001b[23m 1, 2, 2, 2, 2, 2, 2, 2, 2, 2, 2, 2, 2, 2, 1, 1, 2, 1, 2, 2…\n",
            "$ Q16         \u001b[3m\u001b[90m<int>\u001b[39m\u001b[23m 2, 2, 2, 2, 2, 2, 2, 2, 2, 2, 2, 2, 2, 2, 2, 2, 2, 2, 2, 2…\n",
            "$ Q17a        \u001b[3m\u001b[90m<int>\u001b[39m\u001b[23m 2, 1, 2, 1, 2, 2, 2, 2, 2, 2, 2, 2, 2, 2, 2, 2, 2, 2, 2, 2…\n",
            "$ Q17b        \u001b[3m\u001b[90m<int>\u001b[39m\u001b[23m 1, 2, 2, 2, 2, 2, 2, 2, 2, 2, 1, 2, 1, 2, 1, 1, 2, 1, 2, 2…\n",
            "$ Q19         \u001b[3m\u001b[90m<dbl>\u001b[39m\u001b[23m 2, 2, 2, NA, 2, NA, NA, NA, NA, 2, 2, 2, 2, 2, NA, 2, 2, 2…\n",
            "$ Q20         \u001b[3m\u001b[90m<dbl>\u001b[39m\u001b[23m 1, 2, 2, NA, 2, NA, NA, NA, NA, 2, 1, 2, 2, 2, NA, 2, 2, 2…\n",
            "$ Q21         \u001b[3m\u001b[90m<int>\u001b[39m\u001b[23m 1, 1, 1, 1, 1, 1, 1, 1, 1, 1, 1, 1, 2, 1, 1, 1, 1, 1, 1, 1…\n",
            "$ Q22         \u001b[3m\u001b[90m<int>\u001b[39m\u001b[23m 2, 2, 1, 1, 2, 1, 2, 2, 1, 2, 1, 1, 1, 1, 2, 2, 2, 2, 1, 1…\n",
            "$ Q23         \u001b[3m\u001b[90m<dbl>\u001b[39m\u001b[23m NA, NA, 2, 2, NA, 1, NA, NA, 1, NA, 2, 2, 2, 2, NA, NA, NA…\n",
            "$ Q24         \u001b[3m\u001b[90m<int>\u001b[39m\u001b[23m 1, 2, 2, 1, 1, 2, 2, 2, 1, 2, 2, 2, 2, 2, 2, 2, 2, 1, 2, 2…\n",
            "$ Q25         \u001b[3m\u001b[90m<int>\u001b[39m\u001b[23m 2, 2, 2, 2, 2, 2, 2, 2, 2, 1, 2, 2, 2, 2, 2, 2, 1, 1, 2, 2…\n",
            "$ Q26         \u001b[3m\u001b[90m<dbl>\u001b[39m\u001b[23m 2, 2, 2, NA, 2, NA, NA, NA, NA, 2, 2, 2, 2, 2, NA, 2, 2, 2…\n",
            "$ Q27         \u001b[3m\u001b[90m<dbl>\u001b[39m\u001b[23m 2, 1, NA, NA, 2, NA, 1, 1, NA, 2, NA, NA, NA, NA, 2, 2, 2,…\n",
            "$ owns_mobile \u001b[3m\u001b[90m<dbl>\u001b[39m\u001b[23m 1, 1, 1, 1, 1, 1, 1, 1, 1, 1, 1, 1, 1, 1, 1, 1, 1, 1, 1, 1…\n",
            "$ Q28         \u001b[3m\u001b[90m<dbl>\u001b[39m\u001b[23m 1, 1, 1, NA, 1, NA, NA, NA, NA, 1, 1, 1, 1, 1, NA, 1, 1, N…\n",
            "$ target      \u001b[3m\u001b[90m<int>\u001b[39m\u001b[23m 0, 1, 0, 1, 1, 1, 1, 1, 1, 1, 1, 1, 1, 0, 0, 0, 0, 0, 1, 1…\n"
          ],
          "name": "stdout"
        }
      ]
    },
    {
      "cell_type": "code",
      "metadata": {
        "colab": {
          "base_uri": "https://localhost:8080/"
        },
        "id": "e1qBl3o4swut",
        "outputId": "1fa65810-f0ca-4521-a70f-3b0a4128457d"
      },
      "source": [
        "# Change each column to its appriopriate datatype\n",
        "num_cols = c('age', 'population')\n",
        "cat_cols = c('country', 'region', 'owns_mobile', 'Q1', 'Q2', 'Q3', 'Q4', 'Q5', 'Q6', 'Q7', 'Q8', 'Q9', 'Q10a', 'Q10b',\n",
        "             'Q11', 'Q12', 'Q13a', 'Q14', 'Q15', 'Q16', 'Q17a', 'Q17b', 'Q19', 'Q20', 'Q21', 'Q22', 'Q23', 'Q24', 'Q25', 'Q26', 'Q27', 'Q28')\n",
        "\n",
        "all_data[cat_cols] = lapply(all_data[cat_cols], as.factor)\n",
        "\n",
        "# Confirm whether the changes have been applied successfully\n",
        "glimpse(all_data)"
      ],
      "execution_count": 39,
      "outputs": [
        {
          "output_type": "stream",
          "text": [
            "Rows: 149,810\n",
            "Columns: 36\n",
            "$ ID          \u001b[3m\u001b[90m<chr>\u001b[39m\u001b[23m \"ID_0000020532\", \"ID_0000075765\", \"ID_0000085491\", \"ID_000…\n",
            "$ country     \u001b[3m\u001b[90m<fct>\u001b[39m\u001b[23m \"Morocco\", \"Lebanon\", \"Morocco\", \"Canada\", \"Mexico\", \"Bahr…\n",
            "$ region      \u001b[3m\u001b[90m<fct>\u001b[39m\u001b[23m Middle East & North Africa (excluding high income), Middle…\n",
            "$ population  \u001b[3m\u001b[90m<dbl>\u001b[39m\u001b[23m 25550170.0, 4591023.0, 25550170.0, 30491168.0, 93002320.0,…\n",
            "$ age         \u001b[3m\u001b[90m<dbl>\u001b[39m\u001b[23m 66, 44, 29, 44, 36, 52, 61, 42, 41, 65, 31, 62, 54, 35, 57…\n",
            "$ Q1          \u001b[3m\u001b[90m<fct>\u001b[39m\u001b[23m 2, 2, 1, 1, 2, 1, 1, 1, 1, 2, 1, 1, 1, 2, 2, 1, 2, 2, 1, 1…\n",
            "$ Q2          \u001b[3m\u001b[90m<fct>\u001b[39m\u001b[23m NA, NA, 1, 1, NA, 1, 1, 1, 1, NA, 1, 1, 1, NA, NA, 1, NA, …\n",
            "$ Q3          \u001b[3m\u001b[90m<fct>\u001b[39m\u001b[23m NA, NA, 1, 1, NA, 1, 1, 1, 1, NA, 1, 1, 1, NA, NA, 1, NA, …\n",
            "$ Q4          \u001b[3m\u001b[90m<fct>\u001b[39m\u001b[23m NA, 2, 2, 1, NA, 1, 1, 1, 2, 2, 1, 2, 2, NA, NA, 1, 2, NA,…\n",
            "$ Q5          \u001b[3m\u001b[90m<fct>\u001b[39m\u001b[23m NA, 2, 2, 1, NA, 1, 1, 1, 1, 2, 1, 1, 2, NA, NA, 1, 2, NA,…\n",
            "$ Q6          \u001b[3m\u001b[90m<fct>\u001b[39m\u001b[23m 2, 2, 2, 2, 2, 2, 1, 1, 1, 2, 2, 1, 2, 2, 2, 2, 2, 2, 1, 1…\n",
            "$ Q7          \u001b[3m\u001b[90m<fct>\u001b[39m\u001b[23m NA, NA, NA, NA, NA, NA, 1, 1, 1, NA, NA, 1, NA, NA, NA, NA…\n",
            "$ Q8          \u001b[3m\u001b[90m<fct>\u001b[39m\u001b[23m NA, 1, 1, 1, NA, 1, 1, 1, 1, 1, 1, 1, 1, NA, NA, 1, 1, NA,…\n",
            "$ Q9          \u001b[3m\u001b[90m<fct>\u001b[39m\u001b[23m NA, 1, 1, 1, NA, 1, 1, 1, 1, 1, 1, 1, 1, NA, NA, 1, 1, NA,…\n",
            "$ Q10a        \u001b[3m\u001b[90m<fct>\u001b[39m\u001b[23m 2, 2, 2, 1, 1, 1, 1, 2, 1, 2, 1, 2, 2, 2, 2, 2, 2, 2, 1, 2…\n",
            "$ Q10b        \u001b[3m\u001b[90m<fct>\u001b[39m\u001b[23m 2, 2, 2, 1, 2, 2, 1, 1, 2, 2, 1, 1, 2, 2, 2, 1, 2, 2, 1, 1…\n",
            "$ Q11         \u001b[3m\u001b[90m<fct>\u001b[39m\u001b[23m 2, 2, 2, 2, 2, 2, 1, 1, 2, 2, 2, 2, 2, 2, 2, 2, 2, 2, 2, 2…\n",
            "$ Q12         \u001b[3m\u001b[90m<fct>\u001b[39m\u001b[23m 2, 2, 2, 1, 2, 2, 1, 1, 1, 2, 2, 2, 3, 2, 2, 2, 1, 2, 2, 1…\n",
            "$ Q13a        \u001b[3m\u001b[90m<fct>\u001b[39m\u001b[23m 2, 1, 2, 1, 2, 2, 1, 1, 1, 2, 2, 2, 2, 2, 2, 2, 1, 2, 2, 1…\n",
            "$ Q14         \u001b[3m\u001b[90m<fct>\u001b[39m\u001b[23m 2, 2, 2, 2, 2, 1, 2, 2, 1, 2, 2, 2, 2, 2, 2, 2, 2, 2, 1, 2…\n",
            "$ Q15         \u001b[3m\u001b[90m<fct>\u001b[39m\u001b[23m 1, 2, 2, 2, 2, 2, 2, 2, 2, 2, 2, 2, 2, 2, 1, 1, 2, 1, 2, 2…\n",
            "$ Q16         \u001b[3m\u001b[90m<fct>\u001b[39m\u001b[23m 2, 2, 2, 2, 2, 2, 2, 2, 2, 2, 2, 2, 2, 2, 2, 2, 2, 2, 2, 2…\n",
            "$ Q17a        \u001b[3m\u001b[90m<fct>\u001b[39m\u001b[23m 2, 1, 2, 1, 2, 2, 2, 2, 2, 2, 2, 2, 2, 2, 2, 2, 2, 2, 2, 2…\n",
            "$ Q17b        \u001b[3m\u001b[90m<fct>\u001b[39m\u001b[23m 1, 2, 2, 2, 2, 2, 2, 2, 2, 2, 1, 2, 1, 2, 1, 1, 2, 1, 2, 2…\n",
            "$ Q19         \u001b[3m\u001b[90m<fct>\u001b[39m\u001b[23m 2, 2, 2, NA, 2, NA, NA, NA, NA, 2, 2, 2, 2, 2, NA, 2, 2, 2…\n",
            "$ Q20         \u001b[3m\u001b[90m<fct>\u001b[39m\u001b[23m 1, 2, 2, NA, 2, NA, NA, NA, NA, 2, 1, 2, 2, 2, NA, 2, 2, 2…\n",
            "$ Q21         \u001b[3m\u001b[90m<fct>\u001b[39m\u001b[23m 1, 1, 1, 1, 1, 1, 1, 1, 1, 1, 1, 1, 2, 1, 1, 1, 1, 1, 1, 1…\n",
            "$ Q22         \u001b[3m\u001b[90m<fct>\u001b[39m\u001b[23m 2, 2, 1, 1, 2, 1, 2, 2, 1, 2, 1, 1, 1, 1, 2, 2, 2, 2, 1, 1…\n",
            "$ Q23         \u001b[3m\u001b[90m<fct>\u001b[39m\u001b[23m NA, NA, 2, 2, NA, 1, NA, NA, 1, NA, 2, 2, 2, 2, NA, NA, NA…\n",
            "$ Q24         \u001b[3m\u001b[90m<fct>\u001b[39m\u001b[23m 1, 2, 2, 1, 1, 2, 2, 2, 1, 2, 2, 2, 2, 2, 2, 2, 2, 1, 2, 2…\n",
            "$ Q25         \u001b[3m\u001b[90m<fct>\u001b[39m\u001b[23m 2, 2, 2, 2, 2, 2, 2, 2, 2, 1, 2, 2, 2, 2, 2, 2, 1, 1, 2, 2…\n",
            "$ Q26         \u001b[3m\u001b[90m<fct>\u001b[39m\u001b[23m 2, 2, 2, NA, 2, NA, NA, NA, NA, 2, 2, 2, 2, 2, NA, 2, 2, 2…\n",
            "$ Q27         \u001b[3m\u001b[90m<fct>\u001b[39m\u001b[23m 2, 1, NA, NA, 2, NA, 1, 1, NA, 2, NA, NA, NA, NA, 2, 2, 2,…\n",
            "$ owns_mobile \u001b[3m\u001b[90m<fct>\u001b[39m\u001b[23m 1, 1, 1, 1, 1, 1, 1, 1, 1, 1, 1, 1, 1, 1, 1, 1, 1, 1, 1, 1…\n",
            "$ Q28         \u001b[3m\u001b[90m<fct>\u001b[39m\u001b[23m 1, 1, 1, NA, 1, NA, NA, NA, NA, 1, 1, 1, 1, 1, NA, 1, 1, N…\n",
            "$ target      \u001b[3m\u001b[90m<int>\u001b[39m\u001b[23m 0, 1, 0, 1, 1, 1, 1, 1, 1, 1, 1, 1, 1, 0, 0, 0, 0, 0, 1, 1…\n"
          ],
          "name": "stdout"
        }
      ]
    },
    {
      "cell_type": "markdown",
      "metadata": {
        "id": "SjV8vX6Q__r9"
      },
      "source": [
        "### Number of unique values per categorical column"
      ]
    },
    {
      "cell_type": "code",
      "metadata": {
        "colab": {
          "base_uri": "https://localhost:8080/"
        },
        "id": "ELs0HuR220D-",
        "outputId": "bb24aaf8-f9c1-4412-aaff-2de0ecdd5914"
      },
      "source": [
        "# Check unique values for each categorical column\n",
        "for (col in cat_cols){\n",
        "  print(paste0(col, ':  ', length(unique(all_data[[col]]))))\n",
        "}"
      ],
      "execution_count": 40,
      "outputs": [
        {
          "output_type": "stream",
          "text": [
            "[1] \"country:  144\"\n",
            "[1] \"region:  9\"\n",
            "[1] \"owns_mobile:  5\"\n",
            "[1] \"Q1:  4\"\n",
            "[1] \"Q2:  5\"\n",
            "[1] \"Q3:  5\"\n",
            "[1] \"Q4:  5\"\n",
            "[1] \"Q5:  5\"\n",
            "[1] \"Q6:  4\"\n",
            "[1] \"Q7:  5\"\n",
            "[1] \"Q8:  5\"\n",
            "[1] \"Q9:  5\"\n",
            "[1] \"Q10a:  4\"\n",
            "[1] \"Q10b:  4\"\n",
            "[1] \"Q11:  4\"\n",
            "[1] \"Q12:  4\"\n",
            "[1] \"Q13a:  4\"\n",
            "[1] \"Q14:  4\"\n",
            "[1] \"Q15:  4\"\n",
            "[1] \"Q16:  4\"\n",
            "[1] \"Q17a:  4\"\n",
            "[1] \"Q17b:  4\"\n",
            "[1] \"Q19:  5\"\n",
            "[1] \"Q20:  5\"\n",
            "[1] \"Q21:  4\"\n",
            "[1] \"Q22:  4\"\n",
            "[1] \"Q23:  5\"\n",
            "[1] \"Q24:  4\"\n",
            "[1] \"Q25:  4\"\n",
            "[1] \"Q26:  5\"\n",
            "[1] \"Q27:  5\"\n",
            "[1] \"Q28:  5\"\n"
          ],
          "name": "stdout"
        }
      ]
    },
    {
      "cell_type": "markdown",
      "metadata": {
        "id": "fPgrkg49BXgl"
      },
      "source": [
        "### Filling in missing values\n",
        "#### Missing values can be filled using different strategies\n",
        " - Mean\n",
        " - Max\n",
        " - Min\n",
        " - Mode\n",
        " -Drop observations with missing values\n",
        " - [Mice - Multivariate Imputation by Chained Equations](https://cran.r-project.org/web/packages/mice/index.html)\n",
        " - Others... do more reasearch"
      ]
    },
    {
      "cell_type": "code",
      "metadata": {
        "colab": {
          "base_uri": "https://localhost:8080/",
          "height": 178
        },
        "id": "EasXRdiO20Aj",
        "outputId": "c322bcd3-0f47-430f-a6c5-d2748d94f602"
      },
      "source": [
        "# Fill in missing values \n",
        "# Function to get mode\n",
        "getmode <- function(x) { \n",
        "      ux <- sort(unique(x))\n",
        "      ux[which.max(tabulate(match(x, ux)))] \n",
        "}\n",
        "\n",
        "# Fill cat cols with mode\n",
        "all_data[cat_cols] = lapply(all_data[cat_cols], function(x)\n",
        "                    replace(x, is.na(x), getmode(x[!is.na(x)])))\n",
        "\n",
        "# Fill age with mode\n",
        "all_data[c(\"age\")] = lapply(all_data[c(\"age\")], function(x)\n",
        "                    replace(x, is.na(x), getmode(x[!is.na(x)])))                    \n",
        "\n",
        "# Confirm that there aren't any missing values\n",
        "all_data[, -which(names(all_data) %in% c(\"target\"))] %>%\n",
        "  gather(key = \"key\", value = \"val\") %>%\n",
        "  mutate(is.missing = is.na(val)) %>%\n",
        "  group_by(key, is.missing) %>%\n",
        "  summarise(num.missing = n()) %>%\n",
        "  filter(is.missing==T) %>%\n",
        "  select(-is.missing) %>%\n",
        "  arrange(desc(num.missing))"
      ],
      "execution_count": 41,
      "outputs": [
        {
          "output_type": "stream",
          "text": [
            "Warning message:\n",
            "“attributes are not identical across measure variables;\n",
            "they will be dropped”\n",
            "`summarise()` has grouped output by 'key'. You can override using the `.groups` argument.\n",
            "\n"
          ],
          "name": "stderr"
        },
        {
          "output_type": "display_data",
          "data": {
            "text/plain": [
              "     key num.missing"
            ],
            "text/latex": "A grouped\\_df: 0 × 2\n\\begin{tabular}{ll}\n key & num.missing\\\\\n <chr> & <int>\\\\\n\\hline\n\\end{tabular}\n",
            "text/markdown": "\nA grouped_df: 0 × 2\n\n| key &lt;chr&gt; | num.missing &lt;int&gt; |\n|---|---|\n\n",
            "text/html": [
              "<table class=\"dataframe\">\n",
              "<caption>A grouped_df: 0 × 2</caption>\n",
              "<thead>\n",
              "\t<tr><th scope=col>key</th><th scope=col>num.missing</th></tr>\n",
              "\t<tr><th scope=col>&lt;chr&gt;</th><th scope=col>&lt;int&gt;</th></tr>\n",
              "</thead>\n",
              "<tbody>\n",
              "</tbody>\n",
              "</table>\n"
            ]
          },
          "metadata": {
            "tags": []
          }
        }
      ]
    },
    {
      "cell_type": "markdown",
      "metadata": {
        "id": "X_5P8n6RgsdR"
      },
      "source": [
        "### Feature Engineering\n",
        "#### Try different strategies of dealing with categorical variables\n",
        " - One hot encoding\n",
        " - Label encoding\n",
        " - Target encoding\n",
        " - Reduce the number of unique values..."
      ]
    },
    {
      "cell_type": "code",
      "metadata": {
        "colab": {
          "base_uri": "https://localhost:8080/",
          "height": 338
        },
        "id": "wdxRMgt-oWq_",
        "outputId": "6b9c16e5-9f60-42ca-cb77-877cbb555467"
      },
      "source": [
        "all_data = fastDummies::dummy_cols(all_data, cat_cols)\n",
        "all_data = all_data[!sapply(all_data, function(x) class(x) == \"AsIs\")]\n",
        "\n",
        "head(all_data)"
      ],
      "execution_count": 42,
      "outputs": [
        {
          "output_type": "display_data",
          "data": {
            "text/plain": [
              "  ID            country region                                            \n",
              "1 ID_0000020532 Morocco Middle East & North Africa (excluding high income)\n",
              "2 ID_0000075765 Lebanon Middle East & North Africa (excluding high income)\n",
              "3 ID_0000085491 Morocco Middle East & North Africa (excluding high income)\n",
              "4 ID_0000144505 Canada  High income: OECD                                 \n",
              "5 ID_0000214184 Mexico  Latin America & Caribbean (excluding high income) \n",
              "6 ID_0000261077 Bahrain High income: nonOECD                              \n",
              "  population age Q1 Q2 Q3 Q4 Q5 ⋯ Q26_3 Q26_4 Q27_1 Q27_2 Q27_3 Q27_4 Q28_1\n",
              "1 25550170   66  2  1  1  2  2  ⋯ 0     0     0     1     0     0     1    \n",
              "2  4591023   44  2  1  1  2  2  ⋯ 0     0     1     0     0     0     1    \n",
              "3 25550170   29  1  1  1  2  2  ⋯ 0     0     0     1     0     0     1    \n",
              "4 30491168   44  1  1  1  1  1  ⋯ 0     0     0     1     0     0     1    \n",
              "5 93002320   36  2  1  1  2  2  ⋯ 0     0     0     1     0     0     1    \n",
              "6  1135982   52  1  1  1  1  1  ⋯ 0     0     0     1     0     0     1    \n",
              "  Q28_2 Q28_3 Q28_4\n",
              "1 0     0     0    \n",
              "2 0     0     0    \n",
              "3 0     0     0    \n",
              "4 0     0     0    \n",
              "5 0     0     0    \n",
              "6 0     0     0    "
            ],
            "text/latex": "A data.frame: 6 × 309\n\\begin{tabular}{r|lllllllllllllllllllll}\n  & ID & country & region & population & age & Q1 & Q2 & Q3 & Q4 & Q5 & ⋯ & Q26\\_3 & Q26\\_4 & Q27\\_1 & Q27\\_2 & Q27\\_3 & Q27\\_4 & Q28\\_1 & Q28\\_2 & Q28\\_3 & Q28\\_4\\\\\n  & <chr> & <fct> & <fct> & <dbl> & <dbl> & <fct> & <fct> & <fct> & <fct> & <fct> & ⋯ & <int> & <int> & <int> & <int> & <int> & <int> & <int> & <int> & <int> & <int>\\\\\n\\hline\n\t1 & ID\\_0000020532 & Morocco & Middle East \\& North Africa (excluding high income) & 25550170 & 66 & 2 & 1 & 1 & 2 & 2 & ⋯ & 0 & 0 & 0 & 1 & 0 & 0 & 1 & 0 & 0 & 0\\\\\n\t2 & ID\\_0000075765 & Lebanon & Middle East \\& North Africa (excluding high income) &  4591023 & 44 & 2 & 1 & 1 & 2 & 2 & ⋯ & 0 & 0 & 1 & 0 & 0 & 0 & 1 & 0 & 0 & 0\\\\\n\t3 & ID\\_0000085491 & Morocco & Middle East \\& North Africa (excluding high income) & 25550170 & 29 & 1 & 1 & 1 & 2 & 2 & ⋯ & 0 & 0 & 0 & 1 & 0 & 0 & 1 & 0 & 0 & 0\\\\\n\t4 & ID\\_0000144505 & Canada  & High income: OECD                                  & 30491168 & 44 & 1 & 1 & 1 & 1 & 1 & ⋯ & 0 & 0 & 0 & 1 & 0 & 0 & 1 & 0 & 0 & 0\\\\\n\t5 & ID\\_0000214184 & Mexico  & Latin America \\& Caribbean (excluding high income)  & 93002320 & 36 & 2 & 1 & 1 & 2 & 2 & ⋯ & 0 & 0 & 0 & 1 & 0 & 0 & 1 & 0 & 0 & 0\\\\\n\t6 & ID\\_0000261077 & Bahrain & High income: nonOECD                               &  1135982 & 52 & 1 & 1 & 1 & 1 & 1 & ⋯ & 0 & 0 & 0 & 1 & 0 & 0 & 1 & 0 & 0 & 0\\\\\n\\end{tabular}\n",
            "text/markdown": "\nA data.frame: 6 × 309\n\n| <!--/--> | ID &lt;chr&gt; | country &lt;fct&gt; | region &lt;fct&gt; | population &lt;dbl&gt; | age &lt;dbl&gt; | Q1 &lt;fct&gt; | Q2 &lt;fct&gt; | Q3 &lt;fct&gt; | Q4 &lt;fct&gt; | Q5 &lt;fct&gt; | ⋯ ⋯ | Q26_3 &lt;int&gt; | Q26_4 &lt;int&gt; | Q27_1 &lt;int&gt; | Q27_2 &lt;int&gt; | Q27_3 &lt;int&gt; | Q27_4 &lt;int&gt; | Q28_1 &lt;int&gt; | Q28_2 &lt;int&gt; | Q28_3 &lt;int&gt; | Q28_4 &lt;int&gt; |\n|---|---|---|---|---|---|---|---|---|---|---|---|---|---|---|---|---|---|---|---|---|---|\n| 1 | ID_0000020532 | Morocco | Middle East &amp; North Africa (excluding high income) | 25550170 | 66 | 2 | 1 | 1 | 2 | 2 | ⋯ | 0 | 0 | 0 | 1 | 0 | 0 | 1 | 0 | 0 | 0 |\n| 2 | ID_0000075765 | Lebanon | Middle East &amp; North Africa (excluding high income) |  4591023 | 44 | 2 | 1 | 1 | 2 | 2 | ⋯ | 0 | 0 | 1 | 0 | 0 | 0 | 1 | 0 | 0 | 0 |\n| 3 | ID_0000085491 | Morocco | Middle East &amp; North Africa (excluding high income) | 25550170 | 29 | 1 | 1 | 1 | 2 | 2 | ⋯ | 0 | 0 | 0 | 1 | 0 | 0 | 1 | 0 | 0 | 0 |\n| 4 | ID_0000144505 | Canada  | High income: OECD                                  | 30491168 | 44 | 1 | 1 | 1 | 1 | 1 | ⋯ | 0 | 0 | 0 | 1 | 0 | 0 | 1 | 0 | 0 | 0 |\n| 5 | ID_0000214184 | Mexico  | Latin America &amp; Caribbean (excluding high income)  | 93002320 | 36 | 2 | 1 | 1 | 2 | 2 | ⋯ | 0 | 0 | 0 | 1 | 0 | 0 | 1 | 0 | 0 | 0 |\n| 6 | ID_0000261077 | Bahrain | High income: nonOECD                               |  1135982 | 52 | 1 | 1 | 1 | 1 | 1 | ⋯ | 0 | 0 | 0 | 1 | 0 | 0 | 1 | 0 | 0 | 0 |\n\n",
            "text/html": [
              "<table class=\"dataframe\">\n",
              "<caption>A data.frame: 6 × 309</caption>\n",
              "<thead>\n",
              "\t<tr><th></th><th scope=col>ID</th><th scope=col>country</th><th scope=col>region</th><th scope=col>population</th><th scope=col>age</th><th scope=col>Q1</th><th scope=col>Q2</th><th scope=col>Q3</th><th scope=col>Q4</th><th scope=col>Q5</th><th scope=col>⋯</th><th scope=col>Q26_3</th><th scope=col>Q26_4</th><th scope=col>Q27_1</th><th scope=col>Q27_2</th><th scope=col>Q27_3</th><th scope=col>Q27_4</th><th scope=col>Q28_1</th><th scope=col>Q28_2</th><th scope=col>Q28_3</th><th scope=col>Q28_4</th></tr>\n",
              "\t<tr><th></th><th scope=col>&lt;chr&gt;</th><th scope=col>&lt;fct&gt;</th><th scope=col>&lt;fct&gt;</th><th scope=col>&lt;dbl&gt;</th><th scope=col>&lt;dbl&gt;</th><th scope=col>&lt;fct&gt;</th><th scope=col>&lt;fct&gt;</th><th scope=col>&lt;fct&gt;</th><th scope=col>&lt;fct&gt;</th><th scope=col>&lt;fct&gt;</th><th scope=col>⋯</th><th scope=col>&lt;int&gt;</th><th scope=col>&lt;int&gt;</th><th scope=col>&lt;int&gt;</th><th scope=col>&lt;int&gt;</th><th scope=col>&lt;int&gt;</th><th scope=col>&lt;int&gt;</th><th scope=col>&lt;int&gt;</th><th scope=col>&lt;int&gt;</th><th scope=col>&lt;int&gt;</th><th scope=col>&lt;int&gt;</th></tr>\n",
              "</thead>\n",
              "<tbody>\n",
              "\t<tr><th scope=row>1</th><td>ID_0000020532</td><td>Morocco</td><td>Middle East &amp; North Africa (excluding high income)</td><td>25550170</td><td>66</td><td>2</td><td>1</td><td>1</td><td>2</td><td>2</td><td>⋯</td><td>0</td><td>0</td><td>0</td><td>1</td><td>0</td><td>0</td><td>1</td><td>0</td><td>0</td><td>0</td></tr>\n",
              "\t<tr><th scope=row>2</th><td>ID_0000075765</td><td>Lebanon</td><td>Middle East &amp; North Africa (excluding high income)</td><td> 4591023</td><td>44</td><td>2</td><td>1</td><td>1</td><td>2</td><td>2</td><td>⋯</td><td>0</td><td>0</td><td>1</td><td>0</td><td>0</td><td>0</td><td>1</td><td>0</td><td>0</td><td>0</td></tr>\n",
              "\t<tr><th scope=row>3</th><td>ID_0000085491</td><td>Morocco</td><td>Middle East &amp; North Africa (excluding high income)</td><td>25550170</td><td>29</td><td>1</td><td>1</td><td>1</td><td>2</td><td>2</td><td>⋯</td><td>0</td><td>0</td><td>0</td><td>1</td><td>0</td><td>0</td><td>1</td><td>0</td><td>0</td><td>0</td></tr>\n",
              "\t<tr><th scope=row>4</th><td>ID_0000144505</td><td>Canada </td><td>High income: OECD                                 </td><td>30491168</td><td>44</td><td>1</td><td>1</td><td>1</td><td>1</td><td>1</td><td>⋯</td><td>0</td><td>0</td><td>0</td><td>1</td><td>0</td><td>0</td><td>1</td><td>0</td><td>0</td><td>0</td></tr>\n",
              "\t<tr><th scope=row>5</th><td>ID_0000214184</td><td>Mexico </td><td>Latin America &amp; Caribbean (excluding high income) </td><td>93002320</td><td>36</td><td>2</td><td>1</td><td>1</td><td>2</td><td>2</td><td>⋯</td><td>0</td><td>0</td><td>0</td><td>1</td><td>0</td><td>0</td><td>1</td><td>0</td><td>0</td><td>0</td></tr>\n",
              "\t<tr><th scope=row>6</th><td>ID_0000261077</td><td>Bahrain</td><td>High income: nonOECD                              </td><td> 1135982</td><td>52</td><td>1</td><td>1</td><td>1</td><td>1</td><td>1</td><td>⋯</td><td>0</td><td>0</td><td>0</td><td>1</td><td>0</td><td>0</td><td>1</td><td>0</td><td>0</td><td>0</td></tr>\n",
              "</tbody>\n",
              "</table>\n"
            ]
          },
          "metadata": {
            "tags": []
          }
        }
      ]
    },
    {
      "cell_type": "code",
      "metadata": {
        "colab": {
          "base_uri": "https://localhost:8080/",
          "height": 50
        },
        "id": "OrMuC35jgt6z",
        "outputId": "597868c6-0553-436a-a900-8f745e18e179"
      },
      "source": [
        "# Separate train and test data from the combined dataframe\n",
        "train_df = all_data[1:ntrain,]\n",
        "test_df = all_data[(ntrain+1):dim(all_data)[1],]\n",
        "\n",
        "# Check the shapes of the split dataset\n",
        "dim(train_df)\n",
        "dim(test_df)"
      ],
      "execution_count": 43,
      "outputs": [
        {
          "output_type": "display_data",
          "data": {
            "text/plain": [
              "[1] 104867    309"
            ],
            "text/latex": "\\begin{enumerate*}\n\\item 104867\n\\item 309\n\\end{enumerate*}\n",
            "text/markdown": "1. 104867\n2. 309\n\n\n",
            "text/html": [
              "<style>\n",
              ".list-inline {list-style: none; margin:0; padding: 0}\n",
              ".list-inline>li {display: inline-block}\n",
              ".list-inline>li:not(:last-child)::after {content: \"\\00b7\"; padding: 0 .5ex}\n",
              "</style>\n",
              "<ol class=list-inline><li>104867</li><li>309</li></ol>\n"
            ]
          },
          "metadata": {
            "tags": []
          }
        },
        {
          "output_type": "display_data",
          "data": {
            "text/plain": [
              "[1] 44943   309"
            ],
            "text/latex": "\\begin{enumerate*}\n\\item 44943\n\\item 309\n\\end{enumerate*}\n",
            "text/markdown": "1. 44943\n2. 309\n\n\n",
            "text/html": [
              "<style>\n",
              ".list-inline {list-style: none; margin:0; padding: 0}\n",
              ".list-inline>li {display: inline-block}\n",
              ".list-inline>li:not(:last-child)::after {content: \"\\00b7\"; padding: 0 .5ex}\n",
              "</style>\n",
              "<ol class=list-inline><li>44943</li><li>309</li></ol>\n"
            ]
          },
          "metadata": {
            "tags": []
          }
        }
      ]
    },
    {
      "cell_type": "markdown",
      "metadata": {
        "id": "nLk9Hqrqx7e4"
      },
      "source": [
        "### Training and making predictions\n",
        "- Is catboost the best model for this challenge?\n",
        "- Parameter tuning\n",
        " - Grid search, random search, perhaps bayesian search works better..."
      ]
    },
    {
      "cell_type": "code",
      "metadata": {
        "id": "mjHFm_Myx4cn",
        "colab": {
          "base_uri": "https://localhost:8080/",
          "height": 50
        },
        "outputId": "3bdd4a96-f9f2-46f1-c203-03b106cd423b"
      },
      "source": [
        "# Select main columns to be used in training\n",
        "main_cols = names(train_df[, !names(train_df) %in% c(\"ID\", \"target\")])\n",
        "\n",
        "# Set seed for reproducability\n",
        "set.seed(2021)\n",
        "\n",
        "# Split data into train and test sets\n",
        "train_index = createDataPartition(train_df$target, p=0.7, list=F)\n",
        "data_train = train_df[train_index,]\n",
        "data_test = train_df[-train_index,]\n",
        "\n",
        "X_train = data_train[main_cols]\n",
        "y_train = data_train$target\n",
        "X_test = data_test[main_cols]\n",
        "y_test = data_test$target\n",
        "\n",
        "train_pool = catboost.load_pool(data = X_train, label = y_train)\n",
        "test_pool = catboost.load_pool(data = X_test, label = y_test)\n",
        "\n",
        "# Check size of X_train and X_test\n",
        "dim(X_train)\n",
        "dim(X_test)"
      ],
      "execution_count": 44,
      "outputs": [
        {
          "output_type": "display_data",
          "data": {
            "text/plain": [
              "[1] 73407   307"
            ],
            "text/latex": "\\begin{enumerate*}\n\\item 73407\n\\item 307\n\\end{enumerate*}\n",
            "text/markdown": "1. 73407\n2. 307\n\n\n",
            "text/html": [
              "<style>\n",
              ".list-inline {list-style: none; margin:0; padding: 0}\n",
              ".list-inline>li {display: inline-block}\n",
              ".list-inline>li:not(:last-child)::after {content: \"\\00b7\"; padding: 0 .5ex}\n",
              "</style>\n",
              "<ol class=list-inline><li>73407</li><li>307</li></ol>\n"
            ]
          },
          "metadata": {
            "tags": []
          }
        },
        {
          "output_type": "display_data",
          "data": {
            "text/plain": [
              "[1] 31460   307"
            ],
            "text/latex": "\\begin{enumerate*}\n\\item 31460\n\\item 307\n\\end{enumerate*}\n",
            "text/markdown": "1. 31460\n2. 307\n\n\n",
            "text/html": [
              "<style>\n",
              ".list-inline {list-style: none; margin:0; padding: 0}\n",
              ".list-inline>li {display: inline-block}\n",
              ".list-inline>li:not(:last-child)::after {content: \"\\00b7\"; padding: 0 .5ex}\n",
              "</style>\n",
              "<ol class=list-inline><li>31460</li><li>307</li></ol>\n"
            ]
          },
          "metadata": {
            "tags": []
          }
        }
      ]
    },
    {
      "cell_type": "code",
      "metadata": {
        "colab": {
          "base_uri": "https://localhost:8080/"
        },
        "id": "iz0XHoNFyAqe",
        "outputId": "e2aa1938-6aea-4ab1-d4ac-27621cf53ad3"
      },
      "source": [
        "# Train model\n",
        "fit_params = list(iterations = 200,  loss_function = \"Logloss\", verbose = 50)\n",
        "model = catboost.train(train_pool, test_pool, params = fit_params)"
      ],
      "execution_count": 45,
      "outputs": [
        {
          "output_type": "stream",
          "text": [
            "Learning rate set to 0.184416\n",
            "0:\tlearn: 0.6569762\ttest: 0.6575075\tbest: 0.6575075 (0)\ttotal: 688ms\tremaining: 2m 16s\n",
            "50:\tlearn: 0.5378400\ttest: 0.5421001\tbest: 0.5421001 (50)\ttotal: 32.4s\tremaining: 1m 34s\n",
            "100:\tlearn: 0.5275629\ttest: 0.5366406\tbest: 0.5366406 (100)\ttotal: 1m 6s\tremaining: 1m 5s\n",
            "150:\tlearn: 0.5206687\ttest: 0.5342740\tbest: 0.5342603 (149)\ttotal: 1m 42s\tremaining: 33.3s\n",
            "199:\tlearn: 0.5156502\ttest: 0.5334524\tbest: 0.5334515 (198)\ttotal: 2m 16s\tremaining: 0us\n",
            "\n",
            "bestTest = 0.5334514858\n",
            "bestIteration = 198\n",
            "\n",
            "Shrink model to first 199 iterations.\n"
          ],
          "name": "stdout"
        }
      ]
    },
    {
      "cell_type": "code",
      "metadata": {
        "colab": {
          "base_uri": "https://localhost:8080/"
        },
        "id": "oAwQefoNte3t",
        "outputId": "cea89070-5a73-42e2-dbc2-645eaacda058"
      },
      "source": [
        "# Make predictions\n",
        "y_pred = catboost.predict(model, test_pool, prediction_type = \"Probability\")\n",
        "\n",
        "# Check the performance of your model\n",
        "print(confusionMatrix(as.factor(ifelse(y_pred >= 0.5, 1, 0)), as.factor(data_test$target)))"
      ],
      "execution_count": 46,
      "outputs": [
        {
          "output_type": "stream",
          "text": [
            "Confusion Matrix and Statistics\n",
            "\n",
            "          Reference\n",
            "Prediction     0     1\n",
            "         0  8640  4059\n",
            "         1  4527 14234\n",
            "                                         \n",
            "               Accuracy : 0.7271         \n",
            "                 95% CI : (0.7221, 0.732)\n",
            "    No Information Rate : 0.5815         \n",
            "    P-Value [Acc > NIR] : < 2.2e-16      \n",
            "                                         \n",
            "                  Kappa : 0.4365         \n",
            "                                         \n",
            " Mcnemar's Test P-Value : 4.658e-07      \n",
            "                                         \n",
            "            Sensitivity : 0.6562         \n",
            "            Specificity : 0.7781         \n",
            "         Pos Pred Value : 0.6804         \n",
            "         Neg Pred Value : 0.7587         \n",
            "             Prevalence : 0.4185         \n",
            "         Detection Rate : 0.2746         \n",
            "   Detection Prevalence : 0.4037         \n",
            "      Balanced Accuracy : 0.7171         \n",
            "                                         \n",
            "       'Positive' Class : 0              \n",
            "                                         \n"
          ],
          "name": "stdout"
        }
      ]
    },
    {
      "cell_type": "markdown",
      "metadata": {
        "id": "ui5nAqSWEvcL"
      },
      "source": [
        "[More on AUC score](https://developers.google.com/machine-learning/crash-course/classification/roc-and-auc#:~:text=AUC%20represents%20the%20probability%20that,has%20an%20AUC%20of%201.0.)"
      ]
    },
    {
      "cell_type": "markdown",
      "metadata": {
        "id": "bFBFC3mQBFKU"
      },
      "source": [
        "### Making predictions of the test set and creating a submission file"
      ]
    },
    {
      "cell_type": "code",
      "metadata": {
        "colab": {
          "base_uri": "https://localhost:8080/",
          "height": 377
        },
        "id": "FekBsRY506Qt",
        "outputId": "451d6b17-8280-49b2-a3eb-3e0c7202823a"
      },
      "source": [
        "# Make prediction on the test set\n",
        "test_df_pool = test_df[main_cols] %>% catboost.load_pool()\n",
        "predictions = catboost.predict(model, test_df_pool, prediction_type = \"Probability\")\n",
        "\n",
        "# Create a submission file\n",
        "sub_file = setNames(samplesubmission,  names(samplesubmission))\n",
        "sub_file$target = predictions\n",
        "\n",
        "# Check the distribution of your predictions\n",
        "options(repr.plot.width = 7, repr.plot.height = 6)\n",
        "ggplot(sub_file, aes(x=as.factor(ifelse(target >= 0.5, 1, 0)))) +\n",
        "  geom_bar() +\n",
        "  labs(title = \"Distribution of predicted variable\")"
      ],
      "execution_count": 47,
      "outputs": [
        {
          "output_type": "display_data",
          "data": {
            "image/png": "[encoded data removed]",
            "text/plain": [
              "plot without title"
            ]
          },
          "metadata": {
            "tags": [],
            "image/png": {
              "width": 420,
              "height": 360
            }
          }
        }
      ]
    },
    {
      "cell_type": "code",
      "metadata": {
        "id": "mlTXE6gI06LY",
        "colab": {
          "base_uri": "https://localhost:8080/",
          "height": 271
        },
        "outputId": "500d601b-d8a1-4260-b4bd-1afbb6ffbabd"
      },
      "source": [
        "# Create a csv file and upload to zindi \n",
        "write.csv(sub_file, 'Baseline.csv', row.names=FALSE)\n",
        "head(sub_file)"
      ],
      "execution_count": 48,
      "outputs": [
        {
          "output_type": "display_data",
          "data": {
            "text/plain": [
              "  ID            target   \n",
              "1 ID_0000005111 0.7475457\n",
              "2 ID_0000389416 0.2723872\n",
              "3 ID_0000634789 0.4874117\n",
              "4 ID_0000778100 0.9761812\n",
              "5 ID_0001123210 0.4760182\n",
              "6 ID_0001249054 0.8761913"
            ],
            "text/latex": "A data.frame: 6 × 2\n\\begin{tabular}{r|ll}\n  & ID & target\\\\\n  & <chr> & <dbl>\\\\\n\\hline\n\t1 & ID\\_0000005111 & 0.7475457\\\\\n\t2 & ID\\_0000389416 & 0.2723872\\\\\n\t3 & ID\\_0000634789 & 0.4874117\\\\\n\t4 & ID\\_0000778100 & 0.9761812\\\\\n\t5 & ID\\_0001123210 & 0.4760182\\\\\n\t6 & ID\\_0001249054 & 0.8761913\\\\\n\\end{tabular}\n",
            "text/markdown": "\nA data.frame: 6 × 2\n\n| <!--/--> | ID &lt;chr&gt; | target &lt;dbl&gt; |\n|---|---|---|\n| 1 | ID_0000005111 | 0.7475457 |\n| 2 | ID_0000389416 | 0.2723872 |\n| 3 | ID_0000634789 | 0.4874117 |\n| 4 | ID_0000778100 | 0.9761812 |\n| 5 | ID_0001123210 | 0.4760182 |\n| 6 | ID_0001249054 | 0.8761913 |\n\n",
            "text/html": [
              "<table class=\"dataframe\">\n",
              "<caption>A data.frame: 6 × 2</caption>\n",
              "<thead>\n",
              "\t<tr><th></th><th scope=col>ID</th><th scope=col>target</th></tr>\n",
              "\t<tr><th></th><th scope=col>&lt;chr&gt;</th><th scope=col>&lt;dbl&gt;</th></tr>\n",
              "</thead>\n",
              "<tbody>\n",
              "\t<tr><th scope=row>1</th><td>ID_0000005111</td><td>0.7475457</td></tr>\n",
              "\t<tr><th scope=row>2</th><td>ID_0000389416</td><td>0.2723872</td></tr>\n",
              "\t<tr><th scope=row>3</th><td>ID_0000634789</td><td>0.4874117</td></tr>\n",
              "\t<tr><th scope=row>4</th><td>ID_0000778100</td><td>0.9761812</td></tr>\n",
              "\t<tr><th scope=row>5</th><td>ID_0001123210</td><td>0.4760182</td></tr>\n",
              "\t<tr><th scope=row>6</th><td>ID_0001249054</td><td>0.8761913</td></tr>\n",
              "</tbody>\n",
              "</table>\n"
            ]
          },
          "metadata": {
            "tags": []
          }
        }
      ]
    },
    {
      "cell_type": "markdown",
      "metadata": {
        "id": "fEPggA20Cg1I"
      },
      "source": [
        "###More Tips\n",
        "- Thorough EDA and domain knowledge sourcing\n",
        "- Re-group Categorical features \n",
        "- More Feature Engineering \n",
        "- Dataset balancing - oversampling, undersampling, SMOTE...\n",
        "- Ensembling of models \n",
        "- Cross-validation: Group folds, Stratified..."
      ]
    },
    {
      "cell_type": "markdown",
      "metadata": {
        "id": "ek_OwQLWCkeb"
      },
      "source": [
        "# ******************* GOOD LUCK!!! ***************************"
      ]
    }
  ]
}